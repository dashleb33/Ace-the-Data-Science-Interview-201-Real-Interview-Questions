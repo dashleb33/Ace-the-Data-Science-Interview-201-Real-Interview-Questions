{
  "nbformat": 4,
  "nbformat_minor": 0,
  "metadata": {
    "colab": {
      "name": "p028_Bert_For_Classification.ipynb",
      "provenance": [],
      "authorship_tag": "ABX9TyP12AfNPz1E2+sNOEMvB9U7",
      "include_colab_link": true
    },
    "kernelspec": {
      "name": "python3",
      "display_name": "Python 3"
    },
    "language_info": {
      "name": "python"
    }
  },
  "cells": [
    {
      "cell_type": "markdown",
      "metadata": {
        "id": "view-in-github",
        "colab_type": "text"
      },
      "source": [
        "<a href=\"https://colab.research.google.com/github/hansglick/book_errata/blob/main/p028_Bert_For_Classification.ipynb\" target=\"_parent\"><img src=\"https://colab.research.google.com/assets/colab-badge.svg\" alt=\"Open In Colab\"/></a>"
      ]
    },
    {
      "cell_type": "markdown",
      "source": [
        "référence : https://www.tensorflow.org/text/tutorials/classify_text_with_bert?hl=en"
      ],
      "metadata": {
        "id": "3M8OyrLGLBAC"
      }
    },
    {
      "cell_type": "code",
      "source": [
        "# Installer la librairie tensorflow-text dont on a besoin"
      ],
      "metadata": {
        "id": "b1dOz7y8IUn4"
      },
      "execution_count": null,
      "outputs": []
    },
    {
      "cell_type": "code",
      "execution_count": 1,
      "metadata": {
        "colab": {
          "base_uri": "https://localhost:8080/"
        },
        "id": "Ls2CTtIWIEQx",
        "outputId": "19368ef0-c236-4c41-b25d-01cca8bb1b4f"
      },
      "outputs": [
        {
          "output_type": "stream",
          "name": "stdout",
          "text": [
            "\u001b[K     |████████████████████████████████| 4.9 MB 8.8 MB/s \n",
            "\u001b[?25h"
          ]
        }
      ],
      "source": [
        "pip install -q -U \"tensorflow-text==2.8.*\""
      ]
    },
    {
      "cell_type": "code",
      "source": [
        "# Pour l'utilisation d'un optimizer spécial"
      ],
      "metadata": {
        "id": "G-lsFGM4J1bN"
      },
      "execution_count": null,
      "outputs": []
    },
    {
      "cell_type": "code",
      "source": [
        "pip install -q tf-models-official==2.7.0"
      ],
      "metadata": {
        "colab": {
          "base_uri": "https://localhost:8080/"
        },
        "id": "qkxVrJ7UIQVQ",
        "outputId": "45b8f30b-b164-4769-fb03-f09cdc6c804e"
      },
      "execution_count": 2,
      "outputs": [
        {
          "output_type": "stream",
          "name": "stdout",
          "text": [
            "\u001b[K     |████████████████████████████████| 1.8 MB 7.0 MB/s \n",
            "\u001b[K     |████████████████████████████████| 352 kB 10.9 MB/s \n",
            "\u001b[K     |████████████████████████████████| 99 kB 9.3 MB/s \n",
            "\u001b[K     |████████████████████████████████| 43 kB 2.1 MB/s \n",
            "\u001b[K     |████████████████████████████████| 1.2 MB 42.5 MB/s \n",
            "\u001b[K     |████████████████████████████████| 48.3 MB 2.1 MB/s \n",
            "\u001b[K     |████████████████████████████████| 237 kB 45.2 MB/s \n",
            "\u001b[K     |████████████████████████████████| 92 kB 10.9 MB/s \n",
            "\u001b[K     |████████████████████████████████| 1.1 MB 53.4 MB/s \n",
            "\u001b[K     |████████████████████████████████| 596 kB 39.8 MB/s \n",
            "\u001b[?25h  Building wheel for py-cpuinfo (setup.py) ... \u001b[?25l\u001b[?25hdone\n",
            "  Building wheel for seqeval (setup.py) ... \u001b[?25l\u001b[?25hdone\n"
          ]
        }
      ]
    },
    {
      "cell_type": "code",
      "source": [
        "import os\n",
        "import shutil\n",
        "\n",
        "import tensorflow as tf\n",
        "import tensorflow_hub as hub\n",
        "import tensorflow_text as text\n",
        "from official.nlp import optimization  # to create AdamW optimizer\n",
        "\n",
        "import matplotlib.pyplot as plt\n",
        "\n",
        "tf.get_logger().setLevel('ERROR')"
      ],
      "metadata": {
        "id": "yAeZt7rvJ-yv"
      },
      "execution_count": 3,
      "outputs": []
    },
    {
      "cell_type": "markdown",
      "source": [
        "# Récupération des données\n",
        "\n",
        " * url des données : url = 'https://ai.stanford.edu/~amaas/data/sentiment/aclImdb_v1.tar.gz'\n",
        " * Utiliser `tf.keras.utils.get_file` pour chopper les données\n",
        " * On ne se concentre que sur le subfolder `train`\n",
        " * Il faut supprimer le folder `unsup` au préalable\n",
        " * Afin de créer un labelled tensorflow dataset on utilise `tf.keras.utils.text_dataset_from_directory` avec les options suivantes :     \n",
        "   * validation_split=0.2,\n",
        "   * subset='training'\n",
        "   * AUTOTUNE = tf.data.AUTOTUNE\n",
        "   * batch_size = 32\n",
        "   * seed = 42\n",
        " * Définir class names `class_names = raw_train_ds.class_names`\n",
        " * Définir deux datasets un train et un validation\n",
        " * Définir également un dataset de test qui se trouve dans un autre subfolder\n",
        " * Parcourir les données en les affichant en utilisant `.take()` method\n",
        " "
      ],
      "metadata": {
        "id": "W_DM5709KIH1"
      }
    },
    {
      "cell_type": "markdown",
      "source": [
        "# Les pretrained models du tensorflow hub\n",
        "\n",
        " * url : https://tfhub.dev/\n",
        " * De manière générale, concernant BERT :     \n",
        "   * Commencer par un small BERT, peu de blocks, peu de parameters\n",
        "   * Choisir ALBERT pour un petit modèle mais puissant (élagage)\n",
        "   * Ensuite on peut monter en gamme avec BERT 24 blocks\n",
        "   * Pour finir il existe des versions encore plus puissantes de BERT avec ELECTRA, TALKING HEADS, BERT EXPERT, etc."
      ],
      "metadata": {
        "id": "TLzojySKMvt0"
      }
    },
    {
      "cell_type": "markdown",
      "source": [
        "# Notre BERT\n",
        " * BERT vient généralement avec deux modèles, le modèle d'inférence et le modele de tokenization/preprocessing. Se référer à la doc pour connaître les modèles de preprocessing de chaque pretrained BERT models. Nous on choisira les suivants : \n",
        "   * BERT model selected : https://tfhub.dev/tensorflow/small_bert/bert_en_uncased_L-4_H-512_A-8/1\n",
        "   * Preprocess model auto-selected: https://tfhub.dev/tensorflow/bert_en_uncased_preprocess/3\n",
        "   * En gros, il faut récupérer les urls des modèles\n",
        "\n"
      ],
      "metadata": {
        "id": "KKQ1eO2lNmVF"
      }
    },
    {
      "cell_type": "code",
      "source": [
        "\n",
        "bert_model_name = 'small_bert/bert_en_uncased_L-4_H-512_A-8' \n",
        "\n",
        "map_name_to_handle = {\n",
        "    'bert_en_uncased_L-12_H-768_A-12':\n",
        "        'https://tfhub.dev/tensorflow/bert_en_uncased_L-12_H-768_A-12/3',\n",
        "    'bert_en_cased_L-12_H-768_A-12':\n",
        "        'https://tfhub.dev/tensorflow/bert_en_cased_L-12_H-768_A-12/3',\n",
        "    'bert_multi_cased_L-12_H-768_A-12':\n",
        "        'https://tfhub.dev/tensorflow/bert_multi_cased_L-12_H-768_A-12/3',\n",
        "    'small_bert/bert_en_uncased_L-2_H-128_A-2':\n",
        "        'https://tfhub.dev/tensorflow/small_bert/bert_en_uncased_L-2_H-128_A-2/1',\n",
        "    'small_bert/bert_en_uncased_L-2_H-256_A-4':\n",
        "        'https://tfhub.dev/tensorflow/small_bert/bert_en_uncased_L-2_H-256_A-4/1',\n",
        "    'small_bert/bert_en_uncased_L-2_H-512_A-8':\n",
        "        'https://tfhub.dev/tensorflow/small_bert/bert_en_uncased_L-2_H-512_A-8/1',\n",
        "    'small_bert/bert_en_uncased_L-2_H-768_A-12':\n",
        "        'https://tfhub.dev/tensorflow/small_bert/bert_en_uncased_L-2_H-768_A-12/1',\n",
        "    'small_bert/bert_en_uncased_L-4_H-128_A-2':\n",
        "        'https://tfhub.dev/tensorflow/small_bert/bert_en_uncased_L-4_H-128_A-2/1',\n",
        "    'small_bert/bert_en_uncased_L-4_H-256_A-4':\n",
        "        'https://tfhub.dev/tensorflow/small_bert/bert_en_uncased_L-4_H-256_A-4/1',\n",
        "    'small_bert/bert_en_uncased_L-4_H-512_A-8':\n",
        "        'https://tfhub.dev/tensorflow/small_bert/bert_en_uncased_L-4_H-512_A-8/1',\n",
        "    'small_bert/bert_en_uncased_L-4_H-768_A-12':\n",
        "        'https://tfhub.dev/tensorflow/small_bert/bert_en_uncased_L-4_H-768_A-12/1',\n",
        "    'small_bert/bert_en_uncased_L-6_H-128_A-2':\n",
        "        'https://tfhub.dev/tensorflow/small_bert/bert_en_uncased_L-6_H-128_A-2/1',\n",
        "    'small_bert/bert_en_uncased_L-6_H-256_A-4':\n",
        "        'https://tfhub.dev/tensorflow/small_bert/bert_en_uncased_L-6_H-256_A-4/1',\n",
        "    'small_bert/bert_en_uncased_L-6_H-512_A-8':\n",
        "        'https://tfhub.dev/tensorflow/small_bert/bert_en_uncased_L-6_H-512_A-8/1',\n",
        "    'small_bert/bert_en_uncased_L-6_H-768_A-12':\n",
        "        'https://tfhub.dev/tensorflow/small_bert/bert_en_uncased_L-6_H-768_A-12/1',\n",
        "    'small_bert/bert_en_uncased_L-8_H-128_A-2':\n",
        "        'https://tfhub.dev/tensorflow/small_bert/bert_en_uncased_L-8_H-128_A-2/1',\n",
        "    'small_bert/bert_en_uncased_L-8_H-256_A-4':\n",
        "        'https://tfhub.dev/tensorflow/small_bert/bert_en_uncased_L-8_H-256_A-4/1',\n",
        "    'small_bert/bert_en_uncased_L-8_H-512_A-8':\n",
        "        'https://tfhub.dev/tensorflow/small_bert/bert_en_uncased_L-8_H-512_A-8/1',\n",
        "    'small_bert/bert_en_uncased_L-8_H-768_A-12':\n",
        "        'https://tfhub.dev/tensorflow/small_bert/bert_en_uncased_L-8_H-768_A-12/1',\n",
        "    'small_bert/bert_en_uncased_L-10_H-128_A-2':\n",
        "        'https://tfhub.dev/tensorflow/small_bert/bert_en_uncased_L-10_H-128_A-2/1',\n",
        "    'small_bert/bert_en_uncased_L-10_H-256_A-4':\n",
        "        'https://tfhub.dev/tensorflow/small_bert/bert_en_uncased_L-10_H-256_A-4/1',\n",
        "    'small_bert/bert_en_uncased_L-10_H-512_A-8':\n",
        "        'https://tfhub.dev/tensorflow/small_bert/bert_en_uncased_L-10_H-512_A-8/1',\n",
        "    'small_bert/bert_en_uncased_L-10_H-768_A-12':\n",
        "        'https://tfhub.dev/tensorflow/small_bert/bert_en_uncased_L-10_H-768_A-12/1',\n",
        "    'small_bert/bert_en_uncased_L-12_H-128_A-2':\n",
        "        'https://tfhub.dev/tensorflow/small_bert/bert_en_uncased_L-12_H-128_A-2/1',\n",
        "    'small_bert/bert_en_uncased_L-12_H-256_A-4':\n",
        "        'https://tfhub.dev/tensorflow/small_bert/bert_en_uncased_L-12_H-256_A-4/1',\n",
        "    'small_bert/bert_en_uncased_L-12_H-512_A-8':\n",
        "        'https://tfhub.dev/tensorflow/small_bert/bert_en_uncased_L-12_H-512_A-8/1',\n",
        "    'small_bert/bert_en_uncased_L-12_H-768_A-12':\n",
        "        'https://tfhub.dev/tensorflow/small_bert/bert_en_uncased_L-12_H-768_A-12/1',\n",
        "    'albert_en_base':\n",
        "        'https://tfhub.dev/tensorflow/albert_en_base/2',\n",
        "    'electra_small':\n",
        "        'https://tfhub.dev/google/electra_small/2',\n",
        "    'electra_base':\n",
        "        'https://tfhub.dev/google/electra_base/2',\n",
        "    'experts_pubmed':\n",
        "        'https://tfhub.dev/google/experts/bert/pubmed/2',\n",
        "    'experts_wiki_books':\n",
        "        'https://tfhub.dev/google/experts/bert/wiki_books/2',\n",
        "    'talking-heads_base':\n",
        "        'https://tfhub.dev/tensorflow/talkheads_ggelu_bert_en_base/1',\n",
        "}\n",
        "\n",
        "map_model_to_preprocess = {\n",
        "    'bert_en_uncased_L-12_H-768_A-12':\n",
        "        'https://tfhub.dev/tensorflow/bert_en_uncased_preprocess/3',\n",
        "    'bert_en_cased_L-12_H-768_A-12':\n",
        "        'https://tfhub.dev/tensorflow/bert_en_cased_preprocess/3',\n",
        "    'small_bert/bert_en_uncased_L-2_H-128_A-2':\n",
        "        'https://tfhub.dev/tensorflow/bert_en_uncased_preprocess/3',\n",
        "    'small_bert/bert_en_uncased_L-2_H-256_A-4':\n",
        "        'https://tfhub.dev/tensorflow/bert_en_uncased_preprocess/3',\n",
        "    'small_bert/bert_en_uncased_L-2_H-512_A-8':\n",
        "        'https://tfhub.dev/tensorflow/bert_en_uncased_preprocess/3',\n",
        "    'small_bert/bert_en_uncased_L-2_H-768_A-12':\n",
        "        'https://tfhub.dev/tensorflow/bert_en_uncased_preprocess/3',\n",
        "    'small_bert/bert_en_uncased_L-4_H-128_A-2':\n",
        "        'https://tfhub.dev/tensorflow/bert_en_uncased_preprocess/3',\n",
        "    'small_bert/bert_en_uncased_L-4_H-256_A-4':\n",
        "        'https://tfhub.dev/tensorflow/bert_en_uncased_preprocess/3',\n",
        "    'small_bert/bert_en_uncased_L-4_H-512_A-8':\n",
        "        'https://tfhub.dev/tensorflow/bert_en_uncased_preprocess/3',\n",
        "    'small_bert/bert_en_uncased_L-4_H-768_A-12':\n",
        "        'https://tfhub.dev/tensorflow/bert_en_uncased_preprocess/3',\n",
        "    'small_bert/bert_en_uncased_L-6_H-128_A-2':\n",
        "        'https://tfhub.dev/tensorflow/bert_en_uncased_preprocess/3',\n",
        "    'small_bert/bert_en_uncased_L-6_H-256_A-4':\n",
        "        'https://tfhub.dev/tensorflow/bert_en_uncased_preprocess/3',\n",
        "    'small_bert/bert_en_uncased_L-6_H-512_A-8':\n",
        "        'https://tfhub.dev/tensorflow/bert_en_uncased_preprocess/3',\n",
        "    'small_bert/bert_en_uncased_L-6_H-768_A-12':\n",
        "        'https://tfhub.dev/tensorflow/bert_en_uncased_preprocess/3',\n",
        "    'small_bert/bert_en_uncased_L-8_H-128_A-2':\n",
        "        'https://tfhub.dev/tensorflow/bert_en_uncased_preprocess/3',\n",
        "    'small_bert/bert_en_uncased_L-8_H-256_A-4':\n",
        "        'https://tfhub.dev/tensorflow/bert_en_uncased_preprocess/3',\n",
        "    'small_bert/bert_en_uncased_L-8_H-512_A-8':\n",
        "        'https://tfhub.dev/tensorflow/bert_en_uncased_preprocess/3',\n",
        "    'small_bert/bert_en_uncased_L-8_H-768_A-12':\n",
        "        'https://tfhub.dev/tensorflow/bert_en_uncased_preprocess/3',\n",
        "    'small_bert/bert_en_uncased_L-10_H-128_A-2':\n",
        "        'https://tfhub.dev/tensorflow/bert_en_uncased_preprocess/3',\n",
        "    'small_bert/bert_en_uncased_L-10_H-256_A-4':\n",
        "        'https://tfhub.dev/tensorflow/bert_en_uncased_preprocess/3',\n",
        "    'small_bert/bert_en_uncased_L-10_H-512_A-8':\n",
        "        'https://tfhub.dev/tensorflow/bert_en_uncased_preprocess/3',\n",
        "    'small_bert/bert_en_uncased_L-10_H-768_A-12':\n",
        "        'https://tfhub.dev/tensorflow/bert_en_uncased_preprocess/3',\n",
        "    'small_bert/bert_en_uncased_L-12_H-128_A-2':\n",
        "        'https://tfhub.dev/tensorflow/bert_en_uncased_preprocess/3',\n",
        "    'small_bert/bert_en_uncased_L-12_H-256_A-4':\n",
        "        'https://tfhub.dev/tensorflow/bert_en_uncased_preprocess/3',\n",
        "    'small_bert/bert_en_uncased_L-12_H-512_A-8':\n",
        "        'https://tfhub.dev/tensorflow/bert_en_uncased_preprocess/3',\n",
        "    'small_bert/bert_en_uncased_L-12_H-768_A-12':\n",
        "        'https://tfhub.dev/tensorflow/bert_en_uncased_preprocess/3',\n",
        "    'bert_multi_cased_L-12_H-768_A-12':\n",
        "        'https://tfhub.dev/tensorflow/bert_multi_cased_preprocess/3',\n",
        "    'albert_en_base':\n",
        "        'https://tfhub.dev/tensorflow/albert_en_preprocess/3',\n",
        "    'electra_small':\n",
        "        'https://tfhub.dev/tensorflow/bert_en_uncased_preprocess/3',\n",
        "    'electra_base':\n",
        "        'https://tfhub.dev/tensorflow/bert_en_uncased_preprocess/3',\n",
        "    'experts_pubmed':\n",
        "        'https://tfhub.dev/tensorflow/bert_en_uncased_preprocess/3',\n",
        "    'experts_wiki_books':\n",
        "        'https://tfhub.dev/tensorflow/bert_en_uncased_preprocess/3',\n",
        "    'talking-heads_base':\n",
        "        'https://tfhub.dev/tensorflow/bert_en_uncased_preprocess/3',\n",
        "}\n",
        "\n",
        "tfhub_handle_encoder = map_name_to_handle[bert_model_name]\n",
        "tfhub_handle_preprocess = map_model_to_preprocess[bert_model_name]\n",
        "\n",
        "print(f'BERT model selected           : {tfhub_handle_encoder}')\n",
        "print(f'Preprocess model auto-selected: {tfhub_handle_preprocess}')\n"
      ],
      "metadata": {
        "colab": {
          "base_uri": "https://localhost:8080/"
        },
        "id": "VMMuX2KaPOhF",
        "outputId": "0e84c95c-6dca-4357-f128-888164def9b3"
      },
      "execution_count": 5,
      "outputs": [
        {
          "output_type": "stream",
          "name": "stdout",
          "text": [
            "BERT model selected           : https://tfhub.dev/tensorflow/small_bert/bert_en_uncased_L-4_H-512_A-8/1\n",
            "Preprocess model auto-selected: https://tfhub.dev/tensorflow/bert_en_uncased_preprocess/3\n"
          ]
        }
      ]
    },
    {
      "cell_type": "markdown",
      "source": [
        "# Preprocessing Model\n",
        " * Afin de télécharger et d'incorporer le modèle de préprocessing dans un layer classique on utilise `hub.KerasLayer()`\n",
        " * Le preprocessing model sort comme output un dictionnaire avec les entrées suivantes :    \n",
        "   * `input_mask` : Le vecteur de masking, 1 signifie à prendre en considération, 0 sinon signifie valeur à masquée\n",
        "   * `input_type_ids` : le vecteur indique l'index de la phrase, ici on a qu'une seule phrase en input mais on peut en mettre deux\n",
        "   * `input_word_ids` : le vecteur de tokens qui servira probablement d'inputs\n"
      ],
      "metadata": {
        "id": "ffNrAETSOSuw"
      }
    },
    {
      "cell_type": "code",
      "source": [
        "bert_preprocess_model = hub.KerasLayer(tfhub_handle_preprocess)\n",
        "#text_test = tf.constant([['this is such an amazing movie!'],['this is such an amazing movie!']]) # ne fonctionne pas, ne prend pas de batch\n",
        "text_test = tf.constant(['this is such an amazing movie!'])\n",
        "text_preprocessed = bert_preprocess_model(text_test)\n",
        "text_preprocessed"
      ],
      "metadata": {
        "colab": {
          "base_uri": "https://localhost:8080/"
        },
        "id": "MsqBpvikPdK-",
        "outputId": "43655f39-69a6-41af-dbe3-76d259c6df82"
      },
      "execution_count": 16,
      "outputs": [
        {
          "output_type": "execute_result",
          "data": {
            "text/plain": [
              "{'input_mask': <tf.Tensor: shape=(1, 128), dtype=int32, numpy=\n",
              " array([[1, 1, 1, 1, 1, 1, 1, 1, 1, 0, 0, 0, 0, 0, 0, 0, 0, 0, 0, 0, 0, 0,\n",
              "         0, 0, 0, 0, 0, 0, 0, 0, 0, 0, 0, 0, 0, 0, 0, 0, 0, 0, 0, 0, 0, 0,\n",
              "         0, 0, 0, 0, 0, 0, 0, 0, 0, 0, 0, 0, 0, 0, 0, 0, 0, 0, 0, 0, 0, 0,\n",
              "         0, 0, 0, 0, 0, 0, 0, 0, 0, 0, 0, 0, 0, 0, 0, 0, 0, 0, 0, 0, 0, 0,\n",
              "         0, 0, 0, 0, 0, 0, 0, 0, 0, 0, 0, 0, 0, 0, 0, 0, 0, 0, 0, 0, 0, 0,\n",
              "         0, 0, 0, 0, 0, 0, 0, 0, 0, 0, 0, 0, 0, 0, 0, 0, 0, 0]],\n",
              "       dtype=int32)>,\n",
              " 'input_type_ids': <tf.Tensor: shape=(1, 128), dtype=int32, numpy=\n",
              " array([[0, 0, 0, 0, 0, 0, 0, 0, 0, 0, 0, 0, 0, 0, 0, 0, 0, 0, 0, 0, 0, 0,\n",
              "         0, 0, 0, 0, 0, 0, 0, 0, 0, 0, 0, 0, 0, 0, 0, 0, 0, 0, 0, 0, 0, 0,\n",
              "         0, 0, 0, 0, 0, 0, 0, 0, 0, 0, 0, 0, 0, 0, 0, 0, 0, 0, 0, 0, 0, 0,\n",
              "         0, 0, 0, 0, 0, 0, 0, 0, 0, 0, 0, 0, 0, 0, 0, 0, 0, 0, 0, 0, 0, 0,\n",
              "         0, 0, 0, 0, 0, 0, 0, 0, 0, 0, 0, 0, 0, 0, 0, 0, 0, 0, 0, 0, 0, 0,\n",
              "         0, 0, 0, 0, 0, 0, 0, 0, 0, 0, 0, 0, 0, 0, 0, 0, 0, 0]],\n",
              "       dtype=int32)>,\n",
              " 'input_word_ids': <tf.Tensor: shape=(1, 128), dtype=int32, numpy=\n",
              " array([[ 101, 2023, 2003, 2107, 2019, 6429, 3185,  999,  102,    0,    0,\n",
              "            0,    0,    0,    0,    0,    0,    0,    0,    0,    0,    0,\n",
              "            0,    0,    0,    0,    0,    0,    0,    0,    0,    0,    0,\n",
              "            0,    0,    0,    0,    0,    0,    0,    0,    0,    0,    0,\n",
              "            0,    0,    0,    0,    0,    0,    0,    0,    0,    0,    0,\n",
              "            0,    0,    0,    0,    0,    0,    0,    0,    0,    0,    0,\n",
              "            0,    0,    0,    0,    0,    0,    0,    0,    0,    0,    0,\n",
              "            0,    0,    0,    0,    0,    0,    0,    0,    0,    0,    0,\n",
              "            0,    0,    0,    0,    0,    0,    0,    0,    0,    0,    0,\n",
              "            0,    0,    0,    0,    0,    0,    0,    0,    0,    0,    0,\n",
              "            0,    0,    0,    0,    0,    0,    0,    0,    0,    0,    0,\n",
              "            0,    0,    0,    0,    0,    0,    0]], dtype=int32)>}"
            ]
          },
          "metadata": {},
          "execution_count": 16
        }
      ]
    },
    {
      "cell_type": "markdown",
      "source": [
        "# Encoder Model\n",
        "\n",
        " * Pareil que pour le preprocessed model, on crée un layer tensoflow avec la commande `hub.KerasLayer()`, comme argument on renseigne l'url du modèle\n",
        " * Le model produit un dictionnaire contenant trois entrées :\n",
        "   * `pooled_output` : représente l'embedding de la sentence, le shape de cette sortie est ... [batch_size, H] avec H = 512 ici\n",
        "   * `sentence_output` : représente les embeddings de chacun des tokens de la sentence, la shape de cette sortie est ... [batch_size, seq_length, H] avec H = 512 ici\n",
        "   * `encoder_outputs` : représente les states des L blocks. La shape de chacun des blocks est ... [batch_size, seq_length, 1024] \n"
      ],
      "metadata": {
        "id": "2etc8LRhP34P"
      }
    },
    {
      "cell_type": "markdown",
      "source": [
        "# Création du model classifier\n",
        "\n",
        " * A l'aide de l'api fonctionnelle, créez une fonction qui instancie un model tensorflow basé sur bert qui fera un classifier\n",
        "   * `tf.keras.layers.Input`\n",
        "   * `hub.KerasLayer pour le preprocessing`\n",
        "   * `hub.KerasLayer pour l'encodage`\n",
        "   * `tf.keras.layers.Dropout(0.1)`\n",
        "   * `tf.keras.layers.Dense(1, activation=None, name='classifier')`\n",
        " * Testez le modèle en instanciant le model et en le runnant sur une phrase exemple\n",
        "\n",
        "```python\n",
        "classifier_model = build_classifier_model()\n",
        "bert_raw_result = classifier_model(tf.constant(text_test))\n",
        "print(tf.sigmoid(bert_raw_result))\n",
        "```\n"
      ],
      "metadata": {
        "id": "LHnqW6eVSvkn"
      }
    },
    {
      "cell_type": "markdown",
      "source": [
        "![image.png](data:image/png;base64,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)\n"
      ],
      "metadata": {
        "id": "PX2ZKEWzYtoT"
      }
    },
    {
      "cell_type": "markdown",
      "source": [
        "# Training parameters\n",
        "\n",
        "```python\n",
        "loss = tf.keras.losses.BinaryCrossentropy(from_logits=True)\n",
        "metrics = tf.metrics.BinaryAccuracy()\n",
        "\n",
        "epochs = 5\n",
        "steps_per_epoch = tf.data.experimental.cardinality(train_ds).numpy()\n",
        "num_train_steps = steps_per_epoch * epochs\n",
        "num_warmup_steps = int(0.1*num_train_steps)\n",
        "\n",
        "init_lr = 3e-5\n",
        "optimizer = optimization.create_optimizer(init_lr=init_lr,\n",
        "                                          num_train_steps=num_train_steps,\n",
        "                                          num_warmup_steps=num_warmup_steps,\n",
        "                                          optimizer_type='adamw')\n",
        "```"
      ],
      "metadata": {
        "id": "KMxXYBztYvWU"
      }
    },
    {
      "cell_type": "markdown",
      "source": [
        "# Compile() and Fit()\n",
        "\n",
        "```python\n",
        "# Compile\n",
        "classifier_model.compile(optimizer=optimizer,\n",
        "                         loss=loss,\n",
        "                         metrics=metrics)\n",
        "```\n",
        "\n",
        "\n",
        "```python\n",
        "# Training\n",
        "print(f'Training model with {tfhub_handle_encoder}')\n",
        "history = classifier_model.fit(x=train_ds,\n",
        "                               validation_data=val_ds,\n",
        "                               epochs=epochs)\n",
        "```"
      ],
      "metadata": {
        "id": "otnsDngNZd-E"
      }
    },
    {
      "cell_type": "markdown",
      "source": [
        "# Evaluation\n",
        " * Evaluer le modele sur le test set\n",
        " * Tracer la courbe d'apprentissage du modele sur le train et validation set"
      ],
      "metadata": {
        "id": "IzJbbeT1aDZ_"
      }
    },
    {
      "cell_type": "markdown",
      "source": [
        "# Sauvegarder et Reload le modele\n",
        " * Sauvegarde le model avec `classifier_model.save(saved_model_path, include_optimizer=False)`\n",
        " * Reload le model avec `reloaded_model = tf.saved_model.load(saved_model_path)`\n",
        " * Testez le model sur une série d'exemples écrits à la main"
      ],
      "metadata": {
        "id": "IdnZ7WE8aOu6"
      }
    },
    {
      "cell_type": "code",
      "source": [
        ""
      ],
      "metadata": {
        "id": "BqmJXSUUbKxE"
      },
      "execution_count": null,
      "outputs": []
    }
  ]
}