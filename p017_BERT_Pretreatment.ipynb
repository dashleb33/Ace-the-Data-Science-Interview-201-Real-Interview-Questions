{
  "nbformat": 4,
  "nbformat_minor": 0,
  "metadata": {
    "colab": {
      "name": "p017_BERT_Pretreatment.ipynb",
      "provenance": [],
      "authorship_tag": "ABX9TyO2OVnOQ3Epvtt+yU7cg8QJ",
      "include_colab_link": true
    },
    "kernelspec": {
      "name": "python3",
      "display_name": "Python 3"
    },
    "language_info": {
      "name": "python"
    }
  },
  "cells": [
    {
      "cell_type": "markdown",
      "metadata": {
        "id": "view-in-github",
        "colab_type": "text"
      },
      "source": [
        "<a href=\"https://colab.research.google.com/github/hansglick/book_errata/blob/main/p017_BERT_Pretreatment.ipynb\" target=\"_parent\"><img src=\"https://colab.research.google.com/assets/colab-badge.svg\" alt=\"Open In Colab\"/></a>"
      ]
    },
    {
      "cell_type": "code",
      "source": [
        "pip install -q -U \"tensorflow-text==2.8.*\""
      ],
      "metadata": {
        "colab": {
          "base_uri": "https://localhost:8080/"
        },
        "id": "I_ETmlusm_7c",
        "outputId": "7466dee4-4b6b-4edb-8b9c-882cdac9a32e"
      },
      "execution_count": 2,
      "outputs": [
        {
          "output_type": "stream",
          "name": "stdout",
          "text": [
            "\u001b[K     |████████████████████████████████| 4.9 MB 8.4 MB/s \n",
            "\u001b[?25h"
          ]
        }
      ]
    },
    {
      "cell_type": "code",
      "source": [
        "import tensorflow_text as text\n",
        "import functools\n",
        "import tensorflow as tf\n",
        "print(tf.__version__)"
      ],
      "metadata": {
        "colab": {
          "base_uri": "https://localhost:8080/"
        },
        "id": "yGJBBy-7pq7y",
        "outputId": "6bc9057a-5201-40d9-9231-17b6477947ae"
      },
      "execution_count": 3,
      "outputs": [
        {
          "output_type": "stream",
          "name": "stdout",
          "text": [
            "2.8.2\n"
          ]
        }
      ]
    },
    {
      "cell_type": "markdown",
      "source": [
        "# Objectif\n",
        "L'objectif du notebook est le pretraitement de texte brute afin qu'il puisse servir d'inputsà des réseaux de neurones, plus particulièrement les prétraitement utilisés pour l'apprentissage du modèle de BERT"
      ],
      "metadata": {
        "id": "VLncxS7Opcq2"
      }
    },
    {
      "cell_type": "markdown",
      "source": [
        "# Data"
      ],
      "metadata": {
        "id": "IkSwaBNIwbd4"
      }
    },
    {
      "cell_type": "code",
      "source": [
        "examples = {\n",
        "    \"text_a\": [\n",
        "      \"Sponge bob Squarepants is an Avenger\",\n",
        "      \"Marvel Avengers\"\n",
        "    ],\n",
        "    \"text_b\": [\n",
        "     \"Barack Obama is the President.\",\n",
        "     \"President is the highest office\"\n",
        "  ],\n",
        "}\n",
        "\n",
        "dataset = tf.data.Dataset.from_tensor_slices(examples)"
      ],
      "metadata": {
        "id": "z63Ndbr1wYEO"
      },
      "execution_count": 4,
      "outputs": []
    },
    {
      "cell_type": "markdown",
      "source": [
        " * Le **BERT Tokenizer** :\n",
        "   * Il faut construire une LookUpTable via `tf.lookup.StaticVocabularyTable`\n",
        "   * La LookUpTable prend en entrée un key initializer qu'on construit via `tf.lookup.KeyValueTensorInitializer`\n",
        "   * Ce KeyValue prend en entrée le VOCABULAIRE à savoir une liste de strings.\n",
        "     * Ce vocabulaire peut contenir, des specials tokens comme CLS, SEP, MASK, RANDOM, UNK\n",
        "     * Ce vocabulaire peut contenir les suffixes\n",
        "     * Ce vocabulaire contient également évidemment les mots\n",
        "  * Création du tokenize : `bert_tokenizer = text.BertTokenizer(lookup_table, token_out_type=tf.string)` . On peut également choisir `token_out=tf.int64`\n",
        "  * L'application du tokenizer produit un Ragged Tensor"
      ],
      "metadata": {
        "id": "DCn-tk3CrJU6"
      }
    },
    {
      "cell_type": "code",
      "source": [
        "# Définition du vocabulaire\n",
        "_VOCAB = [\n",
        "    b\"[UNK]\", b\"[MASK]\", b\"[RANDOM]\", b\"[CLS]\", b\"[SEP]\",\n",
        "    b\"##ack\", b\"##ama\", b\"##ger\", b\"##gers\", b\"##onge\", b\"##pants\",  b\"##uare\",\n",
        "    b\"##vel\", b\"##ven\", b\"an\", b\"A\", b\"Bar\", b\"Hates\", b\"Mar\", b\"Ob\",\n",
        "    b\"Patrick\", b\"President\", b\"Sp\", b\"Sq\", b\"bob\", b\"box\", b\"has\", b\"highest\",\n",
        "    b\"is\", b\"office\", b\"the\",\n",
        "]\n",
        "\n",
        "# KeyValue object\n",
        "kv_obj = tf.lookup.KeyValueTensorInitializer(\n",
        "      keys=_VOCAB,\n",
        "      key_dtype=tf.string,\n",
        "      values=tf.range(\n",
        "          tf.size(_VOCAB, out_type=tf.int64), dtype=tf.int64),\n",
        "          value_dtype=tf.int64\n",
        "        )\n",
        "\n",
        "# Création du lookup_table\n",
        "lookup_table = tf.lookup.StaticVocabularyTable(kv_obj,num_oov_buckets=1)\n",
        "\n",
        "# Création du Tokenizer\n",
        "#bert_tokenizer = text.BertTokenizer(lookup_table, token_out_type=tf.string)\n",
        "\n",
        "# Création du Tokenizer\n",
        "bert_tokenizer = text.BertTokenizer(lookup_table, token_out_type=tf.int64)\n",
        "\n",
        "# Application du Tokenizer\n",
        "a = bert_tokenizer.tokenize(examples[\"text_a\"])\n",
        "b = bert_tokenizer.tokenize(examples[\"text_b\"])\n",
        "\n",
        "print(a)\n",
        "print('')\n",
        "print(b)\n",
        "print('')\n",
        "\n",
        "# Réduction de la dimension 'token'\n",
        "a = a.merge_dims(-2, -1)\n",
        "b = b.merge_dims(-2, -1)\n",
        "print(a)\n",
        "print('')\n",
        "print(b)"
      ],
      "metadata": {
        "colab": {
          "base_uri": "https://localhost:8080/"
        },
        "id": "ZQ_FhA-uuYHh",
        "outputId": "f625f5eb-9941-4981-a625-fe41bec00af4"
      },
      "execution_count": 5,
      "outputs": [
        {
          "output_type": "stream",
          "name": "stdout",
          "text": [
            "<tf.RaggedTensor [[[22, 9], [24], [23, 11, 10], [28], [14], [15, 13, 7]],\n",
            " [[18, 12], [15, 13, 8]]]>\n",
            "\n",
            "<tf.RaggedTensor [[[16, 5], [19, 6], [28], [30], [21], [0]], [[21], [28], [30], [27], [29]]]>\n",
            "\n",
            "<tf.RaggedTensor [[22, 9, 24, 23, 11, 10, 28, 14, 15, 13, 7], [18, 12, 15, 13, 8]]>\n",
            "\n",
            "<tf.RaggedTensor [[16, 5, 19, 6, 28, 30, 21, 0], [21, 28, 30, 27, 29]]>\n"
          ]
        }
      ]
    },
    {
      "cell_type": "markdown",
      "source": [
        "![image.png](data:image/png;base64,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)\n"
      ],
      "metadata": {
        "id": "6gPDkdZn0zFZ"
      }
    },
    {
      "cell_type": "markdown",
      "source": [
        "\n",
        "# Parameters"
      ],
      "metadata": {
        "id": "5Q-qToN6w-J4"
      }
    },
    {
      "cell_type": "code",
      "source": [
        "# Parameters (useless pour le tokenizer)\n",
        "_START_TOKEN = _VOCAB.index(b\"[CLS]\")\n",
        "_END_TOKEN = _VOCAB.index(b\"[SEP]\")\n",
        "_MASK_TOKEN = _VOCAB.index(b\"[MASK]\")\n",
        "_RANDOM_TOKEN = _VOCAB.index(b\"[RANDOM]\")\n",
        "_UNK_TOKEN = _VOCAB.index(b\"[UNK]\")\n",
        "_MAX_SEQ_LEN = 8\n",
        "_MAX_PREDICTIONS_PER_BATCH = 5\n",
        "_VOCAB_SIZE = len(_VOCAB)"
      ],
      "metadata": {
        "id": "V4QsH2n9w_qZ"
      },
      "execution_count": 6,
      "outputs": []
    },
    {
      "cell_type": "markdown",
      "source": [
        " * Le **content trimming** :\n",
        "   * Les modèles comme BERT prennent des paires de phrases comme observations. Cependant, les phrases ne peuvent dépasser une certaine taille par exemple. Il faut donc tronquer ces phrases que ce soit à droite ou à gauche.\n",
        "   * `text.RoundRobinTrimmer(max_seq_length=_MAX_SEQ_LEN)` permet d'instancier un objet trimmer\n",
        "   * `obj.trm(string)` permet de trimer les sentences à savoir les tronquer à droite\n"
      ],
      "metadata": {
        "id": "cznWSF5x3SGl"
      }
    },
    {
      "cell_type": "code",
      "source": [
        "print(a)\n",
        "print(b)\n",
        "print('')\n",
        "trimmer = text.RoundRobinTrimmer(max_seq_length=_MAX_SEQ_LEN)\n",
        "trimmed = trimmer.trim([a, b])\n",
        "print(trimmed)\n",
        "print('')"
      ],
      "metadata": {
        "colab": {
          "base_uri": "https://localhost:8080/"
        },
        "id": "_TBUASXA5NSr",
        "outputId": "c4c534bb-10e7-4a0a-a5fb-ec79263277b9"
      },
      "execution_count": 7,
      "outputs": [
        {
          "output_type": "stream",
          "name": "stdout",
          "text": [
            "<tf.RaggedTensor [[22, 9, 24, 23, 11, 10, 28, 14, 15, 13, 7], [18, 12, 15, 13, 8]]>\n",
            "<tf.RaggedTensor [[16, 5, 19, 6, 28, 30, 21, 0], [21, 28, 30, 27, 29]]>\n",
            "\n",
            "[<tf.RaggedTensor [[22, 9, 24, 23],\n",
            " [18, 12, 15, 13]]>, <tf.RaggedTensor [[16, 5, 19, 6],\n",
            " [21, 28, 30, 27]]>]\n",
            "\n"
          ]
        }
      ]
    },
    {
      "cell_type": "markdown",
      "source": [
        " * Le **combining segment** :    \n",
        "   * En pratique la paire de sentences qui sert d'input est mergé et accompagné d'un vecteur informatif qui représente la première et la seconde phrase\n",
        "   * `text.combine_segments(trimmed,start_of_sequence_id=_START_TOKEN, end_of_segment_id=_END_TOKEN)` permet de faire cette combinaison\n",
        "   * La fonction renvoie le merging et le vecteur informatif\n",
        "   * La fonction ajoute également des END token, START token\n"
      ],
      "metadata": {
        "id": "zTL44Q8Z597D"
      }
    },
    {
      "cell_type": "code",
      "source": [
        "segments_combined, segments_ids = text.combine_segments(trimmed,\n",
        "                                                        start_of_sequence_id=_START_TOKEN,\n",
        "                                                        end_of_segment_id=_END_TOKEN)\n",
        "\n",
        "print(segments_combined)\n",
        "print(segments_ids)"
      ],
      "metadata": {
        "colab": {
          "base_uri": "https://localhost:8080/"
        },
        "id": "DSrXrD6i9M9c",
        "outputId": "401a050c-4434-40cf-8c60-fbbb53f408e4"
      },
      "execution_count": 8,
      "outputs": [
        {
          "output_type": "stream",
          "name": "stdout",
          "text": [
            "<tf.RaggedTensor [[3, 22, 9, 24, 23, 4, 16, 5, 19, 6, 4],\n",
            " [3, 18, 12, 15, 13, 4, 21, 28, 30, 27, 4]]>\n",
            "<tf.RaggedTensor [[0, 0, 0, 0, 0, 0, 1, 1, 1, 1, 1],\n",
            " [0, 0, 0, 0, 0, 0, 1, 1, 1, 1, 1]]>\n"
          ]
        }
      ]
    },
    {
      "cell_type": "markdown",
      "source": [
        " * **Sélection de Tokens** :    \n",
        "   * Dans les language models, on sélectionne des tokens qu'on va essayer de prédire via le model, c'est la raison pour laquelle un objet est nécessaire\n",
        "   * Création d'un objet RandomItemSelect via `text.RandomItemSelector()`\n",
        "     * `max_selections_per_batch` : le nombre max de tokens choisis ds un batch\n",
        "     * `selection_rate` : float entre 0 et 1 qui représente la fréquence à laquelle on sélectionne un item\n",
        "     * `unselectable_ids` : une liste d'entiers qui représente les token ids interdits comme ceux représentant START, END et UNK \n",
        "  * La méthode `.get_selection_mask()` d'un objet instancié RandomItemSelector renverra un batch de booléen où True indique la sélection de l'item"
      ],
      "metadata": {
        "id": "b5IDrfHOAtB1"
      }
    },
    {
      "cell_type": "code",
      "source": [
        "# Instanciation d'un objet randomitemselector\n",
        "random_selector = text.RandomItemSelector(\n",
        "    max_selections_per_batch=_MAX_PREDICTIONS_PER_BATCH,\n",
        "    selection_rate=0.2,\n",
        "    unselectable_ids=[_START_TOKEN, _END_TOKEN, _UNK_TOKEN]\n",
        ")\n",
        "\n",
        "# Sélection des item de segments_combined\n",
        "selected = random_selector.get_selection_mask(\n",
        "    segments_combined, axis=1)\n",
        "\n",
        "print(selected)"
      ],
      "metadata": {
        "colab": {
          "base_uri": "https://localhost:8080/"
        },
        "id": "eoPUc2FyFBPW",
        "outputId": "16a3f901-326e-47cb-9cc7-0907448cf135"
      },
      "execution_count": 9,
      "outputs": [
        {
          "output_type": "stream",
          "name": "stdout",
          "text": [
            "<tf.RaggedTensor [[False, True, False, False, False, False, False, True, False, False,\n",
            "  False],\n",
            " [False, False, True, False, True, False, False, False, False, False,\n",
            "  False]]>\n"
          ]
        }
      ]
    },
    {
      "cell_type": "markdown",
      "source": [
        " * le **Mask Values Chooser** :\n",
        "   * Il faut pouvoir choisir des tokens aléatoirement et les remplacer parfois par un autre token parfois la laisser tel quel\n",
        "   * Pour ce faire, on peut instancier un `text.MaskValuesChooser` object\n",
        "   * Puis l'appliquer sur un ragged tensor ou un tensor classique via la méthode `.get_mask_values()`\n",
        "   * J'ai dû mal à suivre pour l'instant le processus qu'on doit suivre ni comment doit s'emboîter le randomitemselector et le maskvalueschooser"
      ],
      "metadata": {
        "id": "hV61qOZOKchI"
      }
    },
    {
      "cell_type": "code",
      "source": [
        "mask_values_chooser = text.MaskValuesChooser(_VOCAB_SIZE, _MASK_TOKEN, 0.8)\n",
        "ex = mask_values_chooser.get_mask_values(segments_combined)\n",
        "print(_MASK_TOKEN)\n",
        "print(ex)"
      ],
      "metadata": {
        "colab": {
          "base_uri": "https://localhost:8080/"
        },
        "id": "Dm92gzJiJWQ2",
        "outputId": "d41212fb-2c27-49aa-d817-1f863b9e4ea7"
      },
      "execution_count": 10,
      "outputs": [
        {
          "output_type": "stream",
          "name": "stdout",
          "text": [
            "1\n",
            "<tf.RaggedTensor [[1, 1, 1, 1, 1, 1, 1, 1, 1, 1, 1],\n",
            " [1, 1, 1, 1, 1, 1, 1, 25, 1, 1, 1]]>\n"
          ]
        }
      ]
    },
    {
      "cell_type": "markdown",
      "source": [
        " * La fonction **mask_language_model** :\n",
        "   * Elle permet de combiner le `maskvaluechooser` et le `randomitemselector`\n",
        "   * Sélection aléatoire de tokens à masquer\n",
        "   * Ces masked tokens sont alors ou bien\n",
        "     * Modifiés en autre token (afin de s'assurer que le modèle peut comprendre globalement le sens d'une phrase même si certains mots font difficilement sens)\n",
        "     * Modifiés en < MASK > token\n",
        "     * Laissés inchangés\n",
        "   * Elle produit trois outputs :    \n",
        "     * `masked_input_ids` : c'est l'input modifié, i.e. l'input de départ avec les tokens modifiés ou pas (no change, mask token, modified token)    \n",
        "     * `masked_positions` : c'est la position des tokens qui ont été modifiés, i.e. ou bien des mask tokens ou bien des mots nouveaux\n",
        "     * `masked_ids` : c'est le valeur des tokens ids d'origine\n",
        "  * `tf.gather(_VOCAB, masked_token_ids)` : permet de décoder la phrase tokenisés\n",
        " "
      ],
      "metadata": {
        "id": "1otKhN3MJ2ui"
      }
    },
    {
      "cell_type": "code",
      "source": [
        "masked_token_ids, masked_pos, masked_lm_ids = text.mask_language_model(\n",
        "  segments_combined,\n",
        "  item_selector=random_selector, mask_values_chooser=mask_values_chooser)\n",
        "\n",
        "decoded_sentence = tf.gather(_VOCAB, masked_token_ids)\n",
        "\n",
        "print(segments_combined)\n",
        "print('')\n",
        "print(masked_token_ids)\n",
        "print('')\n",
        "print(masked_pos)\n",
        "print('')\n",
        "print(masked_lm_ids)\n",
        "print('')\n",
        "print(decoded_sentence)"
      ],
      "metadata": {
        "colab": {
          "base_uri": "https://localhost:8080/"
        },
        "id": "lWTkf3q5Nnvv",
        "outputId": "d69dd23b-7a92-4c8f-fb60-53480e0350d0"
      },
      "execution_count": 11,
      "outputs": [
        {
          "output_type": "stream",
          "name": "stdout",
          "text": [
            "<tf.RaggedTensor [[3, 22, 9, 24, 23, 4, 16, 5, 19, 6, 4],\n",
            " [3, 18, 12, 15, 13, 4, 21, 28, 30, 27, 4]]>\n",
            "\n",
            "<tf.RaggedTensor [[3, 22, 1, 24, 23, 4, 16, 1, 19, 6, 4],\n",
            " [3, 18, 1, 15, 13, 4, 21, 28, 30, 27, 4]]>\n",
            "\n",
            "<tf.RaggedTensor [[2, 7],\n",
            " [2, 4]]>\n",
            "\n",
            "<tf.RaggedTensor [[9, 5],\n",
            " [12, 13]]>\n",
            "\n",
            "<tf.RaggedTensor [[b'[CLS]', b'Sp', b'[MASK]', b'bob', b'Sq', b'[SEP]', b'Bar', b'[MASK]',\n",
            "  b'Ob', b'##ama', b'[SEP]'],\n",
            " [b'[CLS]', b'Mar', b'[MASK]', b'A', b'##ven', b'[SEP]', b'President',\n",
            "  b'is', b'the', b'highest', b'[SEP]']]>\n"
          ]
        }
      ]
    },
    {
      "cell_type": "markdown",
      "source": [
        " * le **padding** :\n",
        "   * Avec `text.pad_model_inputs()` permet de padder et de créer le mask correspondant à un tensor de tokens\n",
        "   * Il prend deux arguments, un `ragged tensor` et une `max_len` pour le padding\n",
        "   * Il produit un tuple de deux outputs `input_word_ids` et `input_mask` qui correspondent au tensor final et à son masque\n",
        "   * En pratique, on répète l'opération pour l'input original et le segment ids"
      ],
      "metadata": {
        "id": "yH9PSxKnNpLk"
      }
    },
    {
      "cell_type": "code",
      "source": [
        "# Prepare and pad combined segment inputs\n",
        "input_word_ids, input_mask = text.pad_model_inputs(\n",
        "  masked_token_ids, max_seq_length=_MAX_SEQ_LEN)\n",
        "input_type_ids, _ = text.pad_model_inputs(\n",
        "  segments_ids, max_seq_length=_MAX_SEQ_LEN)\n",
        "\n",
        "# Prepare and pad masking task inputs\n",
        "masked_lm_positions, masked_lm_weights = text.pad_model_inputs(\n",
        "  masked_pos, max_seq_length=_MAX_PREDICTIONS_PER_BATCH)\n",
        "masked_lm_ids, _ = text.pad_model_inputs(\n",
        "  masked_lm_ids, max_seq_length=_MAX_PREDICTIONS_PER_BATCH)\n",
        "\n",
        "model_inputs = {\n",
        "    \"input_word_ids\": input_word_ids, # le tensor d'entrée avec les modifs\n",
        "    \"input_mask\": input_mask, # le mask du padding 1 veut dire que c'est pas rembourrage\n",
        "    \"input_type_ids\": input_type_ids, # le vecteur informatif qui représente la phrase 1 et la phrase 2\n",
        "    \"masked_lm_ids\": masked_lm_ids, # les tokens id à prédire\n",
        "    \"masked_lm_positions\": masked_lm_positions, # les places des tokens a prevoir\n",
        "    \"masked_lm_weights\": masked_lm_weights, # les masks des tokens à prédire 1 signifie token à prédire, 0 sinon\n",
        "}\n",
        "model_inputs"
      ],
      "metadata": {
        "colab": {
          "base_uri": "https://localhost:8080/"
        },
        "id": "5SK_X8B7Sg6o",
        "outputId": "d41e3fa0-10f5-43f1-9422-31199f13b66d"
      },
      "execution_count": 12,
      "outputs": [
        {
          "output_type": "execute_result",
          "data": {
            "text/plain": [
              "{'input_mask': <tf.Tensor: shape=(2, 8), dtype=int64, numpy=\n",
              " array([[1, 1, 1, 1, 1, 1, 1, 1],\n",
              "        [1, 1, 1, 1, 1, 1, 1, 1]])>,\n",
              " 'input_type_ids': <tf.Tensor: shape=(2, 8), dtype=int64, numpy=\n",
              " array([[0, 0, 0, 0, 0, 0, 1, 1],\n",
              "        [0, 0, 0, 0, 0, 0, 1, 1]])>,\n",
              " 'input_word_ids': <tf.Tensor: shape=(2, 8), dtype=int64, numpy=\n",
              " array([[ 3, 22,  1, 24, 23,  4, 16,  1],\n",
              "        [ 3, 18,  1, 15, 13,  4, 21, 28]])>,\n",
              " 'masked_lm_ids': <tf.Tensor: shape=(2, 5), dtype=int64, numpy=\n",
              " array([[ 9,  5,  0,  0,  0],\n",
              "        [12, 13,  0,  0,  0]])>,\n",
              " 'masked_lm_positions': <tf.Tensor: shape=(2, 5), dtype=int64, numpy=\n",
              " array([[2, 7, 0, 0, 0],\n",
              "        [2, 4, 0, 0, 0]])>,\n",
              " 'masked_lm_weights': <tf.Tensor: shape=(2, 5), dtype=int64, numpy=\n",
              " array([[1, 1, 0, 0, 0],\n",
              "        [1, 1, 0, 0, 0]])>}"
            ]
          },
          "metadata": {},
          "execution_count": 12
        }
      ]
    },
    {
      "cell_type": "code",
      "source": [
        "def bert_pretrain_preprocess(vocab_table, features):\n",
        "  # Input is a string Tensor of documents, shape [batch, 1].\n",
        "  text_a = features[\"text_a\"]\n",
        "  text_b = features[\"text_b\"]\n",
        "\n",
        "  # Tokenize segments to shape [num_sentences, (num_words)] each.\n",
        "  tokenizer = text.BertTokenizer(\n",
        "      vocab_table,\n",
        "      token_out_type=tf.int64)\n",
        "  segments = [tokenizer.tokenize(text).merge_dims(\n",
        "      1, -1) for text in (text_a, text_b)]\n",
        "\n",
        "  # Truncate inputs to a maximum length.\n",
        "  trimmer = text.RoundRobinTrimmer(max_seq_length=6)\n",
        "  trimmed_segments = trimmer.trim(segments)\n",
        "\n",
        "  # Combine segments, get segment ids and add special tokens.\n",
        "  segments_combined, segment_ids = text.combine_segments(\n",
        "      trimmed_segments,\n",
        "      start_of_sequence_id=_START_TOKEN,\n",
        "      end_of_segment_id=_END_TOKEN)\n",
        "\n",
        "  # Apply dynamic masking task.\n",
        "  masked_input_ids, masked_lm_positions, masked_lm_ids = (\n",
        "      text.mask_language_model(\n",
        "        segments_combined,\n",
        "        random_selector,\n",
        "        mask_values_chooser,\n",
        "      )\n",
        "  )\n",
        "\n",
        "  # Prepare and pad combined segment inputs\n",
        "  input_word_ids, input_mask = text.pad_model_inputs(\n",
        "    masked_input_ids, max_seq_length=_MAX_SEQ_LEN)\n",
        "  input_type_ids, _ = text.pad_model_inputs(\n",
        "    segment_ids, max_seq_length=_MAX_SEQ_LEN)\n",
        "\n",
        "  # Prepare and pad masking task inputs\n",
        "  masked_lm_positions, masked_lm_weights = text.pad_model_inputs(\n",
        "    masked_lm_positions, max_seq_length=_MAX_PREDICTIONS_PER_BATCH)\n",
        "  masked_lm_ids, _ = text.pad_model_inputs(\n",
        "    masked_lm_ids, max_seq_length=_MAX_PREDICTIONS_PER_BATCH)\n",
        "\n",
        "  model_inputs = {\n",
        "      \"input_word_ids\": input_word_ids,\n",
        "      \"input_mask\": input_mask,\n",
        "      \"input_type_ids\": input_type_ids,\n",
        "      \"masked_lm_ids\": masked_lm_ids,\n",
        "      \"masked_lm_positions\": masked_lm_positions,\n",
        "      \"masked_lm_weights\": masked_lm_weights,\n",
        "  }\n",
        "  return model_inputs"
      ],
      "metadata": {
        "id": "EvDYqNUFa9n7"
      },
      "execution_count": 13,
      "outputs": []
    },
    {
      "cell_type": "markdown",
      "source": [
        "![image.png](data:image/png;base64,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)"
      ],
      "metadata": {
        "id": "Fy1_Vy-jHLoL"
      }
    },
    {
      "cell_type": "code",
      "source": [
        "dataset = tf.data.Dataset.from_tensors(examples)\n",
        "dataset = dataset.map(functools.partial(\n",
        "    bert_pretrain_preprocess, lookup_table))\n",
        "\n",
        "next(iter(dataset))"
      ],
      "metadata": {
        "colab": {
          "base_uri": "https://localhost:8080/"
        },
        "id": "J61JHRSzbCZg",
        "outputId": "903136e1-0e69-426e-9542-d133143dbff4"
      },
      "execution_count": 14,
      "outputs": [
        {
          "output_type": "execute_result",
          "data": {
            "text/plain": [
              "{'input_mask': <tf.Tensor: shape=(2, 8), dtype=int64, numpy=\n",
              " array([[1, 1, 1, 1, 1, 1, 1, 1],\n",
              "        [1, 1, 1, 1, 1, 1, 1, 1]])>,\n",
              " 'input_type_ids': <tf.Tensor: shape=(2, 8), dtype=int64, numpy=\n",
              " array([[0, 0, 0, 0, 0, 1, 1, 1],\n",
              "        [0, 0, 0, 0, 0, 1, 1, 1]])>,\n",
              " 'input_word_ids': <tf.Tensor: shape=(2, 8), dtype=int64, numpy=\n",
              " array([[ 3,  1,  9, 24,  4,  1,  5, 19],\n",
              "        [ 3, 18,  1, 15,  4, 21, 28,  0]])>,\n",
              " 'masked_lm_ids': <tf.Tensor: shape=(2, 5), dtype=int64, numpy=\n",
              " array([[22, 16,  0,  0,  0],\n",
              "        [12, 30,  0,  0,  0]])>,\n",
              " 'masked_lm_positions': <tf.Tensor: shape=(2, 5), dtype=int64, numpy=\n",
              " array([[1, 5, 0, 0, 0],\n",
              "        [2, 7, 0, 0, 0]])>,\n",
              " 'masked_lm_weights': <tf.Tensor: shape=(2, 5), dtype=int64, numpy=\n",
              " array([[1, 1, 0, 0, 0],\n",
              "        [1, 1, 0, 0, 0]])>}"
            ]
          },
          "metadata": {},
          "execution_count": 14
        }
      ]
    },
    {
      "cell_type": "code",
      "source": [
        "# A savoir\n",
        "# On peut merge un ragged tensor avec la méthode .merge_dims()\n"
      ],
      "metadata": {
        "id": "-OJqbIdu1RCd"
      },
      "execution_count": null,
      "outputs": []
    }
  ]
}