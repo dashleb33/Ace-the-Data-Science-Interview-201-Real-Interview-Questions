{
  "nbformat": 4,
  "nbformat_minor": 0,
  "metadata": {
    "colab": {
      "name": "p019_RNN_overview.ipynb",
      "provenance": [],
      "collapsed_sections": [],
      "authorship_tag": "ABX9TyN8vmf3Aopn5xyMDLGRvT1p",
      "include_colab_link": true
    },
    "kernelspec": {
      "name": "python3",
      "display_name": "Python 3"
    },
    "language_info": {
      "name": "python"
    }
  },
  "cells": [
    {
      "cell_type": "markdown",
      "metadata": {
        "id": "view-in-github",
        "colab_type": "text"
      },
      "source": [
        "<a href=\"https://colab.research.google.com/github/hansglick/book_errata/blob/main/p019_RNN_overview.ipynb\" target=\"_parent\"><img src=\"https://colab.research.google.com/assets/colab-badge.svg\" alt=\"Open In Colab\"/></a>"
      ]
    },
    {
      "cell_type": "code",
      "execution_count": null,
      "metadata": {
        "colab": {
          "base_uri": "https://localhost:8080/"
        },
        "id": "RF5I_9motJNg",
        "outputId": "13490561-4a52-43b3-a745-d1a539379b03"
      },
      "outputs": [
        {
          "output_type": "stream",
          "name": "stdout",
          "text": [
            "2.8.2\n"
          ]
        }
      ],
      "source": [
        "import tensorflow as tf\n",
        "import numpy as np\n",
        "print(tf.__version__)"
      ]
    },
    {
      "cell_type": "markdown",
      "source": [
        "# Introduction\n",
        "\n",
        " * 3 types de RNN dans Tensorflow :    \n",
        "   * `keras.layers.SimpleRNN` : un simple RNN\n",
        "   * `keras.layers.GRU` : possède une cell ou deux\n",
        "   * `keras.layers.LSTM` : possède une combo de cell avec mémoire\n",
        " * **Output d'un RNN** :\n",
        "   * Par défaut, un RNN renvoie les états du dernier timestep du batch de séquences en input\n",
        "   * Toutefois en précisant `return_sequences = True` on retourne l'état pour tout les timesteps, l'output est donc de shape `(batch,timesteps,units)`\n",
        "   * A ce moment là, les hidden states sont recevables par une couche de RNN au dessus comme le montre l'exemple ci-dessous\n",
        " * **Output et States** :\n",
        "   * On peut vouloir récupérer les hidden states en plus des outputs\n",
        "   * Les LSTM ont deux hidden states\n",
        "   * Les GRU et les RNN un seul\n",
        "   * Le dernier state est apparemment accessible via l'attribut `.states`\n",
        " * **RNN Layer VS RNN Cell** :\n",
        "   * Un RNN layer est responsable du traitement d'un lot de séquences. Or une RNN Celle est responsable du traitement d'un lot d'un même timestemp\n",
        "   * On distingue 3 types de RNN Cells :    \n",
        "     * `keras.layers.SimpleRNNCell`\n",
        "     * `keras.layers.GRUCell`\n",
        "     * `keras.layers.LSTMCell`\n",
        " * **Cross Batch StateFullness** :\n",
        "   * Par défaut les hidden states sont réinitialisés à chaque nouveau batch. Si l'on souhaite traiter des séquences très longues voire infinies, on veut pouvoir propager ces hidden states aux batch d'après. On peut le faire via l'argument `stateful=True`\n",
        "   * if a batch contains `[sequence_A_from_t0_to_t100, sequence_B_from_t0_to_t100]`, the next batch should contain `[sequence_A_from_t101_to_t200, sequence_B_from_t101_to_t200]`\n",
        "\n",
        " * **BiDirectionnal LSTM** :    \n",
        "   * Avec un layer `tf.keras.layers.Bidirectional` on peut faire le traitement d'une séquence forward (classique) et backward. Les résultats sont ensuite concaténés dans un vecteur final par défaut."
      ],
      "metadata": {
        "id": "lZeQ4zcDtXqj"
      }
    },
    {
      "cell_type": "markdown",
      "source": [
        "### Shape de l'output"
      ],
      "metadata": {
        "id": "rJugNiKGyPo-"
      }
    },
    {
      "cell_type": "code",
      "source": [
        "model = tf.keras.Sequential()\n",
        "model.add(tf.keras.layers.Embedding(input_dim=1000, output_dim=64))\n",
        "\n",
        "model.add(tf.keras.layers.GRU(256, return_sequences=True))\n",
        "# The output of GRU will be a 3D tensor of shape (batch_size, timesteps, 256)\n",
        "\n",
        "# 256 units sont passés à chaque timestemp au RNN ci-dessous\n",
        "model.add(tf.keras.layers.SimpleRNN(128))\n",
        "# Output shape (batch,128), chaque timestemp est passé dans un réseau à 128 de sortie\n",
        "\n",
        "model.add(tf.keras.layers.Dense(10))"
      ],
      "metadata": {
        "id": "Hlvd8wlCvSq1"
      },
      "execution_count": null,
      "outputs": []
    },
    {
      "cell_type": "markdown",
      "source": [
        "### Output et Hidden States"
      ],
      "metadata": {
        "id": "ZrfoJA4rya9b"
      }
    },
    {
      "cell_type": "code",
      "source": [
        "# Return states in addition to output\n",
        "output, state_h, state_c = tf.keras.layers.LSTM(64, return_state=True, name=\"encoder\")(encoder_embedded)\n",
        "encoder_state = [state_h, state_c]\n",
        "\n",
        "decoder_input = tf.keras.layers.Input(shape=(None,))\n",
        "decoder_embedded = tf.keras.layers.Embedding(input_dim=decoder_vocab, output_dim=64)(\n",
        "    decoder_input\n",
        ")\n",
        "\n",
        "# Pass the 2 states to a new LSTM layer, as initial state\n",
        "decoder_output = tf.keras.layers.LSTM(64, name=\"decoder\")(decoder_embedded, initial_state=encoder_state)"
      ],
      "metadata": {
        "id": "z3ffXKkkylOp"
      },
      "execution_count": null,
      "outputs": []
    },
    {
      "cell_type": "markdown",
      "source": [
        "### Statefulness"
      ],
      "metadata": {
        "id": "VI4Tu1Rl3Q_s"
      }
    },
    {
      "cell_type": "code",
      "source": [
        "paragraph1 = np.random.random((20, 10, 50)).astype(np.float32)\n",
        "paragraph2 = np.random.random((20, 10, 50)).astype(np.float32)\n",
        "paragraph3 = np.random.random((20, 10, 50)).astype(np.float32)\n",
        "\n",
        "lstm_layer = tf.keras.layers.LSTM(64, stateful=True)\n",
        "output = lstm_layer(paragraph1)\n",
        "output = lstm_layer(paragraph2)\n",
        "\n",
        "existing_state = lstm_layer.states\n",
        "\n",
        "new_lstm_layer = tf.keras.layers.LSTM(64)\n",
        "new_output = new_lstm_layer(paragraph3, initial_state=existing_state)"
      ],
      "metadata": {
        "id": "W_zouRMj3Uv5"
      },
      "execution_count": null,
      "outputs": []
    },
    {
      "cell_type": "code",
      "source": [
        "# rajouter un schéma d'une cellule rnn\n",
        "# https://github.com/keras-team/keras/blob/v2.9.0/keras/layers/rnn/simple_rnn.py#L35-L238\n",
        "# https://github.com/keras-team/keras/blob/v2.9.0/keras/layers/rnn/base_rnn.py#L35-L862"
      ],
      "metadata": {
        "id": "sR2lz7QIvmvs"
      },
      "execution_count": null,
      "outputs": []
    },
    {
      "cell_type": "markdown",
      "source": [
        "### Schéma d'une cellule RNN"
      ],
      "metadata": {
        "id": "yjZvpO45doI7"
      }
    },
    {
      "cell_type": "markdown",
      "source": [
        "![image.png](data:image/png;base64,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)"
      ],
      "metadata": {
        "id": "qxqfzkidcrdw"
      }
    },
    {
      "cell_type": "code",
      "source": [
        ""
      ],
      "metadata": {
        "id": "68ll0Tzrcs8C"
      },
      "execution_count": null,
      "outputs": []
    }
  ]
}