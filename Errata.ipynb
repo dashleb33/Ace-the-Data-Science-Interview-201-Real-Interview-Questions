{
 "cells": [
  {
   "cell_type": "markdown",
   "metadata": {},
   "source": [
    "# Exercice 5.4"
   ]
  },
  {
   "cell_type": "markdown",
   "metadata": {},
   "source": [
    " * Deck of 100 cards\n",
    " * Cards values ranging from 1 to 100\n",
    " * Draw two cards at random without replacement\n",
    " * What is the probability that the value of one card is the double of the other"
   ]
  },
  {
   "cell_type": "markdown",
   "metadata": {},
   "source": [
    "### Author's Solution"
   ]
  },
  {
   "cell_type": "markdown",
   "metadata": {},
   "source": [
    " * **Solution** : 100 / 4950 = 0.020202"
   ]
  },
  {
   "cell_type": "markdown",
   "metadata": {},
   "source": [
    "### Personal Solution"
   ]
  },
  {
   "cell_type": "markdown",
   "metadata": {},
   "source": [
    " * Number of possible pairs of cards : C(100,2) = 4950\n",
    " * Number of eligible pairs : 50\n",
    " * **Solution** : 50 / 4950 = 0.010101"
   ]
  },
  {
   "cell_type": "markdown",
   "metadata": {},
   "source": [
    "### **Check results by simulations**"
   ]
  },
  {
   "cell_type": "code",
   "execution_count": 15,
   "metadata": {},
   "outputs": [],
   "source": [
    "import numpy as np\n",
    "\n",
    "def Pick_Pair():\n",
    "    \n",
    "    \"\"\"\n",
    "    Draw two cards without replacement from a deck of 100 cards\n",
    "    \"\"\"\n",
    "    \n",
    "    a=0\n",
    "    b=0\n",
    "    while a==b:\n",
    "        a,b = np.random.randint(low=1,high=100,size=2)\n",
    "    \n",
    "    return (a,b)"
   ]
  },
  {
   "cell_type": "code",
   "execution_count": 16,
   "metadata": {},
   "outputs": [],
   "source": [
    "def Eval_Pair(pair):\n",
    "    \n",
    "    \"\"\"\n",
    "    If one of the card is the double of the other,\n",
    "    Then return True\n",
    "    Else return False\n",
    "    \"\"\"\n",
    "    \n",
    "    q = max(pair) / min(pair)\n",
    "    if q == 2:\n",
    "        return True\n",
    "    else:\n",
    "        return False"
   ]
  },
  {
   "cell_type": "code",
   "execution_count": 14,
   "metadata": {},
   "outputs": [
    {
     "name": "stdout",
     "output_type": "stream",
     "text": [
      "Estimation after 100000 simulations : 0.01045\n"
     ]
    }
   ],
   "source": [
    "simulations = 100000\n",
    "results = [Eval_Pair(Pick_Pair()) for i in range(simulations)]\n",
    "estimation = sum(results) / simulations\n",
    "print(\"Estimation after\",simulations,\"simulations :\",estimation)"
   ]
  }
 ],
 "metadata": {
  "kernelspec": {
   "display_name": "Python 3",
   "language": "python",
   "name": "python3"
  },
  "language_info": {
   "codemirror_mode": {
    "name": "ipython",
    "version": 3
   },
   "file_extension": ".py",
   "mimetype": "text/x-python",
   "name": "python",
   "nbconvert_exporter": "python",
   "pygments_lexer": "ipython3",
   "version": "3.7.6"
  }
 },
 "nbformat": 4,
 "nbformat_minor": 4
}
