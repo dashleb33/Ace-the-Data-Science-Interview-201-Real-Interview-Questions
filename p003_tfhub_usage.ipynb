{
  "nbformat": 4,
  "nbformat_minor": 0,
  "metadata": {
    "colab": {
      "name": "p003_tfhub_usage.ipynb",
      "provenance": [],
      "authorship_tag": "ABX9TyNQVcDV0cql0oN5YgbiibEC",
      "include_colab_link": true
    },
    "kernelspec": {
      "name": "python3",
      "display_name": "Python 3"
    },
    "language_info": {
      "name": "python"
    }
  },
  "cells": [
    {
      "cell_type": "markdown",
      "metadata": {
        "id": "view-in-github",
        "colab_type": "text"
      },
      "source": [
        "<a href=\"https://colab.research.google.com/github/hansglick/book_errata/blob/main/p003_tfhub_usage.ipynb\" target=\"_parent\"><img src=\"https://colab.research.google.com/assets/colab-badge.svg\" alt=\"Open In Colab\"/></a>"
      ]
    },
    {
      "cell_type": "code",
      "execution_count": 4,
      "metadata": {
        "id": "sNXmbqmjzcPd",
        "colab": {
          "base_uri": "https://localhost:8080/"
        },
        "outputId": "3fe2f238-d2ab-482a-ff97-bef573869cd3"
      },
      "outputs": [
        {
          "output_type": "stream",
          "name": "stdout",
          "text": [
            "2.8.0\n"
          ]
        }
      ],
      "source": [
        "import tensorflow as tf\n",
        "import tensorflow_hub as hub\n",
        "import tensorflow_datasets as tfds\n",
        "print(tf.__version__)"
      ]
    },
    {
      "cell_type": "code",
      "source": [
        "# J'ai pas super bien compris le découpage\n",
        "# Apparemment les trois sorties sont des prefetch dataset\n",
        "# Apparemment on peut sortir un batch de taille souhaitable en appelant .batch(taille)\n",
        "# Les donnée sont déjà ordonnées, donc prendre .batch(1) est contenu dans .batch(2)\n",
        "# Je vois aps trop l'intérêt\n",
        "# C'est une classe un peu particulière de data structure: plus d'informations ici : https://www.tensorflow.org/jvm/api_docs/java/org/tensorflow/op/data/PrefetchDataset\n",
        "a = \"train[:60%]\"\n",
        "b  =\"train[:60%]\"\n",
        "c = \"test\"\n",
        "train,test,validation = tfds.load(name=\"imdb_reviews\",\n",
        "                                  split=(a,b,c),\n",
        "                                  as_supervised=True)"
      ],
      "metadata": {
        "id": "43UHyWyD2JjH"
      },
      "execution_count": 28,
      "outputs": []
    },
    {
      "cell_type": "code",
      "source": [
        "# Les exemples et labels sont des tensor classiques\n",
        "exemples,labels = next(iter(train.batch(2)))"
      ],
      "metadata": {
        "id": "JrAWuw1n9DFW"
      },
      "execution_count": 29,
      "outputs": []
    },
    {
      "cell_type": "code",
      "source": [
        "# Les modèles de TF Hub sont wrappables dans un hub.KerasLayer()\n",
        "# L'output est de type tf.keras layer classique\n",
        "# On a à priori, pas besoin, de renseigner input_shape, le modèle prend des phrases de n'importe quelle taille\n",
        "embedding_model_path = \"https://tfhub.dev/google/nnlm-en-dim50/2\"\n",
        "hub_layer = hub.KerasLayer(embedding_model_path,\n",
        "                           input_shape=[],\n",
        "                           dtype=tf.string,\n",
        "                           trainable=True)\n",
        "\n",
        "# Application du layer à des données\n",
        "# Chaque phrase est encodé dans un embedding de taille 50\n",
        "hub_layer(exemples)"
      ],
      "metadata": {
        "id": "Kzr_UyAuB1QQ"
      },
      "execution_count": 35,
      "outputs": []
    },
    {
      "cell_type": "code",
      "source": [
        "# Architecture du modèle\n",
        "model = tf.keras.Sequential()\n",
        "model.add(hub_layer)\n",
        "model.add(tf.keras.layers.Dense(16,activation = \"relu\"))\n",
        "model.add(tf.keras.layers.Dense(1))\n",
        "model.summary()"
      ],
      "metadata": {
        "colab": {
          "base_uri": "https://localhost:8080/"
        },
        "id": "3cL-3KhiCXKX",
        "outputId": "228c76cb-20d3-404a-9047-c2cd76c514ad"
      },
      "execution_count": 38,
      "outputs": [
        {
          "output_type": "stream",
          "name": "stdout",
          "text": [
            "Model: \"sequential\"\n",
            "_________________________________________________________________\n",
            " Layer (type)                Output Shape              Param #   \n",
            "=================================================================\n",
            " keras_layer_1 (KerasLayer)  (None, 50)                48190600  \n",
            "                                                                 \n",
            " dense (Dense)               (None, 16)                816       \n",
            "                                                                 \n",
            " dense_1 (Dense)             (None, 1)                 17        \n",
            "                                                                 \n",
            "=================================================================\n",
            "Total params: 48,191,433\n",
            "Trainable params: 48,191,433\n",
            "Non-trainable params: 0\n",
            "_________________________________________________________________\n"
          ]
        }
      ]
    },
    {
      "cell_type": "code",
      "source": [
        "# Compilation du modèle\n",
        "model.compile(optimizer='adam',\n",
        "              loss=tf.keras.losses.BinaryCrossentropy(from_logits=True),\n",
        "              metrics=['accuracy'])"
      ],
      "metadata": {
        "id": "FNwof4koFuxz"
      },
      "execution_count": 39,
      "outputs": []
    },
    {
      "cell_type": "code",
      "source": [
        "# Modèle entraînement\n",
        "history = model.fit(train.shuffle(10000).batch(512),\n",
        "                    epochs=10,\n",
        "                    validation_data=validation.batch(512),\n",
        "                    verbose=1)"
      ],
      "metadata": {
        "colab": {
          "base_uri": "https://localhost:8080/"
        },
        "id": "MphNTccYGE3T",
        "outputId": "ccda1636-0554-4a83-9e81-e742d4dbcc58"
      },
      "execution_count": 40,
      "outputs": [
        {
          "output_type": "stream",
          "name": "stdout",
          "text": [
            "Epoch 1/10\n",
            "30/30 [==============================] - 12s 370ms/step - loss: 0.6848 - accuracy: 0.5007 - val_loss: 0.6643 - val_accuracy: 0.5001\n",
            "Epoch 2/10\n",
            "30/30 [==============================] - 11s 359ms/step - loss: 0.6279 - accuracy: 0.5341 - val_loss: 0.5934 - val_accuracy: 0.6088\n",
            "Epoch 3/10\n",
            "30/30 [==============================] - 11s 365ms/step - loss: 0.5145 - accuracy: 0.7159 - val_loss: 0.4832 - val_accuracy: 0.7432\n",
            "Epoch 4/10\n",
            "30/30 [==============================] - 12s 387ms/step - loss: 0.3791 - accuracy: 0.8391 - val_loss: 0.3933 - val_accuracy: 0.8112\n",
            "Epoch 5/10\n",
            "30/30 [==============================] - 11s 363ms/step - loss: 0.2691 - accuracy: 0.8989 - val_loss: 0.3436 - val_accuracy: 0.8389\n",
            "Epoch 6/10\n",
            "30/30 [==============================] - 11s 366ms/step - loss: 0.1896 - accuracy: 0.9340 - val_loss: 0.3245 - val_accuracy: 0.8512\n",
            "Epoch 7/10\n",
            "30/30 [==============================] - 12s 380ms/step - loss: 0.1356 - accuracy: 0.9589 - val_loss: 0.3218 - val_accuracy: 0.8551\n",
            "Epoch 8/10\n",
            "30/30 [==============================] - 13s 409ms/step - loss: 0.0990 - accuracy: 0.9729 - val_loss: 0.3265 - val_accuracy: 0.8582\n",
            "Epoch 9/10\n",
            "30/30 [==============================] - 12s 395ms/step - loss: 0.0711 - accuracy: 0.9839 - val_loss: 0.3384 - val_accuracy: 0.8533\n",
            "Epoch 10/10\n",
            "30/30 [==============================] - 12s 379ms/step - loss: 0.0520 - accuracy: 0.9905 - val_loss: 0.3556 - val_accuracy: 0.8500\n"
          ]
        }
      ]
    },
    {
      "cell_type": "code",
      "source": [
        "# Evaluation du modele\n",
        "# results est une liste qui contient les métriques d'évaluation\n",
        "# le label des metriques est accessible dans model.metrics_name\n",
        "results = model.evaluate(test.batch(2048), verbose=2)\n",
        "print(model.metrics_names)\n",
        "print(results)"
      ],
      "metadata": {
        "colab": {
          "base_uri": "https://localhost:8080/"
        },
        "id": "_q-oJZ9ZGSAs",
        "outputId": "d3958ff9-6dbf-4bd2-fe13-582b3aa18213"
      },
      "execution_count": 47,
      "outputs": [
        {
          "output_type": "stream",
          "name": "stdout",
          "text": [
            "8/8 - 1s - loss: 0.0411 - accuracy: 0.9929 - 1s/epoch - 184ms/step\n"
          ]
        }
      ]
    }
  ]
}