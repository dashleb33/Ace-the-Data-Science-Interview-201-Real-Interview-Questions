{
  "nbformat": 4,
  "nbformat_minor": 0,
  "metadata": {
    "colab": {
      "name": "hf_sharemodels_01.ipynb",
      "provenance": [],
      "authorship_tag": "ABX9TyPRoylN0vIS8PcYQ2jsmRs+",
      "include_colab_link": true
    },
    "kernelspec": {
      "name": "python3",
      "display_name": "Python 3"
    },
    "language_info": {
      "name": "python"
    }
  },
  "cells": [
    {
      "cell_type": "markdown",
      "metadata": {
        "id": "view-in-github",
        "colab_type": "text"
      },
      "source": [
        "<a href=\"https://colab.research.google.com/github/hansglick/book_errata/blob/main/hf_sharemodels_01.ipynb\" target=\"_parent\"><img src=\"https://colab.research.google.com/assets/colab-badge.svg\" alt=\"Open In Colab\"/></a>"
      ]
    },
    {
      "cell_type": "code",
      "source": [
        " * page : https://huggingface.co/course/fr/chapter4/1?fw=tf\n",
        " * video :   https://www.youtube.com/watch?v=XvSGPZFEjDY&ab_channel=HuggingFace"
      ],
      "metadata": {
        "id": "bO7ddAscNXUN"
      },
      "execution_count": null,
      "outputs": []
    },
    {
      "cell_type": "markdown",
      "source": [
        "# Le HuggingFace HUB"
      ],
      "metadata": {
        "id": "XKIXd8fKLWU6"
      }
    },
    {
      "cell_type": "markdown",
      "source": [
        " * 10,000 modèles accessibles\n",
        " * Plusieurs datasets connus utilisables pour les benchmarks les plus connus\n",
        " * Pas uniquement limité aux transformers ni au NLP, on a de la computer vision, de l'audio et des modèles non transformers comme Flair et AllenNLP voir : https://github.com/flairNLP/flair et https://github.com/allenai/allennlp"
      ],
      "metadata": {
        "id": "cHtaKfEZL19i"
      }
    },
    {
      "cell_type": "markdown",
      "source": [
        "### Partager son modèle à la coco"
      ],
      "metadata": {
        "id": "donZyiaQMbQu"
      }
    },
    {
      "cell_type": "markdown",
      "source": [
        " * On peut pousser son modèle entraîné sur le Hub et le rendre accessible du coup à tout le monde \n",
        " * C'est apparemment totalement gratuit, la version payante permet de rendre l'accessibilité des modèles restreinte\n",
        " * Il faut un compte jamesmorocco/baryokhai@gmail.com"
      ],
      "metadata": {
        "id": "UuaqkebYM117"
      }
    },
    {
      "cell_type": "markdown",
      "source": [
        "### La fiche d'un modèle\n",
        " * exemple url pour GPT-II : https://huggingface.co/gpt2\n",
        " * un tas d'informations présentes : les fichiers et leur commits, une description du modèle, une interface pour le tester directos, des instructions pour l'utiliser via la librairie transformers, etc."
      ],
      "metadata": {
        "id": "e2vTcjjAOl98"
      }
    }
  ]
}