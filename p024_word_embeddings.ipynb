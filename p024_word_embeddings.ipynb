{
  "nbformat": 4,
  "nbformat_minor": 0,
  "metadata": {
    "colab": {
      "name": "p024_word_embeddings.ipynb",
      "provenance": [],
      "authorship_tag": "ABX9TyM9U+C3CouERYzYmapES8VC",
      "include_colab_link": true
    },
    "kernelspec": {
      "name": "python3",
      "display_name": "Python 3"
    },
    "language_info": {
      "name": "python"
    }
  },
  "cells": [
    {
      "cell_type": "markdown",
      "metadata": {
        "id": "view-in-github",
        "colab_type": "text"
      },
      "source": [
        "<a href=\"https://colab.research.google.com/github/hansglick/book_errata/blob/main/p024_word_embeddings.ipynb\" target=\"_parent\"><img src=\"https://colab.research.google.com/assets/colab-badge.svg\" alt=\"Open In Colab\"/></a>"
      ]
    },
    {
      "cell_type": "code",
      "execution_count": 1,
      "metadata": {
        "colab": {
          "base_uri": "https://localhost:8080/"
        },
        "id": "FLovPgXDBBQl",
        "outputId": "41712dad-5ea7-4b94-9d17-f3192e4f4047"
      },
      "outputs": [
        {
          "output_type": "stream",
          "name": "stdout",
          "text": [
            "2.8.2\n"
          ]
        }
      ],
      "source": [
        "import tensorflow as tf\n",
        "print(tf.__version__)"
      ]
    },
    {
      "cell_type": "markdown",
      "source": [
        "# Objectif\n",
        "\n",
        "Entraîner des embeddings en tentant de prédire la polarité des reviews du dataset `Large Movie Review Dataset`"
      ],
      "metadata": {
        "id": "DIhR8v4w3gZz"
      }
    },
    {
      "cell_type": "markdown",
      "source": [
        "![image.png](data:image/png;base64,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)"
      ],
      "metadata": {
        "id": "GqX8h95l7CWZ"
      }
    },
    {
      "cell_type": "markdown",
      "source": [
        "# Récupération des données et construction du dataset\n",
        " * Url du dataset : https://ai.stanford.edu/~amaas/data/sentiment/aclImdb_v1.tar.gz\n",
        " * Utiliser la fonction `tf.keras.utils.get_file()` pour récupérer les données\n",
        " * Les données sont dans le folder `train`\n",
        " * Remove le folder `unsup` dans le folder `train` afin qu'il ne reste que deux subfolders `neg` et `pos`\n",
        " * Utilisez `tf.keras.utils.text_dataset_from_directory()` afin de construire le train dataset et le val dataset\n",
        " * Parcourir les données via la méthode `.take()`"
      ],
      "metadata": {
        "id": "_7U5t6OK7Dar"
      }
    },
    {
      "cell_type": "markdown",
      "source": [
        "# Preprocessing des données\n",
        " * Créer une fonction qui standardize le text d'entrée (batch de texte)\n",
        " * Instancier un layer de Text Vectorizer via `TextVectorization`\n",
        "   * Vocab size = 10000\n",
        "   * Max length sequence = 100\n",
        "   * Fonction de standardization\n",
        " * Utiliser la .map() méthode de dataset afin de créer un text only dataset qui servira d'input au vectorizer.adapt()"
      ],
      "metadata": {
        "id": "KmV7yr2e9drQ"
      }
    },
    {
      "cell_type": "markdown",
      "source": [
        "# Création du modèle\n",
        "\n",
        " * Le vectorize_layer\n",
        " * Embedding() avec 16 unités\n",
        " * GlobalAveragePooling1D()\n",
        " * Dense avec 16 units et activation relu\n",
        " * Dense avec 1 unité\n"
      ],
      "metadata": {
        "id": "e4YB0tbc_cFk"
      }
    },
    {
      "cell_type": "markdown",
      "source": [
        "# Compile & Train the model\n",
        "\n",
        " * *compile()*\n",
        "   * adam optimizer avec valeur par défaut\n",
        "   * binary cross entropy avec logits\n",
        "   * accuracy comme métrique\n",
        " * *fit()*\n",
        "   * epoch = 15\n",
        "   * tensorboard callback : `tensorboard_callback = tf.keras.callbacks.TensorBoard(log_dir=\"logs\")`"
      ],
      "metadata": {
        "id": "pcUvzFGUA2vr"
      }
    },
    {
      "cell_type": "code",
      "source": [
        "# Ouvrir tensorboard\n",
        "%load_ext tensorboard\n",
        "%tensorboard --logdir logs"
      ],
      "metadata": {
        "id": "uSwrRSm8BibZ"
      },
      "execution_count": null,
      "outputs": []
    },
    {
      "cell_type": "markdown",
      "source": [
        "# Récupérez les embeddings\n",
        "\n",
        " * On peut accéder aux poids avec `.get_layer(nom_du_layer)`\n",
        " * `.get_weights()` renvoie une liste de tensors de weights\n",
        " * `weights = model.get_layer('embedding').get_weights()[0]`\n",
        "\n"
      ],
      "metadata": {
        "id": "MAzVLK5yCTqc"
      }
    },
    {
      "cell_type": "markdown",
      "source": [
        "# Sauvegarder les embeddings\n",
        "Afin de pouvoir visualiser les embeddings sur http://projector.tensorflow.org/, on doit créer deux fichiers :    \n",
        " * Un fichier `word.tsv` qui contient les mots ligne par ligne dans l'ordre de leur token index\n",
        " * Un fichier `vectors.tsv` qui contient la valeur des vecteurs, chaque ligne i correspondant au vecteur du mot de l'index i\n",
        " * On utilise `io.open('vectors.tsv', 'w', encoding='utf-8')` pour ouvrir le fichier\n",
        " * On boucle sur le vocab, a chaque nouveau mot, excepté le tout premier utilisé pour le padding, on ajoute les informations aux deux fichiers\n",
        " * Ne pas oublier de fermer les fichiers avec `out_v.close()`"
      ],
      "metadata": {
        "id": "3K7kmUC7F4cA"
      }
    },
    {
      "cell_type": "code",
      "source": [
        "# Afin d'enregistrer les fichiers crées sur notre drive perso\n",
        "try:\n",
        "  from google.colab import files\n",
        "  files.download('vectors.tsv')\n",
        "  files.download('metadata.tsv')\n",
        "except Exception:\n",
        "  pass"
      ],
      "metadata": {
        "id": "o2uXHiw_Kbhh"
      },
      "execution_count": null,
      "outputs": []
    }
  ]
}