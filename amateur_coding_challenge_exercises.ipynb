{
 "cells": [
  {
   "cell_type": "markdown",
   "id": "b73d516d",
   "metadata": {},
   "source": [
    "# Amateur Coding Challenges"
   ]
  },
  {
   "cell_type": "code",
   "execution_count": 110,
   "id": "1082bb8a",
   "metadata": {},
   "outputs": [],
   "source": [
    "import numpy as np\n",
    "import datetime"
   ]
  },
  {
   "cell_type": "markdown",
   "id": "408360d3",
   "metadata": {},
   "source": [
    "#### 1. Write a function that returns the SUM of a sequence of numbers. This sequence is determined by three variables: start, finish, and step. The sequence begins at start, ends at finish, and goes up by step until it reaches finish or a number that when increased by step would go past finish."
   ]
  },
  {
   "cell_type": "markdown",
   "id": "58f0a9c0",
   "metadata": {},
   "source": [
    "Examples:\n",
    "\n",
    "Input: start: 1 finish: 4 step: 1 | Output: 10\n",
    "\n",
    "Input: start: 4 finish: 10 step: 4 | Output: 12"
   ]
  },
  {
   "cell_type": "code",
   "execution_count": 7,
   "id": "52102df4",
   "metadata": {},
   "outputs": [],
   "source": [
    "def sum_of_sequence(start, finish, step=1):\n",
    "    return sum(range(start, finish + 1, step))"
   ]
  },
  {
   "cell_type": "code",
   "execution_count": 8,
   "id": "5f609809",
   "metadata": {},
   "outputs": [
    {
     "data": {
      "text/plain": [
       "10"
      ]
     },
     "execution_count": 8,
     "metadata": {},
     "output_type": "execute_result"
    }
   ],
   "source": [
    "sum_of_sequence(1, 4)"
   ]
  },
  {
   "cell_type": "code",
   "execution_count": 9,
   "id": "e2c66f11",
   "metadata": {},
   "outputs": [
    {
     "data": {
      "text/plain": [
       "12"
      ]
     },
     "execution_count": 9,
     "metadata": {},
     "output_type": "execute_result"
    }
   ],
   "source": [
    "sum_of_sequence(4, 10, 4)"
   ]
  },
  {
   "cell_type": "markdown",
   "id": "55a6a63b",
   "metadata": {},
   "source": [
    "#### 2. Given a string of any length with any characters in it, write a function to determine whether or not the string contains the whole word \"english\". The order of characters/spelling is important, a string \"agkjnenglishsad\" would return true while \"asdneglihsth\" would return false. Upper and lower case does not matter. Return values should be booleans (true/false)."
   ]
  },
  {
   "cell_type": "markdown",
   "id": "201c32fe",
   "metadata": {},
   "source": [
    "Examples:\n",
    "\n",
    "Input: \"FaagdnglishAGG\" | Output: false\n",
    "\n",
    "Input: \"SMFENgliSHasnD\" | Output: true"
   ]
  },
  {
   "cell_type": "code",
   "execution_count": 10,
   "id": "789c626f",
   "metadata": {},
   "outputs": [],
   "source": [
    "def contains_english(string):\n",
    "    return 'english' in string.lower()"
   ]
  },
  {
   "cell_type": "code",
   "execution_count": 11,
   "id": "65a38c3c",
   "metadata": {},
   "outputs": [
    {
     "data": {
      "text/plain": [
       "False"
      ]
     },
     "execution_count": 11,
     "metadata": {},
     "output_type": "execute_result"
    }
   ],
   "source": [
    "contains_english('FaagdnglishAGG')"
   ]
  },
  {
   "cell_type": "code",
   "execution_count": 12,
   "id": "98bf5e6f",
   "metadata": {},
   "outputs": [
    {
     "data": {
      "text/plain": [
       "True"
      ]
     },
     "execution_count": 12,
     "metadata": {},
     "output_type": "execute_result"
    }
   ],
   "source": [
    "contains_english('SMFENgliSHasnD')"
   ]
  },
  {
   "cell_type": "markdown",
   "id": "f15161c2",
   "metadata": {},
   "source": [
    "#### 3. Given an array of integers, write a function that returns an array of 2 integers. The first integer will be the count of the positive integers, and the second integer will be the sum of the negative integers. If the input is empty or null, return an empty array.\n",
    "\n",
    "Examples:\n",
    "\n",
    "Input: [1, -6, 5, 4, 3, -7, -10, 201, -3] | Output: [5, -26]\n",
    "\n",
    "Input: null | Output: []"
   ]
  },
  {
   "cell_type": "code",
   "execution_count": 18,
   "id": "441d245e",
   "metadata": {},
   "outputs": [],
   "source": [
    "def count_pos_sum_neg(lst):\n",
    "    if lst == [] or lst == None:\n",
    "        return []\n",
    "    return [sum([1 for num in lst if num > 0])] + [sum([num for num in lst if num < 0])]"
   ]
  },
  {
   "cell_type": "code",
   "execution_count": 19,
   "id": "9b6f7a96",
   "metadata": {},
   "outputs": [
    {
     "data": {
      "text/plain": [
       "[5, -26]"
      ]
     },
     "execution_count": 19,
     "metadata": {},
     "output_type": "execute_result"
    }
   ],
   "source": [
    "count_pos_sum_neg([1, -6, 5, 4, 3, -7, -10, 201, -3])"
   ]
  },
  {
   "cell_type": "code",
   "execution_count": 20,
   "id": "405064f5",
   "metadata": {},
   "outputs": [
    {
     "data": {
      "text/plain": [
       "[]"
      ]
     },
     "execution_count": 20,
     "metadata": {},
     "output_type": "execute_result"
    }
   ],
   "source": [
    "count_pos_sum_neg([])"
   ]
  },
  {
   "cell_type": "markdown",
   "id": "d99c3c07",
   "metadata": {},
   "source": [
    "#### 4. Write a function that translates an input string by replacing each character with a number representing the amount of times that character appears in the string. Then separate each individual number with a different character.\n",
    "\n",
    "Examples:\n",
    "\n",
    "Input: \"hello world\", \"-\" | Output: \"1-1-3-3-2-1-1-2-1-3-1\"\n",
    "\n",
    "Input: \"challenge\", \"/\" | Output: \"1/1/1/2/2/2/1/1/2\""
   ]
  },
  {
   "cell_type": "code",
   "execution_count": 35,
   "id": "92010762",
   "metadata": {},
   "outputs": [],
   "source": [
    "def replacer(string, seperator='-'):\n",
    "    counts = {char: string.count(char) for char in string}    \n",
    "    return seperator.join([str(counts[char]) for char in string])"
   ]
  },
  {
   "cell_type": "code",
   "execution_count": 36,
   "id": "c914e153",
   "metadata": {},
   "outputs": [
    {
     "data": {
      "text/plain": [
       "'1-1-3-3-2-1-1-2-1-3-1'"
      ]
     },
     "execution_count": 36,
     "metadata": {},
     "output_type": "execute_result"
    }
   ],
   "source": [
    "replacer('hello world')"
   ]
  },
  {
   "cell_type": "code",
   "execution_count": 37,
   "id": "99c5434a",
   "metadata": {},
   "outputs": [
    {
     "data": {
      "text/plain": [
       "'1/1/1/2/2/2/1/1/2'"
      ]
     },
     "execution_count": 37,
     "metadata": {},
     "output_type": "execute_result"
    }
   ],
   "source": [
    "replacer('challenge', '/')"
   ]
  },
  {
   "cell_type": "markdown",
   "id": "4c61ded7",
   "metadata": {},
   "source": [
    "#### 5. Given a string of names like this: \"Travis:Meyer;Gene:Carangal;Tom:Young;Jeff:Meyer\", write a function that makes the entire string uppercase and sorts it in alphabetical order by last name. If the last names are the same sort them by the first name. Put the last name in front of the first name, remove the colons and semicolons, put the names in parentheses and separate the names with commas.\n",
    "\n",
    "Example:\n",
    "\n",
    "The end string should look like this: \"(CARANGAL, GENE)(MEYER, JEFF)(MEYER, TRAVIS)(YOUNG, TOM)\"\n"
   ]
  },
  {
   "cell_type": "code",
   "execution_count": 108,
   "id": "83ea434f",
   "metadata": {},
   "outputs": [],
   "source": [
    "def name_sorter(string):\n",
    "    lst = string.upper().split(';')\n",
    "    lst = [name.split(':') for name in lst]\n",
    "    names = [{'first': name[0], 'last': name[1]} for name in lst]\n",
    "    names = sorted(names, key=(lambda x: x['last']))\n",
    "    \n",
    "    string = ''\n",
    "\n",
    "    for name in names:\n",
    "        string += f\"({name['last']}, {name['first']})\"\n",
    "\n",
    "    return string\n"
   ]
  },
  {
   "cell_type": "code",
   "execution_count": 109,
   "id": "a7cd6b6d",
   "metadata": {},
   "outputs": [
    {
     "data": {
      "text/plain": [
       "'(CARANGAL, GENE)(MEYER, TRAVIS)(MEYER, JEFF)(YOUNG, TOM)'"
      ]
     },
     "execution_count": 109,
     "metadata": {},
     "output_type": "execute_result"
    }
   ],
   "source": [
    "name_sorter('Travis:Meyer;Gene:Carangal;Tom:Young;Jeff:Meyer')"
   ]
  },
  {
   "cell_type": "markdown",
   "id": "11a657e1",
   "metadata": {},
   "source": [
    "#### 6. Write a function to calculate a person’s age based on the date entered in the format MM/DD/YYYY.\n",
    "\n",
    "Example:\n",
    "\n",
    "Input: 11/04/1982\n",
    "\n",
    "Output: 39"
   ]
  },
  {
   "cell_type": "code",
   "execution_count": 129,
   "id": "087ebef0",
   "metadata": {},
   "outputs": [],
   "source": [
    "import pandas as pd\n",
    "def get_age(birth_date):\n",
    "    return (pd.to_datetime(datetime.date.today()) - pd.to_datetime(birth_date)) // pd.to_timedelta('365 days')"
   ]
  },
  {
   "cell_type": "code",
   "execution_count": 130,
   "id": "790b6ac2",
   "metadata": {},
   "outputs": [
    {
     "data": {
      "text/plain": [
       "30"
      ]
     },
     "execution_count": 130,
     "metadata": {},
     "output_type": "execute_result"
    }
   ],
   "source": [
    "get_age('09/18/1991')"
   ]
  },
  {
   "cell_type": "markdown",
   "id": "4b44ea84",
   "metadata": {},
   "source": [
    "#### 7. Write a function to convert a string into an array of words.\n",
    "\n",
    "Example:\n",
    "\n",
    "Input: \"Trick or Treat\"\n",
    "\n",
    "Output: [‘Trick’, ‘or’, ‘Treat’]"
   ]
  },
  {
   "cell_type": "code",
   "execution_count": 131,
   "id": "e1c5f8ae",
   "metadata": {},
   "outputs": [],
   "source": [
    "def string_to_list(string):\n",
    "    return string.split()"
   ]
  },
  {
   "cell_type": "code",
   "execution_count": 132,
   "id": "d6a1134d",
   "metadata": {},
   "outputs": [
    {
     "data": {
      "text/plain": [
       "['Trick', 'or', 'Treat']"
      ]
     },
     "execution_count": 132,
     "metadata": {},
     "output_type": "execute_result"
    }
   ],
   "source": [
    "string_to_list('Trick or Treat')"
   ]
  },
  {
   "cell_type": "markdown",
   "id": "5726ec5e",
   "metadata": {},
   "source": [
    "#### 8. Write a function to count the number of occurrences of a substring in a given string.\n",
    "\n",
    "Example:\n",
    "\n",
    "Input: \"The pumpkin rolled down the hill and under someone’s car.\", \"the\"\n",
    "Output: 2"
   ]
  },
  {
   "cell_type": "code",
   "execution_count": 20,
   "id": "6181bfe2",
   "metadata": {},
   "outputs": [
    {
     "data": {
      "text/plain": [
       "2"
      ]
     },
     "execution_count": 20,
     "metadata": {},
     "output_type": "execute_result"
    }
   ],
   "source": [
    "count_substring('The pumpkin rolled down the hill and under someone’s car.', 'the')"
   ]
  },
  {
   "cell_type": "markdown",
   "id": "bf0163f9",
   "metadata": {},
   "source": [
    "#### 9. Write a function to remove these special characters from a string: ~,!,$,&,%, ,#,@,-,_,^,? (yes, \"space\" is a character in that list)\n",
    "\n",
    "Examples:\n",
    "\n",
    "Input: \"Happy ~!&$%#@- Halloween\" | Output: \"HappyHalloween\"\n",
    "\n",
    "Input: \"I’ll bet living in a nudist-colony takes all the fun out of Halloween!!\" | Output: \n",
    "\"IllbetlivinginanudistcolonytakesallthefunoutofHalloween\""
   ]
  },
  {
   "cell_type": "code",
   "execution_count": 140,
   "id": "902bdb7e",
   "metadata": {},
   "outputs": [],
   "source": [
    "def remove_specials(string):\n",
    "    specials = ['~', '!', '$', '&', '%', '#', '@', '-', '_', '^', '?', ' ', '\\'']\n",
    "    for char in specials:\n",
    "        while char in string:\n",
    "            string = string.replace(char, '')\n",
    "    return string"
   ]
  },
  {
   "cell_type": "code",
   "execution_count": 141,
   "id": "8c77aa35",
   "metadata": {},
   "outputs": [
    {
     "data": {
      "text/plain": [
       "'HappyHalloween'"
      ]
     },
     "execution_count": 141,
     "metadata": {},
     "output_type": "execute_result"
    }
   ],
   "source": [
    "remove_specials('Happy ~!&$%#@- Halloween')"
   ]
  },
  {
   "cell_type": "code",
   "execution_count": 142,
   "id": "f157fb02",
   "metadata": {},
   "outputs": [
    {
     "data": {
      "text/plain": [
       "'IllbetlivinginanudistcolonytakesallthefunoutofHalloween'"
      ]
     },
     "execution_count": 142,
     "metadata": {},
     "output_type": "execute_result"
    }
   ],
   "source": [
    "remove_specials(\"I'll bet living in a nudist-colony takes all the fun out of Halloween!!\")"
   ]
  },
  {
   "cell_type": "markdown",
   "id": "d5bfd1ef",
   "metadata": {},
   "source": [
    "#### 10. Write a function called \"multiply\" that takes two integers and returns the product. You are NOT allowed to use the * operator or any imported multiplication function.\n",
    "\n",
    "Example:\n",
    "\n",
    "Input: multiply(5, 6) | Output: 30\n",
    "\n",
    "Input: multiply(-1, 15) | Output: -15\n",
    "\n",
    "Input: multiply(-2, -7) | Output: 14"
   ]
  },
  {
   "cell_type": "code",
   "execution_count": 49,
   "id": "696c9558",
   "metadata": {},
   "outputs": [],
   "source": []
  },
  {
   "cell_type": "code",
   "execution_count": 58,
   "id": "8aee50b8",
   "metadata": {},
   "outputs": [],
   "source": [
    "def multiply(x, y):\n",
    "    if (x <= 0 and y <= 0) or (x >= 0) and (y >= 0):\n",
    "        sign = '+'\n",
    "    else:\n",
    "        sign = '-'\n",
    "\n",
    "    prod = sum([abs(x) for i in range(abs(y))])\n",
    "\n",
    "    return int(sign + str(prod))\n"
   ]
  },
  {
   "cell_type": "code",
   "execution_count": 59,
   "id": "cb0c9fb2",
   "metadata": {},
   "outputs": [
    {
     "data": {
      "text/plain": [
       "30"
      ]
     },
     "execution_count": 59,
     "metadata": {},
     "output_type": "execute_result"
    }
   ],
   "source": [
    "multiply(5, 6)"
   ]
  },
  {
   "cell_type": "code",
   "execution_count": 60,
   "id": "bbe64db9",
   "metadata": {},
   "outputs": [
    {
     "data": {
      "text/plain": [
       "-15"
      ]
     },
     "execution_count": 60,
     "metadata": {},
     "output_type": "execute_result"
    }
   ],
   "source": [
    "multiply(-1, 15)"
   ]
  },
  {
   "cell_type": "code",
   "execution_count": 61,
   "id": "de197001",
   "metadata": {},
   "outputs": [
    {
     "data": {
      "text/plain": [
       "14"
      ]
     },
     "execution_count": 61,
     "metadata": {},
     "output_type": "execute_result"
    }
   ],
   "source": [
    "multiply(-2, -7)"
   ]
  },
  {
   "cell_type": "code",
   "execution_count": 62,
   "id": "cbe514ce",
   "metadata": {},
   "outputs": [
    {
     "data": {
      "text/plain": [
       "-32"
      ]
     },
     "execution_count": 62,
     "metadata": {},
     "output_type": "execute_result"
    }
   ],
   "source": [
    "multiply(2, -16)"
   ]
  },
  {
   "cell_type": "markdown",
   "id": "82ed6396",
   "metadata": {},
   "source": [
    "#### 11. Write a function that takes a string and returns true if all of the characters are the same case, false otherwise.\n",
    "\n",
    "Examples:\n",
    "\n",
    "Input: \"hello world\" | Output: true\n",
    "\n",
    "Input: \"HELLO WORLD\" | Output: true\n",
    "\n",
    "Input: \"HeLLo wORld\" | Output: false"
   ]
  },
  {
   "cell_type": "code",
   "execution_count": 69,
   "id": "9edf82fc",
   "metadata": {},
   "outputs": [],
   "source": [
    "def is_same_case(string):\n",
    "    if string[0].isupper():\n",
    "        return all([char.isupper() for char in string if char.isalpha()])\n",
    "    else:\n",
    "        return all([char.islower() for char in string if char.isalpha()])"
   ]
  },
  {
   "cell_type": "code",
   "execution_count": 70,
   "id": "521fc312",
   "metadata": {},
   "outputs": [
    {
     "data": {
      "text/plain": [
       "True"
      ]
     },
     "execution_count": 70,
     "metadata": {},
     "output_type": "execute_result"
    }
   ],
   "source": [
    "is_same_case('HELLO WORLD')"
   ]
  },
  {
   "cell_type": "code",
   "execution_count": 71,
   "id": "fdc2001a",
   "metadata": {},
   "outputs": [
    {
     "data": {
      "text/plain": [
       "True"
      ]
     },
     "execution_count": 71,
     "metadata": {},
     "output_type": "execute_result"
    }
   ],
   "source": [
    "is_same_case('hello world')"
   ]
  },
  {
   "cell_type": "code",
   "execution_count": 72,
   "id": "fac2e28f",
   "metadata": {},
   "outputs": [
    {
     "data": {
      "text/plain": [
       "False"
      ]
     },
     "execution_count": 72,
     "metadata": {},
     "output_type": "execute_result"
    }
   ],
   "source": [
    "is_same_case('HeLLo wORld')"
   ]
  },
  {
   "cell_type": "markdown",
   "id": "cb161c66",
   "metadata": {},
   "source": [
    "####  12. Write a function that takes an array of integers and returns an array of integers where each number is the sum of itself and all of the previous numbers in the array.\n",
    "\n",
    "Example:\n",
    "\n",
    "Input: [1, 1, 1] | Output: [1, 2, 3]\n",
    "\n",
    "Input: [4, 2, 1, 3, 5] | Output: [4, 6, 7, 10, 15]"
   ]
  },
  {
   "cell_type": "code",
   "execution_count": 82,
   "id": "5487ae17",
   "metadata": {},
   "outputs": [],
   "source": [
    "def cumulative_sum(lst):\n",
    "    new_lst = [lst[0]]\n",
    "    for i in range(1, len(lst)):\n",
    "        new_lst.append(lst[i] + new_lst[i - 1])\n",
    "    return new_lst\n",
    "        \n",
    "\n"
   ]
  },
  {
   "cell_type": "code",
   "execution_count": 83,
   "id": "2a1a7b0e",
   "metadata": {},
   "outputs": [
    {
     "data": {
      "text/plain": [
       "[1, 2, 3]"
      ]
     },
     "execution_count": 83,
     "metadata": {},
     "output_type": "execute_result"
    }
   ],
   "source": [
    "cumulative_sum([1, 1, 1])"
   ]
  },
  {
   "cell_type": "code",
   "execution_count": 84,
   "id": "bbddf051",
   "metadata": {},
   "outputs": [
    {
     "data": {
      "text/plain": [
       "[4, 6, 7, 10, 15]"
      ]
     },
     "execution_count": 84,
     "metadata": {},
     "output_type": "execute_result"
    }
   ],
   "source": [
    "cumulative_sum([4, 2, 1, 3, 5])"
   ]
  },
  {
   "cell_type": "markdown",
   "id": "2644aa7d",
   "metadata": {},
   "source": [
    "#### 13. An Isogram is a word that has no repeating letters, consecutive or not. Write a function that takes a string and returns true if it’s an isogram and false if it isn’t.\n",
    "\n",
    "Examples:\n",
    "\n",
    "Input: \"fish\" | Output: true\n",
    "\n",
    "Input: \"food\" | Output: false\n",
    "\n",
    "Input: \"color\" | Output: false"
   ]
  },
  {
   "cell_type": "code",
   "execution_count": 85,
   "id": "6764ef35",
   "metadata": {},
   "outputs": [],
   "source": [
    "def is_isogram(word):\n",
    "    return len(word) == len(set(word))"
   ]
  },
  {
   "cell_type": "code",
   "execution_count": 86,
   "id": "76ce0720",
   "metadata": {},
   "outputs": [
    {
     "data": {
      "text/plain": [
       "True"
      ]
     },
     "execution_count": 86,
     "metadata": {},
     "output_type": "execute_result"
    }
   ],
   "source": [
    "is_isogram('fish')"
   ]
  },
  {
   "cell_type": "code",
   "execution_count": 87,
   "id": "4009f805",
   "metadata": {},
   "outputs": [
    {
     "data": {
      "text/plain": [
       "False"
      ]
     },
     "execution_count": 87,
     "metadata": {},
     "output_type": "execute_result"
    }
   ],
   "source": [
    "is_isogram('food')"
   ]
  },
  {
   "cell_type": "code",
   "execution_count": 88,
   "id": "978f1df9",
   "metadata": {},
   "outputs": [
    {
     "data": {
      "text/plain": [
       "False"
      ]
     },
     "execution_count": 88,
     "metadata": {},
     "output_type": "execute_result"
    }
   ],
   "source": [
    "is_isogram('color')"
   ]
  },
  {
   "cell_type": "markdown",
   "id": "c8650cd5",
   "metadata": {},
   "source": [
    "#### 14. Write a function that takes a phone number with letters in it and converts it to one with only numbers. All input phone numbers will follow this pattern: \"###-###-####\" (Hint: Search for \"phone keypad\")\n",
    "\n",
    "Examples:\n",
    "\n",
    "Input: 210-367-CODE | Output: 210-367-2633\n",
    "        \n",
    "Input: TRY-THE-FOOD | Output: 879-843-3663"
   ]
  },
  {
   "cell_type": "code",
   "execution_count": 146,
   "id": "f9270950",
   "metadata": {},
   "outputs": [],
   "source": [
    "def convert_phone_number(phone):\n",
    "\n",
    "    dct = {\n",
    "           'A':2, \n",
    "           'B':2,\n",
    "           'C':2,\n",
    "           'D':3,\n",
    "           'E':3,\n",
    "           'F':3,\n",
    "           'G':4,\n",
    "           'H':4,\n",
    "           'I':4,\n",
    "           'J':5,\n",
    "           'K':5,\n",
    "           'L':5,\n",
    "           'M':6,\n",
    "           'N':6,\n",
    "           'O':6,\n",
    "           'P':7,\n",
    "           'Q':7,\n",
    "           'R':7,\n",
    "           'S':7,\n",
    "           'T':8,\n",
    "           'U':8,\n",
    "           'V':8,\n",
    "           'W':9,\n",
    "           'X':9,\n",
    "           'Y':9,\n",
    "           'Z':9\n",
    "           }\n",
    "    for char in phone:\n",
    "        if char.isalpha():\n",
    "            phone = phone.replace(char, str(dct[char]))\n",
    "    return phone"
   ]
  },
  {
   "cell_type": "code",
   "execution_count": 147,
   "id": "9c71d005",
   "metadata": {},
   "outputs": [
    {
     "data": {
      "text/plain": [
       "'210-367-2633'"
      ]
     },
     "execution_count": 147,
     "metadata": {},
     "output_type": "execute_result"
    }
   ],
   "source": [
    "convert_phone_number('210-367-CODE')"
   ]
  },
  {
   "cell_type": "code",
   "execution_count": 148,
   "id": "d910a2b2",
   "metadata": {},
   "outputs": [
    {
     "data": {
      "text/plain": [
       "'879-843-3663'"
      ]
     },
     "execution_count": 148,
     "metadata": {},
     "output_type": "execute_result"
    }
   ],
   "source": [
    "convert_phone_number('TRY-THE-FOOD')"
   ]
  },
  {
   "cell_type": "markdown",
   "id": "0fb8a458",
   "metadata": {},
   "source": [
    "#### 15. Write a function that returns all possible partitions of an array from left to right. With an n amount of elements in the input the returned array should have n-1 subarrays. An empty array should return an empty array.\n",
    "\n",
    "Examples:\n",
    "\n",
    "Input: [1, 5, 3, 2] | Output: [[[1], [5, 3, 2]], [[1, 5], [3, 2]], [[1, 5, 3], [2]]]\n",
    "        \n",
    "Input: [a, b, c] | Output: [[[a], [b, c]], [[a, b], [c]]]"
   ]
  },
  {
   "cell_type": "code",
   "execution_count": 44,
   "id": "79363389",
   "metadata": {},
   "outputs": [
    {
     "data": {
      "text/plain": [
       "[[['a'], ['b', 'c']], [['a', 'b'], ['c']]]"
      ]
     },
     "execution_count": 44,
     "metadata": {},
     "output_type": "execute_result"
    }
   ],
   "source": [
    "partition(['a', 'b', 'c'])"
   ]
  },
  {
   "cell_type": "code",
   "execution_count": 45,
   "id": "b02a3e49",
   "metadata": {},
   "outputs": [
    {
     "data": {
      "text/plain": [
       "[[[1], [5, 3, 2]], [[1, 5], [3, 2]], [[1, 5, 3], [2]]]"
      ]
     },
     "execution_count": 45,
     "metadata": {},
     "output_type": "execute_result"
    }
   ],
   "source": [
    "partition([1, 5, 3, 2])"
   ]
  },
  {
   "cell_type": "code",
   "execution_count": 46,
   "id": "1382404e",
   "metadata": {},
   "outputs": [
    {
     "data": {
      "text/plain": [
       "[]"
      ]
     },
     "execution_count": 46,
     "metadata": {},
     "output_type": "execute_result"
    }
   ],
   "source": [
    "partition([])"
   ]
  }
 ],
 "metadata": {
  "kernelspec": {
   "display_name": "Python 3.9.7 ('base')",
   "language": "python",
   "name": "python3"
  },
  "language_info": {
   "codemirror_mode": {
    "name": "ipython",
    "version": 3
   },
   "file_extension": ".py",
   "mimetype": "text/x-python",
   "name": "python",
   "nbconvert_exporter": "python",
   "pygments_lexer": "ipython3",
   "version": "3.9.7"
  },
  "vscode": {
   "interpreter": {
    "hash": "38cca0c38332a56087b24af0bc80247f4fced29cb4f7f437d91dc159adec9c4e"
   }
  }
 },
 "nbformat": 4,
 "nbformat_minor": 5
}
