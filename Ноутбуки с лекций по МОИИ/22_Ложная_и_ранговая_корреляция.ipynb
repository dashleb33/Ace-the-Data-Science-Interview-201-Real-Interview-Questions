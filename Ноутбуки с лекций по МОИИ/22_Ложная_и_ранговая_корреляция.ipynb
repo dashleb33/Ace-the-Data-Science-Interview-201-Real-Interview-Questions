{
  "nbformat": 4,
  "nbformat_minor": 0,
  "metadata": {
    "colab": {
      "name": "22. Ложная и ранговая корреляция.ipynb",
      "provenance": [],
      "collapsed_sections": []
    },
    "kernelspec": {
      "name": "python3",
      "display_name": "Python 3"
    }
  },
  "cells": [
    {
      "cell_type": "markdown",
      "metadata": {
        "id": "GVi4pghVgyoW"
      },
      "source": [
        "В этом уроке, посвященно корреляционнному анализу, вы изучите способы оценки связи между признаками.\n",
        "\n",
        "После изучения этого урока вы будете знать:\n",
        "*  что такое множественный и частный коэффициент корреляции;\n",
        "*  что такое ложная корреляция;\n",
        "*  что такое ранговая корреляция, коэффициенты корреляции Кендалла и Спирмена.\n",
        "\n",
        "В этом уроке используйте файл используйте excel файл с данными, доступный по сылке\n",
        "\n",
        "https://drive.google.com/file/d/1XJHELLqNpm3ejZxFJ7SpDV-wHARdX5j8/view?usp=sharing\n"
      ]
    },
    {
      "cell_type": "markdown",
      "metadata": {
        "id": "fO-H2Z7SSWbu"
      },
      "source": [
        "#Теоретический блок\n",
        "\n",
        "В этом уроке мы будем интересоваться теми или иными аспектами зависимостей между двумя или большим числом величин. При этом, изучая зависимости между величинами, будем опираться на общую теорию проверки статистических гипотез. \n",
        "\n",
        "**Определение**\n",
        "\n",
        "Предположение о распределении генеральной совокупности или параметрах этого распределение называется статистической гипотезой.\n",
        "\n",
        "Так как нам предстоит исследовать очень обширную тему, то полезно начать с общего обзора.\n",
        "\n",
        "Большая часть работ по данной теме возникла в связи с задачей о совместном распределении пары случайных величин; ее можно назвать задачей о статистической зависимости. Существует иная область математики, касающаяся зависимостей строго функционального вида между величинами (как, например, зависимости в матемтической физике). Указанный вид зависимостей тоже представляет статистический интерес, потому что функционально связанные величины подвержены ошибкам наблюдений или измерений. Назовем это задачей о  *функциональной зависимости*. В рамках данного урока будем заниматься только задачей о *статистической зависимости*, в которой величины (кроме вырожденных случаев) не связаны функционально, и кроме того могут быть подвержены ошибкам наблюдений и измерений. Мы будем рассматривать их просто как совокупность случайных величин, подчиненных некоторому совместному распределению. Подробнее о том, как определяется совокупность случайных величин можно прочитать в [Гмурман, гл. 14].\n",
        "\n",
        "В самой области статистической зависимости полезно провести дальнейшее различие. Нас может интересовать либо *взаимозависимость* между несколькими величинами (не обязательно между всеми), либо *зависимость* одной или большего числа величин от остальных.\n",
        "\n",
        "Например, можно рассмотреть вопрос, существует ли связь между доходом семьи и расходами на роскошь (дорогие машины, ювелирные украшения и т. п.); при такой постановке это есть задача о взаимозависимости. Но если мы хотим, используя измерения дохода семьи, получить информацию об ожидаемых тратах на роскошь, то мы приходим к задаче о зависимости расходов от доходов. Это пример ситуации, в которой может представлять интерес как взаимозависимость, так и зависимость. С другой стороны, имеются ситуации, в которых интересна только зависимость. Связь между величиной урожая и количеством выпавших осадков представляет собой пример существенной асимметрии. Здесь из внестатических соображений понятно, что дожди влияют на урожай и, совершенно определенно, урожай не воздействует на дожди. Таким образом, мы должны изучать зависимость урожая от дождей.\n"
      ]
    },
    {
      "cell_type": "markdown",
      "metadata": {
        "id": "hnjKe4cj1oAe"
      },
      "source": [
        "# Задача 1\n",
        "\n",
        "### Постановка задачи\n",
        "\n",
        "В медицинском центре охраны здоровья проходили обследование 100 рабочих. В файле task2.xlsx приведены данные о систолическом артериальном давлении (мм.рт.ст), идексе массы тела, возрасте (год), стаже (год). Файл доступен по ссылке\n",
        "https://drive.google.com/file/d/1QPNusG27ii8oj-WgoNgWQ2tvNI3wgMsJ/view?usp=sharing\n",
        "\n",
        "Столбцы соответственно называются:\n",
        "* sbp (systolic blood pressure) \n",
        "* bmi (body mass index)\n",
        "* age\n",
        "* experience\n",
        "\n",
        "Треубется исследовать связь между стажем и систолическим артериальным давлением.\n"
      ]
    },
    {
      "cell_type": "code",
      "metadata": {
        "colab": {
          "base_uri": "https://localhost:8080/",
          "height": 840
        },
        "id": "DSShCUFnDxkL",
        "outputId": "39b7ef5f-c017-4dbd-a9ab-f345ddaaa844"
      },
      "source": [
        "from matplotlib import pyplot as plt\n",
        "import pandas as pd\n",
        "from google.colab import files\n",
        "\n",
        "#files.upload()\n",
        "#df = pd.read_excel('task2.xlsx', index_col=0)#Data Frame\n",
        "\n",
        "plt.scatter(bmi, sbp)\n",
        "plt.title('blood pressure and BMI')\n",
        "plt.xlabel('BMI')\n",
        "plt.ylabel('Blood pressure')\n",
        "plt.show()\n",
        "\n",
        "plt.scatter(experience, sbp)\n",
        "plt.title('blood pressure and experience')\n",
        "plt.xlabel('experience')\n",
        "plt.ylabel('Blood pressure')\n",
        "plt.show()\n",
        "\n",
        "df.describe()"
      ],
      "execution_count": null,
      "outputs": [
        {
          "output_type": "display_data",
          "data": {
            "image/png": "[encoded data removed]",
            "text/plain": [
              "<Figure size 432x288 with 1 Axes>"
            ]
          },
          "metadata": {
            "tags": [],
            "needs_background": "light"
          }
        },
        {
          "output_type": "display_data",
          "data": {
            "image/png": "[encoded data removed]",
            "text/plain": [
              "<Figure size 432x288 with 1 Axes>"
            ]
          },
          "metadata": {
            "tags": [],
            "needs_background": "light"
          }
        },
        {
          "output_type": "execute_result",
          "data": {
            "text/html": [
              "<div>\n",
              "<style scoped>\n",
              "    .dataframe tbody tr th:only-of-type {\n",
              "        vertical-align: middle;\n",
              "    }\n",
              "\n",
              "    .dataframe tbody tr th {\n",
              "        vertical-align: top;\n",
              "    }\n",
              "\n",
              "    .dataframe thead th {\n",
              "        text-align: right;\n",
              "    }\n",
              "</style>\n",
              "<table border=\"1\" class=\"dataframe\">\n",
              "  <thead>\n",
              "    <tr style=\"text-align: right;\">\n",
              "      <th></th>\n",
              "      <th>sbp</th>\n",
              "      <th>bmi</th>\n",
              "      <th>age</th>\n",
              "      <th>experience</th>\n",
              "    </tr>\n",
              "  </thead>\n",
              "  <tbody>\n",
              "    <tr>\n",
              "      <th>count</th>\n",
              "      <td>100.000000</td>\n",
              "      <td>100.000000</td>\n",
              "      <td>100.000000</td>\n",
              "      <td>100.000000</td>\n",
              "    </tr>\n",
              "    <tr>\n",
              "      <th>mean</th>\n",
              "      <td>138.638578</td>\n",
              "      <td>28.242331</td>\n",
              "      <td>47.649113</td>\n",
              "      <td>21.667301</td>\n",
              "    </tr>\n",
              "    <tr>\n",
              "      <th>std</th>\n",
              "      <td>8.375021</td>\n",
              "      <td>3.558462</td>\n",
              "      <td>9.691511</td>\n",
              "      <td>10.495993</td>\n",
              "    </tr>\n",
              "    <tr>\n",
              "      <th>min</th>\n",
              "      <td>120.879681</td>\n",
              "      <td>18.793845</td>\n",
              "      <td>20.947123</td>\n",
              "      <td>1.339974</td>\n",
              "    </tr>\n",
              "    <tr>\n",
              "      <th>25%</th>\n",
              "      <td>133.717046</td>\n",
              "      <td>25.544730</td>\n",
              "      <td>43.019929</td>\n",
              "      <td>15.483127</td>\n",
              "    </tr>\n",
              "    <tr>\n",
              "      <th>50%</th>\n",
              "      <td>139.338181</td>\n",
              "      <td>28.256296</td>\n",
              "      <td>48.257512</td>\n",
              "      <td>21.000352</td>\n",
              "    </tr>\n",
              "    <tr>\n",
              "      <th>75%</th>\n",
              "      <td>143.171947</td>\n",
              "      <td>30.549641</td>\n",
              "      <td>53.532308</td>\n",
              "      <td>27.521661</td>\n",
              "    </tr>\n",
              "    <tr>\n",
              "      <th>max</th>\n",
              "      <td>159.990311</td>\n",
              "      <td>36.742302</td>\n",
              "      <td>72.278148</td>\n",
              "      <td>49.869737</td>\n",
              "    </tr>\n",
              "  </tbody>\n",
              "</table>\n",
              "</div>"
            ],
            "text/plain": [
              "              sbp         bmi         age  experience\n",
              "count  100.000000  100.000000  100.000000  100.000000\n",
              "mean   138.638578   28.242331   47.649113   21.667301\n",
              "std      8.375021    3.558462    9.691511   10.495993\n",
              "min    120.879681   18.793845   20.947123    1.339974\n",
              "25%    133.717046   25.544730   43.019929   15.483127\n",
              "50%    139.338181   28.256296   48.257512   21.000352\n",
              "75%    143.171947   30.549641   53.532308   27.521661\n",
              "max    159.990311   36.742302   72.278148   49.869737"
            ]
          },
          "metadata": {
            "tags": []
          },
          "execution_count": 74
        }
      ]
    },
    {
      "cell_type": "code",
      "metadata": {
        "colab": {
          "base_uri": "https://localhost:8080/"
        },
        "id": "dybT3PmBFDpR",
        "outputId": "e93e31f6-f267-4248-934c-ded6b8c0ff24"
      },
      "source": [
        "from scipy import stats\n",
        "\n",
        "corr, pValue = stats.pearsonr(experience, sbp)\n",
        "print(corr, pValue)"
      ],
      "execution_count": null,
      "outputs": [
        {
          "output_type": "stream",
          "text": [
            "0.16647923474756518 0.09783613492772071\n",
            "0.6807914336140751 6.563603325266749e-15\n"
          ],
          "name": "stdout"
        }
      ]
    },
    {
      "cell_type": "markdown",
      "metadata": {
        "id": "FX6svua6FRBp"
      },
      "source": [
        "Поскольку p-value = $6.563 \\, 10^{-15}$, нулевую гипотезу о том, что стаж не коррелирован с уровнем систолического АД отвергаем как противоречащую экспериментальным данным."
      ]
    },
    {
      "cell_type": "markdown",
      "metadata": {
        "id": "raGTM7qSNlvd"
      },
      "source": [
        "# Задача 2\n",
        "\n",
        "### Постановка задачи\n",
        "\n",
        "Рабочие утверждают, что потеряли здоровье на заводе, так как артериальная гипертензия коррелирована (как было показано в предыдущем пункте) со стажем.\n",
        "Работодатель в свою очередь утверждает, что артериальная гипертензия у стажированных рабочих вызвана их возрастом, а не вредным стажем.\n",
        "\n",
        "Как проверить, кто прав в этом споре: рабочие или работодатель?"
      ]
    },
    {
      "cell_type": "markdown",
      "metadata": {
        "id": "U9JucYHcO1EM"
      },
      "source": [
        "**Определение**\n",
        "\n",
        "Ложная корреляция - корреляция, которая возникла не в результате прямого соотношения между оцениваемыми переменными, а в результате их связей с третьей переменной (или четвертой, или более); при этом нет никакой связи, объединяющей эти переменные.\n",
        "\n",
        "Для исключения влияния третьей переменной вычисляют частный коэффициент корреляции при исключенном влиянии третьей."
      ]
    },
    {
      "cell_type": "markdown",
      "metadata": {
        "id": "7bwinNNdOePp"
      },
      "source": [
        "\n",
        "Нужно найти частный коэффициент корреляции систолического АД и стажа при исключенном влиянии возраста.\n"
      ]
    },
    {
      "cell_type": "code",
      "metadata": {
        "colab": {
          "base_uri": "https://localhost:8080/",
          "height": 77
        },
        "id": "CFwbyczKPSSz",
        "outputId": "eb671469-e7fa-430b-bd07-7d3fc685122f"
      },
      "source": [
        "!pip install pingouin\n",
        "import pingouin as pg\n",
        "\n",
        "df = pg.read_dataset('partial_corr')\n",
        "pg.partial_corr(data=df, x='experience', y='sbp', covar='age')"
      ],
      "execution_count": null,
      "outputs": [
        {
          "output_type": "execute_result",
          "data": {
            "text/html": [
              "<div>\n",
              "<style scoped>\n",
              "    .dataframe tbody tr th:only-of-type {\n",
              "        vertical-align: middle;\n",
              "    }\n",
              "\n",
              "    .dataframe tbody tr th {\n",
              "        vertical-align: top;\n",
              "    }\n",
              "\n",
              "    .dataframe thead th {\n",
              "        text-align: right;\n",
              "    }\n",
              "</style>\n",
              "<table border=\"1\" class=\"dataframe\">\n",
              "  <thead>\n",
              "    <tr style=\"text-align: right;\">\n",
              "      <th></th>\n",
              "      <th>n</th>\n",
              "      <th>r</th>\n",
              "      <th>CI95%</th>\n",
              "      <th>r2</th>\n",
              "      <th>adj_r2</th>\n",
              "      <th>p-val</th>\n",
              "      <th>BF10</th>\n",
              "      <th>power</th>\n",
              "    </tr>\n",
              "  </thead>\n",
              "  <tbody>\n",
              "    <tr>\n",
              "      <th>pearson</th>\n",
              "      <td>100</td>\n",
              "      <td>-0.043584</td>\n",
              "      <td>[-0.24, 0.15]</td>\n",
              "      <td>0.0019</td>\n",
              "      <td>-0.01868</td>\n",
              "      <td>0.666782</td>\n",
              "      <td>0.137</td>\n",
              "      <td>0.071409</td>\n",
              "    </tr>\n",
              "  </tbody>\n",
              "</table>\n",
              "</div>"
            ],
            "text/plain": [
              "           n         r          CI95%  ...     p-val   BF10     power\n",
              "pearson  100 -0.043584  [-0.24, 0.15]  ...  0.666782  0.137  0.071409\n",
              "\n",
              "[1 rows x 8 columns]"
            ]
          },
          "metadata": {
            "tags": []
          },
          "execution_count": 75
        }
      ]
    },
    {
      "cell_type": "markdown",
      "metadata": {
        "id": "EzuhzXLHPZNY"
      },
      "source": [
        "Поскольку 95% доверительный интервал для частного коэффициента корреляции систолического АД и стажа при исключенном влиянии возраста включает 0, можно считать,  что на данной выборке рабочих связь между уровнем систолического АД и стажем не доказана. (Точнее говоря линейная связь не доказана). Дело в возрасте, а не стаже."
      ]
    },
    {
      "cell_type": "markdown",
      "metadata": {
        "id": "mOXjD_adQa-6"
      },
      "source": [
        "# Задача 3\n",
        "\n",
        "### Постановка задачи\n",
        "\n",
        "Известно, что физическое развитие способствует умственному развитию детей. В эксперименте участвовало 10 детей, которых упорядочили по IQ, присвоив места от 1 до 10. Также были проведены измерения физический силы детей, после чего также присвоины мемста от 1 до 10. Таблица мест приведена\n",
        "\n",
        "   reitingIQ  reitingPhis\n",
        "\n",
        "          1            3\n",
        "\n",
        "          2            2\n",
        "          \n",
        "          3            4\n",
        "          \n",
        "          4            1\n",
        "          \n",
        "          5            5\n",
        "          \n",
        "          6            6\n",
        "          \n",
        "          7            9\n",
        "          \n",
        "          8            7\n",
        "          \n",
        "          9            8\n",
        "         \n",
        "         10           10\n"
      ]
    },
    {
      "cell_type": "markdown",
      "metadata": {
        "id": "EZpu6UVMPwcY"
      },
      "source": [
        "В случае елси изумаемые факторы относятся к порядковой шкале, вычисляют коэффициент ранговой корреляции Спирмена.\n",
        "\n",
        "**Определение**\n",
        "\n",
        "Коэффициент ранговой корреляции Спирмена - это числовая оценка тесноты связи между признаками, используемая в непараметрических методах."
      ]
    },
    {
      "cell_type": "code",
      "metadata": {
        "colab": {
          "base_uri": "https://localhost:8080/",
          "height": 343
        },
        "id": "qoaDWwzFrrZz",
        "outputId": "9a1e74a5-1a43-425c-adff-814c35d70a36"
      },
      "source": [
        "reitingIQ = [i for i in range(1, 12)]\n",
        "reitingPhis = [3, 2, 4, 1, 5, 6, 9, 7, 8, 10]\n",
        "df = pd.DataFrame(list(zip(reitingIQ, reitingPhis)), columns=['reitingIQ', 'reitingPhis'])\n",
        "df"
      ],
      "execution_count": null,
      "outputs": [
        {
          "output_type": "execute_result",
          "data": {
            "text/html": [
              "<div>\n",
              "<style scoped>\n",
              "    .dataframe tbody tr th:only-of-type {\n",
              "        vertical-align: middle;\n",
              "    }\n",
              "\n",
              "    .dataframe tbody tr th {\n",
              "        vertical-align: top;\n",
              "    }\n",
              "\n",
              "    .dataframe thead th {\n",
              "        text-align: right;\n",
              "    }\n",
              "</style>\n",
              "<table border=\"1\" class=\"dataframe\">\n",
              "  <thead>\n",
              "    <tr style=\"text-align: right;\">\n",
              "      <th></th>\n",
              "      <th>reitingIQ</th>\n",
              "      <th>reitingPhis</th>\n",
              "    </tr>\n",
              "  </thead>\n",
              "  <tbody>\n",
              "    <tr>\n",
              "      <th>0</th>\n",
              "      <td>1</td>\n",
              "      <td>3</td>\n",
              "    </tr>\n",
              "    <tr>\n",
              "      <th>1</th>\n",
              "      <td>2</td>\n",
              "      <td>2</td>\n",
              "    </tr>\n",
              "    <tr>\n",
              "      <th>2</th>\n",
              "      <td>3</td>\n",
              "      <td>4</td>\n",
              "    </tr>\n",
              "    <tr>\n",
              "      <th>3</th>\n",
              "      <td>4</td>\n",
              "      <td>1</td>\n",
              "    </tr>\n",
              "    <tr>\n",
              "      <th>4</th>\n",
              "      <td>5</td>\n",
              "      <td>5</td>\n",
              "    </tr>\n",
              "    <tr>\n",
              "      <th>5</th>\n",
              "      <td>6</td>\n",
              "      <td>6</td>\n",
              "    </tr>\n",
              "    <tr>\n",
              "      <th>6</th>\n",
              "      <td>7</td>\n",
              "      <td>9</td>\n",
              "    </tr>\n",
              "    <tr>\n",
              "      <th>7</th>\n",
              "      <td>8</td>\n",
              "      <td>7</td>\n",
              "    </tr>\n",
              "    <tr>\n",
              "      <th>8</th>\n",
              "      <td>9</td>\n",
              "      <td>8</td>\n",
              "    </tr>\n",
              "    <tr>\n",
              "      <th>9</th>\n",
              "      <td>10</td>\n",
              "      <td>10</td>\n",
              "    </tr>\n",
              "  </tbody>\n",
              "</table>\n",
              "</div>"
            ],
            "text/plain": [
              "   reitingIQ  reitingPhis\n",
              "0          1            3\n",
              "1          2            2\n",
              "2          3            4\n",
              "3          4            1\n",
              "4          5            5\n",
              "5          6            6\n",
              "6          7            9\n",
              "7          8            7\n",
              "8          9            8\n",
              "9         10           10"
            ]
          },
          "metadata": {
            "tags": []
          },
          "execution_count": 82
        }
      ]
    },
    {
      "cell_type": "code",
      "metadata": {
        "colab": {
          "base_uri": "https://localhost:8080/"
        },
        "id": "knykaajuSJYZ",
        "outputId": "6617304d-6034-400e-ed5f-0b368ed0008f"
      },
      "source": [
        "from scipy.stats import spearmanr\n",
        "\n",
        "# calculate spearman's correlation\n",
        "corr, pvalue = spearmanr(df[['reitingIQ', 'reitingPhis']])\n",
        "print('Spearmans correlation coefficinet: %.3f' % corr)\n",
        "print('Spearmans correlation pvalue: %.3f' % pvalue)\n",
        "#Non intervak scale, use Spearmans correlation"
      ],
      "execution_count": null,
      "outputs": [
        {
          "output_type": "stream",
          "text": [
            "Spearmans correlation coefficinet: 0.879\n",
            "Spearmans correlation pvalue: 0.001\n"
          ],
          "name": "stdout"
        }
      ]
    },
    {
      "cell_type": "markdown",
      "metadata": {
        "id": "t8pZ6Xx4SQix"
      },
      "source": [
        "Поскольку p-value = $0.001,$ нулевую гипотезу о том, что Q не коррелирован с уровнемфизического развития отвергаем как противоречащую экспериментальным данным."
      ]
    },
    {
      "cell_type": "markdown",
      "metadata": {
        "id": "f2tZjgDfTG8R"
      },
      "source": [
        "Аналогично, можно использовать коэффициент корреляции Кенделла (Kendall tau rank correlation coefficient)"
      ]
    },
    {
      "cell_type": "code",
      "metadata": {
        "colab": {
          "base_uri": "https://localhost:8080/"
        },
        "id": "54ORTw4zSY4y",
        "outputId": "b37779c3-3e72-4b83-dddf-e5fcd3ebb0ac"
      },
      "source": [
        "from scipy.stats import kendalltau\n",
        "\n",
        "coef, p = kendalltau(df['reitingIQ'], df['reitingPhis'])\n",
        "print('Kendall correlation coefficient: %.3f' % coef)\n",
        "# interpret the significance\n",
        "alpha = 0.05\n",
        "if p > alpha:\n",
        "\tprint('Samples are uncorrelated (fail to reject H0) p=%.3f' % p)\n",
        "else:\n",
        "\tprint('Samples are correlated (reject H0) p=%.3f' % p)"
      ],
      "execution_count": null,
      "outputs": [
        {
          "output_type": "stream",
          "text": [
            "Kendall correlation coefficient: 0.733\n",
            "Samples are correlated (reject H0) p=0.002\n"
          ],
          "name": "stdout"
        }
      ]
    }
  ]
}