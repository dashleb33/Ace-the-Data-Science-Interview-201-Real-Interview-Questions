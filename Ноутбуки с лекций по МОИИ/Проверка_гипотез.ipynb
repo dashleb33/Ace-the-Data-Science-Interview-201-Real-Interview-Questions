{
  "nbformat": 4,
  "nbformat_minor": 0,
  "metadata": {
    "colab": {
      "provenance": []
    },
    "kernelspec": {
      "name": "python3",
      "display_name": "Python 3"
    },
    "language_info": {
      "name": "python"
    }
  },
  "cells": [
    {
      "cell_type": "code",
      "execution_count": null,
      "metadata": {
        "colab": {
          "base_uri": "https://localhost:8080/",
          "height": 480
        },
        "id": "oprh1xBPTKNB",
        "outputId": "1fd16ead-d6eb-42a6-fd20-ee6dc61a9649"
      },
      "outputs": [
        {
          "output_type": "execute_result",
          "data": {
            "text/plain": [
              "(array([  2.,   2.,   2.,   4.,   9.,  16.,  36.,  52.,  60.,  80.,  86.,\n",
              "         93., 120.,  89.,  92.,  69.,  72.,  44.,  28.,  22.,  12.,   2.,\n",
              "          4.,   2.,   0.,   0.,   1.,   1.]),\n",
              " array([324.24236036, 338.14618423, 352.0500081 , 365.95383197,\n",
              "        379.85765584, 393.76147971, 407.66530358, 421.56912746,\n",
              "        435.47295133, 449.3767752 , 463.28059907, 477.18442294,\n",
              "        491.08824681, 504.99207068, 518.89589455, 532.79971842,\n",
              "        546.70354229, 560.60736616, 574.51119003, 588.4150139 ,\n",
              "        602.31883777, 616.22266164, 630.12648551, 644.03030938,\n",
              "        657.93413325, 671.83795712, 685.74178099, 699.64560486,\n",
              "        713.54942873]),\n",
              " <BarContainer object of 28 artists>)"
            ]
          },
          "metadata": {},
          "execution_count": 12
        },
        {
          "output_type": "display_data",
          "data": {
            "text/plain": [
              "<Figure size 432x288 with 1 Axes>"
            ],
            "image/png": "[encoded data removed]"
          },
          "metadata": {
            "needs_background": "light"
          }
        }
      ],
      "source": [
        "import numpy as np\n",
        "from scipy.stats import uniform\n",
        "import matplotlib.pyplot as plt\n",
        "\n",
        "numExperiments = 1000\n",
        "sampleSize = 30\n",
        "sampleMeans = np.empty(shape = numExperiments)\n",
        "for i in range(numExperiments):\n",
        "  r = uniform.rvs(loc = 0, scale = 1000, size=sampleSize, random_state = i)\n",
        "  sampleMeans[i] = r.mean()\n",
        "\n",
        "\n",
        "plt.hist(sampleMeans, bins='auto')\n"
      ]
    }
  ]
}