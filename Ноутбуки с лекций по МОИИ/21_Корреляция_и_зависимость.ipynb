{
  "nbformat": 4,
  "nbformat_minor": 0,
  "metadata": {
    "colab": {
      "name": "21. Корреляция и зависимость.ipynb",
      "provenance": [],
      "collapsed_sections": []
    },
    "kernelspec": {
      "name": "python3",
      "display_name": "Python 3"
    }
  },
  "cells": [
    {
      "cell_type": "markdown",
      "metadata": {
        "id": "GVi4pghVgyoW"
      },
      "source": [
        "В этом уроке, посвященно корреляционнному анализу, вы изучите способы оценки связи между признаками.\n",
        "\n",
        "После изучения этого урока вы будете знать:\n",
        "*  соотношение понятий \"зависимость\" и \"коррелированность\";\n",
        "*  что такое коэффициент корреляции Пирсона и каковы его свойства.\n",
        "\n",
        "В этом уроке используйте файл используйте excel файл с данными, доступный по сылке\n",
        "\n",
        "https://drive.google.com/file/d/1XJHELLqNpm3ejZxFJ7SpDV-wHARdX5j8/view?usp=sharing\n"
      ]
    },
    {
      "cell_type": "markdown",
      "metadata": {
        "id": "fO-H2Z7SSWbu"
      },
      "source": [
        "#Теоретический блок\n",
        "\n",
        "В этом уроке мы будем интересоваться теми или иными аспектами зависимостей между двумя или большим числом величин. При этом, изучая зависимости между величинами, будем опираться на общую теорию проверки статистических гипотез. \n",
        "\n",
        "**Определение**\n",
        "\n",
        "Предположение о распределении генеральной совокупности или параметрах этого распределение называется статистической гипотезой.\n",
        "\n",
        "Так как нам предстоит исследовать очень обширную тему, то полезно начать с общего обзора.\n",
        "\n",
        "Большая часть работ по данной теме возникла в связи с задачей о совместном распределении пары случайных величин; ее можно назвать задачей о статистической зависимости. Существует иная область математики, касающаяся зависимостей строго функционального вида между величинами (как, например, зависимости в матемтической физике). Указанный вид зависимостей тоже представляет статистический интерес, потому что функционально связанные величины подвержены ошибкам наблюдений или измерений. Назовем это задачей о  *функциональной зависимости*. В рамках данного урока будем заниматься только задачей о *статистической зависимости*, в которой величины (кроме вырожденных случаев) не связаны функционально, и кроме того могут быть подвержены ошибкам наблюдений и измерений. Мы будем рассматривать их просто как совокупность случайных величин, подчиненных некоторому совместному распределению. Подробнее о том, как определяется совокупность случайных величин можно прочитать в [Гмурман, гл. 14].\n",
        "\n",
        "В самой области статистической зависимости полезно провести дальнейшее различие. Нас может интересовать либо *взаимозависимость* между несколькими величинами (не обязательно между всеми), либо *зависимость* одной или большего числа величин от остальных.\n",
        "\n",
        "Например, можно рассмотреть вопрос, существует ли связь между доходом семьи и расходами на роскошь (дорогие машины, ювелирные украшения и т. п.); при такой постановке это есть задача о взаимозависимости. Но если мы хотим, используя измерения дохода семьи, получить информацию об ожидаемых тратах на роскошь, то мы приходим к задаче о зависимости расходов от доходов. Это пример ситуации, в которой может представлять интерес как взаимозависимость, так и зависимость. С другой стороны, имеются ситуации, в которых интересна только зависимость. Связь между величиной урожая и количеством выпавших осадков представляет собой пример существенной асимметрии. Здесь из внестатических соображений понятно, что дожди влияют на урожай и, совершенно определенно, урожай не воздействует на дожди. Таким образом, мы должны изучать зависимость урожая от дождей.\n"
      ]
    },
    {
      "cell_type": "markdown",
      "metadata": {
        "id": "XLjEMTufEAVe"
      },
      "source": [
        "# Линейная и нелинейная зависимость, корреляция\n",
        "\n",
        "Пусть даны наблюдения за двумя случайными величинами $X$ и $Y,$ которые мы будем трактовать как цену на нефть в долларах за баррель и доход в бюджет в млн. рублей. Требуется проверить, существует ли статистическая зависимость между этими величинами, и если да, то какая и насколько тесная. Для ответа на этот вопрос используем корреляционный анализ.\n",
        "\n",
        "**Определение**\n",
        "\n",
        "Корреляционный анализ - метод обработки статистических данных, с помощью которого измеряется теснота связи между двумя или более переменными."
      ]
    },
    {
      "cell_type": "code",
      "metadata": {
        "id": "vkKQ-kozEXU-"
      },
      "source": [
        "X = [30,  69,  86,  56,  44,  97,  53,  66,  39,  29,  34,  31,  92]\n",
        "Y = [194, 267, 313, 207, 140, 320, 237, 260, 172, 117, 196, 169, 262]"
      ],
      "execution_count": null,
      "outputs": []
    },
    {
      "cell_type": "markdown",
      "metadata": {
        "id": "8r5Jw3UrHuYL"
      },
      "source": [
        "Исследование стоит начинать с графического изображения данных на плоскости $XOY.$ На рисунке видно, что точки образовали некоторое облако и выстроились вдоль воображаемой наклонной прямой, т. е. подчинены *линейной статистической связи*. Однако данное наблюдение должно быть проверено строго, с привлечением общей теории проверки статистических гипотез."
      ]
    },
    {
      "cell_type": "code",
      "metadata": {
        "colab": {
          "base_uri": "https://localhost:8080/",
          "height": 265
        },
        "id": "hEhtGplHFvoz",
        "outputId": "d3dcf0c6-9f2e-4b09-fb28-c7da9044aa3f"
      },
      "source": [
        "from matplotlib import pyplot as plt\n",
        "\n",
        "plt.scatter(X, Y)\n",
        "plt.show()"
      ],
      "execution_count": null,
      "outputs": [
        {
          "output_type": "display_data",
          "data": {
            "image/png": "[encoded data removed]",
            "text/plain": [
              "<Figure size 432x288 with 1 Axes>"
            ]
          },
          "metadata": {
            "tags": [],
            "needs_background": "light"
          }
        }
      ]
    },
    {
      "cell_type": "markdown",
      "metadata": {
        "id": "VeXz81QYQu9o"
      },
      "source": [
        "Для того, чтобы пояснить значение термина \"линейый\", вспомним общий вид уравнения прямой: $y = kx +b$.\n",
        "\n",
        "Здесь $y$ - зависимая величина, $x$ - независимая величина, $k$ - угловой коэффициент, $b$ -  свободный член. Содержательный смысл этих величин следующий:\n",
        "*  если $x=0,$ то $y=b,$ т. е. $b$ --- это начальное смещение;\n",
        "*  при увеличении $x$ на единицу $y$ увеличивается на $k$ единиц."
      ]
    },
    {
      "cell_type": "markdown",
      "metadata": {
        "id": "gsz8Bx1oROOh"
      },
      "source": [
        "Связи между случайными величинами можно разделить на линейные и нелинейные, см. рисунок.\n",
        "\n",
        "* Линейные статистические связи - это такие статистические связи, которые хорошо описываются линейным уравнением (в частности, в двумерном случае - уравнением прямой, в трехмерном случае - уравнением плоскости). В рассматриваемом примере можно сказать, что точки на плоскости располагаются вдоль прямой.\n",
        "\n",
        "* Нелинейные статистические связи - это такие статистические связи, которые описываются уравнением прямой плохо или не описываются вовсе. Примером нелинейной связи может служить зависимость скорости роста микроорганизмов в среде от концентрации сахара - сначала рост концентрации сахара способствует увеличению количества микроорганизмов, но с определенного уровня сахар начинает действовать как консервант и останавливает рост микроорганизмов."
      ]
    },
    {
      "cell_type": "code",
      "metadata": {
        "colab": {
          "base_uri": "https://localhost:8080/",
          "height": 269
        },
        "id": "8DqyCwHuQuEU",
        "outputId": "d46e174e-77db-409f-c0e9-f78142eb18ab"
      },
      "source": [
        "import numpy as np\n",
        "\n",
        "rnd.seed(1)\n",
        "nonlinX = np.random.uniform(1, 99, 1000)\n",
        "nonlinY = - 0.1 * (nonlinX - 50)**2 + 10 * rnd.randn(1000) + 260\n",
        "\n",
        "plt.scatter(nonlinX, nonlinY)\n",
        "plt.show()"
      ],
      "execution_count": null,
      "outputs": [
        {
          "output_type": "display_data",
          "data": {
            "image/png": "[encoded data removed]",
            "text/plain": [
              "<Figure size 432x288 with 1 Axes>"
            ]
          },
          "metadata": {
            "tags": [],
            "needs_background": "light"
          }
        }
      ]
    },
    {
      "cell_type": "markdown",
      "metadata": {
        "id": "o8dJxLviJomo"
      },
      "source": [
        "Для анализа нелинейных связей может применяться корреляционное отношение, определяемое через отношение межгрупповой дисперсии к общей\n",
        "$$\\eta^2_{Y|X} = 1-M\\left[ \\frac{D(Y|X)}{D(Y)}\\right],$$\n",
        "где $D(Y)$ --- дисперсия $Y,$ $D(Y|X)$ --- условная дисперсия $Y$ при данном $X,$ характеризующая рассеяние $Y$ около условного математического ожидания $M(Y|X)$ при данном значении $X.$ Мы в дальнейшем будем анализировать только линейные связи.\n",
        "\n",
        "**Определение**\n",
        "\n",
        "Корреляция - это линейная связь между парой случайных величин.\n",
        "\n",
        "Две случайные величины могут быть связаны\n",
        "* более тесной линейной связью, соответствующее корреляционное облако будет узкое,\n",
        "* менее тесной линейной связью, соответствующее корреляционное облако будет широкое.\n",
        "\n"
      ]
    },
    {
      "cell_type": "code",
      "metadata": {
        "colab": {
          "base_uri": "https://localhost:8080/",
          "height": 513
        },
        "id": "IQBOh6MwJvmR",
        "outputId": "919050b4-6e65-4d15-aaec-276bddaba6bd"
      },
      "source": [
        "import numpy as np\n",
        "from matplotlib import pyplot as plt\n",
        "import numpy.random as rnd\n",
        "\n",
        "np.random.seed(1)\n",
        "X = rnd.uniform(1, 99, 100)\n",
        "Y1 = X + 2 * rnd.randn(100)\n",
        "Y2 = X + 10 * rnd.randn(100)\n",
        "\n",
        "plt.scatter(X, Y1)\n",
        "plt.show()\n",
        "plt.scatter(X, Y2)\n",
        "plt.show()"
      ],
      "execution_count": null,
      "outputs": [
        {
          "output_type": "display_data",
          "data": {
            "image/png": "[encoded data removed]",
            "text/plain": [
              "<Figure size 432x288 with 1 Axes>"
            ]
          },
          "metadata": {
            "tags": [],
            "needs_background": "light"
          }
        },
        {
          "output_type": "display_data",
          "data": {
            "image/png": "[encoded data removed]",
            "text/plain": [
              "<Figure size 432x288 with 1 Axes>"
            ]
          },
          "metadata": {
            "tags": [],
            "needs_background": "light"
          }
        }
      ]
    },
    {
      "cell_type": "markdown",
      "metadata": {
        "id": "FkD-_ehOTb3R"
      },
      "source": [
        "Для оценки тесноты линейной связи между парой случайных величин введем понятие коэффициента корреляции.\n",
        "\n",
        "**Определение**\n",
        "\n",
        "Коэффициент корреляции - это числовая величина, характеризующая тесноту линейной связи между парой случайных величин.\n",
        "\n",
        "Здесь рассматривается коэффициент корреляции Пирсона, который находят для пары случайных величин в интервальной шкале. Коэффициенты корреляции Спирмена и Кендалла будут рассмотрены далее.\n",
        "\n",
        "Коэффициент корреляции случайных величин $X$ и $Y$ обозначают $r_{XY}.$ Найти коэффициент корреляции можно по следующей формуле\n",
        "$$r_{XY} = \\frac{M(XY) - M(X)M(Y)}{\\sigma_X\\sigma_Y},$$\n",
        "где $M(X)$ --- математическое ожидание случайной величины $X,$ $\\sigma_X$ --- среднее квадратичное отклонение случайной величины $X,$ $M(XY)$ --- математическое ожидание произведения случайной величин $X$ и $Y.$\n",
        "\n",
        "Перечислим свойства коэффициента корреляции.\n",
        "* Коэффициент корреляции величина ограниченная, $-1 \\leq r_{XY}\\leq 1.$\n",
        "* Если величины связаны строгой функциональной связью, и с увеличением $X$ величина $Y$ также возрастает, то $r_{XY}=1.$ В этом случае точки корреляционного облака идеально ложатся на прямую направленную вверх.\n",
        "* Если величины связаны строгой функциональной связью, и с увеличением $X$ величина $Y$ убывает, то $r_{XY}=-1.$ В этом случае точки корреляционного облака идеально ложатся на прямую направленную вниз.\n",
        "* Если $r_{XY} =0,$ то величины некоррелированы. В этом случае точки корреляционного облака вдоль прямой не ложатся и обычно хаотично разбросаны.\n",
        "\n",
        "Поясним связь между понятиями зависимость и коррелированность. Поскольку коррелированность - это частный случай зависимости (линейная зависимость), то из коррелированности следует зависимость. Обратное неверно: из зависимости не следует коррелированность (см. пример с нелинейной связью).\n",
        "\n",
        "Часто, желая сделать свою речь более наукообразной и показать свою \"образованность\", люди допускают ошибку, говоря \"это некоррелированные величины\", имея в виду то, что величины несвязаны. Обращаем внимание, что зависимость и коррелированность - это не синонимы.\n",
        "\n",
        "\n",
        "Если величины связаны линейной связью, то коэффициент корреляции показывает только тесноту корреляционного облака, отсутствие \"зашумленности\", но не показывает наклон прямой. То есть коэффициент корреляции не показывает на сколько изменяется одна величина при изменении другой на единицу. Если такая оценка требуется, то необходимо провести регрессионный анализ. \n"
      ]
    },
    {
      "cell_type": "code",
      "metadata": {
        "colab": {
          "base_uri": "https://localhost:8080/",
          "height": 265
        },
        "id": "kuccEqn3OWk3",
        "outputId": "0926d4aa-7973-4d6c-8631-b5b35b2836d4"
      },
      "source": [
        "import numpy as np\n",
        "from matplotlib import pyplot as plt\n",
        "import numpy.random as rnd\n",
        "\n",
        "np.random.seed(1)\n",
        "X = rnd.uniform(1, 99, 100)\n",
        "Y3 = X + 10 * rnd.randn(100)\n",
        "Y4 = 3 * X + 10 * rnd.randn(100)\n",
        "\n",
        "plt.scatter(X, Y3)\n",
        "plt.scatter(X, Y4)\n",
        "plt.show()"
      ],
      "execution_count": null,
      "outputs": [
        {
          "output_type": "display_data",
          "data": {
            "image/png": "[encoded data removed]",
            "text/plain": [
              "<Figure size 432x288 with 1 Axes>"
            ]
          },
          "metadata": {
            "tags": [],
            "needs_background": "light"
          }
        }
      ]
    },
    {
      "cell_type": "markdown",
      "metadata": {
        "id": "ZUGL41LvEAKq"
      },
      "source": [
        ""
      ]
    },
    {
      "cell_type": "code",
      "metadata": {
        "id": "y3b2oF5fD_S5"
      },
      "source": [
        ""
      ],
      "execution_count": null,
      "outputs": []
    },
    {
      "cell_type": "markdown",
      "metadata": {
        "id": "hnjKe4cj1oAe"
      },
      "source": [
        "# Задача 1\n",
        "\n",
        "### Постановка задачи\n",
        "\n",
        "В медицинском центре охраны здоровья проходили обследование 100 рабочих. В файле task2.xlsx приведены данные о систолическом артериальном давлении (мм.рт.ст), идексе массы тела, возрасте (год), стаже (год). Файл доступен по ссылке\n",
        "https://drive.google.com/file/d/1QPNusG27ii8oj-WgoNgWQ2tvNI3wgMsJ/view?usp=sharing\n",
        "\n",
        "Столбцы соответственно называются:\n",
        "* sbp (systolic blood pressure) \n",
        "* bmi (body mass index)\n",
        "* age\n",
        "* experience\n",
        "\n",
        "Треубется\n",
        "*  Исследовать связь между индексом массы тела и систолическим артериальным давлением.\n",
        "*  Исследовать связь между стажем и систолическим артериальным давлением.\n"
      ]
    },
    {
      "cell_type": "code",
      "metadata": {
        "colab": {
          "base_uri": "https://localhost:8080/",
          "height": 840
        },
        "id": "DSShCUFnDxkL",
        "outputId": "39b7ef5f-c017-4dbd-a9ab-f345ddaaa844"
      },
      "source": [
        "from matplotlib import pyplot as plt\n",
        "import pandas as pd\n",
        "from google.colab import files\n",
        "\n",
        "#files.upload()\n",
        "#df = pd.read_excel('task2.xlsx', index_col=0)#Data Frame\n",
        "\n",
        "plt.scatter(bmi, sbp)\n",
        "plt.title('blood pressure and BMI')\n",
        "plt.xlabel('BMI')\n",
        "plt.ylabel('Blood pressure')\n",
        "plt.show()\n",
        "\n",
        "plt.scatter(experience, sbp)\n",
        "plt.title('blood pressure and experience')\n",
        "plt.xlabel('experience')\n",
        "plt.ylabel('Blood pressure')\n",
        "plt.show()\n",
        "\n",
        "df.describe()"
      ],
      "execution_count": null,
      "outputs": [
        {
          "output_type": "display_data",
          "data": {
            "image/png": "[encoded data removed]",
            "text/plain": [
              "<Figure size 432x288 with 1 Axes>"
            ]
          },
          "metadata": {
            "tags": [],
            "needs_background": "light"
          }
        },
        {
          "output_type": "display_data",
          "data": {
            "image/png": "[encoded data removed]",
            "text/plain": [
              "<Figure size 432x288 with 1 Axes>"
            ]
          },
          "metadata": {
            "tags": [],
            "needs_background": "light"
          }
        },
        {
          "output_type": "execute_result",
          "data": {
            "text/html": [
              "<div>\n",
              "<style scoped>\n",
              "    .dataframe tbody tr th:only-of-type {\n",
              "        vertical-align: middle;\n",
              "    }\n",
              "\n",
              "    .dataframe tbody tr th {\n",
              "        vertical-align: top;\n",
              "    }\n",
              "\n",
              "    .dataframe thead th {\n",
              "        text-align: right;\n",
              "    }\n",
              "</style>\n",
              "<table border=\"1\" class=\"dataframe\">\n",
              "  <thead>\n",
              "    <tr style=\"text-align: right;\">\n",
              "      <th></th>\n",
              "      <th>sbp</th>\n",
              "      <th>bmi</th>\n",
              "      <th>age</th>\n",
              "      <th>experience</th>\n",
              "    </tr>\n",
              "  </thead>\n",
              "  <tbody>\n",
              "    <tr>\n",
              "      <th>count</th>\n",
              "      <td>100.000000</td>\n",
              "      <td>100.000000</td>\n",
              "      <td>100.000000</td>\n",
              "      <td>100.000000</td>\n",
              "    </tr>\n",
              "    <tr>\n",
              "      <th>mean</th>\n",
              "      <td>138.638578</td>\n",
              "      <td>28.242331</td>\n",
              "      <td>47.649113</td>\n",
              "      <td>21.667301</td>\n",
              "    </tr>\n",
              "    <tr>\n",
              "      <th>std</th>\n",
              "      <td>8.375021</td>\n",
              "      <td>3.558462</td>\n",
              "      <td>9.691511</td>\n",
              "      <td>10.495993</td>\n",
              "    </tr>\n",
              "    <tr>\n",
              "      <th>min</th>\n",
              "      <td>120.879681</td>\n",
              "      <td>18.793845</td>\n",
              "      <td>20.947123</td>\n",
              "      <td>1.339974</td>\n",
              "    </tr>\n",
              "    <tr>\n",
              "      <th>25%</th>\n",
              "      <td>133.717046</td>\n",
              "      <td>25.544730</td>\n",
              "      <td>43.019929</td>\n",
              "      <td>15.483127</td>\n",
              "    </tr>\n",
              "    <tr>\n",
              "      <th>50%</th>\n",
              "      <td>139.338181</td>\n",
              "      <td>28.256296</td>\n",
              "      <td>48.257512</td>\n",
              "      <td>21.000352</td>\n",
              "    </tr>\n",
              "    <tr>\n",
              "      <th>75%</th>\n",
              "      <td>143.171947</td>\n",
              "      <td>30.549641</td>\n",
              "      <td>53.532308</td>\n",
              "      <td>27.521661</td>\n",
              "    </tr>\n",
              "    <tr>\n",
              "      <th>max</th>\n",
              "      <td>159.990311</td>\n",
              "      <td>36.742302</td>\n",
              "      <td>72.278148</td>\n",
              "      <td>49.869737</td>\n",
              "    </tr>\n",
              "  </tbody>\n",
              "</table>\n",
              "</div>"
            ],
            "text/plain": [
              "              sbp         bmi         age  experience\n",
              "count  100.000000  100.000000  100.000000  100.000000\n",
              "mean   138.638578   28.242331   47.649113   21.667301\n",
              "std      8.375021    3.558462    9.691511   10.495993\n",
              "min    120.879681   18.793845   20.947123    1.339974\n",
              "25%    133.717046   25.544730   43.019929   15.483127\n",
              "50%    139.338181   28.256296   48.257512   21.000352\n",
              "75%    143.171947   30.549641   53.532308   27.521661\n",
              "max    159.990311   36.742302   72.278148   49.869737"
            ]
          },
          "metadata": {
            "tags": []
          },
          "execution_count": 74
        }
      ]
    },
    {
      "cell_type": "code",
      "metadata": {
        "colab": {
          "base_uri": "https://localhost:8080/"
        },
        "id": "dybT3PmBFDpR",
        "outputId": "e93e31f6-f267-4248-934c-ded6b8c0ff24"
      },
      "source": [
        "from scipy import stats\n",
        "\n",
        "corr, pValue = stats.pearsonr(bmi, sbp)\n",
        "print(corr, pValue)\n",
        "\n",
        "corr, pValue = stats.pearsonr(experience, sbp)\n",
        "print(corr, pValue)"
      ],
      "execution_count": null,
      "outputs": [
        {
          "output_type": "stream",
          "text": [
            "0.16647923474756518 0.09783613492772071\n",
            "0.6807914336140751 6.563603325266749e-15\n"
          ],
          "name": "stdout"
        }
      ]
    },
    {
      "cell_type": "markdown",
      "metadata": {
        "id": "FX6svua6FRBp"
      },
      "source": [
        "Поскольку p-value = 0.097, нет оснований отвергнуть нулевую гипотезу о том, что ИМТ не коррелирован с  уровнем систолического АД.\n",
        "\n",
        "Поскольку p-value = $6.563 \\, 10^{-15}$, нулевую гипотезу о том, что стаж не коррелирован с уровнем систолического АД отвергаем как противоречащую экспериментальным данным."
      ]
    }
  ]
}