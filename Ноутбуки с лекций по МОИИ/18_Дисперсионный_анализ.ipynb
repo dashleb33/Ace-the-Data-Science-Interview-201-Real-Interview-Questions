{
  "nbformat": 4,
  "nbformat_minor": 0,
  "metadata": {
    "colab": {
      "name": "18. Дисперсионный анализ.ipynb",
      "provenance": [],
      "collapsed_sections": []
    },
    "kernelspec": {
      "name": "python3",
      "display_name": "Python 3"
    }
  },
  "cells": [
    {
      "cell_type": "markdown",
      "metadata": {
        "id": "Y8AJ1blrmkme"
      },
      "source": [
        "В этом уроке вы изучите параметрические статистические тесты, используемые для сравнения средних.\n",
        "\n",
        "После изучения этого урока вы будете знать:\n",
        "\n",
        "*   однофакторный дисперсионный анализ, ANOVA.\n",
        "\n",
        "В этом уроке используйте файл используйте excel файл с данными, доступный по сылке\n",
        "\n",
        "https://drive.google.com/file/d/1XJHELLqNpm3ejZxFJ7SpDV-wHARdX5j8/view?usp=sharing\n",
        "\n",
        "\n",
        "# Постановка задачи\n",
        "\n",
        "В медицинском центре охраны здоровья проходили обследование рабочие трех предприятий, по 200 рабочих с каждого предприятия. В файле приведены данные об уровне гемоглобина, гр/литр, (Hb) рабочих. Исследовались только мужчины в возрасте от 20 до 40 лет. Данные собраны в 6 столбцов: Hb1Bef, Hb1Aft, Hb2Bef, Hb2Aft, Hb3Bef, Hb3Aft. Уровень гемоглобина был измерен при госпитализации и при выписке через 14 дней.\n",
        "\n",
        "*  Hb1Bef, Hb1Aft - уровень гемоглобина рабочих первого предприятия при госпитализации и через 14 дней, соответственно;\n",
        "*  Hb2Bef, Hb2Aft - уровень гемоглобина рабочих первого предприятия при госпитализации и через 14 дней, соответственно;\n",
        "*  Hb3Bef, Hb3Aft - уровень гемоглобина рабочих первого предприятия при госпитализации и через 14 дней, соответственно.\n"
      ]
    },
    {
      "cell_type": "markdown",
      "metadata": {
        "id": "Se_uEg9HuieN"
      },
      "source": [
        "# Задача 1\n",
        "\n",
        "Определеить, значимо ли отличие в уровне гемоглобина у рабочих первого, второго и третьего предприятий на момент госпитализации. Использовать Однофакторный дисперсионный анализ."
      ]
    },
    {
      "cell_type": "markdown",
      "metadata": {
        "id": "J-sHe28BtMnR"
      },
      "source": [
        "### Шаг 1\n",
        "Начать надо с загрузки и чтения файла.\n",
        "\n",
        "https://pandas.pydata.org/pandas-docs/stable/reference/api/pandas.read_excel.html"
      ]
    },
    {
      "cell_type": "code",
      "metadata": {
        "id": "smCUObVVrLyV",
        "colab": {
          "resources": {
            "http://localhost:8080/nbextensions/google.colab/files.js": {
              "data": "Ly8gQ29weXJpZ2h0IDIwMTcgR29vZ2xlIExMQwovLwovLyBMaWNlbnNlZCB1bmRlciB0aGUgQXBhY2hlIExpY2Vuc2UsIFZlcnNpb24gMi4wICh0aGUgIkxpY2Vuc2UiKTsKLy8geW91IG1heSBub3QgdXNlIHRoaXMgZmlsZSBleGNlcHQgaW4gY29tcGxpYW5jZSB3aXRoIHRoZSBMaWNlbnNlLgovLyBZb3UgbWF5IG9idGFpbiBhIGNvcHkgb2YgdGhlIExpY2Vuc2UgYXQKLy8KLy8gICAgICBodHRwOi8vd3d3LmFwYWNoZS5vcmcvbGljZW5zZXMvTElDRU5TRS0yLjAKLy8KLy8gVW5sZXNzIHJlcXVpcmVkIGJ5IGFwcGxpY2FibGUgbGF3IG9yIGFncmVlZCB0byBpbiB3cml0aW5nLCBzb2Z0d2FyZQovLyBkaXN0cmlidXRlZCB1bmRlciB0aGUgTGljZW5zZSBpcyBkaXN0cmlidXRlZCBvbiBhbiAiQVMgSVMiIEJBU0lTLAovLyBXSVRIT1VUIFdBUlJBTlRJRVMgT1IgQ09ORElUSU9OUyBPRiBBTlkgS0lORCwgZWl0aGVyIGV4cHJlc3Mgb3IgaW1wbGllZC4KLy8gU2VlIHRoZSBMaWNlbnNlIGZvciB0aGUgc3BlY2lmaWMgbGFuZ3VhZ2UgZ292ZXJuaW5nIHBlcm1pc3Npb25zIGFuZAovLyBsaW1pdGF0aW9ucyB1bmRlciB0aGUgTGljZW5zZS4KCi8qKgogKiBAZmlsZW92ZXJ2aWV3IEhlbHBlcnMgZm9yIGdvb2dsZS5jb2xhYiBQeXRob24gbW9kdWxlLgogKi8KKGZ1bmN0aW9uKHNjb3BlKSB7CmZ1bmN0aW9uIHNwYW4odGV4dCwgc3R5bGVBdHRyaWJ1dGVzID0ge30pIHsKICBjb25zdCBlbGVtZW50ID0gZG9jdW1lbnQuY3JlYXRlRWxlbWVudCgnc3BhbicpOwogIGVsZW1lbnQudGV4dENvbnRlbnQgPSB0ZXh0OwogIGZvciAoY29uc3Qga2V5IG9mIE9iamVjdC5rZXlzKHN0eWxlQXR0cmlidXRlcykpIHsKICAgIGVsZW1lbnQuc3R5bGVba2V5XSA9IHN0eWxlQXR0cmlidXRlc1trZXldOwogIH0KICByZXR1cm4gZWxlbWVudDsKfQoKLy8gTWF4IG51bWJlciBvZiBieXRlcyB3aGljaCB3aWxsIGJlIHVwbG9hZGVkIGF0IGEgdGltZS4KY29uc3QgTUFYX1BBWUxPQURfU0laRSA9IDEwMCAqIDEwMjQ7CgpmdW5jdGlvbiBfdXBsb2FkRmlsZXMoaW5wdXRJZCwgb3V0cHV0SWQpIHsKICBjb25zdCBzdGVwcyA9IHVwbG9hZEZpbGVzU3RlcChpbnB1dElkLCBvdXRwdXRJZCk7CiAgY29uc3Qgb3V0cHV0RWxlbWVudCA9IGRvY3VtZW50LmdldEVsZW1lbnRCeUlkKG91dHB1dElkKTsKICAvLyBDYWNoZSBzdGVwcyBvbiB0aGUgb3V0cHV0RWxlbWVudCB0byBtYWtlIGl0IGF2YWlsYWJsZSBmb3IgdGhlIG5leHQgY2FsbAogIC8vIHRvIHVwbG9hZEZpbGVzQ29udGludWUgZnJvbSBQeXRob24uCiAgb3V0cHV0RWxlbWVudC5zdGVwcyA9IHN0ZXBzOwoKICByZXR1cm4gX3VwbG9hZEZpbGVzQ29udGludWUob3V0cHV0SWQpOwp9CgovLyBUaGlzIGlzIHJvdWdobHkgYW4gYXN5bmMgZ2VuZXJhdG9yIChub3Qgc3VwcG9ydGVkIGluIHRoZSBicm93c2VyIHlldCksCi8vIHdoZXJlIHRoZXJlIGFyZSBtdWx0aXBsZSBhc3luY2hyb25vdXMgc3RlcHMgYW5kIHRoZSBQeXRob24gc2lkZSBpcyBnb2luZwovLyB0byBwb2xsIGZvciBjb21wbGV0aW9uIG9mIGVhY2ggc3RlcC4KLy8gVGhpcyB1c2VzIGEgUHJvbWlzZSB0byBibG9jayB0aGUgcHl0aG9uIHNpZGUgb24gY29tcGxldGlvbiBvZiBlYWNoIHN0ZXAsCi8vIHRoZW4gcGFzc2VzIHRoZSByZXN1bHQgb2YgdGhlIHByZXZpb3VzIHN0ZXAgYXMgdGhlIGlucHV0IHRvIHRoZSBuZXh0IHN0ZXAuCmZ1bmN0aW9uIF91cGxvYWRGaWxlc0NvbnRpbnVlKG91dHB1dElkKSB7CiAgY29uc3Qgb3V0cHV0RWxlbWVudCA9IGRvY3VtZW50LmdldEVsZW1lbnRCeUlkKG91dHB1dElkKTsKICBjb25zdCBzdGVwcyA9IG91dHB1dEVsZW1lbnQuc3RlcHM7CgogIGNvbnN0IG5leHQgPSBzdGVwcy5uZXh0KG91dHB1dEVsZW1lbnQubGFzdFByb21pc2VWYWx1ZSk7CiAgcmV0dXJuIFByb21pc2UucmVzb2x2ZShuZXh0LnZhbHVlLnByb21pc2UpLnRoZW4oKHZhbHVlKSA9PiB7CiAgICAvLyBDYWNoZSB0aGUgbGFzdCBwcm9taXNlIHZhbHVlIHRvIG1ha2UgaXQgYXZhaWxhYmxlIHRvIHRoZSBuZXh0CiAgICAvLyBzdGVwIG9mIHRoZSBnZW5lcmF0b3IuCiAgICBvdXRwdXRFbGVtZW50Lmxhc3RQcm9taXNlVmFsdWUgPSB2YWx1ZTsKICAgIHJldHVybiBuZXh0LnZhbHVlLnJlc3BvbnNlOwogIH0pOwp9CgovKioKICogR2VuZXJhdG9yIGZ1bmN0aW9uIHdoaWNoIGlzIGNhbGxlZCBiZXR3ZWVuIGVhY2ggYXN5bmMgc3RlcCBvZiB0aGUgdXBsb2FkCiAqIHByb2Nlc3MuCiAqIEBwYXJhbSB7c3RyaW5nfSBpbnB1dElkIEVsZW1lbnQgSUQgb2YgdGhlIGlucHV0IGZpbGUgcGlja2VyIGVsZW1lbnQuCiAqIEBwYXJhbSB7c3RyaW5nfSBvdXRwdXRJZCBFbGVtZW50IElEIG9mIHRoZSBvdXRwdXQgZGlzcGxheS4KICogQHJldHVybiB7IUl0ZXJhYmxlPCFPYmplY3Q+fSBJdGVyYWJsZSBvZiBuZXh0IHN0ZXBzLgogKi8KZnVuY3Rpb24qIHVwbG9hZEZpbGVzU3RlcChpbnB1dElkLCBvdXRwdXRJZCkgewogIGNvbnN0IGlucHV0RWxlbWVudCA9IGRvY3VtZW50LmdldEVsZW1lbnRCeUlkKGlucHV0SWQpOwogIGlucHV0RWxlbWVudC5kaXNhYmxlZCA9IGZhbHNlOwoKICBjb25zdCBvdXRwdXRFbGVtZW50ID0gZG9jdW1lbnQuZ2V0RWxlbWVudEJ5SWQob3V0cHV0SWQpOwogIG91dHB1dEVsZW1lbnQuaW5uZXJIVE1MID0gJyc7CgogIGNvbnN0IHBpY2tlZFByb21pc2UgPSBuZXcgUHJvbWlzZSgocmVzb2x2ZSkgPT4gewogICAgaW5wdXRFbGVtZW50LmFkZEV2ZW50TGlzdGVuZXIoJ2NoYW5nZScsIChlKSA9PiB7CiAgICAgIHJlc29sdmUoZS50YXJnZXQuZmlsZXMpOwogICAgfSk7CiAgfSk7CgogIGNvbnN0IGNhbmNlbCA9IGRvY3VtZW50LmNyZWF0ZUVsZW1lbnQoJ2J1dHRvbicpOwogIGlucHV0RWxlbWVudC5wYXJlbnRFbGVtZW50LmFwcGVuZENoaWxkKGNhbmNlbCk7CiAgY2FuY2VsLnRleHRDb250ZW50ID0gJ0NhbmNlbCB1cGxvYWQnOwogIGNvbnN0IGNhbmNlbFByb21pc2UgPSBuZXcgUHJvbWlzZSgocmVzb2x2ZSkgPT4gewogICAgY2FuY2VsLm9uY2xpY2sgPSAoKSA9PiB7CiAgICAgIHJlc29sdmUobnVsbCk7CiAgICB9OwogIH0pOwoKICAvLyBXYWl0IGZvciB0aGUgdXNlciB0byBwaWNrIHRoZSBmaWxlcy4KICBjb25zdCBmaWxlcyA9IHlpZWxkIHsKICAgIHByb21pc2U6IFByb21pc2UucmFjZShbcGlja2VkUHJvbWlzZSwgY2FuY2VsUHJvbWlzZV0pLAogICAgcmVzcG9uc2U6IHsKICAgICAgYWN0aW9uOiAnc3RhcnRpbmcnLAogICAgfQogIH07CgogIGNhbmNlbC5yZW1vdmUoKTsKCiAgLy8gRGlzYWJsZSB0aGUgaW5wdXQgZWxlbWVudCBzaW5jZSBmdXJ0aGVyIHBpY2tzIGFyZSBub3QgYWxsb3dlZC4KICBpbnB1dEVsZW1lbnQuZGlzYWJsZWQgPSB0cnVlOwoKICBpZiAoIWZpbGVzKSB7CiAgICByZXR1cm4gewogICAgICByZXNwb25zZTogewogICAgICAgIGFjdGlvbjogJ2NvbXBsZXRlJywKICAgICAgfQogICAgfTsKICB9CgogIGZvciAoY29uc3QgZmlsZSBvZiBmaWxlcykgewogICAgY29uc3QgbGkgPSBkb2N1bWVudC5jcmVhdGVFbGVtZW50KCdsaScpOwogICAgbGkuYXBwZW5kKHNwYW4oZmlsZS5uYW1lLCB7Zm9udFdlaWdodDogJ2JvbGQnfSkpOwogICAgbGkuYXBwZW5kKHNwYW4oCiAgICAgICAgYCgke2ZpbGUudHlwZSB8fCAnbi9hJ30pIC0gJHtmaWxlLnNpemV9IGJ5dGVzLCBgICsKICAgICAgICBgbGFzdCBtb2RpZmllZDogJHsKICAgICAgICAgICAgZmlsZS5sYXN0TW9kaWZpZWREYXRlID8gZmlsZS5sYXN0TW9kaWZpZWREYXRlLnRvTG9jYWxlRGF0ZVN0cmluZygpIDoKICAgICAgICAgICAgICAgICAgICAgICAgICAgICAgICAgICAgJ24vYSd9IC0gYCkpOwogICAgY29uc3QgcGVyY2VudCA9IHNwYW4oJzAlIGRvbmUnKTsKICAgIGxpLmFwcGVuZENoaWxkKHBlcmNlbnQpOwoKICAgIG91dHB1dEVsZW1lbnQuYXBwZW5kQ2hpbGQobGkpOwoKICAgIGNvbnN0IGZpbGVEYXRhUHJvbWlzZSA9IG5ldyBQcm9taXNlKChyZXNvbHZlKSA9PiB7CiAgICAgIGNvbnN0IHJlYWRlciA9IG5ldyBGaWxlUmVhZGVyKCk7CiAgICAgIHJlYWRlci5vbmxvYWQgPSAoZSkgPT4gewogICAgICAgIHJlc29sdmUoZS50YXJnZXQucmVzdWx0KTsKICAgICAgfTsKICAgICAgcmVhZGVyLnJlYWRBc0FycmF5QnVmZmVyKGZpbGUpOwogICAgfSk7CiAgICAvLyBXYWl0IGZvciB0aGUgZGF0YSB0byBiZSByZWFkeS4KICAgIGxldCBmaWxlRGF0YSA9IHlpZWxkIHsKICAgICAgcHJvbWlzZTogZmlsZURhdGFQcm9taXNlLAogICAgICByZXNwb25zZTogewogICAgICAgIGFjdGlvbjogJ2NvbnRpbnVlJywKICAgICAgfQogICAgfTsKCiAgICAvLyBVc2UgYSBjaHVua2VkIHNlbmRpbmcgdG8gYXZvaWQgbWVzc2FnZSBzaXplIGxpbWl0cy4gU2VlIGIvNjIxMTU2NjAuCiAgICBsZXQgcG9zaXRpb24gPSAwOwogICAgZG8gewogICAgICBjb25zdCBsZW5ndGggPSBNYXRoLm1pbihmaWxlRGF0YS5ieXRlTGVuZ3RoIC0gcG9zaXRpb24sIE1BWF9QQVlMT0FEX1NJWkUpOwogICAgICBjb25zdCBjaHVuayA9IG5ldyBVaW50OEFycmF5KGZpbGVEYXRhLCBwb3NpdGlvbiwgbGVuZ3RoKTsKICAgICAgcG9zaXRpb24gKz0gbGVuZ3RoOwoKICAgICAgY29uc3QgYmFzZTY0ID0gYnRvYShTdHJpbmcuZnJvbUNoYXJDb2RlLmFwcGx5KG51bGwsIGNodW5rKSk7CiAgICAgIHlpZWxkIHsKICAgICAgICByZXNwb25zZTogewogICAgICAgICAgYWN0aW9uOiAnYXBwZW5kJywKICAgICAgICAgIGZpbGU6IGZpbGUubmFtZSwKICAgICAgICAgIGRhdGE6IGJhc2U2NCwKICAgICAgICB9LAogICAgICB9OwoKICAgICAgbGV0IHBlcmNlbnREb25lID0gZmlsZURhdGEuYnl0ZUxlbmd0aCA9PT0gMCA/CiAgICAgICAgICAxMDAgOgogICAgICAgICAgTWF0aC5yb3VuZCgocG9zaXRpb24gLyBmaWxlRGF0YS5ieXRlTGVuZ3RoKSAqIDEwMCk7CiAgICAgIHBlcmNlbnQudGV4dENvbnRlbnQgPSBgJHtwZXJjZW50RG9uZX0lIGRvbmVgOwoKICAgIH0gd2hpbGUgKHBvc2l0aW9uIDwgZmlsZURhdGEuYnl0ZUxlbmd0aCk7CiAgfQoKICAvLyBBbGwgZG9uZS4KICB5aWVsZCB7CiAgICByZXNwb25zZTogewogICAgICBhY3Rpb246ICdjb21wbGV0ZScsCiAgICB9CiAgfTsKfQoKc2NvcGUuZ29vZ2xlID0gc2NvcGUuZ29vZ2xlIHx8IHt9OwpzY29wZS5nb29nbGUuY29sYWIgPSBzY29wZS5nb29nbGUuY29sYWIgfHwge307CnNjb3BlLmdvb2dsZS5jb2xhYi5fZmlsZXMgPSB7CiAgX3VwbG9hZEZpbGVzLAogIF91cGxvYWRGaWxlc0NvbnRpbnVlLAp9Owp9KShzZWxmKTsK",
              "ok": true,
              "headers": [
                [
                  "content-type",
                  "application/javascript"
                ]
              ],
              "status": 200,
              "status_text": ""
            }
          },
          "base_uri": "https://localhost:8080/",
          "height": 480
        },
        "outputId": "41e3c8bc-9768-4f0e-d1aa-cbb76aa3fdd4"
      },
      "source": [
        "from google.colab import files\n",
        "import pandas as pd\n",
        "from scipy import stats\n",
        "\n",
        "files.upload() \n",
        "df1 = pd.read_excel('task1.xlsx', index_col=0)#Data Frame\n",
        "df1"
      ],
      "execution_count": null,
      "outputs": [
        {
          "output_type": "display_data",
          "data": {
            "text/html": [
              "\n",
              "     <input type=\"file\" id=\"files-ca36f38a-6eb7-478c-a23c-651ef91a6669\" name=\"files[]\" multiple disabled\n",
              "        style=\"border:none\" />\n",
              "     <output id=\"result-ca36f38a-6eb7-478c-a23c-651ef91a6669\">\n",
              "      Upload widget is only available when the cell has been executed in the\n",
              "      current browser session. Please rerun this cell to enable.\n",
              "      </output>\n",
              "      <script src=\"/nbextensions/google.colab/files.js\"></script> "
            ],
            "text/plain": [
              "<IPython.core.display.HTML object>"
            ]
          },
          "metadata": {}
        },
        {
          "output_type": "stream",
          "name": "stdout",
          "text": [
            "Saving task1.xlsx to task1.xlsx\n"
          ]
        },
        {
          "output_type": "execute_result",
          "data": {
            "text/html": [
              "<div>\n",
              "<style scoped>\n",
              "    .dataframe tbody tr th:only-of-type {\n",
              "        vertical-align: middle;\n",
              "    }\n",
              "\n",
              "    .dataframe tbody tr th {\n",
              "        vertical-align: top;\n",
              "    }\n",
              "\n",
              "    .dataframe thead th {\n",
              "        text-align: right;\n",
              "    }\n",
              "</style>\n",
              "<table border=\"1\" class=\"dataframe\">\n",
              "  <thead>\n",
              "    <tr style=\"text-align: right;\">\n",
              "      <th></th>\n",
              "      <th>Hb1Bef</th>\n",
              "      <th>Hb1Aft</th>\n",
              "      <th>Hb2Bef</th>\n",
              "      <th>Hb2Aft</th>\n",
              "      <th>Hb3Bef</th>\n",
              "      <th>Hb3Aft</th>\n",
              "    </tr>\n",
              "  </thead>\n",
              "  <tbody>\n",
              "    <tr>\n",
              "      <th>0</th>\n",
              "      <td>136</td>\n",
              "      <td>126</td>\n",
              "      <td>114</td>\n",
              "      <td>121</td>\n",
              "      <td>136</td>\n",
              "      <td>127</td>\n",
              "    </tr>\n",
              "    <tr>\n",
              "      <th>1</th>\n",
              "      <td>114</td>\n",
              "      <td>138</td>\n",
              "      <td>128</td>\n",
              "      <td>137</td>\n",
              "      <td>136</td>\n",
              "      <td>105</td>\n",
              "    </tr>\n",
              "    <tr>\n",
              "      <th>2</th>\n",
              "      <td>115</td>\n",
              "      <td>124</td>\n",
              "      <td>131</td>\n",
              "      <td>122</td>\n",
              "      <td>113</td>\n",
              "      <td>134</td>\n",
              "    </tr>\n",
              "    <tr>\n",
              "      <th>3</th>\n",
              "      <td>109</td>\n",
              "      <td>150</td>\n",
              "      <td>139</td>\n",
              "      <td>127</td>\n",
              "      <td>126</td>\n",
              "      <td>126</td>\n",
              "    </tr>\n",
              "    <tr>\n",
              "      <th>4</th>\n",
              "      <td>129</td>\n",
              "      <td>117</td>\n",
              "      <td>123</td>\n",
              "      <td>117</td>\n",
              "      <td>127</td>\n",
              "      <td>114</td>\n",
              "    </tr>\n",
              "    <tr>\n",
              "      <th>...</th>\n",
              "      <td>...</td>\n",
              "      <td>...</td>\n",
              "      <td>...</td>\n",
              "      <td>...</td>\n",
              "      <td>...</td>\n",
              "      <td>...</td>\n",
              "    </tr>\n",
              "    <tr>\n",
              "      <th>195</th>\n",
              "      <td>104</td>\n",
              "      <td>138</td>\n",
              "      <td>142</td>\n",
              "      <td>120</td>\n",
              "      <td>127</td>\n",
              "      <td>127</td>\n",
              "    </tr>\n",
              "    <tr>\n",
              "      <th>196</th>\n",
              "      <td>126</td>\n",
              "      <td>111</td>\n",
              "      <td>134</td>\n",
              "      <td>143</td>\n",
              "      <td>105</td>\n",
              "      <td>123</td>\n",
              "    </tr>\n",
              "    <tr>\n",
              "      <th>197</th>\n",
              "      <td>124</td>\n",
              "      <td>139</td>\n",
              "      <td>137</td>\n",
              "      <td>125</td>\n",
              "      <td>127</td>\n",
              "      <td>115</td>\n",
              "    </tr>\n",
              "    <tr>\n",
              "      <th>198</th>\n",
              "      <td>128</td>\n",
              "      <td>130</td>\n",
              "      <td>122</td>\n",
              "      <td>139</td>\n",
              "      <td>132</td>\n",
              "      <td>137</td>\n",
              "    </tr>\n",
              "    <tr>\n",
              "      <th>199</th>\n",
              "      <td>130</td>\n",
              "      <td>151</td>\n",
              "      <td>141</td>\n",
              "      <td>129</td>\n",
              "      <td>126</td>\n",
              "      <td>118</td>\n",
              "    </tr>\n",
              "  </tbody>\n",
              "</table>\n",
              "<p>200 rows × 6 columns</p>\n",
              "</div>"
            ],
            "text/plain": [
              "     Hb1Bef  Hb1Aft  Hb2Bef  Hb2Aft  Hb3Bef  Hb3Aft\n",
              "0       136     126     114     121     136     127\n",
              "1       114     138     128     137     136     105\n",
              "2       115     124     131     122     113     134\n",
              "3       109     150     139     127     126     126\n",
              "4       129     117     123     117     127     114\n",
              "..      ...     ...     ...     ...     ...     ...\n",
              "195     104     138     142     120     127     127\n",
              "196     126     111     134     143     105     123\n",
              "197     124     139     137     125     127     115\n",
              "198     128     130     122     139     132     137\n",
              "199     130     151     141     129     126     118\n",
              "\n",
              "[200 rows x 6 columns]"
            ]
          },
          "metadata": {},
          "execution_count": 1
        }
      ]
    },
    {
      "cell_type": "markdown",
      "metadata": {
        "id": "RA3uNtgDtoz-"
      },
      "source": [
        "## Шаг 2\n",
        "Найдем описательные статистики, построим гисторгамму и график \"ящик с усами\".\n",
        "\n",
        "По полученным результатам можно сделать предположение, что уровень гемоглобина снижен на 10 гр/литр по сравнению с нижней границей нормы. Чтобы проверить это предположение нужны соответствующие критерии.\n",
        "\n",
        "https://pandas.pydata.org/pandas-docs/stable/reference/api/pandas.DataFrame.plot.hist.html\n",
        "\n",
        "https://pandas.pydata.org/pandas-docs/stable/reference/api/pandas.DataFrame.plot.hist.html"
      ]
    },
    {
      "cell_type": "code",
      "metadata": {
        "id": "fwuk5a5ht2UF",
        "colab": {
          "base_uri": "https://localhost:8080/",
          "height": 284
        },
        "outputId": "40bf3496-7487-450a-d49c-44d0ef00de18"
      },
      "source": [
        "df1.describe()"
      ],
      "execution_count": null,
      "outputs": [
        {
          "output_type": "execute_result",
          "data": {
            "text/html": [
              "<div>\n",
              "<style scoped>\n",
              "    .dataframe tbody tr th:only-of-type {\n",
              "        vertical-align: middle;\n",
              "    }\n",
              "\n",
              "    .dataframe tbody tr th {\n",
              "        vertical-align: top;\n",
              "    }\n",
              "\n",
              "    .dataframe thead th {\n",
              "        text-align: right;\n",
              "    }\n",
              "</style>\n",
              "<table border=\"1\" class=\"dataframe\">\n",
              "  <thead>\n",
              "    <tr style=\"text-align: right;\">\n",
              "      <th></th>\n",
              "      <th>Hb1Bef</th>\n",
              "      <th>Hb1Aft</th>\n",
              "      <th>Hb2Bef</th>\n",
              "      <th>Hb2Aft</th>\n",
              "      <th>Hb3Bef</th>\n",
              "      <th>Hb3Aft</th>\n",
              "    </tr>\n",
              "  </thead>\n",
              "  <tbody>\n",
              "    <tr>\n",
              "      <th>count</th>\n",
              "      <td>200.000000</td>\n",
              "      <td>200.000000</td>\n",
              "      <td>200.000000</td>\n",
              "      <td>200.000000</td>\n",
              "      <td>200.000000</td>\n",
              "      <td>200.000000</td>\n",
              "    </tr>\n",
              "    <tr>\n",
              "      <th>mean</th>\n",
              "      <td>121.060000</td>\n",
              "      <td>129.965000</td>\n",
              "      <td>127.985000</td>\n",
              "      <td>131.195000</td>\n",
              "      <td>128.745000</td>\n",
              "      <td>128.620000</td>\n",
              "    </tr>\n",
              "    <tr>\n",
              "      <th>std</th>\n",
              "      <td>9.101681</td>\n",
              "      <td>10.366828</td>\n",
              "      <td>10.454245</td>\n",
              "      <td>9.944417</td>\n",
              "      <td>9.110708</td>\n",
              "      <td>10.053905</td>\n",
              "    </tr>\n",
              "    <tr>\n",
              "      <th>min</th>\n",
              "      <td>96.000000</td>\n",
              "      <td>102.000000</td>\n",
              "      <td>102.000000</td>\n",
              "      <td>104.000000</td>\n",
              "      <td>97.000000</td>\n",
              "      <td>104.000000</td>\n",
              "    </tr>\n",
              "    <tr>\n",
              "      <th>25%</th>\n",
              "      <td>115.750000</td>\n",
              "      <td>123.000000</td>\n",
              "      <td>121.000000</td>\n",
              "      <td>125.000000</td>\n",
              "      <td>123.750000</td>\n",
              "      <td>122.000000</td>\n",
              "    </tr>\n",
              "    <tr>\n",
              "      <th>50%</th>\n",
              "      <td>121.000000</td>\n",
              "      <td>129.000000</td>\n",
              "      <td>128.000000</td>\n",
              "      <td>132.000000</td>\n",
              "      <td>129.000000</td>\n",
              "      <td>128.500000</td>\n",
              "    </tr>\n",
              "    <tr>\n",
              "      <th>75%</th>\n",
              "      <td>127.000000</td>\n",
              "      <td>137.000000</td>\n",
              "      <td>135.250000</td>\n",
              "      <td>139.000000</td>\n",
              "      <td>134.000000</td>\n",
              "      <td>135.000000</td>\n",
              "    </tr>\n",
              "    <tr>\n",
              "      <th>max</th>\n",
              "      <td>145.000000</td>\n",
              "      <td>160.000000</td>\n",
              "      <td>167.000000</td>\n",
              "      <td>165.000000</td>\n",
              "      <td>152.000000</td>\n",
              "      <td>155.000000</td>\n",
              "    </tr>\n",
              "  </tbody>\n",
              "</table>\n",
              "</div>"
            ],
            "text/plain": [
              "           Hb1Bef      Hb1Aft      Hb2Bef      Hb2Aft      Hb3Bef      Hb3Aft\n",
              "count  200.000000  200.000000  200.000000  200.000000  200.000000  200.000000\n",
              "mean   121.060000  129.965000  127.985000  131.195000  128.745000  128.620000\n",
              "std      9.101681   10.366828   10.454245    9.944417    9.110708   10.053905\n",
              "min     96.000000  102.000000  102.000000  104.000000   97.000000  104.000000\n",
              "25%    115.750000  123.000000  121.000000  125.000000  123.750000  122.000000\n",
              "50%    121.000000  129.000000  128.000000  132.000000  129.000000  128.500000\n",
              "75%    127.000000  137.000000  135.250000  139.000000  134.000000  135.000000\n",
              "max    145.000000  160.000000  167.000000  165.000000  152.000000  155.000000"
            ]
          },
          "metadata": {
            "tags": []
          },
          "execution_count": 5
        }
      ]
    },
    {
      "cell_type": "markdown",
      "source": [
        "Рисунки приведены для первого города. Для других городов сделать аналогично."
      ],
      "metadata": {
        "id": "r8lU8w-mB-Lf"
      }
    },
    {
      "cell_type": "code",
      "metadata": {
        "colab": {
          "base_uri": "https://localhost:8080/",
          "height": 265
        },
        "id": "GBuMS5wasZpb",
        "outputId": "65e05e49-5e35-4f88-e268-2554e2895820"
      },
      "source": [
        "histogram = df1['Hb1Bef'].plot.hist(bins=18)\n",
        "#how coarse is it"
      ],
      "execution_count": null,
      "outputs": [
        {
          "output_type": "display_data",
          "data": {
            "image/png": "[encoded data removed]",
            "text/plain": [
              "<Figure size 432x288 with 1 Axes>"
            ]
          },
          "metadata": {
            "needs_background": "light"
          }
        }
      ]
    },
    {
      "cell_type": "code",
      "metadata": {
        "colab": {
          "base_uri": "https://localhost:8080/",
          "height": 388
        },
        "id": "inn6ZeeAs0bw",
        "outputId": "487b4750-772d-4009-eeac-ffceb51b2040"
      },
      "source": [
        "import matplotlib.pyplot as plt\n",
        "\n",
        "plt.figure(figsize = (10, 6))\n",
        "plt.hist(df1['Hb1Bef'], bins = 20, ec='black')\n",
        "plt.xlabel('Hb level before')\n",
        "plt.ylabel('Frequence, Number of patients')\n",
        "plt.show()"
      ],
      "execution_count": null,
      "outputs": [
        {
          "output_type": "display_data",
          "data": {
            "image/png": "[encoded data removed]",
            "text/plain": [
              "<Figure size 720x432 with 1 Axes>"
            ]
          },
          "metadata": {
            "tags": [],
            "needs_background": "light"
          }
        }
      ]
    },
    {
      "cell_type": "code",
      "metadata": {
        "colab": {
          "base_uri": "https://localhost:8080/",
          "height": 265
        },
        "id": "MRHcNkiOsoxQ",
        "outputId": "d84b4fe7-c957-4e9c-e593-c3fc254a9340"
      },
      "source": [
        "boxplot = df1.boxplot(column=['Hb1Bef'])"
      ],
      "execution_count": null,
      "outputs": [
        {
          "output_type": "display_data",
          "data": {
            "image/png": "[encoded data removed]",
            "text/plain": [
              "<Figure size 432x288 with 1 Axes>"
            ]
          },
          "metadata": {
            "tags": [],
            "needs_background": "light"
          }
        }
      ]
    },
    {
      "cell_type": "markdown",
      "metadata": {
        "id": "qbFBBORUizSJ"
      },
      "source": [
        "Для решения задачи необходимо выбрать соответствующий статистический критерий и сформулировать нулевую гипотезу.\n",
        "\n",
        "Применим однофакторный дисперсионный анализ.\n",
        "Проверим нулевую гипотезу состоящую в том, что средние в группах  (разных городах) равны между собой.\n",
        "\n",
        "**Вопрос для обсуждения**\n",
        "\n",
        "Для применения однофакторного дисперсионного анализа необходимо, чтобы данные удовлетворяли определенным требованиям. Каким?"
      ]
    },
    {
      "cell_type": "markdown",
      "metadata": {
        "id": "8fIHMi59mvSi"
      },
      "source": [
        "###Шаг 3. Тесты на нормальность\n",
        "\n",
        "Существует множество статистических тестов, используемых для статистической проверки того, была ли данная выборка извлечена из нормально распределенной генеральной совокупности или нет.\n",
        "\n",
        "Каждый тест делает разные предположения и рассматривает разные аспекты данных. Мы рассмотрим три часто используемых теста.\n",
        "\n",
        "Прежде чем применять статистические тесты, необходимо знать, как интерпретировать результаты. Каждый тест вернет как минимум две величины:\n",
        "\n",
        "*  Статистика (statistic, float или array): величина, вычисляемая тестом, которую можно интерпретировать в контексте теста, сравнивая ее с критическими значениями из распределения статистики теста;\n",
        "*  p-значение (pvalue, float или array): вероятность получить для данной вероятностной модели распределения значений случайной величины такое же или более экстремальное (чем посчитанная statistic) значение статистики, при условии, что нулевая гипотеза верна.\n",
        "\n",
        "p-значение используется для интерпретации теста; в данном случае позволяет ответить на вопрос, была ли выборка взята из нормально распределенной генеральной совокупности."
      ]
    },
    {
      "cell_type": "markdown",
      "metadata": {
        "id": "1BjSzbYU1FEU"
      },
      "source": [
        "Критерий Шапиро-Уилка\n",
        "\n",
        "https://docs.scipy.org/doc/scipy/reference/generated/scipy.stats.shapiro.html\n",
        "\n",
        "\n",
        "Поскольку p-value больше уровня значимости $\\alpha = 0.05,$ нет оснваний отвергнуть нулевую гипотезу о нормальности. Считаем данными нормально распределеными."
      ]
    },
    {
      "cell_type": "code",
      "metadata": {
        "id": "G9cP15SemZLt",
        "colab": {
          "base_uri": "https://localhost:8080/"
        },
        "outputId": "b7b42f9b-9742-4fac-fe3e-4b8212c17e4f"
      },
      "source": [
        "shapiro_test = stats.shapiro(df1['Hb1Bef'])\n",
        "print(shapiro_test)"
      ],
      "execution_count": null,
      "outputs": [
        {
          "output_type": "stream",
          "text": [
            "(0.9945846199989319, 0.688219428062439)\n"
          ],
          "name": "stdout"
        }
      ]
    },
    {
      "cell_type": "markdown",
      "metadata": {
        "id": "rpJ5sQ_nxRIW"
      },
      "source": [
        "Проверим нормальность данных во всех столбцах, чтобы не возвращаться к этому вопросу в дальнейшем."
      ]
    },
    {
      "cell_type": "code",
      "metadata": {
        "colab": {
          "base_uri": "https://localhost:8080/"
        },
        "id": "wOnKipFBuuX8",
        "outputId": "a6f5e4af-1c96-4a89-8a65-cabca9efce51"
      },
      "source": [
        "for column in df1:\n",
        "    shapiro_test = stats.shapiro(df1[column])\n",
        "    print(shapiro_test[1])"
      ],
      "execution_count": null,
      "outputs": [
        {
          "output_type": "stream",
          "text": [
            "0.688219428062439\n",
            "0.8150795102119446\n",
            "0.10010725259780884\n",
            "0.3508819043636322\n",
            "0.1274675577878952\n",
            "0.4743872284889221\n"
          ],
          "name": "stdout"
        }
      ]
    },
    {
      "cell_type": "markdown",
      "metadata": {
        "id": "y9T3mO6ODB9E"
      },
      "source": [
        "Однофакторный дисперсионный анализ (англ. One way ANOVA) проверяет нулевую гипотезу о том, что две или более групп имеют одинаковое среднее значение. Тест применяется к выборкам, возможно, разного размера."
      ]
    },
    {
      "cell_type": "code",
      "metadata": {
        "colab": {
          "base_uri": "https://localhost:8080/"
        },
        "id": "H4ISYLW57NE-",
        "outputId": "924b0a6b-eb98-49de-d608-57ad3911cb6b"
      },
      "source": [
        "from scipy.stats import f_oneway\n",
        "\n",
        "f_oneway(df1['Hb1Bef'], df1['Hb2Bef'], df1['Hb3Bef'])"
      ],
      "execution_count": null,
      "outputs": [
        {
          "output_type": "execute_result",
          "data": {
            "text/plain": [
              "F_onewayResult(statistic=39.10506941909032, pvalue=1.0985246015570126e-16)"
            ]
          },
          "metadata": {
            "tags": []
          },
          "execution_count": 3
        }
      ]
    },
    {
      "cell_type": "markdown",
      "metadata": {
        "id": "nfeXbIGXCUPs"
      },
      "source": [
        "Вывод: на момент госпитализации уровени гемоглобина у рабочих статистически значимо различаются."
      ]
    },
    {
      "cell_type": "markdown",
      "metadata": {
        "id": "ytYLmIPDCjpG"
      },
      "source": [
        "**Задание для самостоятельной работы**\n",
        "\n",
        "Определеить, значимо ли отличие в уровне гемоглобина у рабочих первого, второго и третьего предприятий на момент выписки. Использовать Однофакторный дисперсионный анализ."
      ]
    }
  ]
}