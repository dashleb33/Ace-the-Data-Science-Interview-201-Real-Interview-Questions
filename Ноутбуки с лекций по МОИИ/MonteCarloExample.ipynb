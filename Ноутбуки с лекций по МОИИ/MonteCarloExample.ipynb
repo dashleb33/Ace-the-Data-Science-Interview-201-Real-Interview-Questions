





<!DOCTYPE html>
<html lang="en" data-color-mode="auto" data-light-theme="light" data-dark-theme="dark"  data-a11y-animated-images="system">
  <head>
    <meta charset="utf-8">
  <link rel="dns-prefetch" href="https://github.githubassets.com">
  <link rel="dns-prefetch" href="https://avatars.githubusercontent.com">
  <link rel="dns-prefetch" href="https://github-cloud.s3.amazonaws.com">
  <link rel="dns-prefetch" href="https://user-images.githubusercontent.com/">
  <link rel="preconnect" href="https://github.githubassets.com" crossorigin>
  <link rel="preconnect" href="https://avatars.githubusercontent.com">

  


  <link crossorigin="anonymous" media="all" rel="stylesheet" href="https://github.githubassets.com/assets/light-4569ff6a5326.css" /><link crossorigin="anonymous" media="all" rel="stylesheet" href="https://github.githubassets.com/assets/dark-34efc528590d.css" /><link data-color-theme="dark_dimmed" crossorigin="anonymous" media="all" rel="stylesheet" data-href="https://github.githubassets.com/assets/dark_dimmed-b94a34c1d526.css" /><link data-color-theme="dark_high_contrast" crossorigin="anonymous" media="all" rel="stylesheet" data-href="https://github.githubassets.com/assets/dark_high_contrast-a826e4e21b45.css" /><link data-color-theme="dark_colorblind" crossorigin="anonymous" media="all" rel="stylesheet" data-href="https://github.githubassets.com/assets/dark_colorblind-6e131b11dd64.css" /><link data-color-theme="light_colorblind" crossorigin="anonymous" media="all" rel="stylesheet" data-href="https://github.githubassets.com/assets/light_colorblind-6861c53bb0f6.css" /><link data-color-theme="light_high_contrast" crossorigin="anonymous" media="all" rel="stylesheet" data-href="https://github.githubassets.com/assets/light_high_contrast-1cfc1f582a4c.css" /><link data-color-theme="light_tritanopia" crossorigin="anonymous" media="all" rel="stylesheet" data-href="https://github.githubassets.com/assets/light_tritanopia-2fb3a50ca380.css" /><link data-color-theme="dark_tritanopia" crossorigin="anonymous" media="all" rel="stylesheet" data-href="https://github.githubassets.com/assets/dark_tritanopia-3da111582952.css" />
  
    <link crossorigin="anonymous" media="all" rel="stylesheet" href="https://github.githubassets.com/assets/primer-primitives-fb1d51d1ef66.css" />
    <link crossorigin="anonymous" media="all" rel="stylesheet" href="https://github.githubassets.com/assets/primer-11cf40a4e0f2.css" />
    <link crossorigin="anonymous" media="all" rel="stylesheet" href="https://github.githubassets.com/assets/global-d31d56021874.css" />
    <link crossorigin="anonymous" media="all" rel="stylesheet" href="https://github.githubassets.com/assets/github-2c7b1701fb19.css" />
  <link crossorigin="anonymous" media="all" rel="stylesheet" href="https://github.githubassets.com/assets/code-5aae01d45c34.css" />

  

  <script type="application/json" id="client-env">{"locale":"en","featureFlags":["turbo_experiment_risky","image_metric_tracking","geojson_azure_maps"]}</script>
<script crossorigin="anonymous" defer="defer" type="application/javascript" src="https://github.githubassets.com/assets/wp-runtime-b2b433f36bad.js"></script>
<script crossorigin="anonymous" defer="defer" type="application/javascript" src="https://github.githubassets.com/assets/vendors-node_modules_stacktrace-parser_dist_stack-trace-parser_esm_js-node_modules_github_bro-a4c183-ae93d3fba59c.js"></script>
<script crossorigin="anonymous" defer="defer" type="application/javascript" src="https://github.githubassets.com/assets/ui_packages_soft-nav_soft-nav_ts-5bbac172fb2f.js"></script>
<script crossorigin="anonymous" defer="defer" type="application/javascript" src="https://github.githubassets.com/assets/environment-27e06165e415.js"></script>
<script crossorigin="anonymous" defer="defer" type="application/javascript" src="https://github.githubassets.com/assets/vendors-node_modules_dompurify_dist_purify_js-64d590970fa6.js"></script>
<script crossorigin="anonymous" defer="defer" type="application/javascript" src="https://github.githubassets.com/assets/vendors-node_modules_github_selector-observer_dist_index_esm_js-2646a2c533e3.js"></script>
<script crossorigin="anonymous" defer="defer" type="application/javascript" src="https://github.githubassets.com/assets/vendors-node_modules_github_relative-time-element_dist_index_js-99e288659d4f.js"></script>
<script crossorigin="anonymous" defer="defer" type="application/javascript" src="https://github.githubassets.com/assets/vendors-node_modules_fzy_js_index_js-node_modules_github_markdown-toolbar-element_dist_index_js-e3de700a4c9d.js"></script>
<script crossorigin="anonymous" defer="defer" type="application/javascript" src="https://github.githubassets.com/assets/vendors-node_modules_delegated-events_dist_index_js-node_modules_github_auto-complete-element-5b3870-9b38c0812424.js"></script>
<script crossorigin="anonymous" defer="defer" type="application/javascript" src="https://github.githubassets.com/assets/vendors-node_modules_github_file-attachment-element_dist_index_js-node_modules_github_text-ex-3415a8-7ecc10fb88d0.js"></script>
<script crossorigin="anonymous" defer="defer" type="application/javascript" src="https://github.githubassets.com/assets/vendors-node_modules_github_filter-input-element_dist_index_js-node_modules_github_remote-inp-8873b7-5771678648e0.js"></script>
<script crossorigin="anonymous" defer="defer" type="application/javascript" src="https://github.githubassets.com/assets/vendors-node_modules_primer_view-components_app_components_primer_primer_js-node_modules_gith-e7a1e2-5619d4fab43c.js"></script>
<script crossorigin="anonymous" defer="defer" type="application/javascript" src="https://github.githubassets.com/assets/github-elements-d042ca720710.js"></script>
<script crossorigin="anonymous" defer="defer" type="application/javascript" src="https://github.githubassets.com/assets/element-registry-0ab836256a11.js"></script>
<script crossorigin="anonymous" defer="defer" type="application/javascript" src="https://github.githubassets.com/assets/vendors-node_modules_lit-html_lit-html_js-9d9fe1859ce5.js"></script>
<script crossorigin="anonymous" defer="defer" type="application/javascript" src="https://github.githubassets.com/assets/vendors-node_modules_github_hydro-analytics-client_dist_analytics-client_js-node_modules_gith-f3aee1-fd3c22610e40.js"></script>
<script crossorigin="anonymous" defer="defer" type="application/javascript" src="https://github.githubassets.com/assets/vendors-node_modules_morphdom_dist_morphdom-esm_js-b1fdd7158cf0.js"></script>
<script crossorigin="anonymous" defer="defer" type="application/javascript" src="https://github.githubassets.com/assets/vendors-node_modules_github_mini-throttle_dist_index_js-node_modules_github_alive-client_dist-bf5aa2-424aa982deef.js"></script>
<script crossorigin="anonymous" defer="defer" type="application/javascript" src="https://github.githubassets.com/assets/vendors-node_modules_github_turbo_dist_turbo_es2017-esm_js-ba0e4d5b3207.js"></script>
<script crossorigin="anonymous" defer="defer" type="application/javascript" src="https://github.githubassets.com/assets/vendors-node_modules_github_remote-form_dist_index_js-node_modules_scroll-anchoring_dist_scro-52dc4b-e1e33bfc0b7e.js"></script>
<script crossorigin="anonymous" defer="defer" type="application/javascript" src="https://github.githubassets.com/assets/vendors-node_modules_color-convert_index_js-35b3ae68c408.js"></script>
<script crossorigin="anonymous" defer="defer" type="application/javascript" src="https://github.githubassets.com/assets/vendors-node_modules_github_paste-markdown_dist_index_esm_js-node_modules_github_quote-select-7a8e2b-f036384374ea.js"></script>
<script crossorigin="anonymous" defer="defer" type="application/javascript" src="https://github.githubassets.com/assets/ui_packages_form-utils_form-utils_ts-ui_packages_morpheus_index_ts-ui_packages_trusted-types--01a936-2e33af2596e0.js"></script>
<script crossorigin="anonymous" defer="defer" type="application/javascript" src="https://github.githubassets.com/assets/app_assets_modules_github_behaviors_keyboard-shortcuts-helper_ts-app_assets_modules_github_be-af52ef-a7d8c6f40fcc.js"></script>
<script crossorigin="anonymous" defer="defer" type="application/javascript" src="https://github.githubassets.com/assets/app_assets_modules_github_sticky-scroll-into-view_ts-050ad6637d58.js"></script>
<script crossorigin="anonymous" defer="defer" type="application/javascript" src="https://github.githubassets.com/assets/app_assets_modules_github_behaviors_ajax-error_ts-app_assets_modules_github_behaviors_include-f12a82-c9c7859d8645.js"></script>
<script crossorigin="anonymous" defer="defer" type="application/javascript" src="https://github.githubassets.com/assets/app_assets_modules_github_behaviors_commenting_edit_ts-app_assets_modules_github_behaviors_ht-83c235-f22ac6b94445.js"></script>
<script crossorigin="anonymous" defer="defer" type="application/javascript" src="https://github.githubassets.com/assets/app_assets_modules_github_blob-anchor_ts-app_assets_modules_github_filter-sort_ts-app_assets_-c96432-3460172f1b1f.js"></script>
<script crossorigin="anonymous" defer="defer" type="application/javascript" src="https://github.githubassets.com/assets/behaviors-3e5c93992bc3.js"></script>
<script crossorigin="anonymous" defer="defer" type="application/javascript" src="https://github.githubassets.com/assets/vendors-node_modules_delegated-events_dist_index_js-node_modules_github_catalyst_lib_index_js-06ff531-fe0b8ccc90a5.js"></script>
<script crossorigin="anonymous" defer="defer" type="application/javascript" src="https://github.githubassets.com/assets/notifications-global-f57687007bfc.js"></script>
<script crossorigin="anonymous" defer="defer" type="application/javascript" src="https://github.githubassets.com/assets/code-menu-082003a113a7.js"></script>
  
  <script crossorigin="anonymous" defer="defer" type="application/javascript" src="https://github.githubassets.com/assets/react-lib-210c4b5934c3.js"></script>
<script crossorigin="anonymous" defer="defer" type="application/javascript" src="https://github.githubassets.com/assets/vendors-node_modules_primer_octicons-react_dist_index_esm_js-node_modules_primer_react_lib-es-ca6dae-997b5be9ae26.js"></script>
<script crossorigin="anonymous" defer="defer" type="application/javascript" src="https://github.githubassets.com/assets/vendors-node_modules_primer_behaviors_dist_esm_focus-zone_js-d55308df5023.js"></script>
<script crossorigin="anonymous" defer="defer" type="application/javascript" src="https://github.githubassets.com/assets/vendors-node_modules_primer_react_lib-esm_Button_index_js-node_modules_primer_react_lib-esm_L-5634ab-88e75d034f00.js"></script>
<script crossorigin="anonymous" defer="defer" type="application/javascript" src="https://github.githubassets.com/assets/vendors-node_modules_primer_react_lib-esm_ActionList_index_js-node_modules_primer_react_lib-e-6c83fc-f575f8ee0ebf.js"></script>
<script crossorigin="anonymous" defer="defer" type="application/javascript" src="https://github.githubassets.com/assets/vendors-node_modules_primer_react_lib-esm_TextInput_TextInput_js-bda16ad5f5c0.js"></script>
<script crossorigin="anonymous" defer="defer" type="application/javascript" src="https://github.githubassets.com/assets/vendors-node_modules_primer_react_lib-esm_ActionMenu_js-9f46ef9292fe.js"></script>
<script crossorigin="anonymous" defer="defer" type="application/javascript" src="https://github.githubassets.com/assets/vendors-node_modules_primer_behaviors_dist_esm_scroll-into-view_js-node_modules_primer_react_-04bb1b-f1078ffd63d6.js"></script>
<script crossorigin="anonymous" defer="defer" type="application/javascript" src="https://github.githubassets.com/assets/vendors-node_modules_primer_react_lib-esm_FormControl_FormControl_js-f73cfd5e1065.js"></script>
<script crossorigin="anonymous" defer="defer" type="application/javascript" src="https://github.githubassets.com/assets/vendors-node_modules_primer_react_lib-esm_Heading_Heading_js-node_modules_primer_react_lib-es-20c766-3952b4d6d547.js"></script>
<script crossorigin="anonymous" defer="defer" type="application/javascript" src="https://github.githubassets.com/assets/vendors-node_modules_primer_react_lib-esm_Dialog_ConfirmationDialog_js-a160e95ee1e8.js"></script>
<script crossorigin="anonymous" defer="defer" type="application/javascript" src="https://github.githubassets.com/assets/vendors-node_modules_primer_react_lib-esm_TreeView_TreeView_js-2d5a3fb3b8ec.js"></script>
<script crossorigin="anonymous" defer="defer" type="application/javascript" src="https://github.githubassets.com/assets/vendors-node_modules_primer_react_lib-esm_Dialog_js-node_modules_primer_react_lib-esm_Flash_F-54f402-88c054c19f70.js"></script>
<script crossorigin="anonymous" defer="defer" type="application/javascript" src="https://github.githubassets.com/assets/vendors-node_modules_github_blackbird-parser_dist_blackbird_js-fcd9d30e9b7e.js"></script>
<script crossorigin="anonymous" defer="defer" type="application/javascript" src="https://github.githubassets.com/assets/vendors-node_modules_primer_react_lib-esm_Avatar_Avatar_js-node_modules_primer_react_lib-esm_-29ac94-d2381419a106.js"></script>
<script crossorigin="anonymous" defer="defer" type="application/javascript" src="https://github.githubassets.com/assets/vendors-node_modules_primer_react_lib-esm_NavList_NavList_js-node_modules_primer_react_lib-es-104854-848b78fef5ac.js"></script>
<script crossorigin="anonymous" defer="defer" type="application/javascript" src="https://github.githubassets.com/assets/vendors-node_modules_primer_react_lib-esm_AvatarStack_AvatarStack_js-node_modules_primer_reac-0b4173-d8ba3894d9e9.js"></script>
<script crossorigin="anonymous" defer="defer" type="application/javascript" src="https://github.githubassets.com/assets/vendors-node_modules_primer_react_lib-esm_CircleOcticon_CircleOcticon_js-node_modules_primer_-a9ee65-d6ac78f9dd48.js"></script>
<script crossorigin="anonymous" defer="defer" type="application/javascript" src="https://github.githubassets.com/assets/ui_packages_react-core_deferred-registry_ts-ui_packages_react-core_AppContextProvider_tsx-ui_-36d03f-943a2ee83b7f.js"></script>
<script crossorigin="anonymous" defer="defer" type="application/javascript" src="https://github.githubassets.com/assets/ui_packages_react-core_Entry_tsx-d7bb6c9e07f2.js"></script>
<script crossorigin="anonymous" defer="defer" type="application/javascript" src="https://github.githubassets.com/assets/ui_packages_ref-selector_RefSelector_tsx-ui_packages_safe-html_SafeHTML_tsx-39930ad7a5d2.js"></script>
<script crossorigin="anonymous" defer="defer" type="application/javascript" src="https://github.githubassets.com/assets/app_assets_modules_blackbird-monolith_hooks_use-navigate-to-query_ts-app_assets_modules_black-8527d4-5aab2da637a1.js"></script>
<script crossorigin="anonymous" defer="defer" type="application/javascript" src="https://github.githubassets.com/assets/app_assets_modules_react-code-view_pages_CodeView_tsx-bcbe60534f2f.js"></script>
<script crossorigin="anonymous" defer="defer" type="application/javascript" src="https://github.githubassets.com/assets/react-code-view-9e5771299c11.js"></script>


  <title>MonteCarloTutorial/MonteCarloExample.ipynb at master · pat-hanbury/MonteCarloTutorial</title>



  <meta name="route-pattern" content="/:user_id/:repository/blob/*name(/*path)">

    
  <meta name="current-catalog-service-hash" content="82c569b93da5c18ed649ebd4c2c79437db4611a6a1373e805a3cb001c64130b7">


  <meta name="request-id" content="EB01:A86D:45AC4A2:46AC1F8:649C2A3D" data-turbo-transient="true" /><meta name="html-safe-nonce" content="15ab311ba8e38139ba45a267053c961460475e50b6f75bc35276b4d9934a822e" data-turbo-transient="true" /><meta name="visitor-payload" content="eyJyZWZlcnJlciI6Imh0dHBzOi8vZ2l0aHViLmNvbS9wYXQtaGFuYnVyeS9Nb250ZUNhcmxvVHV0b3JpYWwvdHJlZS9tYXN0ZXIiLCJyZXF1ZXN0X2lkIjoiRUIwMTpBODZEOjQ1QUM0QTI6NDZBQzFGODo2NDlDMkEzRCIsInZpc2l0b3JfaWQiOiI2NjI0NjA2ODY1MjYyODk3NDEwIiwicmVnaW9uX2VkZ2UiOiJmcmEiLCJyZWdpb25fcmVuZGVyIjoiaWFkIn0=" data-turbo-transient="true" /><meta name="visitor-hmac" content="c25955001f95dfef562882864d653e06f44220b1e6e52378d72c14a7c6877e9d" data-turbo-transient="true" />


    <meta name="hovercard-subject-tag" content="repository:167480495" data-turbo-transient>


  <meta name="github-keyboard-shortcuts" content="repository,source-code,file-tree" data-turbo-transient="true" />
  

  <meta name="selected-link" value="repo_source" data-turbo-transient>
  <link rel="assets" href="https://github.githubassets.com/">

    <meta name="google-site-verification" content="c1kuD-K2HIVF635lypcsWPoD4kilo5-jA_wBFyT4uMY">
  <meta name="google-site-verification" content="KT5gs8h0wvaagLKAVWq8bbeNwnZZK1r1XQysX3xurLU">
  <meta name="google-site-verification" content="ZzhVyEFwb7w3e0-uOTltm8Jsck2F5StVihD0exw2fsA">
  <meta name="google-site-verification" content="GXs5KoUUkNCoaAZn7wPN-t01Pywp9M3sEjnt_3_ZWPc">
  <meta name="google-site-verification" content="Apib7-x98H0j5cPqHWwSMm6dNU4GmODRoqxLiDzdx9I">

<meta name="octolytics-url" content="https://collector.github.com/github/collect" /><meta name="octolytics-actor-id" content="108234458" /><meta name="octolytics-actor-login" content="dashleb33" /><meta name="octolytics-actor-hash" content="efa233ef0dff9f6552fd74c3d1ab73ffa26360ea9972c3e020ee72e6d66998cd" />

  <meta name="analytics-location" content="/&lt;user-name&gt;/&lt;repo-name&gt;/blob/show" data-turbo-transient="true" />

  




  

    <meta name="user-login" content="dashleb33">

  <link rel="sudo-modal" href="/sessions/sudo_modal">

    <meta name="viewport" content="width=device-width">
    
      <meta name="description" content="Repo to supplement my tutorial on Monte Carlo Simulations and Importance Sampling - MonteCarloTutorial/MonteCarloExample.ipynb at master · pat-hanbury/MonteCarloTutorial">
      <link rel="search" type="application/opensearchdescription+xml" href="/opensearch.xml" title="GitHub">
    <link rel="fluid-icon" href="https://github.com/fluidicon.png" title="GitHub">
    <meta property="fb:app_id" content="1401488693436528">
    <meta name="apple-itunes-app" content="app-id=1477376905, app-argument=https://github.com/pat-hanbury/MonteCarloTutorial/blob/master/MonteCarloExample.ipynb" />
      <meta name="twitter:image:src" content="https://opengraph.githubassets.com/ec11637304e74ea7fd010f8e445a120fe72a135ca84f362aff95096c99d866ef/pat-hanbury/MonteCarloTutorial" /><meta name="twitter:site" content="@github" /><meta name="twitter:card" content="summary_large_image" /><meta name="twitter:title" content="MonteCarloTutorial/MonteCarloExample.ipynb at master · pat-hanbury/MonteCarloTutorial" /><meta name="twitter:description" content="Repo to supplement my tutorial on Monte Carlo Simulations and Importance Sampling - MonteCarloTutorial/MonteCarloExample.ipynb at master · pat-hanbury/MonteCarloTutorial" />
      <meta property="og:image" content="https://opengraph.githubassets.com/ec11637304e74ea7fd010f8e445a120fe72a135ca84f362aff95096c99d866ef/pat-hanbury/MonteCarloTutorial" /><meta property="og:image:alt" content="Repo to supplement my tutorial on Monte Carlo Simulations and Importance Sampling - MonteCarloTutorial/MonteCarloExample.ipynb at master · pat-hanbury/MonteCarloTutorial" /><meta property="og:image:width" content="1200" /><meta property="og:image:height" content="600" /><meta property="og:site_name" content="GitHub" /><meta property="og:type" content="object" /><meta property="og:title" content="MonteCarloTutorial/MonteCarloExample.ipynb at master · pat-hanbury/MonteCarloTutorial" /><meta property="og:url" content="https://github.com/pat-hanbury/MonteCarloTutorial" /><meta property="og:description" content="Repo to supplement my tutorial on Monte Carlo Simulations and Importance Sampling - MonteCarloTutorial/MonteCarloExample.ipynb at master · pat-hanbury/MonteCarloTutorial" />
      

      <link rel="shared-web-socket" href="wss://alive.github.com/_sockets/u/108234458/ws?session=eyJ2IjoiVjMiLCJ1IjoxMDgyMzQ0NTgsInMiOjExNDg1ODk3MDgsImMiOjM2MDk0Mjc1MDQsInQiOjE2ODc5NTYwMjl9--4a8300d6f74f4dba35455f9edc6b5558baf0a00434aefcffbb1623e31025f73a" data-refresh-url="/_alive" data-session-id="bdad8a9a050503cc09a96f6cb15c6ec9046314ef1242e463884ec27a60f5d912">
      <link rel="shared-web-socket-src" href="/assets-cdn/worker/socket-worker-71e98f781d79.js">


        <meta name="hostname" content="github.com">


      <meta name="keyboard-shortcuts-preference" content="all">

        <meta name="expected-hostname" content="github.com">

    <meta name="enabled-features" content="TURBO_EXPERIMENT_RISKY,IMAGE_METRIC_TRACKING,GEOJSON_AZURE_MAPS">


  <meta http-equiv="x-pjax-version" content="fe7e44256d443bf14c5755ad12e4e42d368515df2a18a961dfd458f9778769b2" data-turbo-track="reload">
  <meta http-equiv="x-pjax-csp-version" content="0db263f9a873141d8256f783c35f244c06d490aacc3b680f99794dd8fd59fb59" data-turbo-track="reload">
  <meta http-equiv="x-pjax-css-version" content="5ea6debf27fb959c539ef43e3bd0588d0a9a323da17b784aada60824b8dc4f8a" data-turbo-track="reload">
  <meta http-equiv="x-pjax-js-version" content="84eb1d524199c16941165a2d3924f0756b6c1a34f3b0e27f95631f58c6ab97dd" data-turbo-track="reload">

  <meta name="turbo-cache-control" content="no-preview" data-turbo-transient="">

      <meta name="turbo-cache-control" content="no-cache" data-turbo-transient>
    <meta data-hydrostats="publish">

  <meta name="go-import" content="github.com/pat-hanbury/MonteCarloTutorial git https://github.com/pat-hanbury/MonteCarloTutorial.git">

  <meta name="octolytics-dimension-user_id" content="17346536" /><meta name="octolytics-dimension-user_login" content="pat-hanbury" /><meta name="octolytics-dimension-repository_id" content="167480495" /><meta name="octolytics-dimension-repository_nwo" content="pat-hanbury/MonteCarloTutorial" /><meta name="octolytics-dimension-repository_public" content="true" /><meta name="octolytics-dimension-repository_is_fork" content="false" /><meta name="octolytics-dimension-repository_network_root_id" content="167480495" /><meta name="octolytics-dimension-repository_network_root_nwo" content="pat-hanbury/MonteCarloTutorial" />



  <meta name="turbo-body-classes" content="logged-in env-production page-responsive">


  <meta name="browser-stats-url" content="https://api.github.com/_private/browser/stats">

  <meta name="browser-errors-url" content="https://api.github.com/_private/browser/errors">

  <meta name="browser-optimizely-client-errors-url" content="https://api.github.com/_private/browser/optimizely_client/errors">

  <link rel="mask-icon" href="https://github.githubassets.com/pinned-octocat.svg" color="#000000">
  <link rel="alternate icon" class="js-site-favicon" type="image/png" href="https://github.githubassets.com/favicons/favicon.png">
  <link rel="icon" class="js-site-favicon" type="image/svg+xml" href="https://github.githubassets.com/favicons/favicon.svg">

<meta name="theme-color" content="#1e2327">
<meta name="color-scheme" content="light dark" />


  <link rel="manifest" href="/manifest.json" crossOrigin="use-credentials">

  </head>

  <body class="logged-in env-production page-responsive" style="word-wrap: break-word;">
    <div data-turbo-body class="logged-in env-production page-responsive" style="word-wrap: break-word;">
      


    <div class="position-relative js-header-wrapper ">
      <a href="#start-of-content" class="p-3 color-bg-accent-emphasis color-fg-on-emphasis show-on-focus js-skip-to-content">Skip to content</a>
      <span data-view-component="true" class="progress-pjax-loader Progress position-fixed width-full">
    <span style="width: 0%;" data-view-component="true" class="Progress-item progress-pjax-loader-bar left-0 top-0 color-bg-accent-emphasis"></span>
</span>      
      


        <script crossorigin="anonymous" defer="defer" type="application/javascript" src="https://github.githubassets.com/assets/vendors-node_modules_allex_crc32_lib_crc32_esm_js-node_modules_github_clipboard-copy-element_-2da1d5-ca2e742c29fb.js"></script>
<script crossorigin="anonymous" defer="defer" type="application/javascript" src="https://github.githubassets.com/assets/app_assets_modules_github_command-palette_items_help-item_ts-app_assets_modules_github_comman-48ad9d-3f418800033f.js"></script>
<script crossorigin="anonymous" defer="defer" type="application/javascript" src="https://github.githubassets.com/assets/command-palette-681e3f3ff8a0.js"></script>

            <header class="AppHeader">
    <div class="AppHeader-globalBar pb-2 js-global-bar">
      <div class="AppHeader-globalBar-start">
          <deferred-side-panel data-url="/_side-panels/global">
  <include-fragment data-target="deferred-side-panel.fragment">
      
  <button aria-label="Open global navigation menu" data-action="click:deferred-side-panel#loadPanel click:deferred-side-panel#panelOpened" data-show-dialog-id="dialog-d2d3e070-7e35-4105-9da6-714ea522bd2e" id="dialog-show-dialog-d2d3e070-7e35-4105-9da6-714ea522bd2e" type="button" data-view-component="true" class="Button Button--iconOnly Button--secondary Button--medium AppHeader-button color-bg-transparent p-0 color-fg-muted">    <svg aria-hidden="true" height="16" viewBox="0 0 16 16" version="1.1" width="16" data-view-component="true" class="octicon octicon-three-bars Button-visual">
    <path d="M1 2.75A.75.75 0 0 1 1.75 2h12.5a.75.75 0 0 1 0 1.5H1.75A.75.75 0 0 1 1 2.75Zm0 5A.75.75 0 0 1 1.75 7h12.5a.75.75 0 0 1 0 1.5H1.75A.75.75 0 0 1 1 7.75ZM1.75 12h12.5a.75.75 0 0 1 0 1.5H1.75a.75.75 0 0 1 0-1.5Z"></path>
</svg>
</button>  

<div class="Overlay--hidden Overlay-backdrop--side Overlay-backdrop--placement-left" data-modal-dialog-overlay>
  <modal-dialog data-target="deferred-side-panel.panel" role="dialog" id="dialog-d2d3e070-7e35-4105-9da6-714ea522bd2e" aria-modal="true" aria-disabled="true" aria-describedby="dialog-d2d3e070-7e35-4105-9da6-714ea522bd2e-title dialog-d2d3e070-7e35-4105-9da6-714ea522bd2e-description" data-view-component="true" class="Overlay Overlay-whenNarrow Overlay--size-small-portrait Overlay--motion-scaleFade SidePanel">
    <div styles="flex-direction: row;" data-view-component="true" class="Overlay-header">
  <div class="Overlay-headerContentWrap">
    <div class="Overlay-titleWrap">
      <h1 class="Overlay-title sr-only" id="dialog-d2d3e070-7e35-4105-9da6-714ea522bd2e-title">
        Global navigation
      </h1>
            <div data-view-component="true" class="d-flex">
      <div data-view-component="true" class="AppHeader-logo position-relative">
        <svg aria-hidden="true" height="24" viewBox="0 0 16 16" version="1.1" width="24" data-view-component="true" class="octicon octicon-mark-github">
    <path d="M8 0c4.42 0 8 3.58 8 8a8.013 8.013 0 0 1-5.45 7.59c-.4.08-.55-.17-.55-.38 0-.27.01-1.13.01-2.2 0-.75-.25-1.23-.54-1.48 1.78-.2 3.65-.88 3.65-3.95 0-.88-.31-1.59-.82-2.15.08-.2.36-1.02-.08-2.12 0 0-.67-.22-2.2.82-.64-.18-1.32-.27-2-.27-.68 0-1.36.09-2 .27-1.53-1.03-2.2-.82-2.2-.82-.44 1.1-.16 1.92-.08 2.12-.51.56-.82 1.28-.82 2.15 0 3.06 1.86 3.75 3.64 3.95-.23.2-.44.55-.51 1.07-.46.21-1.61.55-2.33-.66-.15-.24-.6-.83-1.23-.82-.67.01-.27.38.01.53.34.19.73.9.82 1.13.16.45.68 1.31 2.69.94 0 .67.01 1.3.01 1.49 0 .21-.15.45-.55.38A7.995 7.995 0 0 1 0 8c0-4.42 3.58-8 8-8Z"></path>
</svg>
</div></div>
    </div>
    <div class="Overlay-actionWrap">
      <button data-close-dialog-id="dialog-d2d3e070-7e35-4105-9da6-714ea522bd2e" aria-label="Close" type="button" data-view-component="true" class="close-button Overlay-closeButton"><svg aria-hidden="true" height="16" viewBox="0 0 16 16" version="1.1" width="16" data-view-component="true" class="octicon octicon-x">
    <path d="M3.72 3.72a.75.75 0 0 1 1.06 0L8 6.94l3.22-3.22a.749.749 0 0 1 1.275.326.749.749 0 0 1-.215.734L9.06 8l3.22 3.22a.749.749 0 0 1-.326 1.275.749.749 0 0 1-.734-.215L8 9.06l-3.22 3.22a.751.751 0 0 1-1.042-.018.751.751 0 0 1-.018-1.042L6.94 8 3.72 4.78a.75.75 0 0 1 0-1.06Z"></path>
</svg></button>
    </div>
  </div>
</div>
      <div data-view-component="true" class="Overlay-body d-flex flex-column height-full px-2">      <nav aria-label="Site navigation" data-view-component="true" class="ActionList">
  
  <nav-list>
    <ul data-view-component="true" class="ActionListWrap">
        
          
<li item_id="general" data-item-id="" data-targets="nav-list.items" data-view-component="true" class="ActionListItem">
    
    <a data-hotkey="g d" hydro-click="{&quot;event_type&quot;:&quot;global_header.user_menu_dropdown.click&quot;,&quot;payload&quot;:{&quot;request_url&quot;:&quot;https://github.com/pat-hanbury/MonteCarloTutorial/blob/master/MonteCarloExample.ipynb&quot;,&quot;target&quot;:&quot;HOME&quot;,&quot;originating_url&quot;:&quot;https://github.com/pat-hanbury/MonteCarloTutorial/blob/master/MonteCarloExample.ipynb&quot;,&quot;user_id&quot;:108234458}}" hydro-click-hmac="5b3a5b763a26f8e770b40a80c2ec17e1e5f869ac1a2ad3892a3e52558129fb01" id="item-a9c48382-982e-46bc-bd9b-7404a843a2f6" href="/dashboard" data-view-component="true" class="ActionListContent ActionListContent--visual16">
        <span class="ActionListItem-visual ActionListItem-visual--leading">
          <svg aria-hidden="true" height="16" viewBox="0 0 16 16" version="1.1" width="16" data-view-component="true" class="octicon octicon-home">
    <path d="M6.906.664a1.749 1.749 0 0 1 2.187 0l5.25 4.2c.415.332.657.835.657 1.367v7.019A1.75 1.75 0 0 1 13.25 15h-3.5a.75.75 0 0 1-.75-.75V9H7v5.25a.75.75 0 0 1-.75.75h-3.5A1.75 1.75 0 0 1 1 13.25V6.23c0-.531.242-1.034.657-1.366l5.25-4.2Zm1.25 1.171a.25.25 0 0 0-.312 0l-5.25 4.2a.25.25 0 0 0-.094.196v7.019c0 .138.112.25.25.25H5.5V8.25a.75.75 0 0 1 .75-.75h3.5a.75.75 0 0 1 .75.75v5.25h2.75a.25.25 0 0 0 .25-.25V6.23a.25.25 0 0 0-.094-.195Z"></path>
</svg>
        </span>
      
        <span data-view-component="true" class="ActionListItem-label">
          Home
</span></a>
  
  
</li>

        
          
<li item_id="personal_info" data-item-id="" data-targets="nav-list.items" data-view-component="true" class="ActionListItem">
    
    <a data-hotkey="g i" hydro-click="{&quot;event_type&quot;:&quot;global_header.user_menu_dropdown.click&quot;,&quot;payload&quot;:{&quot;request_url&quot;:&quot;https://github.com/pat-hanbury/MonteCarloTutorial/blob/master/MonteCarloExample.ipynb&quot;,&quot;target&quot;:&quot;ISSUES&quot;,&quot;originating_url&quot;:&quot;https://github.com/pat-hanbury/MonteCarloTutorial/blob/master/MonteCarloExample.ipynb&quot;,&quot;user_id&quot;:108234458}}" hydro-click-hmac="da83791cb28be397d5ebf167eff45fabb0e82fc37413aa13679ac7441c7b7cbc" id="item-f4ec8cdb-3e32-4d6d-879f-4d839f1198cf" href="/issues" data-view-component="true" class="ActionListContent ActionListContent--visual16">
        <span class="ActionListItem-visual ActionListItem-visual--leading">
          <svg aria-hidden="true" height="16" viewBox="0 0 16 16" version="1.1" width="16" data-view-component="true" class="octicon octicon-issue-opened">
    <path d="M8 9.5a1.5 1.5 0 1 0 0-3 1.5 1.5 0 0 0 0 3Z"></path><path d="M8 0a8 8 0 1 1 0 16A8 8 0 0 1 8 0ZM1.5 8a6.5 6.5 0 1 0 13 0 6.5 6.5 0 0 0-13 0Z"></path>
</svg>
        </span>
      
        <span data-view-component="true" class="ActionListItem-label">
          Issues
</span></a>
  
  
</li>

        
          
<li item_id="password" data-item-id="" data-targets="nav-list.items" data-view-component="true" class="ActionListItem">
    
    <a data-hotkey="g p" hydro-click="{&quot;event_type&quot;:&quot;global_header.user_menu_dropdown.click&quot;,&quot;payload&quot;:{&quot;request_url&quot;:&quot;https://github.com/pat-hanbury/MonteCarloTutorial/blob/master/MonteCarloExample.ipynb&quot;,&quot;target&quot;:&quot;PULL_REQUESTS&quot;,&quot;originating_url&quot;:&quot;https://github.com/pat-hanbury/MonteCarloTutorial/blob/master/MonteCarloExample.ipynb&quot;,&quot;user_id&quot;:108234458}}" hydro-click-hmac="27b0eb999551c6b03077212ac362feb80eb533d0bf4df2e2844c5381fd29e03d" id="item-c9cbbe22-e2b2-4937-9e37-24044a8f3874" href="/pulls" data-view-component="true" class="ActionListContent ActionListContent--visual16">
        <span class="ActionListItem-visual ActionListItem-visual--leading">
          <svg aria-hidden="true" height="16" viewBox="0 0 16 16" version="1.1" width="16" data-view-component="true" class="octicon octicon-git-pull-request">
    <path d="M1.5 3.25a2.25 2.25 0 1 1 3 2.122v5.256a2.251 2.251 0 1 1-1.5 0V5.372A2.25 2.25 0 0 1 1.5 3.25Zm5.677-.177L9.573.677A.25.25 0 0 1 10 .854V2.5h1A2.5 2.5 0 0 1 13.5 5v5.628a2.251 2.251 0 1 1-1.5 0V5a1 1 0 0 0-1-1h-1v1.646a.25.25 0 0 1-.427.177L7.177 3.427a.25.25 0 0 1 0-.354ZM3.75 2.5a.75.75 0 1 0 0 1.5.75.75 0 0 0 0-1.5Zm0 9.5a.75.75 0 1 0 0 1.5.75.75 0 0 0 0-1.5Zm8.25.75a.75.75 0 1 0 1.5 0 .75.75 0 0 0-1.5 0Z"></path>
</svg>
        </span>
      
        <span data-view-component="true" class="ActionListItem-label">
          Pull requests
</span></a>
  
  
</li>

        
          
<li item_id="billing" data-item-id="" data-targets="nav-list.items" data-view-component="true" class="ActionListItem">
    
    <a hydro-click="{&quot;event_type&quot;:&quot;global_header.user_menu_dropdown.click&quot;,&quot;payload&quot;:{&quot;request_url&quot;:&quot;https://github.com/pat-hanbury/MonteCarloTutorial/blob/master/MonteCarloExample.ipynb&quot;,&quot;target&quot;:&quot;DISCUSSIONS&quot;,&quot;originating_url&quot;:&quot;https://github.com/pat-hanbury/MonteCarloTutorial/blob/master/MonteCarloExample.ipynb&quot;,&quot;user_id&quot;:108234458}}" hydro-click-hmac="4a011544e596e542b0ae43410290657e93e7797cb03a7dae15bc309303525a09" id="item-bc522d8d-bea8-4ad9-998d-c22f9ed7a481" href="/discussions" data-view-component="true" class="ActionListContent ActionListContent--visual16">
        <span class="ActionListItem-visual ActionListItem-visual--leading">
          <svg aria-hidden="true" height="16" viewBox="0 0 16 16" version="1.1" width="16" data-view-component="true" class="octicon octicon-comment-discussion">
    <path d="M1.75 1h8.5c.966 0 1.75.784 1.75 1.75v5.5A1.75 1.75 0 0 1 10.25 10H7.061l-2.574 2.573A1.458 1.458 0 0 1 2 11.543V10h-.25A1.75 1.75 0 0 1 0 8.25v-5.5C0 1.784.784 1 1.75 1ZM1.5 2.75v5.5c0 .138.112.25.25.25h1a.75.75 0 0 1 .75.75v2.19l2.72-2.72a.749.749 0 0 1 .53-.22h3.5a.25.25 0 0 0 .25-.25v-5.5a.25.25 0 0 0-.25-.25h-8.5a.25.25 0 0 0-.25.25Zm13 2a.25.25 0 0 0-.25-.25h-.5a.75.75 0 0 1 0-1.5h.5c.966 0 1.75.784 1.75 1.75v5.5A1.75 1.75 0 0 1 14.25 12H14v1.543a1.458 1.458 0 0 1-2.487 1.03L9.22 12.28a.749.749 0 0 1 .326-1.275.749.749 0 0 1 .734.215l2.22 2.22v-2.19a.75.75 0 0 1 .75-.75h1a.25.25 0 0 0 .25-.25Z"></path>
</svg>
        </span>
      
        <span data-view-component="true" class="ActionListItem-label">
          Discussions
</span></a>
  
  
</li>

</ul>  </nav-list>
</nav>

      <div data-view-component="true" class="my-3 d-flex flex-justify-center height-full">
        <svg style="box-sizing: content-box; color: var(--color-icon-primary);" width="16" height="16" viewBox="0 0 16 16" fill="none" data-view-component="true" class="anim-rotate">
  <circle cx="8" cy="8" r="7" stroke="currentColor" stroke-opacity="0.25" stroke-width="2" vector-effect="non-scaling-stroke" />
  <path d="M15 8a7.002 7.002 0 00-7-7" stroke="currentColor" stroke-width="2" stroke-linecap="round" vector-effect="non-scaling-stroke" />
</svg>
</div>
</div>
      <div data-view-component="true" class="Overlay-footer Overlay-footer--alignEnd d-block pt-0">      <li role="presentation" aria-hidden="true" data-view-component="true" class="ActionList-sectionDivider mt-0 mb-1"></li>

        <nav aria-label="Additional navigation" data-view-component="true" class="ActionList px-0 flex-1">
  
  <nav-list>
    <ul data-view-component="true" class="ActionListWrap">
        
          
<li item_id="general" data-item-id="" data-targets="nav-list.items" data-view-component="true" class="ActionListItem">
    
    <a hydro-click="{&quot;event_type&quot;:&quot;global_header.user_menu_dropdown.click&quot;,&quot;payload&quot;:{&quot;request_url&quot;:&quot;https://github.com/pat-hanbury/MonteCarloTutorial/blob/master/MonteCarloExample.ipynb&quot;,&quot;target&quot;:&quot;EXPLORE&quot;,&quot;originating_url&quot;:&quot;https://github.com/pat-hanbury/MonteCarloTutorial/blob/master/MonteCarloExample.ipynb&quot;,&quot;user_id&quot;:108234458}}" hydro-click-hmac="4f6674c041114f149a1e7be8fdabbe1c93c83e075578737800a8fd4b5233dae1" id="item-be235c15-9857-41b5-a2f6-735450335b17" href="/explore" data-view-component="true" class="ActionListContent ActionListContent--visual16">
        <span class="ActionListItem-visual ActionListItem-visual--leading">
          <svg aria-hidden="true" height="16" viewBox="0 0 16 16" version="1.1" width="16" data-view-component="true" class="octicon octicon-telescope">
    <path d="M14.184 1.143v-.001l1.422 2.464a1.75 1.75 0 0 1-.757 2.451L3.104 11.713a1.75 1.75 0 0 1-2.275-.702l-.447-.775a1.75 1.75 0 0 1 .53-2.32L11.682.573a1.748 1.748 0 0 1 2.502.57Zm-4.709 9.32h-.001l2.644 3.863a.75.75 0 1 1-1.238.848l-1.881-2.75v2.826a.75.75 0 0 1-1.5 0v-2.826l-1.881 2.75a.75.75 0 1 1-1.238-.848l2.049-2.992a.746.746 0 0 1 .293-.253l1.809-.87a.749.749 0 0 1 .944.252ZM9.436 3.92h-.001l-4.97 3.39.942 1.63 5.42-2.61Zm3.091-2.108h.001l-1.85 1.26 1.505 2.605 2.016-.97a.247.247 0 0 0 .13-.151.247.247 0 0 0-.022-.199l-1.422-2.464a.253.253 0 0 0-.161-.119.254.254 0 0 0-.197.038ZM1.756 9.157a.25.25 0 0 0-.075.33l.447.775a.25.25 0 0 0 .325.1l1.598-.769-.83-1.436-1.465 1Z"></path>
</svg>
        </span>
      
        <span data-view-component="true" class="ActionListItem-label">
          Explore
</span></a>
  
  
</li>

        
          
<li item_id="general" data-item-id="" data-targets="nav-list.items" data-view-component="true" class="ActionListItem">
    
    <a hydro-click="{&quot;event_type&quot;:&quot;global_header.user_menu_dropdown.click&quot;,&quot;payload&quot;:{&quot;request_url&quot;:&quot;https://github.com/pat-hanbury/MonteCarloTutorial/blob/master/MonteCarloExample.ipynb&quot;,&quot;target&quot;:&quot;MARKETPLACE&quot;,&quot;originating_url&quot;:&quot;https://github.com/pat-hanbury/MonteCarloTutorial/blob/master/MonteCarloExample.ipynb&quot;,&quot;user_id&quot;:108234458}}" hydro-click-hmac="a5b9e6b084ee4dfd4b5c68bb6771516334a6b7e4c0a7ebba58b55d1b6ef793ee" id="item-3ed96b1a-d370-4020-818b-5d7ef8705ace" href="/marketplace" data-view-component="true" class="ActionListContent ActionListContent--visual16">
        <span class="ActionListItem-visual ActionListItem-visual--leading">
          <svg aria-hidden="true" height="16" viewBox="0 0 16 16" version="1.1" width="16" data-view-component="true" class="octicon octicon-gift">
    <path d="M2 2.75A2.75 2.75 0 0 1 4.75 0c.983 0 1.873.42 2.57 1.232.268.318.497.668.68 1.042.183-.375.411-.725.68-1.044C9.376.42 10.266 0 11.25 0a2.75 2.75 0 0 1 2.45 4h.55c.966 0 1.75.784 1.75 1.75v2c0 .698-.409 1.301-1 1.582v4.918A1.75 1.75 0 0 1 13.25 16H2.75A1.75 1.75 0 0 1 1 14.25V9.332C.409 9.05 0 8.448 0 7.75v-2C0 4.784.784 4 1.75 4h.55c-.192-.375-.3-.8-.3-1.25ZM7.25 9.5H2.5v4.75c0 .138.112.25.25.25h4.5Zm1.5 0v5h4.5a.25.25 0 0 0 .25-.25V9.5Zm0-4V8h5.5a.25.25 0 0 0 .25-.25v-2a.25.25 0 0 0-.25-.25Zm-7 0a.25.25 0 0 0-.25.25v2c0 .138.112.25.25.25h5.5V5.5h-5.5Zm3-4a1.25 1.25 0 0 0 0 2.5h2.309c-.233-.818-.542-1.401-.878-1.793-.43-.502-.915-.707-1.431-.707ZM8.941 4h2.309a1.25 1.25 0 0 0 0-2.5c-.516 0-1 .205-1.43.707-.337.392-.646.975-.879 1.793Z"></path>
</svg>
        </span>
      
        <span data-view-component="true" class="ActionListItem-label">
          Marketplace
</span></a>
  
  
</li>

        
          
<li item_id="feedback" data-item-id="" data-targets="nav-list.items" data-view-component="true" class="ActionListItem">
    
    <a id="item-f9c83684-e52d-4100-8a12-8268f8ce33a7" href="https://gh.io/navigation-update" data-view-component="true" class="ActionListContent ActionListContent--visual16">
        <span class="ActionListItem-visual ActionListItem-visual--leading">
          <svg aria-hidden="true" height="16" viewBox="0 0 16 16" version="1.1" width="16" data-view-component="true" class="octicon octicon-comment-discussion">
    <path d="M1.75 1h8.5c.966 0 1.75.784 1.75 1.75v5.5A1.75 1.75 0 0 1 10.25 10H7.061l-2.574 2.573A1.458 1.458 0 0 1 2 11.543V10h-.25A1.75 1.75 0 0 1 0 8.25v-5.5C0 1.784.784 1 1.75 1ZM1.5 2.75v5.5c0 .138.112.25.25.25h1a.75.75 0 0 1 .75.75v2.19l2.72-2.72a.749.749 0 0 1 .53-.22h3.5a.25.25 0 0 0 .25-.25v-5.5a.25.25 0 0 0-.25-.25h-8.5a.25.25 0 0 0-.25.25Zm13 2a.25.25 0 0 0-.25-.25h-.5a.75.75 0 0 1 0-1.5h.5c.966 0 1.75.784 1.75 1.75v5.5A1.75 1.75 0 0 1 14.25 12H14v1.543a1.458 1.458 0 0 1-2.487 1.03L9.22 12.28a.749.749 0 0 1 .326-1.275.749.749 0 0 1 .734.215l2.22 2.22v-2.19a.75.75 0 0 1 .75-.75h1a.25.25 0 0 0 .25-.25Z"></path>
</svg>
        </span>
      
        <span data-view-component="true" class="ActionListItem-label">
          Give new navigation feedback
</span>        <span class="ActionListItem-visual ActionListItem-visual--trailing">
          <span title="Beta" data-view-component="true" class="Counter color-bg-default color-border-success-emphasis color-fg-success">Beta</span>
        </span>
</a>
  
  
</li>

</ul>  </nav-list>
</nav>

      <div data-view-component="true" class="px-2">      <p class="color-fg-subtle text-small text-light">&copy; 2023 GitHub, Inc.</p>

      <div data-view-component="true" class="d-flex text-small text-light">
          <a target="_blank" href="/about" data-view-component="true" class="no-underline mr-2">About</a>
          <a target="_blank" href="https://github.blog" data-view-component="true" class="no-underline mr-2">Blog</a>
          <a target="_blank" href="https://docs.github.com/site-policy/github-terms/github-terms-of-service" data-view-component="true" class="no-underline mr-2">Terms</a>
          <a target="_blank" href="https://docs.github.com/site-policy/privacy-policies/github-privacy-statement" data-view-component="true" class="no-underline mr-2">Privacy</a>
          <a target="_blank" href="/security" data-view-component="true" class="no-underline mr-2">Security</a>
        <a target="_blank" href="https://www.githubstatus.com/" data-view-component="true" class="no-underline mr-3">Status</a>
</div></div>
</div>
</modal-dialog></div>

  </include-fragment>
</deferred-side-panel>

        <a
          class="AppHeader-logo ml-2"
          href="https://github.com/"
          data-hotkey="g d"
          aria-label="Homepage "
          data-turbo="false"
          data-analytics-event="{&quot;category&quot;:&quot;Header&quot;,&quot;action&quot;:&quot;go to dashboard&quot;,&quot;label&quot;:&quot;icon:logo&quot;}"
        >
          <svg height="32" aria-hidden="true" viewBox="0 0 16 16" version="1.1" width="32" data-view-component="true" class="octicon octicon-mark-github v-align-middle color-fg-default">
    <path d="M8 0c4.42 0 8 3.58 8 8a8.013 8.013 0 0 1-5.45 7.59c-.4.08-.55-.17-.55-.38 0-.27.01-1.13.01-2.2 0-.75-.25-1.23-.54-1.48 1.78-.2 3.65-.88 3.65-3.95 0-.88-.31-1.59-.82-2.15.08-.2.36-1.02-.08-2.12 0 0-.67-.22-2.2.82-.64-.18-1.32-.27-2-.27-.68 0-1.36.09-2 .27-1.53-1.03-2.2-.82-2.2-.82-.44 1.1-.16 1.92-.08 2.12-.51.56-.82 1.28-.82 2.15 0 3.06 1.86 3.75 3.64 3.95-.23.2-.44.55-.51 1.07-.46.21-1.61.55-2.33-.66-.15-.24-.6-.83-1.23-.82-.67.01-.27.38.01.53.34.19.73.9.82 1.13.16.45.68 1.31 2.69.94 0 .67.01 1.3.01 1.49 0 .21-.15.45-.55.38A7.995 7.995 0 0 1 0 8c0-4.42 3.58-8 8-8Z"></path>
</svg>
        </a>

          <div class="AppHeader-context" >
  <div class="AppHeader-context-compact">
        <button aria-expanded="false" aria-haspopup="dialog" aria-label="Page context: pat-hanbury / MonteCarloTutorial" id="dialog-show-context-region-dialog" data-show-dialog-id="context-region-dialog" type="button" data-view-component="true" class="AppHeader-context-compact-trigger Truncate Button--secondary Button--medium Button box-shadow-none">    <span class="Button-content">
      <span class="Button-label"><span class="AppHeader-context-compact-lead">
                <span class="AppHeader-context-compact-parentItem">pat-hanbury</span>
                <span class="AppHeader-context-compact-separator">&nbsp;/</span>

            </span>

            <strong class="AppHeader-context-compact-mainItem d-flex flex-items-center Truncate" >
  <span class="Truncate-text ">MonteCarloTutorial</span>

</strong></span>
    </span>
</button>  

<div class="Overlay--hidden Overlay-backdrop--center" data-modal-dialog-overlay>
  <modal-dialog role="dialog" id="context-region-dialog" aria-modal="true" aria-disabled="true" aria-describedby="context-region-dialog-title context-region-dialog-description" data-view-component="true" class="Overlay Overlay-whenNarrow Overlay--size-medium Overlay--motion-scaleFade">
    <div data-view-component="true" class="Overlay-header">
  <div class="Overlay-headerContentWrap">
    <div class="Overlay-titleWrap">
      <h1 class="Overlay-title " id="context-region-dialog-title">
        Navigate back to
      </h1>
    </div>
    <div class="Overlay-actionWrap">
      <button data-close-dialog-id="context-region-dialog" aria-label="Close" type="button" data-view-component="true" class="close-button Overlay-closeButton"><svg aria-hidden="true" height="16" viewBox="0 0 16 16" version="1.1" width="16" data-view-component="true" class="octicon octicon-x">
    <path d="M3.72 3.72a.75.75 0 0 1 1.06 0L8 6.94l3.22-3.22a.749.749 0 0 1 1.275.326.749.749 0 0 1-.215.734L9.06 8l3.22 3.22a.749.749 0 0 1-.326 1.275.749.749 0 0 1-.734-.215L8 9.06l-3.22 3.22a.751.751 0 0 1-1.042-.018.751.751 0 0 1-.018-1.042L6.94 8 3.72 4.78a.75.75 0 0 1 0-1.06Z"></path>
</svg></button>
    </div>
  </div>
</div>
      <div data-view-component="true" class="Overlay-body">          <ul role="list" class="list-style-none" >
    <li>
      <a data-analytics-event="{&quot;category&quot;:&quot;SiteHeaderComponent&quot;,&quot;action&quot;:&quot;context_region_crumb&quot;,&quot;label&quot;:&quot;pat-hanbury&quot;,&quot;screen_size&quot;:&quot;compact&quot;}" href="/pat-hanbury" data-view-component="true" class="Link--primary Truncate d-flex flex-items-center py-1">
        <span class="AppHeader-context-item-label Truncate-text ">
          pat-hanbury
        </span>

</a>
    </li>
    <li>
      <a data-analytics-event="{&quot;category&quot;:&quot;SiteHeaderComponent&quot;,&quot;action&quot;:&quot;context_region_crumb&quot;,&quot;label&quot;:&quot;MonteCarloTutorial&quot;,&quot;screen_size&quot;:&quot;compact&quot;}" href="/pat-hanbury/MonteCarloTutorial" data-view-component="true" class="Link--primary Truncate d-flex flex-items-center py-1">
        <span class="AppHeader-context-item-label Truncate-text ">
          MonteCarloTutorial
        </span>

</a>
    </li>
</ul>

</div>
      
</modal-dialog></div>
  </div>

  <div class="AppHeader-context-full">
    <nav role="navigation" aria-label="Page context">
      <ul role="list" class="list-style-none" >
    <li>
      <a data-analytics-event="{&quot;category&quot;:&quot;SiteHeaderComponent&quot;,&quot;action&quot;:&quot;context_region_crumb&quot;,&quot;label&quot;:&quot;pat-hanbury&quot;,&quot;screen_size&quot;:&quot;full&quot;}" data-hovercard-type="user" data-hovercard-url="/users/pat-hanbury/hovercard" data-octo-click="hovercard-link-click" data-octo-dimensions="link_type:self" href="/pat-hanbury" data-view-component="true" class="AppHeader-context-item">
        <span class="AppHeader-context-item-label  ">
          pat-hanbury
        </span>

</a>
        <span class="AppHeader-context-item-separator">/</span>
    </li>
    <li>
      <a data-analytics-event="{&quot;category&quot;:&quot;SiteHeaderComponent&quot;,&quot;action&quot;:&quot;context_region_crumb&quot;,&quot;label&quot;:&quot;MonteCarloTutorial&quot;,&quot;screen_size&quot;:&quot;full&quot;}" href="/pat-hanbury/MonteCarloTutorial" data-view-component="true" class="AppHeader-context-item">
        <span class="AppHeader-context-item-label  ">
          MonteCarloTutorial
        </span>

</a>
    </li>
</ul>

    </nav>
  </div>
</div>

      </div>
      <div class="AppHeader-globalBar-end">
          <div class="AppHeader-search" >
              


<template id="search-icon">
  <svg aria-hidden="true" height="16" viewBox="0 0 16 16" version="1.1" width="16" data-view-component="true" class="octicon octicon-search">
    <path d="M10.68 11.74a6 6 0 0 1-7.922-8.982 6 6 0 0 1 8.982 7.922l3.04 3.04a.749.749 0 0 1-.326 1.275.749.749 0 0 1-.734-.215ZM11.5 7a4.499 4.499 0 1 0-8.997 0A4.499 4.499 0 0 0 11.5 7Z"></path>
</svg>
</template>

<template id="code-icon">
  <svg aria-hidden="true" height="16" viewBox="0 0 16 16" version="1.1" width="16" data-view-component="true" class="octicon octicon-code">
    <path d="m11.28 3.22 4.25 4.25a.75.75 0 0 1 0 1.06l-4.25 4.25a.749.749 0 0 1-1.275-.326.749.749 0 0 1 .215-.734L13.94 8l-3.72-3.72a.749.749 0 0 1 .326-1.275.749.749 0 0 1 .734.215Zm-6.56 0a.751.751 0 0 1 1.042.018.751.751 0 0 1 .018 1.042L2.06 8l3.72 3.72a.749.749 0 0 1-.326 1.275.749.749 0 0 1-.734-.215L.47 8.53a.75.75 0 0 1 0-1.06Z"></path>
</svg>
</template>

<template id="file-code-icon">
  <svg aria-hidden="true" height="16" viewBox="0 0 16 16" version="1.1" width="16" data-view-component="true" class="octicon octicon-file-code">
    <path d="M4 1.75C4 .784 4.784 0 5.75 0h5.586c.464 0 .909.184 1.237.513l2.914 2.914c.329.328.513.773.513 1.237v8.586A1.75 1.75 0 0 1 14.25 15h-9a.75.75 0 0 1 0-1.5h9a.25.25 0 0 0 .25-.25V6h-2.75A1.75 1.75 0 0 1 10 4.25V1.5H5.75a.25.25 0 0 0-.25.25v2.5a.75.75 0 0 1-1.5 0Zm1.72 4.97a.75.75 0 0 1 1.06 0l2 2a.75.75 0 0 1 0 1.06l-2 2a.749.749 0 0 1-1.275-.326.749.749 0 0 1 .215-.734l1.47-1.47-1.47-1.47a.75.75 0 0 1 0-1.06ZM3.28 7.78 1.81 9.25l1.47 1.47a.751.751 0 0 1-.018 1.042.751.751 0 0 1-1.042.018l-2-2a.75.75 0 0 1 0-1.06l2-2a.751.751 0 0 1 1.042.018.751.751 0 0 1 .018 1.042Zm8.22-6.218V4.25c0 .138.112.25.25.25h2.688l-.011-.013-2.914-2.914-.013-.011Z"></path>
</svg>
</template>

<template id="history-icon">
  <svg aria-hidden="true" height="16" viewBox="0 0 16 16" version="1.1" width="16" data-view-component="true" class="octicon octicon-history">
    <path d="m.427 1.927 1.215 1.215a8.002 8.002 0 1 1-1.6 5.685.75.75 0 1 1 1.493-.154 6.5 6.5 0 1 0 1.18-4.458l1.358 1.358A.25.25 0 0 1 3.896 6H.25A.25.25 0 0 1 0 5.75V2.104a.25.25 0 0 1 .427-.177ZM7.75 4a.75.75 0 0 1 .75.75v2.992l2.028.812a.75.75 0 0 1-.557 1.392l-2.5-1A.751.751 0 0 1 7 8.25v-3.5A.75.75 0 0 1 7.75 4Z"></path>
</svg>
</template>

<template id="repo-icon">
  <svg aria-hidden="true" height="16" viewBox="0 0 16 16" version="1.1" width="16" data-view-component="true" class="octicon octicon-repo">
    <path d="M2 2.5A2.5 2.5 0 0 1 4.5 0h8.75a.75.75 0 0 1 .75.75v12.5a.75.75 0 0 1-.75.75h-2.5a.75.75 0 0 1 0-1.5h1.75v-2h-8a1 1 0 0 0-.714 1.7.75.75 0 1 1-1.072 1.05A2.495 2.495 0 0 1 2 11.5Zm10.5-1h-8a1 1 0 0 0-1 1v6.708A2.486 2.486 0 0 1 4.5 9h8ZM5 12.25a.25.25 0 0 1 .25-.25h3.5a.25.25 0 0 1 .25.25v3.25a.25.25 0 0 1-.4.2l-1.45-1.087a.249.249 0 0 0-.3 0L5.4 15.7a.25.25 0 0 1-.4-.2Z"></path>
</svg>
</template>

<template id="bookmark-icon">
  <svg aria-hidden="true" height="16" viewBox="0 0 16 16" version="1.1" width="16" data-view-component="true" class="octicon octicon-bookmark">
    <path d="M3 2.75C3 1.784 3.784 1 4.75 1h6.5c.966 0 1.75.784 1.75 1.75v11.5a.75.75 0 0 1-1.227.579L8 11.722l-3.773 3.107A.751.751 0 0 1 3 14.25Zm1.75-.25a.25.25 0 0 0-.25.25v9.91l3.023-2.489a.75.75 0 0 1 .954 0l3.023 2.49V2.75a.25.25 0 0 0-.25-.25Z"></path>
</svg>
</template>

<template id="plus-circle-icon">
  <svg aria-hidden="true" height="16" viewBox="0 0 16 16" version="1.1" width="16" data-view-component="true" class="octicon octicon-plus-circle">
    <path d="M8 0a8 8 0 1 1 0 16A8 8 0 0 1 8 0ZM1.5 8a6.5 6.5 0 1 0 13 0 6.5 6.5 0 0 0-13 0Zm7.25-3.25v2.5h2.5a.75.75 0 0 1 0 1.5h-2.5v2.5a.75.75 0 0 1-1.5 0v-2.5h-2.5a.75.75 0 0 1 0-1.5h2.5v-2.5a.75.75 0 0 1 1.5 0Z"></path>
</svg>
</template>

<template id="circle-icon">
  <svg aria-hidden="true" height="16" viewBox="0 0 16 16" version="1.1" width="16" data-view-component="true" class="octicon octicon-dot-fill">
    <path d="M8 4a4 4 0 1 1 0 8 4 4 0 0 1 0-8Z"></path>
</svg>
</template>

<template id="trash-icon">
  <svg aria-hidden="true" height="16" viewBox="0 0 16 16" version="1.1" width="16" data-view-component="true" class="octicon octicon-trash">
    <path d="M11 1.75V3h2.25a.75.75 0 0 1 0 1.5H2.75a.75.75 0 0 1 0-1.5H5V1.75C5 .784 5.784 0 6.75 0h2.5C10.216 0 11 .784 11 1.75ZM4.496 6.675l.66 6.6a.25.25 0 0 0 .249.225h5.19a.25.25 0 0 0 .249-.225l.66-6.6a.75.75 0 0 1 1.492.149l-.66 6.6A1.748 1.748 0 0 1 10.595 15h-5.19a1.75 1.75 0 0 1-1.741-1.575l-.66-6.6a.75.75 0 1 1 1.492-.15ZM6.5 1.75V3h3V1.75a.25.25 0 0 0-.25-.25h-2.5a.25.25 0 0 0-.25.25Z"></path>
</svg>
</template>

<template id="team-icon">
  <svg aria-hidden="true" height="16" viewBox="0 0 16 16" version="1.1" width="16" data-view-component="true" class="octicon octicon-people">
    <path d="M2 5.5a3.5 3.5 0 1 1 5.898 2.549 5.508 5.508 0 0 1 3.034 4.084.75.75 0 1 1-1.482.235 4 4 0 0 0-7.9 0 .75.75 0 0 1-1.482-.236A5.507 5.507 0 0 1 3.102 8.05 3.493 3.493 0 0 1 2 5.5ZM11 4a3.001 3.001 0 0 1 2.22 5.018 5.01 5.01 0 0 1 2.56 3.012.749.749 0 0 1-.885.954.752.752 0 0 1-.549-.514 3.507 3.507 0 0 0-2.522-2.372.75.75 0 0 1-.574-.73v-.352a.75.75 0 0 1 .416-.672A1.5 1.5 0 0 0 11 5.5.75.75 0 0 1 11 4Zm-5.5-.5a2 2 0 1 0-.001 3.999A2 2 0 0 0 5.5 3.5Z"></path>
</svg>
</template>

<template id="project-icon">
  <svg aria-hidden="true" height="16" viewBox="0 0 16 16" version="1.1" width="16" data-view-component="true" class="octicon octicon-project">
    <path d="M1.75 0h12.5C15.216 0 16 .784 16 1.75v12.5A1.75 1.75 0 0 1 14.25 16H1.75A1.75 1.75 0 0 1 0 14.25V1.75C0 .784.784 0 1.75 0ZM1.5 1.75v12.5c0 .138.112.25.25.25h12.5a.25.25 0 0 0 .25-.25V1.75a.25.25 0 0 0-.25-.25H1.75a.25.25 0 0 0-.25.25ZM11.75 3a.75.75 0 0 1 .75.75v7.5a.75.75 0 0 1-1.5 0v-7.5a.75.75 0 0 1 .75-.75Zm-8.25.75a.75.75 0 0 1 1.5 0v5.5a.75.75 0 0 1-1.5 0ZM8 3a.75.75 0 0 1 .75.75v3.5a.75.75 0 0 1-1.5 0v-3.5A.75.75 0 0 1 8 3Z"></path>
</svg>
</template>

<template id="pencil-icon">
  <svg aria-hidden="true" height="16" viewBox="0 0 16 16" version="1.1" width="16" data-view-component="true" class="octicon octicon-pencil">
    <path d="M11.013 1.427a1.75 1.75 0 0 1 2.474 0l1.086 1.086a1.75 1.75 0 0 1 0 2.474l-8.61 8.61c-.21.21-.47.364-.756.445l-3.251.93a.75.75 0 0 1-.927-.928l.929-3.25c.081-.286.235-.547.445-.758l8.61-8.61Zm.176 4.823L9.75 4.81l-6.286 6.287a.253.253 0 0 0-.064.108l-.558 1.953 1.953-.558a.253.253 0 0 0 .108-.064Zm1.238-3.763a.25.25 0 0 0-.354 0L10.811 3.75l1.439 1.44 1.263-1.263a.25.25 0 0 0 0-.354Z"></path>
</svg>
</template>

<qbsearch-input class="search-input" data-scope="repo:pat-hanbury/MonteCarloTutorial" data-custom-scopes-path="/search/custom_scopes" data-delete-custom-scopes-csrf="0onsTeq_NNLUN4KAkFojEjqaeKMOuJrn6Vi7_kCY2yqptiSpn6qGIjbMnsyW5Om_OFqli-61HU_ipJnI1UJLig" data-max-custom-scopes="10" data-header-redesign-enabled="true" data-initial-value="" data-blackbird-suggestions-path="/search/suggestions" data-jump-to-suggestions-path="/_graphql/GetSuggestedNavigationDestinations" data-current-repository="pat-hanbury/MonteCarloTutorial" data-current-org="" data-current-owner="pat-hanbury">
  <div
    class="search-input-container search-with-dialog position-relative d-flex flex-row flex-items-center height-auto color-bg-transparent border-0 color-fg-subtle mx-0"
    data-action="click:qbsearch-input#searchInputContainerClicked"
  >
      
            <button type="button" data-action="click:qbsearch-input#handleExpand" class="AppHeader-button AppHeader-search-whenNarrow" aria-label="Search or jump to…" aria-expanded="false" aria-haspopup="dialog">
            <svg aria-hidden="true" height="16" viewBox="0 0 16 16" version="1.1" width="16" data-view-component="true" class="octicon octicon-search">
    <path d="M10.68 11.74a6 6 0 0 1-7.922-8.982 6 6 0 0 1 8.982 7.922l3.04 3.04a.749.749 0 0 1-.326 1.275.749.749 0 0 1-.734-.215ZM11.5 7a4.499 4.499 0 1 0-8.997 0A4.499 4.499 0 0 0 11.5 7Z"></path>
</svg>
          </button>


<div class="AppHeader-search-whenRegular">
  <div class="AppHeader-search-wrap AppHeader-search-wrap--hasTrailing">
    <div class="AppHeader-search-control">
      <label
        for="AppHeader-searchInput"
        aria-label="Search or jump to…"
        class="AppHeader-search-visual--leading"
      >
        <svg aria-hidden="true" height="16" viewBox="0 0 16 16" version="1.1" width="16" data-view-component="true" class="octicon octicon-search">
    <path d="M10.68 11.74a6 6 0 0 1-7.922-8.982 6 6 0 0 1 8.982 7.922l3.04 3.04a.749.749 0 0 1-.326 1.275.749.749 0 0 1-.734-.215ZM11.5 7a4.499 4.499 0 1 0-8.997 0A4.499 4.499 0 0 0 11.5 7Z"></path>
</svg>
      </label>

                <button
            type="button"
            data-target="qbsearch-input.inputButton"
            data-action="click:qbsearch-input#handleExpand"
            class="AppHeader-searchButton form-control input-contrast text-left color-fg-subtle no-wrap"
            data-hotkey="s,/"
          >
            <div class="overflow-hidden">
              <span data-target="qbsearch-input.inputButtonText">
                  Type <kbd class="AppHeader-search-kbd">/</kbd> to search
              </span>
            </div>
          </button>

    </div>


      <button type="button" id="AppHeader-commandPalette-button" class="AppHeader-search-action--trailing js-activate-command-palette" data-analytics-event="{&quot;category&quot;:&quot;SiteHeaderComponent&quot;,&quot;action&quot;:&quot;command_palette&quot;,&quot;label&quot;:&quot;open command palette&quot;}">
        <svg aria-hidden="true" height="16" viewBox="0 0 16 16" version="1.1" width="16" data-view-component="true" class="octicon octicon-command-palette">
    <path d="m6.354 8.04-4.773 4.773a.75.75 0 1 0 1.061 1.06L7.945 8.57a.75.75 0 0 0 0-1.06L2.642 2.206a.75.75 0 0 0-1.06 1.061L6.353 8.04ZM8.75 11.5a.75.75 0 0 0 0 1.5h5.5a.75.75 0 0 0 0-1.5h-5.5Z"></path>
</svg>
      </button>

      <tool-tip id="tooltip-97e5ae59-0b2e-46c7-8e52-d3c0f38aecd0" for="AppHeader-commandPalette-button" data-direction="s" data-type="label" data-view-component="true" class="sr-only position-absolute">Command palette</tool-tip>
  </div>
</div>

    <input type="hidden" name="type" class="js-site-search-type-field">

    
<div class="Overlay--hidden " data-modal-dialog-overlay>
  <modal-dialog data-action="close:qbsearch-input#handleClose cancel:qbsearch-input#handleClose" data-target="qbsearch-input.searchSuggestionsDialog" role="dialog" id="search-suggestions-dialog" aria-modal="true" aria-labelledby="search-suggestions-dialog-header" data-view-component="true" class="Overlay Overlay--width-medium Overlay--height-auto">
      <h1 id="search-suggestions-dialog-header" class="sr-only">Search code, repositories, users, issues, pull requests...</h1>
    <div class="Overlay-body Overlay-body--paddingNone">
      
          <div data-view-component="true">        <div class="search-suggestions position-absolute width-full color-shadow-large border color-fg-default color-bg-default overflow-hidden d-flex flex-column query-builder-container"
          style="border-radius: 12px;"
          data-target="qbsearch-input.queryBuilderContainer"
          hidden
        >
          <!-- '"` --><!-- </textarea></xmp> --></option></form><form id="query-builder-test-form" action="" accept-charset="UTF-8" method="get">
  <query-builder data-target="qbsearch-input.queryBuilder" id="query-builder-query-builder-test" data-filter-key=":" data-view-component="true" class="QueryBuilder search-query-builder">
    <div class="FormControl FormControl--fullWidth">
      <label id="query-builder-test-label" for="query-builder-test" class="FormControl-label sr-only">
        Search
      </label>
      <div class="QueryBuilder-StyledInput width-fit" data-target="query-builder.styledInput">
          <span id="query-builder-test-leadingvisual-wrap" class="FormControl-input-leadingVisualWrap QueryBuilder-leadingVisualWrap">
            <svg aria-hidden="true" height="16" viewBox="0 0 16 16" version="1.1" width="16" data-view-component="true" class="octicon octicon-search FormControl-input-leadingVisual">
    <path d="M10.68 11.74a6 6 0 0 1-7.922-8.982 6 6 0 0 1 8.982 7.922l3.04 3.04a.749.749 0 0 1-.326 1.275.749.749 0 0 1-.734-.215ZM11.5 7a4.499 4.499 0 1 0-8.997 0A4.499 4.499 0 0 0 11.5 7Z"></path>
</svg>
          </span>
        <div data-target="query-builder.styledInputContainer" class="QueryBuilder-StyledInputContainer">
          <div
            aria-hidden="true"
            class="QueryBuilder-StyledInputContent"
            data-target="query-builder.styledInputContent"
          ></div>
          <div class="QueryBuilder-InputWrapper">
            <div aria-hidden="true" class="QueryBuilder-Sizer" data-target="query-builder.sizer"></div>
            <input id="query-builder-test" name="query-builder-test" value="" autocomplete="off" type="text" role="combobox" spellcheck="false" aria-expanded="false" data-target="query-builder.input" data-action="
          input:query-builder#inputChange
          blur:query-builder#inputBlur
          keydown:query-builder#inputKeydown
          focus:query-builder#inputFocus
        " data-view-component="true" class="FormControl-input QueryBuilder-Input FormControl-medium" />
          </div>
        </div>
          <span class="sr-only" id="query-builder-test-clear">Clear</span>
          
  <button role="button" id="query-builder-test-clear-button" aria-labelledby="query-builder-test-clear query-builder-test-label" data-target="query-builder.clearButton" data-action="
                click:query-builder#clear
                focus:query-builder#clearButtonFocus
                blur:query-builder#clearButtonBlur
              " variant="small" hidden="hidden" type="button" data-view-component="true" class="Button Button--iconOnly Button--invisible Button--medium mr-1 px-2 py-0 d-flex flex-items-center rounded-1 color-fg-muted">    <svg aria-hidden="true" height="16" viewBox="0 0 16 16" version="1.1" width="16" data-view-component="true" class="octicon octicon-x-circle-fill Button-visual">
    <path d="M2.343 13.657A8 8 0 1 1 13.658 2.343 8 8 0 0 1 2.343 13.657ZM6.03 4.97a.751.751 0 0 0-1.042.018.751.751 0 0 0-.018 1.042L6.94 8 4.97 9.97a.749.749 0 0 0 .326 1.275.749.749 0 0 0 .734-.215L8 9.06l1.97 1.97a.749.749 0 0 0 1.275-.326.749.749 0 0 0-.215-.734L9.06 8l1.97-1.97a.749.749 0 0 0-.326-1.275.749.749 0 0 0-.734.215L8 6.94Z"></path>
</svg>
</button>  

      </div>
      <template id="search-icon">
  <svg aria-hidden="true" height="16" viewBox="0 0 16 16" version="1.1" width="16" data-view-component="true" class="octicon octicon-search">
    <path d="M10.68 11.74a6 6 0 0 1-7.922-8.982 6 6 0 0 1 8.982 7.922l3.04 3.04a.749.749 0 0 1-.326 1.275.749.749 0 0 1-.734-.215ZM11.5 7a4.499 4.499 0 1 0-8.997 0A4.499 4.499 0 0 0 11.5 7Z"></path>
</svg>
</template>

<template id="code-icon">
  <svg aria-hidden="true" height="16" viewBox="0 0 16 16" version="1.1" width="16" data-view-component="true" class="octicon octicon-code">
    <path d="m11.28 3.22 4.25 4.25a.75.75 0 0 1 0 1.06l-4.25 4.25a.749.749 0 0 1-1.275-.326.749.749 0 0 1 .215-.734L13.94 8l-3.72-3.72a.749.749 0 0 1 .326-1.275.749.749 0 0 1 .734.215Zm-6.56 0a.751.751 0 0 1 1.042.018.751.751 0 0 1 .018 1.042L2.06 8l3.72 3.72a.749.749 0 0 1-.326 1.275.749.749 0 0 1-.734-.215L.47 8.53a.75.75 0 0 1 0-1.06Z"></path>
</svg>
</template>

<template id="file-code-icon">
  <svg aria-hidden="true" height="16" viewBox="0 0 16 16" version="1.1" width="16" data-view-component="true" class="octicon octicon-file-code">
    <path d="M4 1.75C4 .784 4.784 0 5.75 0h5.586c.464 0 .909.184 1.237.513l2.914 2.914c.329.328.513.773.513 1.237v8.586A1.75 1.75 0 0 1 14.25 15h-9a.75.75 0 0 1 0-1.5h9a.25.25 0 0 0 .25-.25V6h-2.75A1.75 1.75 0 0 1 10 4.25V1.5H5.75a.25.25 0 0 0-.25.25v2.5a.75.75 0 0 1-1.5 0Zm1.72 4.97a.75.75 0 0 1 1.06 0l2 2a.75.75 0 0 1 0 1.06l-2 2a.749.749 0 0 1-1.275-.326.749.749 0 0 1 .215-.734l1.47-1.47-1.47-1.47a.75.75 0 0 1 0-1.06ZM3.28 7.78 1.81 9.25l1.47 1.47a.751.751 0 0 1-.018 1.042.751.751 0 0 1-1.042.018l-2-2a.75.75 0 0 1 0-1.06l2-2a.751.751 0 0 1 1.042.018.751.751 0 0 1 .018 1.042Zm8.22-6.218V4.25c0 .138.112.25.25.25h2.688l-.011-.013-2.914-2.914-.013-.011Z"></path>
</svg>
</template>

<template id="history-icon">
  <svg aria-hidden="true" height="16" viewBox="0 0 16 16" version="1.1" width="16" data-view-component="true" class="octicon octicon-history">
    <path d="m.427 1.927 1.215 1.215a8.002 8.002 0 1 1-1.6 5.685.75.75 0 1 1 1.493-.154 6.5 6.5 0 1 0 1.18-4.458l1.358 1.358A.25.25 0 0 1 3.896 6H.25A.25.25 0 0 1 0 5.75V2.104a.25.25 0 0 1 .427-.177ZM7.75 4a.75.75 0 0 1 .75.75v2.992l2.028.812a.75.75 0 0 1-.557 1.392l-2.5-1A.751.751 0 0 1 7 8.25v-3.5A.75.75 0 0 1 7.75 4Z"></path>
</svg>
</template>

<template id="repo-icon">
  <svg aria-hidden="true" height="16" viewBox="0 0 16 16" version="1.1" width="16" data-view-component="true" class="octicon octicon-repo">
    <path d="M2 2.5A2.5 2.5 0 0 1 4.5 0h8.75a.75.75 0 0 1 .75.75v12.5a.75.75 0 0 1-.75.75h-2.5a.75.75 0 0 1 0-1.5h1.75v-2h-8a1 1 0 0 0-.714 1.7.75.75 0 1 1-1.072 1.05A2.495 2.495 0 0 1 2 11.5Zm10.5-1h-8a1 1 0 0 0-1 1v6.708A2.486 2.486 0 0 1 4.5 9h8ZM5 12.25a.25.25 0 0 1 .25-.25h3.5a.25.25 0 0 1 .25.25v3.25a.25.25 0 0 1-.4.2l-1.45-1.087a.249.249 0 0 0-.3 0L5.4 15.7a.25.25 0 0 1-.4-.2Z"></path>
</svg>
</template>

<template id="bookmark-icon">
  <svg aria-hidden="true" height="16" viewBox="0 0 16 16" version="1.1" width="16" data-view-component="true" class="octicon octicon-bookmark">
    <path d="M3 2.75C3 1.784 3.784 1 4.75 1h6.5c.966 0 1.75.784 1.75 1.75v11.5a.75.75 0 0 1-1.227.579L8 11.722l-3.773 3.107A.751.751 0 0 1 3 14.25Zm1.75-.25a.25.25 0 0 0-.25.25v9.91l3.023-2.489a.75.75 0 0 1 .954 0l3.023 2.49V2.75a.25.25 0 0 0-.25-.25Z"></path>
</svg>
</template>

<template id="plus-circle-icon">
  <svg aria-hidden="true" height="16" viewBox="0 0 16 16" version="1.1" width="16" data-view-component="true" class="octicon octicon-plus-circle">
    <path d="M8 0a8 8 0 1 1 0 16A8 8 0 0 1 8 0ZM1.5 8a6.5 6.5 0 1 0 13 0 6.5 6.5 0 0 0-13 0Zm7.25-3.25v2.5h2.5a.75.75 0 0 1 0 1.5h-2.5v2.5a.75.75 0 0 1-1.5 0v-2.5h-2.5a.75.75 0 0 1 0-1.5h2.5v-2.5a.75.75 0 0 1 1.5 0Z"></path>
</svg>
</template>

<template id="circle-icon">
  <svg aria-hidden="true" height="16" viewBox="0 0 16 16" version="1.1" width="16" data-view-component="true" class="octicon octicon-dot-fill">
    <path d="M8 4a4 4 0 1 1 0 8 4 4 0 0 1 0-8Z"></path>
</svg>
</template>

<template id="trash-icon">
  <svg aria-hidden="true" height="16" viewBox="0 0 16 16" version="1.1" width="16" data-view-component="true" class="octicon octicon-trash">
    <path d="M11 1.75V3h2.25a.75.75 0 0 1 0 1.5H2.75a.75.75 0 0 1 0-1.5H5V1.75C5 .784 5.784 0 6.75 0h2.5C10.216 0 11 .784 11 1.75ZM4.496 6.675l.66 6.6a.25.25 0 0 0 .249.225h5.19a.25.25 0 0 0 .249-.225l.66-6.6a.75.75 0 0 1 1.492.149l-.66 6.6A1.748 1.748 0 0 1 10.595 15h-5.19a1.75 1.75 0 0 1-1.741-1.575l-.66-6.6a.75.75 0 1 1 1.492-.15ZM6.5 1.75V3h3V1.75a.25.25 0 0 0-.25-.25h-2.5a.25.25 0 0 0-.25.25Z"></path>
</svg>
</template>

<template id="team-icon">
  <svg aria-hidden="true" height="16" viewBox="0 0 16 16" version="1.1" width="16" data-view-component="true" class="octicon octicon-people">
    <path d="M2 5.5a3.5 3.5 0 1 1 5.898 2.549 5.508 5.508 0 0 1 3.034 4.084.75.75 0 1 1-1.482.235 4 4 0 0 0-7.9 0 .75.75 0 0 1-1.482-.236A5.507 5.507 0 0 1 3.102 8.05 3.493 3.493 0 0 1 2 5.5ZM11 4a3.001 3.001 0 0 1 2.22 5.018 5.01 5.01 0 0 1 2.56 3.012.749.749 0 0 1-.885.954.752.752 0 0 1-.549-.514 3.507 3.507 0 0 0-2.522-2.372.75.75 0 0 1-.574-.73v-.352a.75.75 0 0 1 .416-.672A1.5 1.5 0 0 0 11 5.5.75.75 0 0 1 11 4Zm-5.5-.5a2 2 0 1 0-.001 3.999A2 2 0 0 0 5.5 3.5Z"></path>
</svg>
</template>

<template id="project-icon">
  <svg aria-hidden="true" height="16" viewBox="0 0 16 16" version="1.1" width="16" data-view-component="true" class="octicon octicon-project">
    <path d="M1.75 0h12.5C15.216 0 16 .784 16 1.75v12.5A1.75 1.75 0 0 1 14.25 16H1.75A1.75 1.75 0 0 1 0 14.25V1.75C0 .784.784 0 1.75 0ZM1.5 1.75v12.5c0 .138.112.25.25.25h12.5a.25.25 0 0 0 .25-.25V1.75a.25.25 0 0 0-.25-.25H1.75a.25.25 0 0 0-.25.25ZM11.75 3a.75.75 0 0 1 .75.75v7.5a.75.75 0 0 1-1.5 0v-7.5a.75.75 0 0 1 .75-.75Zm-8.25.75a.75.75 0 0 1 1.5 0v5.5a.75.75 0 0 1-1.5 0ZM8 3a.75.75 0 0 1 .75.75v3.5a.75.75 0 0 1-1.5 0v-3.5A.75.75 0 0 1 8 3Z"></path>
</svg>
</template>

<template id="pencil-icon">
  <svg aria-hidden="true" height="16" viewBox="0 0 16 16" version="1.1" width="16" data-view-component="true" class="octicon octicon-pencil">
    <path d="M11.013 1.427a1.75 1.75 0 0 1 2.474 0l1.086 1.086a1.75 1.75 0 0 1 0 2.474l-8.61 8.61c-.21.21-.47.364-.756.445l-3.251.93a.75.75 0 0 1-.927-.928l.929-3.25c.081-.286.235-.547.445-.758l8.61-8.61Zm.176 4.823L9.75 4.81l-6.286 6.287a.253.253 0 0 0-.064.108l-.558 1.953 1.953-.558a.253.253 0 0 0 .108-.064Zm1.238-3.763a.25.25 0 0 0-.354 0L10.811 3.75l1.439 1.44 1.263-1.263a.25.25 0 0 0 0-.354Z"></path>
</svg>
</template>

        <div class="position-relative">
                <ul
                  role="listbox"
                  class="ActionListWrap QueryBuilder-ListWrap"
                  aria-label="Suggestions"
                  data-action="
                    combobox-commit:query-builder#comboboxCommit
                    mousedown:query-builder#resultsMousedown
                  "
                  data-target="query-builder.resultsList"
                  data-persist-list=false
                  id="query-builder-test-results"
                ></ul>
        </div>
    </div>
    <div data-target="query-builder.screenReaderFeedback" aria-live="polite" aria-atomic="true" class="sr-only"></div>
</query-builder></form>
          <div class="d-flex flex-row color-fg-muted px-3 text-small color-bg-default search-feedback-prompt">
            <a target="_blank" href="https://docs.github.com/en/search-github/github-code-search/understanding-github-code-search-syntax" data-view-component="true" class="color-fg-accent text-normal ml-2">
              Search syntax tips
</a>            <div class="d-flex flex-1"></div>
              <button data-action="click:qbsearch-input#showFeedbackDialog" type="button" data-view-component="true" class="Button--link Button--medium Button color-fg-accent text-normal ml-2">    <span class="Button-content">
      <span class="Button-label">Give feedback</span>
    </span>
</button>  
          </div>
        </div>
</div>

    </div>
</modal-dialog></div>
  </div>
  <div data-action="click:qbsearch-input#retract" class="dark-backdrop position-fixed width-full" hidden data-target="qbsearch-input.darkBackdrop"></div>
  <div class="color-fg-default">
    
<div class="Overlay--hidden Overlay-backdrop--center" data-modal-dialog-overlay>
  <modal-dialog data-target="qbsearch-input.feedbackDialog" data-action="close:qbsearch-input#handleDialogClose cancel:qbsearch-input#handleDialogClose" role="dialog" id="feedback-dialog" aria-modal="true" aria-disabled="true" aria-describedby="feedback-dialog-title feedback-dialog-description" data-view-component="true" class="Overlay Overlay-whenNarrow Overlay--size-medium Overlay--motion-scaleFade">
    <div data-view-component="true" class="Overlay-header">
  <div class="Overlay-headerContentWrap">
    <div class="Overlay-titleWrap">
      <h1 class="Overlay-title " id="feedback-dialog-title">
        Provide feedback
      </h1>
    </div>
    <div class="Overlay-actionWrap">
      <button data-close-dialog-id="feedback-dialog" aria-label="Close" type="button" data-view-component="true" class="close-button Overlay-closeButton"><svg aria-hidden="true" height="16" viewBox="0 0 16 16" version="1.1" width="16" data-view-component="true" class="octicon octicon-x">
    <path d="M3.72 3.72a.75.75 0 0 1 1.06 0L8 6.94l3.22-3.22a.749.749 0 0 1 1.275.326.749.749 0 0 1-.215.734L9.06 8l3.22 3.22a.749.749 0 0 1-.326 1.275.749.749 0 0 1-.734-.215L8 9.06l-3.22 3.22a.751.751 0 0 1-1.042-.018.751.751 0 0 1-.018-1.042L6.94 8 3.72 4.78a.75.75 0 0 1 0-1.06Z"></path>
</svg></button>
    </div>
  </div>
</div>
      <div data-view-component="true" class="Overlay-body">        <!-- '"` --><!-- </textarea></xmp> --></option></form><form id="code-search-feedback-form" data-turbo="false" action="/search/feedback" accept-charset="UTF-8" method="post"><input type="hidden" name="authenticity_token" value="2MvQj9syhv48btxobgJ5ZooOe167ynx_RyXT3NFdES6gBeCJ4Frbg7nHguwKwDh6HQudrBBzxqr-8maKZb5ZeA" />
          <p>We read every piece of feedback, and take your input very seriously.</p>
          <textarea name="feedback" class="form-control width-full mb-2" style="height: 120px" id="feedback"></textarea>
          <input name="include_email" id="include_email" aria-label="Include my email address so I can be contacted" class="form-control mr-2" type="checkbox">
          <label for="include_email" style="font-weight: normal">Include my email address so I can be contacted</label>
</form></div>
      <div data-view-component="true" class="Overlay-footer Overlay-footer--alignEnd">          <button data-close-dialog-id="feedback-dialog" type="button" data-view-component="true" class="btn">    Cancel
</button>
          <button form="code-search-feedback-form" data-action="click:qbsearch-input#submitFeedback" type="submit" data-view-component="true" class="btn-primary btn">    Submit feedback
</button>
</div>
</modal-dialog></div>

    <custom-scopes data-target="qbsearch-input.customScopesManager">
    
<div class="Overlay--hidden Overlay-backdrop--center" data-modal-dialog-overlay>
  <modal-dialog data-target="custom-scopes.customScopesModalDialog" data-action="close:qbsearch-input#handleDialogClose cancel:qbsearch-input#handleDialogClose" role="dialog" id="custom-scopes-dialog" aria-modal="true" aria-disabled="true" aria-describedby="custom-scopes-dialog-title custom-scopes-dialog-description" data-view-component="true" class="Overlay Overlay-whenNarrow Overlay--size-medium Overlay--motion-scaleFade">
    <div data-view-component="true" class="Overlay-header Overlay-header--divided">
  <div class="Overlay-headerContentWrap">
    <div class="Overlay-titleWrap">
      <h1 class="Overlay-title " id="custom-scopes-dialog-title">
        Saved searches
      </h1>
        <h2 id="custom-scopes-dialog-description" class="Overlay-description">Use saved searches to filter your results more quickly</h2>
    </div>
    <div class="Overlay-actionWrap">
      <button data-close-dialog-id="custom-scopes-dialog" aria-label="Close" type="button" data-view-component="true" class="close-button Overlay-closeButton"><svg aria-hidden="true" height="16" viewBox="0 0 16 16" version="1.1" width="16" data-view-component="true" class="octicon octicon-x">
    <path d="M3.72 3.72a.75.75 0 0 1 1.06 0L8 6.94l3.22-3.22a.749.749 0 0 1 1.275.326.749.749 0 0 1-.215.734L9.06 8l3.22 3.22a.749.749 0 0 1-.326 1.275.749.749 0 0 1-.734-.215L8 9.06l-3.22 3.22a.751.751 0 0 1-1.042-.018.751.751 0 0 1-.018-1.042L6.94 8 3.72 4.78a.75.75 0 0 1 0-1.06Z"></path>
</svg></button>
    </div>
  </div>
</div>
      <div data-view-component="true" class="Overlay-body">        <div data-target="custom-scopes.customScopesModalDialogFlash"></div>

        <div hidden class="create-custom-scope-form" data-target="custom-scopes.createCustomScopeForm">
        <!-- '"` --><!-- </textarea></xmp> --></option></form><form id="custom-scopes-dialog-form" data-turbo="false" action="/search/custom_scopes" accept-charset="UTF-8" method="post"><input type="hidden" name="authenticity_token" value="aQy5I3Pb6KGlfnsM2SqdOqTXRkXs5_4JbSD8Uh5aJ1Sw5QEFzJl2_H3PATbVqSroTS2anNSm3lCQHwysIfPYXA" />
          <div data-target="custom-scopes.customScopesModalDialogFlash"></div>

          <input type="hidden" id="custom_scope_id" name="custom_scope_id" data-target="custom-scopes.customScopesIdField">

          <div class="form-group">
            <label for="custom_scope_name">Name</label>
            <auto-check src="/search/custom_scopes/check_name" required>
              <input
                type="text"
                name="custom_scope_name"
                id="custom_scope_name"
                data-target="custom-scopes.customScopesNameField"
                class="form-control"
                autocomplete="off"
                placeholder="github-ruby"
                required
                maxlength="50">
              <input type="hidden" value="otmGs_XPnKj4fbn1aZpB8OXdR9_ruVq6DChHbS3l1FktSLODpBkIDDXFN1QTJYZE05ORHxVlvJvADcfAuEaFxA" data-csrf="true" />
            </auto-check>
          </div>

          <div class="form-group">
            <label for="custom_scope_query">Query</label>
            <input
              type="text"
              name="custom_scope_query"
              id="custom_scope_query"
              data-target="custom-scopes.customScopesQueryField"
              class="form-control"
              autocomplete="off"
              placeholder="(repo:mona/a OR repo:mona/b) AND lang:python"
              required
              maxlength="500">
          </div>

          <p class="text-small color-fg-muted">
            To see all available qualifiers, see our <a href="https://docs.github.com/en/search-github/github-code-search/understanding-github-code-search-syntax">documentation</a>.
          </p>
</form>        </div>

        <div data-target="custom-scopes.manageCustomScopesForm">
          <div data-target="custom-scopes.list"></div>
        </div>

</div>
      <div data-view-component="true" class="Overlay-footer Overlay-footer--alignEnd Overlay-footer--divided">          <button data-action="click:custom-scopes#customScopesCancel" type="button" data-view-component="true" class="btn">    Cancel
</button>
          <button form="custom-scopes-dialog-form" data-action="click:custom-scopes#customScopesSubmit" data-target="custom-scopes.customScopesSubmitButton" type="submit" data-view-component="true" class="btn-primary btn">    Create saved search
</button>
</div>
</modal-dialog></div>
    </custom-scopes>
  </div>
</qbsearch-input><input type="hidden" value="cB-_1xPCzd6O3O7n9zv2fyd3RnkDNg6uBu8tCqxMaGTcmh-NmbpeY5qVRkdfyC5P-UY_sORo2R_AqRzg9KU83A" data-csrf="true" class="js-data-jump-to-suggestions-path-csrf" />

          </div>

        <div class="AppHeader-actions">
          <action-menu data-select-variant="none" data-view-component="true">
  <focus-group direction="vertical" mnemonics retain>
    <div data-view-component="true" class="Button-withTooltip">  <button id="global-create-menu-button" popovertarget="global-create-menu-overlay" aria-label="Create something new" aria-controls="global-create-menu-list" aria-haspopup="true" type="button" data-view-component="true" class="AppHeader-button Button--secondary Button--small Button width-auto color-fg-muted box-shadow-none">    <span class="Button-content">
        <span class="Button-visual Button-leadingVisual">
          <svg aria-hidden="true" height="16" viewBox="0 0 16 16" version="1.1" width="16" data-view-component="true" class="octicon octicon-plus">
    <path d="M7.75 2a.75.75 0 0 1 .75.75V7h4.25a.75.75 0 0 1 0 1.5H8.5v4.25a.75.75 0 0 1-1.5 0V8.5H2.75a.75.75 0 0 1 0-1.5H7V2.75A.75.75 0 0 1 7.75 2Z"></path>
</svg>
        </span>
      <span class="Button-label"><svg aria-hidden="true" height="16" viewBox="0 0 16 16" version="1.1" width="16" data-view-component="true" class="octicon octicon-triangle-down">
    <path d="m4.427 7.427 3.396 3.396a.25.25 0 0 0 .354 0l3.396-3.396A.25.25 0 0 0 11.396 7H4.604a.25.25 0 0 0-.177.427Z"></path>
</svg></span>
    </span>
</button>  <tool-tip id="tooltip-79b23142-a7f6-4b8d-9629-d2b9a23dd4b6" for="global-create-menu-button" data-direction="s" data-type="description" data-view-component="true" class="sr-only position-absolute">Create new...</tool-tip>
</div>

<anchored-position id="global-create-menu-overlay" anchor="global-create-menu-button" align="end" side="outside-bottom" anchor-offset="normal" popover="auto" aria-label="Menu" data-view-component="true" class="Overlay Overlay--size-auto">
  
    
        <div data-view-component="true">
  <ul aria-labelledby="global-create-menu-button" id="global-create-menu-list" role="menu" data-view-component="true" class="ActionListWrap--inset ActionListWrap">
      <li data-analytics-event="{&quot;category&quot;:&quot;SiteHeaderComponent&quot;,&quot;action&quot;:&quot;add_dropdown&quot;,&quot;label&quot;:&quot;new repository&quot;}" data-targets="action-list.items" role="none" data-view-component="true" class="ActionListItem">
    
    <a href="/new" tabindex="-1" id="item-872abf40-3727-4c3c-8072-cee3aeeadedd" role="menuitem" data-view-component="true" class="ActionListContent ActionListContent--visual16">
        <span class="ActionListItem-visual ActionListItem-visual--leading">
          <svg aria-hidden="true" height="16" viewBox="0 0 16 16" version="1.1" width="16" data-view-component="true" class="octicon octicon-repo">
    <path d="M2 2.5A2.5 2.5 0 0 1 4.5 0h8.75a.75.75 0 0 1 .75.75v12.5a.75.75 0 0 1-.75.75h-2.5a.75.75 0 0 1 0-1.5h1.75v-2h-8a1 1 0 0 0-.714 1.7.75.75 0 1 1-1.072 1.05A2.495 2.495 0 0 1 2 11.5Zm10.5-1h-8a1 1 0 0 0-1 1v6.708A2.486 2.486 0 0 1 4.5 9h8ZM5 12.25a.25.25 0 0 1 .25-.25h3.5a.25.25 0 0 1 .25.25v3.25a.25.25 0 0 1-.4.2l-1.45-1.087a.249.249 0 0 0-.3 0L5.4 15.7a.25.25 0 0 1-.4-.2Z"></path>
</svg>
        </span>
      
        <span data-view-component="true" class="ActionListItem-label">
              New repository

</span></a>
  
  
</li>
      <li data-analytics-event="{&quot;category&quot;:&quot;SiteHeaderComponent&quot;,&quot;action&quot;:&quot;add_dropdown&quot;,&quot;label&quot;:&quot;import repository&quot;}" data-targets="action-list.items" role="none" data-view-component="true" class="ActionListItem">
    
    <a href="/new/import" tabindex="-1" id="item-8b08a871-a232-4556-95d0-9aa9978aef53" role="menuitem" data-view-component="true" class="ActionListContent ActionListContent--visual16">
        <span class="ActionListItem-visual ActionListItem-visual--leading">
          <svg aria-hidden="true" height="16" viewBox="0 0 16 16" version="1.1" width="16" data-view-component="true" class="octicon octicon-repo-push">
    <path d="M1 2.5A2.5 2.5 0 0 1 3.5 0h8.75a.75.75 0 0 1 .75.75v3.5a.75.75 0 0 1-1.5 0V1.5h-8a1 1 0 0 0-1 1v6.708A2.493 2.493 0 0 1 3.5 9h3.25a.75.75 0 0 1 0 1.5H3.5a1 1 0 0 0 0 2h5.75a.75.75 0 0 1 0 1.5H3.5A2.5 2.5 0 0 1 1 11.5Zm13.23 7.79h-.001l-1.224-1.224v6.184a.75.75 0 0 1-1.5 0V9.066L10.28 10.29a.75.75 0 0 1-1.06-1.061l2.505-2.504a.75.75 0 0 1 1.06 0L15.29 9.23a.751.751 0 0 1-.018 1.042.751.751 0 0 1-1.042.018Z"></path>
</svg>
        </span>
      
        <span data-view-component="true" class="ActionListItem-label">
                Import repository

</span></a>
  
  
</li>
      <li role="presentation" aria-hidden="true" data-view-component="true" class="ActionList-sectionDivider"></li>
      <li data-analytics-event="{&quot;category&quot;:&quot;SiteHeaderComponent&quot;,&quot;action&quot;:&quot;add_dropdown&quot;,&quot;label&quot;:&quot;new codespace&quot;}" data-targets="action-list.items" role="none" data-view-component="true" class="ActionListItem">
    
    <a href="/codespaces/new" tabindex="-1" id="item-c1706bae-6b6c-4f20-ac81-93345bca6a24" role="menuitem" data-view-component="true" class="ActionListContent ActionListContent--visual16">
        <span class="ActionListItem-visual ActionListItem-visual--leading">
          <svg aria-hidden="true" height="16" viewBox="0 0 16 16" version="1.1" width="16" data-view-component="true" class="octicon octicon-codespaces">
    <path d="M0 11.25c0-.966.784-1.75 1.75-1.75h12.5c.966 0 1.75.784 1.75 1.75v3A1.75 1.75 0 0 1 14.25 16H1.75A1.75 1.75 0 0 1 0 14.25Zm2-9.5C2 .784 2.784 0 3.75 0h8.5C13.216 0 14 .784 14 1.75v5a1.75 1.75 0 0 1-1.75 1.75h-8.5A1.75 1.75 0 0 1 2 6.75Zm1.75-.25a.25.25 0 0 0-.25.25v5c0 .138.112.25.25.25h8.5a.25.25 0 0 0 .25-.25v-5a.25.25 0 0 0-.25-.25Zm-2 9.5a.25.25 0 0 0-.25.25v3c0 .138.112.25.25.25h12.5a.25.25 0 0 0 .25-.25v-3a.25.25 0 0 0-.25-.25Z"></path><path d="M7 12.75a.75.75 0 0 1 .75-.75h4.5a.75.75 0 0 1 0 1.5h-4.5a.75.75 0 0 1-.75-.75Zm-4 0a.75.75 0 0 1 .75-.75h.5a.75.75 0 0 1 0 1.5h-.5a.75.75 0 0 1-.75-.75Z"></path>
</svg>
        </span>
      
        <span data-view-component="true" class="ActionListItem-label">
                New codespace

</span></a>
  
  
</li>
      <li data-analytics-event="{&quot;category&quot;:&quot;SiteHeaderComponent&quot;,&quot;action&quot;:&quot;add_dropdown&quot;,&quot;label&quot;:&quot;new gist&quot;}" data-targets="action-list.items" role="none" data-view-component="true" class="ActionListItem">
    
    <a href="https://gist.github.com/" tabindex="-1" id="item-0f6901fc-9409-4dd9-b21e-75afe5ea4d99" role="menuitem" data-view-component="true" class="ActionListContent ActionListContent--visual16">
        <span class="ActionListItem-visual ActionListItem-visual--leading">
          <svg aria-hidden="true" height="16" viewBox="0 0 16 16" version="1.1" width="16" data-view-component="true" class="octicon octicon-code">
    <path d="m11.28 3.22 4.25 4.25a.75.75 0 0 1 0 1.06l-4.25 4.25a.749.749 0 0 1-1.275-.326.749.749 0 0 1 .215-.734L13.94 8l-3.72-3.72a.749.749 0 0 1 .326-1.275.749.749 0 0 1 .734.215Zm-6.56 0a.751.751 0 0 1 1.042.018.751.751 0 0 1 .018 1.042L2.06 8l3.72 3.72a.749.749 0 0 1-.326 1.275.749.749 0 0 1-.734-.215L.47 8.53a.75.75 0 0 1 0-1.06Z"></path>
</svg>
        </span>
      
        <span data-view-component="true" class="ActionListItem-label">
              New gist

</span></a>
  
  
</li>
      <li role="presentation" aria-hidden="true" data-view-component="true" class="ActionList-sectionDivider"></li>
      <li data-analytics-event="{&quot;category&quot;:&quot;SiteHeaderComponent&quot;,&quot;action&quot;:&quot;add_dropdown&quot;,&quot;label&quot;:&quot;new organization&quot;}" data-targets="action-list.items" role="none" data-view-component="true" class="ActionListItem">
    
    <a href="/account/organizations/new" tabindex="-1" id="item-90f1c138-3b92-4ae9-8a07-dd14aa725ae4" role="menuitem" data-view-component="true" class="ActionListContent ActionListContent--visual16">
        <span class="ActionListItem-visual ActionListItem-visual--leading">
          <svg aria-hidden="true" height="16" viewBox="0 0 16 16" version="1.1" width="16" data-view-component="true" class="octicon octicon-organization">
    <path d="M1.75 16A1.75 1.75 0 0 1 0 14.25V1.75C0 .784.784 0 1.75 0h8.5C11.216 0 12 .784 12 1.75v12.5c0 .085-.006.168-.018.25h2.268a.25.25 0 0 0 .25-.25V8.285a.25.25 0 0 0-.111-.208l-1.055-.703a.749.749 0 1 1 .832-1.248l1.055.703c.487.325.779.871.779 1.456v5.965A1.75 1.75 0 0 1 14.25 16h-3.5a.766.766 0 0 1-.197-.026c-.099.017-.2.026-.303.026h-3a.75.75 0 0 1-.75-.75V14h-1v1.25a.75.75 0 0 1-.75.75Zm-.25-1.75c0 .138.112.25.25.25H4v-1.25a.75.75 0 0 1 .75-.75h2.5a.75.75 0 0 1 .75.75v1.25h2.25a.25.25 0 0 0 .25-.25V1.75a.25.25 0 0 0-.25-.25h-8.5a.25.25 0 0 0-.25.25ZM3.75 6h.5a.75.75 0 0 1 0 1.5h-.5a.75.75 0 0 1 0-1.5ZM3 3.75A.75.75 0 0 1 3.75 3h.5a.75.75 0 0 1 0 1.5h-.5A.75.75 0 0 1 3 3.75Zm4 3A.75.75 0 0 1 7.75 6h.5a.75.75 0 0 1 0 1.5h-.5A.75.75 0 0 1 7 6.75ZM7.75 3h.5a.75.75 0 0 1 0 1.5h-.5a.75.75 0 0 1 0-1.5ZM3 9.75A.75.75 0 0 1 3.75 9h.5a.75.75 0 0 1 0 1.5h-.5A.75.75 0 0 1 3 9.75ZM7.75 9h.5a.75.75 0 0 1 0 1.5h-.5a.75.75 0 0 1 0-1.5Z"></path>
</svg>
        </span>
      
        <span data-view-component="true" class="ActionListItem-label">
                New organization

</span></a>
  
  
</li>
</ul>  
</div>

</anchored-position>  </focus-group>
</action-menu>

          <div data-view-component="true" class="Button-withTooltip">
  <a href="/issues" id="icon-button-3a2928f2-283c-4aab-bb19-6a400a88f362" data-view-component="true" class="Button Button--iconOnly Button--secondary Button--medium AppHeader-button color-fg-muted">    <svg aria-hidden="true" height="16" viewBox="0 0 16 16" version="1.1" width="16" data-view-component="true" class="octicon octicon-issue-opened Button-visual">
    <path d="M8 9.5a1.5 1.5 0 1 0 0-3 1.5 1.5 0 0 0 0 3Z"></path><path d="M8 0a8 8 0 1 1 0 16A8 8 0 0 1 8 0ZM1.5 8a6.5 6.5 0 1 0 13 0 6.5 6.5 0 0 0-13 0Z"></path>
</svg>
</a>  <tool-tip id="tooltip-bb48cb5e-841c-424c-be94-db0b08d0fc8f" for="icon-button-3a2928f2-283c-4aab-bb19-6a400a88f362" data-direction="s" data-type="label" data-view-component="true" class="sr-only position-absolute">Issues</tool-tip>
</div>
          <div data-view-component="true" class="Button-withTooltip">
  <a href="/pulls" id="icon-button-4a8cd0be-2a8b-4d1d-aedb-a5451f2776d9" data-view-component="true" class="Button Button--iconOnly Button--secondary Button--medium AppHeader-button color-fg-muted">    <svg aria-hidden="true" height="16" viewBox="0 0 16 16" version="1.1" width="16" data-view-component="true" class="octicon octicon-git-pull-request Button-visual">
    <path d="M1.5 3.25a2.25 2.25 0 1 1 3 2.122v5.256a2.251 2.251 0 1 1-1.5 0V5.372A2.25 2.25 0 0 1 1.5 3.25Zm5.677-.177L9.573.677A.25.25 0 0 1 10 .854V2.5h1A2.5 2.5 0 0 1 13.5 5v5.628a2.251 2.251 0 1 1-1.5 0V5a1 1 0 0 0-1-1h-1v1.646a.25.25 0 0 1-.427.177L7.177 3.427a.25.25 0 0 1 0-.354ZM3.75 2.5a.75.75 0 1 0 0 1.5.75.75 0 0 0 0-1.5Zm0 9.5a.75.75 0 1 0 0 1.5.75.75 0 0 0 0-1.5Zm8.25.75a.75.75 0 1 0 1.5 0 .75.75 0 0 0-1.5 0Z"></path>
</svg>
</a>  <tool-tip id="tooltip-ee69b0af-d03f-41b9-a2af-dc87aa1d18a2" for="icon-button-4a8cd0be-2a8b-4d1d-aedb-a5451f2776d9" data-direction="s" data-type="label" data-view-component="true" class="sr-only position-absolute">Pull requests</tool-tip>
</div>
        </div>

        <div class="mr-0">
          

<notification-indicator data-channel="eyJjIjoibm90aWZpY2F0aW9uLWNoYW5nZWQ6MTA4MjM0NDU4IiwidCI6MTY4Nzk1NjAyOX0=--c72d7254807f6cb3170c14783fa8892c837bbe686d9d357ae582d1cb10313dfd" data-indicator-mode="none" data-tooltip-global="You have unread notifications" data-tooltip-unavailable="Notifications are unavailable at the moment." data-tooltip-none="You have no unread notifications" data-header-redesign-enabled="true" data-fetch-indicator-src="/notifications/indicator" data-fetch-indicator-enabled="true" data-view-component="true" class="js-socket-channel">
  <a id="AppHeader-notifications-button" href="/notifications"
    class="AppHeader-button"

    style="width:32px;height:32px;"

    data-hotkey="g n"
    data-target="notification-indicator.link"
    aria-label="Notifications"

      data-analytics-event="{&quot;category&quot;:&quot;SiteHeaderComponent&quot;,&quot;action&quot;:&quot;notifications&quot;,&quot;label&quot;:null}"
  >

    <span
      data-target="notification-indicator.badge"
      class="mail-status unread d-none" hidden>
    </span>

      <svg aria-hidden="true" height="16" viewBox="0 0 16 16" version="1.1" width="16" data-view-component="true" class="octicon octicon-inbox color-fg-muted mr-0">
    <path d="M2.8 2.06A1.75 1.75 0 0 1 4.41 1h7.18c.7 0 1.333.417 1.61 1.06l2.74 6.395c.04.093.06.194.06.295v4.5A1.75 1.75 0 0 1 14.25 15H1.75A1.75 1.75 0 0 1 0 13.25v-4.5c0-.101.02-.202.06-.295Zm1.61.44a.25.25 0 0 0-.23.152L1.887 8H4.75a.75.75 0 0 1 .6.3L6.625 10h2.75l1.275-1.7a.75.75 0 0 1 .6-.3h2.863L11.82 2.652a.25.25 0 0 0-.23-.152Zm10.09 7h-2.875l-1.275 1.7a.75.75 0 0 1-.6.3h-3.5a.75.75 0 0 1-.6-.3L4.375 9.5H1.5v3.75c0 .138.112.25.25.25h12.5a.25.25 0 0 0 .25-.25Z"></path>
</svg>
  </a>

    <tool-tip data-target="notification-indicator.tooltip" id="tooltip-c03799fe-ec9e-4e8c-9ce6-6d572ac4bb55" for="AppHeader-notifications-button" data-direction="s" data-type="description" data-view-component="true" class="sr-only position-absolute">Notifications</tool-tip>
</notification-indicator>
        </div>

        

        <div class="AppHeader-user">
          <deferred-side-panel data-url="/_side-panels/user?memex_enabled=true&amp;repository=MonteCarloTutorial&amp;user=dashleb33&amp;user_can_create_organizations=true&amp;user_id=108234458">
  <include-fragment data-target="deferred-side-panel.fragment">
      <user-drawer-side-panel>
      <button aria-label="Open user account menu" data-action="click:deferred-side-panel#loadPanel click:deferred-side-panel#panelOpened" data-show-dialog-id="dialog-4382cc0a-1cf5-48a0-9a63-6bf2d93a48bc" id="dialog-show-dialog-4382cc0a-1cf5-48a0-9a63-6bf2d93a48bc" type="button" data-view-component="true" class="AppHeader-logo Button--invisible Button--medium Button Button--invisible-noVisuals color-bg-transparent p-0">    <span class="Button-content">
      <span class="Button-label"><img src="https://avatars.githubusercontent.com/u/108234458?v=4" alt="" size="32" height="32" width="32" data-view-component="true" class="avatar circle" /></span>
    </span>
</button>  

<div class="Overlay--hidden Overlay-backdrop--side Overlay-backdrop--placement-right" data-modal-dialog-overlay>
  <modal-dialog data-target="deferred-side-panel.panel" role="dialog" id="dialog-4382cc0a-1cf5-48a0-9a63-6bf2d93a48bc" aria-modal="true" aria-disabled="true" aria-describedby="dialog-4382cc0a-1cf5-48a0-9a63-6bf2d93a48bc-title dialog-4382cc0a-1cf5-48a0-9a63-6bf2d93a48bc-description" data-view-component="true" class="Overlay Overlay-whenNarrow Overlay--size-small-portrait Overlay--motion-scaleFade SidePanel">
    <div styles="flex-direction: row;" data-view-component="true" class="Overlay-header">
  <div class="Overlay-headerContentWrap">
    <div class="Overlay-titleWrap">
      <h1 class="Overlay-title sr-only" id="dialog-4382cc0a-1cf5-48a0-9a63-6bf2d93a48bc-title">
        Account menu
      </h1>
            <div data-view-component="true" class="d-flex">
      <div data-view-component="true" class="AppHeader-logo position-relative">
        <img src="https://avatars.githubusercontent.com/u/108234458?v=4" alt="" size="32" height="32" width="32" data-view-component="true" class="avatar circle" />
</div>        <div data-view-component="true" class="d-flex width-full">        <div data-view-component="true" class="lh-condensed d-flex flex-column flex-justify-center ml-2 f5 mr-auto">
          <span data-view-component="true" class="Truncate d-block text-bold">
    <span data-view-component="true" class="Truncate-text">
            dashleb33
</span>
</span>          <span data-view-component="true" class="Truncate d-block color-fg-subtle">
    <span data-view-component="true" class="Truncate-text">
            Дарья Лебедева
</span>
</span></div>
</div>
</div>
    </div>
    <div class="Overlay-actionWrap">
      <button data-close-dialog-id="dialog-4382cc0a-1cf5-48a0-9a63-6bf2d93a48bc" aria-label="Close" type="button" data-view-component="true" class="close-button Overlay-closeButton"><svg aria-hidden="true" height="16" viewBox="0 0 16 16" version="1.1" width="16" data-view-component="true" class="octicon octicon-x">
    <path d="M3.72 3.72a.75.75 0 0 1 1.06 0L8 6.94l3.22-3.22a.749.749 0 0 1 1.275.326.749.749 0 0 1-.215.734L9.06 8l3.22 3.22a.749.749 0 0 1-.326 1.275.749.749 0 0 1-.734-.215L8 9.06l-3.22 3.22a.751.751 0 0 1-1.042-.018.751.751 0 0 1-.018-1.042L6.94 8 3.72 4.78a.75.75 0 0 1 0-1.06Z"></path>
</svg></button>
    </div>
  </div>
</div>
      <div data-view-component="true" class="Overlay-body d-flex flex-column height-full px-2">      <nav aria-label="User navigation" data-view-component="true" class="ActionList">
  
  <nav-list>
    <ul data-view-component="true" class="ActionListWrap">
        
          
<li data-item-id="" data-targets="nav-list.items" data-view-component="true" class="ActionListItem">
    
    <button id="item-2d0ef5df-438a-452f-b40d-3f709ad92af1" type="button" data-view-component="true" class="ActionListContent ActionListContent--visual16">
        <span class="ActionListItem-visual ActionListItem-visual--leading">
          <span data-view-component="true" class="d-flex flex-items-center">    <svg style="box-sizing: content-box; color: var(--color-icon-primary);" width="16" height="16" viewBox="0 0 16 16" fill="none" data-view-component="true" class="anim-rotate">
  <circle cx="8" cy="8" r="7" stroke="currentColor" stroke-opacity="0.25" stroke-width="2" vector-effect="non-scaling-stroke" />
  <path d="M15 8a7.002 7.002 0 00-7-7" stroke="currentColor" stroke-width="2" stroke-linecap="round" vector-effect="non-scaling-stroke" />
</svg>
</span>
        </span>
      
        <span data-view-component="true" class="ActionListItem-label">
          

  <span class="color-fg-muted">
    Loading...
  </span>

</span></button>
  
  
</li>

        
          <li role="presentation" aria-hidden="true" data-view-component="true" class="ActionList-sectionDivider"></li>
        
          
<li data-item-id="" data-targets="nav-list.items" data-view-component="true" class="ActionListItem">
    
    <a id="item-0484ff1f-8d94-4ce5-a33e-ae82203f0087" href="https://github.com/dashleb33" data-view-component="true" class="ActionListContent ActionListContent--visual16">
        <span class="ActionListItem-visual ActionListItem-visual--leading">
          <svg aria-hidden="true" height="16" viewBox="0 0 16 16" version="1.1" width="16" data-view-component="true" class="octicon octicon-person">
    <path d="M10.561 8.073a6.005 6.005 0 0 1 3.432 5.142.75.75 0 1 1-1.498.07 4.5 4.5 0 0 0-8.99 0 .75.75 0 0 1-1.498-.07 6.004 6.004 0 0 1 3.431-5.142 3.999 3.999 0 1 1 5.123 0ZM10.5 5a2.5 2.5 0 1 0-5 0 2.5 2.5 0 0 0 5 0Z"></path>
</svg>
        </span>
      
        <span data-view-component="true" class="ActionListItem-label">
          Your profile
</span></a>
  
  
</li>

        
          <li role="presentation" aria-hidden="true" data-view-component="true" class="ActionList-sectionDivider"></li>
        
          
<li data-item-id="" data-targets="nav-list.items" data-view-component="true" class="ActionListItem">
    
    <a id="item-d539813e-3638-437b-bf33-73a241b6ccf5" href="/dashleb33?tab=repositories" data-view-component="true" class="ActionListContent ActionListContent--visual16">
        <span class="ActionListItem-visual ActionListItem-visual--leading">
          <svg aria-hidden="true" height="16" viewBox="0 0 16 16" version="1.1" width="16" data-view-component="true" class="octicon octicon-repo">
    <path d="M2 2.5A2.5 2.5 0 0 1 4.5 0h8.75a.75.75 0 0 1 .75.75v12.5a.75.75 0 0 1-.75.75h-2.5a.75.75 0 0 1 0-1.5h1.75v-2h-8a1 1 0 0 0-.714 1.7.75.75 0 1 1-1.072 1.05A2.495 2.495 0 0 1 2 11.5Zm10.5-1h-8a1 1 0 0 0-1 1v6.708A2.486 2.486 0 0 1 4.5 9h8ZM5 12.25a.25.25 0 0 1 .25-.25h3.5a.25.25 0 0 1 .25.25v3.25a.25.25 0 0 1-.4.2l-1.45-1.087a.249.249 0 0 0-.3 0L5.4 15.7a.25.25 0 0 1-.4-.2Z"></path>
</svg>
        </span>
      
        <span data-view-component="true" class="ActionListItem-label">
          Your repositories
</span></a>
  
  
</li>

        
          
<li data-item-id="" data-targets="nav-list.items" data-view-component="true" class="ActionListItem">
    
    <a id="item-15a90cbc-a7d6-44b5-b07f-ba02df2776d9" href="/dashleb33?tab=projects" data-view-component="true" class="ActionListContent ActionListContent--visual16">
        <span class="ActionListItem-visual ActionListItem-visual--leading">
          <svg aria-hidden="true" height="16" viewBox="0 0 16 16" version="1.1" width="16" data-view-component="true" class="octicon octicon-project">
    <path d="M1.75 0h12.5C15.216 0 16 .784 16 1.75v12.5A1.75 1.75 0 0 1 14.25 16H1.75A1.75 1.75 0 0 1 0 14.25V1.75C0 .784.784 0 1.75 0ZM1.5 1.75v12.5c0 .138.112.25.25.25h12.5a.25.25 0 0 0 .25-.25V1.75a.25.25 0 0 0-.25-.25H1.75a.25.25 0 0 0-.25.25ZM11.75 3a.75.75 0 0 1 .75.75v7.5a.75.75 0 0 1-1.5 0v-7.5a.75.75 0 0 1 .75-.75Zm-8.25.75a.75.75 0 0 1 1.5 0v5.5a.75.75 0 0 1-1.5 0ZM8 3a.75.75 0 0 1 .75.75v3.5a.75.75 0 0 1-1.5 0v-3.5A.75.75 0 0 1 8 3Z"></path>
</svg>
        </span>
      
        <span data-view-component="true" class="ActionListItem-label">
          Your projects
</span></a>
  
  
</li>

        
          
<li data-item-id="" data-targets="nav-list.items" data-view-component="true" class="ActionListItem">
    
    <a id="item-e9ac2bdd-4ac3-4f87-a650-c9deb37cb430" href="/codespaces" data-view-component="true" class="ActionListContent ActionListContent--visual16">
        <span class="ActionListItem-visual ActionListItem-visual--leading">
          <svg aria-hidden="true" height="16" viewBox="0 0 16 16" version="1.1" width="16" data-view-component="true" class="octicon octicon-codespaces">
    <path d="M0 11.25c0-.966.784-1.75 1.75-1.75h12.5c.966 0 1.75.784 1.75 1.75v3A1.75 1.75 0 0 1 14.25 16H1.75A1.75 1.75 0 0 1 0 14.25Zm2-9.5C2 .784 2.784 0 3.75 0h8.5C13.216 0 14 .784 14 1.75v5a1.75 1.75 0 0 1-1.75 1.75h-8.5A1.75 1.75 0 0 1 2 6.75Zm1.75-.25a.25.25 0 0 0-.25.25v5c0 .138.112.25.25.25h8.5a.25.25 0 0 0 .25-.25v-5a.25.25 0 0 0-.25-.25Zm-2 9.5a.25.25 0 0 0-.25.25v3c0 .138.112.25.25.25h12.5a.25.25 0 0 0 .25-.25v-3a.25.25 0 0 0-.25-.25Z"></path><path d="M7 12.75a.75.75 0 0 1 .75-.75h4.5a.75.75 0 0 1 0 1.5h-4.5a.75.75 0 0 1-.75-.75Zm-4 0a.75.75 0 0 1 .75-.75h.5a.75.75 0 0 1 0 1.5h-.5a.75.75 0 0 1-.75-.75Z"></path>
</svg>
        </span>
      
        <span data-view-component="true" class="ActionListItem-label">
          Your codespaces
</span></a>
  
  
</li>

        
          
<li data-item-id="" data-targets="nav-list.items" data-view-component="true" class="ActionListItem">
    
    <button id="item-441245f0-8a95-4de0-beb5-355a54c8f270" type="button" data-view-component="true" class="ActionListContent ActionListContent--visual16">
        <span class="ActionListItem-visual ActionListItem-visual--leading">
          <span data-view-component="true" class="d-flex flex-items-center">    <svg style="box-sizing: content-box; color: var(--color-icon-primary);" width="16" height="16" viewBox="0 0 16 16" fill="none" data-view-component="true" class="anim-rotate">
  <circle cx="8" cy="8" r="7" stroke="currentColor" stroke-opacity="0.25" stroke-width="2" vector-effect="non-scaling-stroke" />
  <path d="M15 8a7.002 7.002 0 00-7-7" stroke="currentColor" stroke-width="2" stroke-linecap="round" vector-effect="non-scaling-stroke" />
</svg>
</span>
        </span>
      
        <span data-view-component="true" class="ActionListItem-label">
          

  <span class="color-fg-muted">
    Loading...
  </span>

</span></button>
  
  
</li>

        
          
<li data-item-id="" data-targets="nav-list.items" data-view-component="true" class="ActionListItem">
    
    <a id="item-b73f8a73-c60a-4dc5-bb25-a085c1c14b46" href="/dashleb33?tab=stars" data-view-component="true" class="ActionListContent ActionListContent--visual16">
        <span class="ActionListItem-visual ActionListItem-visual--leading">
          <svg aria-hidden="true" height="16" viewBox="0 0 16 16" version="1.1" width="16" data-view-component="true" class="octicon octicon-star">
    <path d="M8 .25a.75.75 0 0 1 .673.418l1.882 3.815 4.21.612a.75.75 0 0 1 .416 1.279l-3.046 2.97.719 4.192a.751.751 0 0 1-1.088.791L8 12.347l-3.766 1.98a.75.75 0 0 1-1.088-.79l.72-4.194L.818 6.374a.75.75 0 0 1 .416-1.28l4.21-.611L7.327.668A.75.75 0 0 1 8 .25Zm0 2.445L6.615 5.5a.75.75 0 0 1-.564.41l-3.097.45 2.24 2.184a.75.75 0 0 1 .216.664l-.528 3.084 2.769-1.456a.75.75 0 0 1 .698 0l2.77 1.456-.53-3.084a.75.75 0 0 1 .216-.664l2.24-2.183-3.096-.45a.75.75 0 0 1-.564-.41L8 2.694Z"></path>
</svg>
        </span>
      
        <span data-view-component="true" class="ActionListItem-label">
          Your stars
</span></a>
  
  
</li>

        
          
<li data-item-id="" data-targets="nav-list.items" data-view-component="true" class="ActionListItem">
    
    <a id="item-3a95c50d-5302-4d0a-98cb-ce4faff61981" href="/sponsors/accounts" data-view-component="true" class="ActionListContent ActionListContent--visual16">
        <span class="ActionListItem-visual ActionListItem-visual--leading">
          <svg aria-hidden="true" height="16" viewBox="0 0 16 16" version="1.1" width="16" data-view-component="true" class="octicon octicon-heart">
    <path d="m8 14.25.345.666a.75.75 0 0 1-.69 0l-.008-.004-.018-.01a7.152 7.152 0 0 1-.31-.17 22.055 22.055 0 0 1-3.434-2.414C2.045 10.731 0 8.35 0 5.5 0 2.836 2.086 1 4.25 1 5.797 1 7.153 1.802 8 3.02 8.847 1.802 10.203 1 11.75 1 13.914 1 16 2.836 16 5.5c0 2.85-2.045 5.231-3.885 6.818a22.066 22.066 0 0 1-3.744 2.584l-.018.01-.006.003h-.002ZM4.25 2.5c-1.336 0-2.75 1.164-2.75 3 0 2.15 1.58 4.144 3.365 5.682A20.58 20.58 0 0 0 8 13.393a20.58 20.58 0 0 0 3.135-2.211C12.92 9.644 14.5 7.65 14.5 5.5c0-1.836-1.414-3-2.75-3-1.373 0-2.609.986-3.029 2.456a.749.749 0 0 1-1.442 0C6.859 3.486 5.623 2.5 4.25 2.5Z"></path>
</svg>
        </span>
      
        <span data-view-component="true" class="ActionListItem-label">
          Your sponsors
</span></a>
  
  
</li>

        
          
<li data-item-id="" data-targets="nav-list.items" data-view-component="true" class="ActionListItem">
    
    <a id="item-0da36034-def9-4fb9-a420-00ca5184cb4b" href="https://gist.github.com/mine" data-view-component="true" class="ActionListContent ActionListContent--visual16">
        <span class="ActionListItem-visual ActionListItem-visual--leading">
          <svg aria-hidden="true" height="16" viewBox="0 0 16 16" version="1.1" width="16" data-view-component="true" class="octicon octicon-code-square">
    <path d="M0 1.75C0 .784.784 0 1.75 0h12.5C15.216 0 16 .784 16 1.75v12.5A1.75 1.75 0 0 1 14.25 16H1.75A1.75 1.75 0 0 1 0 14.25Zm1.75-.25a.25.25 0 0 0-.25.25v12.5c0 .138.112.25.25.25h12.5a.25.25 0 0 0 .25-.25V1.75a.25.25 0 0 0-.25-.25Zm7.47 3.97a.75.75 0 0 1 1.06 0l2 2a.75.75 0 0 1 0 1.06l-2 2a.749.749 0 0 1-1.275-.326.749.749 0 0 1 .215-.734L10.69 8 9.22 6.53a.75.75 0 0 1 0-1.06ZM6.78 6.53 5.31 8l1.47 1.47a.749.749 0 0 1-.326 1.275.749.749 0 0 1-.734-.215l-2-2a.75.75 0 0 1 0-1.06l2-2a.751.751 0 0 1 1.042.018.751.751 0 0 1 .018 1.042Z"></path>
</svg>
        </span>
      
        <span data-view-component="true" class="ActionListItem-label">
          Your gists
</span></a>
  
  
</li>

        
          <li role="presentation" aria-hidden="true" data-view-component="true" class="ActionList-sectionDivider"></li>
        
          
<li data-item-id="" data-targets="nav-list.items" data-view-component="true" class="ActionListItem">
    
    <button id="item-02aa4cb8-593a-47b4-90e9-d30b4e8f608e" type="button" data-view-component="true" class="ActionListContent ActionListContent--visual16">
        <span class="ActionListItem-visual ActionListItem-visual--leading">
          <span data-view-component="true" class="d-flex flex-items-center">    <svg style="box-sizing: content-box; color: var(--color-icon-primary);" width="16" height="16" viewBox="0 0 16 16" fill="none" data-view-component="true" class="anim-rotate">
  <circle cx="8" cy="8" r="7" stroke="currentColor" stroke-opacity="0.25" stroke-width="2" vector-effect="non-scaling-stroke" />
  <path d="M15 8a7.002 7.002 0 00-7-7" stroke="currentColor" stroke-width="2" stroke-linecap="round" vector-effect="non-scaling-stroke" />
</svg>
</span>
        </span>
      
        <span data-view-component="true" class="ActionListItem-label">
          

  <span class="color-fg-muted">
    Loading...
  </span>

</span></button>
  
  
</li>

        
          
<li data-item-id="" data-targets="nav-list.items" data-view-component="true" class="ActionListItem">
    
    <button id="item-73f20b22-297a-44cd-907c-78470e1bc0c8" type="button" data-view-component="true" class="ActionListContent ActionListContent--visual16">
        <span class="ActionListItem-visual ActionListItem-visual--leading">
          <span data-view-component="true" class="d-flex flex-items-center">    <svg style="box-sizing: content-box; color: var(--color-icon-primary);" width="16" height="16" viewBox="0 0 16 16" fill="none" data-view-component="true" class="anim-rotate">
  <circle cx="8" cy="8" r="7" stroke="currentColor" stroke-opacity="0.25" stroke-width="2" vector-effect="non-scaling-stroke" />
  <path d="M15 8a7.002 7.002 0 00-7-7" stroke="currentColor" stroke-width="2" stroke-linecap="round" vector-effect="non-scaling-stroke" />
</svg>
</span>
        </span>
      
        <span data-view-component="true" class="ActionListItem-label">
          

  <span class="color-fg-muted">
    Loading...
  </span>

</span></button>
  
  
</li>

        
          
<li data-item-id="" data-targets="nav-list.items" data-view-component="true" class="ActionListItem">
    
    <button id="item-454bef1d-a4cb-4332-a8ad-db280655ab12" type="button" data-view-component="true" class="ActionListContent ActionListContent--visual16">
        <span class="ActionListItem-visual ActionListItem-visual--leading">
          <span data-view-component="true" class="d-flex flex-items-center">    <svg style="box-sizing: content-box; color: var(--color-icon-primary);" width="16" height="16" viewBox="0 0 16 16" fill="none" data-view-component="true" class="anim-rotate">
  <circle cx="8" cy="8" r="7" stroke="currentColor" stroke-opacity="0.25" stroke-width="2" vector-effect="non-scaling-stroke" />
  <path d="M15 8a7.002 7.002 0 00-7-7" stroke="currentColor" stroke-width="2" stroke-linecap="round" vector-effect="non-scaling-stroke" />
</svg>
</span>
        </span>
      
        <span data-view-component="true" class="ActionListItem-label">
          

  <span class="color-fg-muted">
    Loading...
  </span>

</span></button>
  
  
</li>

        
          
<li data-item-id="" data-targets="nav-list.items" data-view-component="true" class="ActionListItem">
    
    <a id="item-b58bf3a9-e3de-4bae-ba26-67b596987555" href="/settings/profile" data-view-component="true" class="ActionListContent ActionListContent--visual16">
        <span class="ActionListItem-visual ActionListItem-visual--leading">
          <svg aria-hidden="true" height="16" viewBox="0 0 16 16" version="1.1" width="16" data-view-component="true" class="octicon octicon-gear">
    <path d="M8 0a8.2 8.2 0 0 1 .701.031C9.444.095 9.99.645 10.16 1.29l.288 1.107c.018.066.079.158.212.224.231.114.454.243.668.386.123.082.233.09.299.071l1.103-.303c.644-.176 1.392.021 1.82.63.27.385.506.792.704 1.218.315.675.111 1.422-.364 1.891l-.814.806c-.049.048-.098.147-.088.294.016.257.016.515 0 .772-.01.147.038.246.088.294l.814.806c.475.469.679 1.216.364 1.891a7.977 7.977 0 0 1-.704 1.217c-.428.61-1.176.807-1.82.63l-1.102-.302c-.067-.019-.177-.011-.3.071a5.909 5.909 0 0 1-.668.386c-.133.066-.194.158-.211.224l-.29 1.106c-.168.646-.715 1.196-1.458 1.26a8.006 8.006 0 0 1-1.402 0c-.743-.064-1.289-.614-1.458-1.26l-.289-1.106c-.018-.066-.079-.158-.212-.224a5.738 5.738 0 0 1-.668-.386c-.123-.082-.233-.09-.299-.071l-1.103.303c-.644.176-1.392-.021-1.82-.63a8.12 8.12 0 0 1-.704-1.218c-.315-.675-.111-1.422.363-1.891l.815-.806c.05-.048.098-.147.088-.294a6.214 6.214 0 0 1 0-.772c.01-.147-.038-.246-.088-.294l-.815-.806C.635 6.045.431 5.298.746 4.623a7.92 7.92 0 0 1 .704-1.217c.428-.61 1.176-.807 1.82-.63l1.102.302c.067.019.177.011.3-.071.214-.143.437-.272.668-.386.133-.066.194-.158.211-.224l.29-1.106C6.009.645 6.556.095 7.299.03 7.53.01 7.764 0 8 0Zm-.571 1.525c-.036.003-.108.036-.137.146l-.289 1.105c-.147.561-.549.967-.998 1.189-.173.086-.34.183-.5.29-.417.278-.97.423-1.529.27l-1.103-.303c-.109-.03-.175.016-.195.045-.22.312-.412.644-.573.99-.014.031-.021.11.059.19l.815.806c.411.406.562.957.53 1.456a4.709 4.709 0 0 0 0 .582c.032.499-.119 1.05-.53 1.456l-.815.806c-.081.08-.073.159-.059.19.162.346.353.677.573.989.02.03.085.076.195.046l1.102-.303c.56-.153 1.113-.008 1.53.27.161.107.328.204.501.29.447.222.85.629.997 1.189l.289 1.105c.029.109.101.143.137.146a6.6 6.6 0 0 0 1.142 0c.036-.003.108-.036.137-.146l.289-1.105c.147-.561.549-.967.998-1.189.173-.086.34-.183.5-.29.417-.278.97-.423 1.529-.27l1.103.303c.109.029.175-.016.195-.045.22-.313.411-.644.573-.99.014-.031.021-.11-.059-.19l-.815-.806c-.411-.406-.562-.957-.53-1.456a4.709 4.709 0 0 0 0-.582c-.032-.499.119-1.05.53-1.456l.815-.806c.081-.08.073-.159.059-.19a6.464 6.464 0 0 0-.573-.989c-.02-.03-.085-.076-.195-.046l-1.102.303c-.56.153-1.113.008-1.53-.27a4.44 4.44 0 0 0-.501-.29c-.447-.222-.85-.629-.997-1.189l-.289-1.105c-.029-.11-.101-.143-.137-.146a6.6 6.6 0 0 0-1.142 0ZM11 8a3 3 0 1 1-6 0 3 3 0 0 1 6 0ZM9.5 8a1.5 1.5 0 1 0-3.001.001A1.5 1.5 0 0 0 9.5 8Z"></path>
</svg>
        </span>
      
        <span data-view-component="true" class="ActionListItem-label">
          Settings
</span></a>
  
  
</li>

        
          <li role="presentation" aria-hidden="true" data-view-component="true" class="ActionList-sectionDivider"></li>
        
          
<li data-item-id="" data-targets="nav-list.items" data-view-component="true" class="ActionListItem">
    
    <a id="item-800e4915-c5c4-4a1a-a56b-975c80bc4a65" href="https://docs.github.com" data-view-component="true" class="ActionListContent ActionListContent--visual16">
        <span class="ActionListItem-visual ActionListItem-visual--leading">
          <svg aria-hidden="true" height="16" viewBox="0 0 16 16" version="1.1" width="16" data-view-component="true" class="octicon octicon-book">
    <path d="M0 1.75A.75.75 0 0 1 .75 1h4.253c1.227 0 2.317.59 3 1.501A3.743 3.743 0 0 1 11.006 1h4.245a.75.75 0 0 1 .75.75v10.5a.75.75 0 0 1-.75.75h-4.507a2.25 2.25 0 0 0-1.591.659l-.622.621a.75.75 0 0 1-1.06 0l-.622-.621A2.25 2.25 0 0 0 5.258 13H.75a.75.75 0 0 1-.75-.75Zm7.251 10.324.004-5.073-.002-2.253A2.25 2.25 0 0 0 5.003 2.5H1.5v9h3.757a3.75 3.75 0 0 1 1.994.574ZM8.755 4.75l-.004 7.322a3.752 3.752 0 0 1 1.992-.572H14.5v-9h-3.495a2.25 2.25 0 0 0-2.25 2.25Z"></path>
</svg>
        </span>
      
        <span data-view-component="true" class="ActionListItem-label">
          GitHub Docs
</span></a>
  
  
</li>

        
          
<li data-item-id="" data-targets="nav-list.items" data-view-component="true" class="ActionListItem">
    
    <a id="item-9122995f-425f-45d2-9f50-c502241fcf2b" href="https://support.github.com" data-view-component="true" class="ActionListContent ActionListContent--visual16">
        <span class="ActionListItem-visual ActionListItem-visual--leading">
          <svg aria-hidden="true" height="16" viewBox="0 0 16 16" version="1.1" width="16" data-view-component="true" class="octicon octicon-people">
    <path d="M2 5.5a3.5 3.5 0 1 1 5.898 2.549 5.508 5.508 0 0 1 3.034 4.084.75.75 0 1 1-1.482.235 4 4 0 0 0-7.9 0 .75.75 0 0 1-1.482-.236A5.507 5.507 0 0 1 3.102 8.05 3.493 3.493 0 0 1 2 5.5ZM11 4a3.001 3.001 0 0 1 2.22 5.018 5.01 5.01 0 0 1 2.56 3.012.749.749 0 0 1-.885.954.752.752 0 0 1-.549-.514 3.507 3.507 0 0 0-2.522-2.372.75.75 0 0 1-.574-.73v-.352a.75.75 0 0 1 .416-.672A1.5 1.5 0 0 0 11 5.5.75.75 0 0 1 11 4Zm-5.5-.5a2 2 0 1 0-.001 3.999A2 2 0 0 0 5.5 3.5Z"></path>
</svg>
        </span>
      
        <span data-view-component="true" class="ActionListItem-label">
          GitHub Support
</span></a>
  
  
</li>

        
          <li role="presentation" aria-hidden="true" data-view-component="true" class="ActionList-sectionDivider"></li>
        
          
<li data-item-id="" data-targets="nav-list.items" data-view-component="true" class="ActionListItem">
    
    <a id="item-6ac49075-fd19-4906-91ec-fdaa8777cb6a" href="/logout" data-view-component="true" class="ActionListContent">
      
        <span data-view-component="true" class="ActionListItem-label">
          Sign out
</span></a>
  
  
</li>

</ul>  </nav-list>
</nav>


</div>
      
</modal-dialog></div>
  </user-drawer-side-panel>

  </include-fragment>
</deferred-side-panel>
        </div>
      </div>
    </div>


      <div class="AppHeader-localBar" >
        <nav data-pjax="#js-repo-pjax-container" aria-label="Repository" data-view-component="true" class="js-repo-nav js-sidenav-container-pjax js-responsive-underlinenav overflow-hidden UnderlineNav">

  <ul data-view-component="true" class="UnderlineNav-body list-style-none">
      <li data-view-component="true" class="d-inline-flex">
  <a id="code-tab" href="/pat-hanbury/MonteCarloTutorial" data-tab-item="i0code-tab" data-selected-links="repo_source repo_downloads repo_commits repo_releases repo_tags repo_branches repo_packages repo_deployments /pat-hanbury/MonteCarloTutorial" data-pjax="#repo-content-pjax-container" data-turbo-frame="repo-content-turbo-frame" data-hotkey="g c" data-analytics-event="{&quot;category&quot;:&quot;Underline navbar&quot;,&quot;action&quot;:&quot;Click tab&quot;,&quot;label&quot;:&quot;Code&quot;,&quot;target&quot;:&quot;UNDERLINE_NAV.TAB&quot;}" data-view-component="true" class="UnderlineNav-item no-wrap js-responsive-underlinenav-item js-selected-navigation-item">
    
              <svg aria-hidden="true" height="16" viewBox="0 0 16 16" version="1.1" width="16" data-view-component="true" class="octicon octicon-code UnderlineNav-octicon d-none d-sm-inline">
    <path d="m11.28 3.22 4.25 4.25a.75.75 0 0 1 0 1.06l-4.25 4.25a.749.749 0 0 1-1.275-.326.749.749 0 0 1 .215-.734L13.94 8l-3.72-3.72a.749.749 0 0 1 .326-1.275.749.749 0 0 1 .734.215Zm-6.56 0a.751.751 0 0 1 1.042.018.751.751 0 0 1 .018 1.042L2.06 8l3.72 3.72a.749.749 0 0 1-.326 1.275.749.749 0 0 1-.734-.215L.47 8.53a.75.75 0 0 1 0-1.06Z"></path>
</svg>
        <span data-content="Code">Code</span>
          <span id="code-repo-tab-count" data-pjax-replace="" data-turbo-replace="" title="Not available" data-view-component="true" class="Counter"></span>


    
</a></li>
      <li data-view-component="true" class="d-inline-flex">
  <a id="issues-tab" href="/pat-hanbury/MonteCarloTutorial/issues" data-tab-item="i1issues-tab" data-selected-links="repo_issues repo_labels repo_milestones /pat-hanbury/MonteCarloTutorial/issues" data-pjax="#repo-content-pjax-container" data-turbo-frame="repo-content-turbo-frame" data-hotkey="g i" data-analytics-event="{&quot;category&quot;:&quot;Underline navbar&quot;,&quot;action&quot;:&quot;Click tab&quot;,&quot;label&quot;:&quot;Issues&quot;,&quot;target&quot;:&quot;UNDERLINE_NAV.TAB&quot;}" data-view-component="true" class="UnderlineNav-item no-wrap js-responsive-underlinenav-item js-selected-navigation-item">
    
              <svg aria-hidden="true" height="16" viewBox="0 0 16 16" version="1.1" width="16" data-view-component="true" class="octicon octicon-issue-opened UnderlineNav-octicon d-none d-sm-inline">
    <path d="M8 9.5a1.5 1.5 0 1 0 0-3 1.5 1.5 0 0 0 0 3Z"></path><path d="M8 0a8 8 0 1 1 0 16A8 8 0 0 1 8 0ZM1.5 8a6.5 6.5 0 1 0 13 0 6.5 6.5 0 0 0-13 0Z"></path>
</svg>
        <span data-content="Issues">Issues</span>
          <span id="issues-repo-tab-count" data-pjax-replace="" data-turbo-replace="" title="1" data-view-component="true" class="Counter">1</span>


    
</a></li>
      <li data-view-component="true" class="d-inline-flex">
  <a id="pull-requests-tab" href="/pat-hanbury/MonteCarloTutorial/pulls" data-tab-item="i2pull-requests-tab" data-selected-links="repo_pulls checks /pat-hanbury/MonteCarloTutorial/pulls" data-pjax="#repo-content-pjax-container" data-turbo-frame="repo-content-turbo-frame" data-hotkey="g p" data-analytics-event="{&quot;category&quot;:&quot;Underline navbar&quot;,&quot;action&quot;:&quot;Click tab&quot;,&quot;label&quot;:&quot;Pull requests&quot;,&quot;target&quot;:&quot;UNDERLINE_NAV.TAB&quot;}" data-view-component="true" class="UnderlineNav-item no-wrap js-responsive-underlinenav-item js-selected-navigation-item">
    
              <svg aria-hidden="true" height="16" viewBox="0 0 16 16" version="1.1" width="16" data-view-component="true" class="octicon octicon-git-pull-request UnderlineNav-octicon d-none d-sm-inline">
    <path d="M1.5 3.25a2.25 2.25 0 1 1 3 2.122v5.256a2.251 2.251 0 1 1-1.5 0V5.372A2.25 2.25 0 0 1 1.5 3.25Zm5.677-.177L9.573.677A.25.25 0 0 1 10 .854V2.5h1A2.5 2.5 0 0 1 13.5 5v5.628a2.251 2.251 0 1 1-1.5 0V5a1 1 0 0 0-1-1h-1v1.646a.25.25 0 0 1-.427.177L7.177 3.427a.25.25 0 0 1 0-.354ZM3.75 2.5a.75.75 0 1 0 0 1.5.75.75 0 0 0 0-1.5Zm0 9.5a.75.75 0 1 0 0 1.5.75.75 0 0 0 0-1.5Zm8.25.75a.75.75 0 1 0 1.5 0 .75.75 0 0 0-1.5 0Z"></path>
</svg>
        <span data-content="Pull requests">Pull requests</span>
          <span id="pull-requests-repo-tab-count" data-pjax-replace="" data-turbo-replace="" title="0" hidden="hidden" data-view-component="true" class="Counter">0</span>


    
</a></li>
      <li data-view-component="true" class="d-inline-flex">
  <a id="actions-tab" href="/pat-hanbury/MonteCarloTutorial/actions" data-tab-item="i3actions-tab" data-selected-links="repo_actions /pat-hanbury/MonteCarloTutorial/actions" data-pjax="#repo-content-pjax-container" data-turbo-frame="repo-content-turbo-frame" data-hotkey="g a" data-analytics-event="{&quot;category&quot;:&quot;Underline navbar&quot;,&quot;action&quot;:&quot;Click tab&quot;,&quot;label&quot;:&quot;Actions&quot;,&quot;target&quot;:&quot;UNDERLINE_NAV.TAB&quot;}" data-view-component="true" class="UnderlineNav-item no-wrap js-responsive-underlinenav-item js-selected-navigation-item">
    
              <svg aria-hidden="true" height="16" viewBox="0 0 16 16" version="1.1" width="16" data-view-component="true" class="octicon octicon-play UnderlineNav-octicon d-none d-sm-inline">
    <path d="M8 0a8 8 0 1 1 0 16A8 8 0 0 1 8 0ZM1.5 8a6.5 6.5 0 1 0 13 0 6.5 6.5 0 0 0-13 0Zm4.879-2.773 4.264 2.559a.25.25 0 0 1 0 .428l-4.264 2.559A.25.25 0 0 1 6 10.559V5.442a.25.25 0 0 1 .379-.215Z"></path>
</svg>
        <span data-content="Actions">Actions</span>
          <span id="actions-repo-tab-count" data-pjax-replace="" data-turbo-replace="" title="Not available" data-view-component="true" class="Counter"></span>


    
</a></li>
      <li data-view-component="true" class="d-inline-flex">
  <a id="projects-tab" href="/pat-hanbury/MonteCarloTutorial/projects" data-tab-item="i4projects-tab" data-selected-links="repo_projects new_repo_project repo_project /pat-hanbury/MonteCarloTutorial/projects" data-pjax="#repo-content-pjax-container" data-turbo-frame="repo-content-turbo-frame" data-hotkey="g b" data-analytics-event="{&quot;category&quot;:&quot;Underline navbar&quot;,&quot;action&quot;:&quot;Click tab&quot;,&quot;label&quot;:&quot;Projects&quot;,&quot;target&quot;:&quot;UNDERLINE_NAV.TAB&quot;}" data-view-component="true" class="UnderlineNav-item no-wrap js-responsive-underlinenav-item js-selected-navigation-item">
    
              <svg aria-hidden="true" height="16" viewBox="0 0 16 16" version="1.1" width="16" data-view-component="true" class="octicon octicon-table UnderlineNav-octicon d-none d-sm-inline">
    <path d="M0 1.75C0 .784.784 0 1.75 0h12.5C15.216 0 16 .784 16 1.75v12.5A1.75 1.75 0 0 1 14.25 16H1.75A1.75 1.75 0 0 1 0 14.25ZM6.5 6.5v8h7.75a.25.25 0 0 0 .25-.25V6.5Zm8-1.5V1.75a.25.25 0 0 0-.25-.25H6.5V5Zm-13 1.5v7.75c0 .138.112.25.25.25H5v-8ZM5 5V1.5H1.75a.25.25 0 0 0-.25.25V5Z"></path>
</svg>
        <span data-content="Projects">Projects</span>
          <span id="projects-repo-tab-count" data-pjax-replace="" data-turbo-replace="" title="0" hidden="hidden" data-view-component="true" class="Counter">0</span>


    
</a></li>
      <li data-view-component="true" class="d-inline-flex">
  <a id="security-tab" href="/pat-hanbury/MonteCarloTutorial/security" data-tab-item="i5security-tab" data-selected-links="security overview alerts policy token_scanning code_scanning /pat-hanbury/MonteCarloTutorial/security" data-pjax="#repo-content-pjax-container" data-turbo-frame="repo-content-turbo-frame" data-hotkey="g s" data-analytics-event="{&quot;category&quot;:&quot;Underline navbar&quot;,&quot;action&quot;:&quot;Click tab&quot;,&quot;label&quot;:&quot;Security&quot;,&quot;target&quot;:&quot;UNDERLINE_NAV.TAB&quot;}" data-view-component="true" class="UnderlineNav-item no-wrap js-responsive-underlinenav-item js-selected-navigation-item">
    
              <svg aria-hidden="true" height="16" viewBox="0 0 16 16" version="1.1" width="16" data-view-component="true" class="octicon octicon-shield UnderlineNav-octicon d-none d-sm-inline">
    <path d="M7.467.133a1.748 1.748 0 0 1 1.066 0l5.25 1.68A1.75 1.75 0 0 1 15 3.48V7c0 1.566-.32 3.182-1.303 4.682-.983 1.498-2.585 2.813-5.032 3.855a1.697 1.697 0 0 1-1.33 0c-2.447-1.042-4.049-2.357-5.032-3.855C1.32 10.182 1 8.566 1 7V3.48a1.75 1.75 0 0 1 1.217-1.667Zm.61 1.429a.25.25 0 0 0-.153 0l-5.25 1.68a.25.25 0 0 0-.174.238V7c0 1.358.275 2.666 1.057 3.86.784 1.194 2.121 2.34 4.366 3.297a.196.196 0 0 0 .154 0c2.245-.956 3.582-2.104 4.366-3.298C13.225 9.666 13.5 8.36 13.5 7V3.48a.251.251 0 0 0-.174-.237l-5.25-1.68ZM8.75 4.75v3a.75.75 0 0 1-1.5 0v-3a.75.75 0 0 1 1.5 0ZM9 10.5a1 1 0 1 1-2 0 1 1 0 0 1 2 0Z"></path>
</svg>
        <span data-content="Security">Security</span>
          <include-fragment src="/pat-hanbury/MonteCarloTutorial/security/overall-count" accept="text/fragment+html"></include-fragment>

    
</a></li>
      <li data-view-component="true" class="d-inline-flex">
  <a id="insights-tab" href="/pat-hanbury/MonteCarloTutorial/pulse" data-tab-item="i6insights-tab" data-selected-links="repo_graphs repo_contributors dependency_graph dependabot_updates pulse people community /pat-hanbury/MonteCarloTutorial/pulse" data-pjax="#repo-content-pjax-container" data-turbo-frame="repo-content-turbo-frame" data-analytics-event="{&quot;category&quot;:&quot;Underline navbar&quot;,&quot;action&quot;:&quot;Click tab&quot;,&quot;label&quot;:&quot;Insights&quot;,&quot;target&quot;:&quot;UNDERLINE_NAV.TAB&quot;}" data-view-component="true" class="UnderlineNav-item no-wrap js-responsive-underlinenav-item js-selected-navigation-item">
    
              <svg aria-hidden="true" height="16" viewBox="0 0 16 16" version="1.1" width="16" data-view-component="true" class="octicon octicon-graph UnderlineNav-octicon d-none d-sm-inline">
    <path d="M1.5 1.75V13.5h13.75a.75.75 0 0 1 0 1.5H.75a.75.75 0 0 1-.75-.75V1.75a.75.75 0 0 1 1.5 0Zm14.28 2.53-5.25 5.25a.75.75 0 0 1-1.06 0L7 7.06 4.28 9.78a.751.751 0 0 1-1.042-.018.751.751 0 0 1-.018-1.042l3.25-3.25a.75.75 0 0 1 1.06 0L10 7.94l4.72-4.72a.751.751 0 0 1 1.042.018.751.751 0 0 1 .018 1.042Z"></path>
</svg>
        <span data-content="Insights">Insights</span>
          <span id="insights-repo-tab-count" data-pjax-replace="" data-turbo-replace="" title="Not available" data-view-component="true" class="Counter"></span>


    
</a></li>
</ul>
    <div style="visibility:hidden;" data-view-component="true" class="UnderlineNav-actions js-responsive-underlinenav-overflow position-absolute pr-3 pr-md-4 pr-lg-5 right-0">        <details data-view-component="true" class="details-overlay details-reset position-relative">
    <summary role="button" data-view-component="true">          <div class="UnderlineNav-item mr-0 border-0">
            <svg aria-hidden="true" height="16" viewBox="0 0 16 16" version="1.1" width="16" data-view-component="true" class="octicon octicon-kebab-horizontal">
    <path d="M8 9a1.5 1.5 0 1 0 0-3 1.5 1.5 0 0 0 0 3ZM1.5 9a1.5 1.5 0 1 0 0-3 1.5 1.5 0 0 0 0 3Zm13 0a1.5 1.5 0 1 0 0-3 1.5 1.5 0 0 0 0 3Z"></path>
</svg>
            <span class="sr-only">More</span>
          </div>
</summary>
    <details-menu role="menu" data-view-component="true" class="dropdown-menu dropdown-menu-sw">          <ul>
              <li data-menu-item="i0code-tab" hidden>
                <a role="menuitem" class="js-selected-navigation-item dropdown-item" data-selected-links="repo_source repo_downloads repo_commits repo_releases repo_tags repo_branches repo_packages repo_deployments /pat-hanbury/MonteCarloTutorial" href="/pat-hanbury/MonteCarloTutorial">
                  Code
</a>              </li>
              <li data-menu-item="i1issues-tab" hidden>
                <a role="menuitem" class="js-selected-navigation-item dropdown-item" data-selected-links="repo_issues repo_labels repo_milestones /pat-hanbury/MonteCarloTutorial/issues" href="/pat-hanbury/MonteCarloTutorial/issues">
                  Issues
</a>              </li>
              <li data-menu-item="i2pull-requests-tab" hidden>
                <a role="menuitem" class="js-selected-navigation-item dropdown-item" data-selected-links="repo_pulls checks /pat-hanbury/MonteCarloTutorial/pulls" href="/pat-hanbury/MonteCarloTutorial/pulls">
                  Pull requests
</a>              </li>
              <li data-menu-item="i3actions-tab" hidden>
                <a role="menuitem" class="js-selected-navigation-item dropdown-item" data-selected-links="repo_actions /pat-hanbury/MonteCarloTutorial/actions" href="/pat-hanbury/MonteCarloTutorial/actions">
                  Actions
</a>              </li>
              <li data-menu-item="i4projects-tab" hidden>
                <a role="menuitem" class="js-selected-navigation-item dropdown-item" data-selected-links="repo_projects new_repo_project repo_project /pat-hanbury/MonteCarloTutorial/projects" href="/pat-hanbury/MonteCarloTutorial/projects">
                  Projects
</a>              </li>
              <li data-menu-item="i5security-tab" hidden>
                <a role="menuitem" class="js-selected-navigation-item dropdown-item" data-selected-links="security overview alerts policy token_scanning code_scanning /pat-hanbury/MonteCarloTutorial/security" href="/pat-hanbury/MonteCarloTutorial/security">
                  Security
</a>              </li>
              <li data-menu-item="i6insights-tab" hidden>
                <a role="menuitem" class="js-selected-navigation-item dropdown-item" data-selected-links="repo_graphs repo_contributors dependency_graph dependabot_updates pulse people community /pat-hanbury/MonteCarloTutorial/pulse" href="/pat-hanbury/MonteCarloTutorial/pulse">
                  Insights
</a>              </li>
          </ul>
</details-menu>
</details></div>
</nav>
      </div>
</header>


      <div hidden="hidden" data-view-component="true" class="js-stale-session-flash flash flash-warn mb-3">
  
        <svg aria-hidden="true" height="16" viewBox="0 0 16 16" version="1.1" width="16" data-view-component="true" class="octicon octicon-alert">
    <path d="M6.457 1.047c.659-1.234 2.427-1.234 3.086 0l6.082 11.378A1.75 1.75 0 0 1 14.082 15H1.918a1.75 1.75 0 0 1-1.543-2.575Zm1.763.707a.25.25 0 0 0-.44 0L1.698 13.132a.25.25 0 0 0 .22.368h12.164a.25.25 0 0 0 .22-.368Zm.53 3.996v2.5a.75.75 0 0 1-1.5 0v-2.5a.75.75 0 0 1 1.5 0ZM9 11a1 1 0 1 1-2 0 1 1 0 0 1 2 0Z"></path>
</svg>
        <span class="js-stale-session-flash-signed-in" hidden>You signed in with another tab or window. <a href="">Reload</a> to refresh your session.</span>
        <span class="js-stale-session-flash-signed-out" hidden>You signed out in another tab or window. <a href="">Reload</a> to refresh your session.</span>
        <span class="js-stale-session-flash-switched" hidden>You switched accounts on another tab or window. <a href="">Reload</a> to refresh your session.</span>

    <button class="flash-close js-flash-close" type="button" aria-label="Close">
      <svg aria-hidden="true" height="16" viewBox="0 0 16 16" version="1.1" width="16" data-view-component="true" class="octicon octicon-x">
    <path d="M3.72 3.72a.75.75 0 0 1 1.06 0L8 6.94l3.22-3.22a.749.749 0 0 1 1.275.326.749.749 0 0 1-.215.734L9.06 8l3.22 3.22a.749.749 0 0 1-.326 1.275.749.749 0 0 1-.734-.215L8 9.06l-3.22 3.22a.751.751 0 0 1-1.042-.018.751.751 0 0 1-.018-1.042L6.94 8 3.72 4.78a.75.75 0 0 1 0-1.06Z"></path>
</svg>
    </button>

  
</div>
          
    </div>

  <div id="start-of-content" class="show-on-focus"></div>








    <div id="js-flash-container" data-turbo-replace>





  <template class="js-flash-template">
    
<div class="flash flash-full   {{ className }}">
  <div class="px-2" >
    <button autofocus class="flash-close js-flash-close" type="button" aria-label="Dismiss this message">
      <svg aria-hidden="true" height="16" viewBox="0 0 16 16" version="1.1" width="16" data-view-component="true" class="octicon octicon-x">
    <path d="M3.72 3.72a.75.75 0 0 1 1.06 0L8 6.94l3.22-3.22a.749.749 0 0 1 1.275.326.749.749 0 0 1-.215.734L9.06 8l3.22 3.22a.749.749 0 0 1-.326 1.275.749.749 0 0 1-.734-.215L8 9.06l-3.22 3.22a.751.751 0 0 1-1.042-.018.751.751 0 0 1-.018-1.042L6.94 8 3.72 4.78a.75.75 0 0 1 0-1.06Z"></path>
</svg>
    </button>
    <div aria-atomic="true" role="alert" class="js-flash-alert">
      
      <div>{{ message }}</div>

    </div>
  </div>
</div>
  </template>
</div>


    
    <notification-shelf-watcher data-base-url="https://github.com/notifications/beta/shelf" data-channel="eyJjIjoibm90aWZpY2F0aW9uLWNoYW5nZWQ6MTA4MjM0NDU4IiwidCI6MTY4Nzk1NjAyOX0=--c72d7254807f6cb3170c14783fa8892c837bbe686d9d357ae582d1cb10313dfd" data-view-component="true" class="js-socket-channel"></notification-shelf-watcher>
  <div hidden data-initial data-target="notification-shelf-watcher.placeholder"></div>






      <details
  class="details-reset details-overlay details-overlay-dark js-command-palette-dialog"
  id="command-palette-pjax-container"
  data-turbo-replace
>
  <summary aria-label="command palette trigger" tabindex="-1"></summary>
  <details-dialog class="command-palette-details-dialog d-flex flex-column flex-justify-center height-fit" aria-label="command palette">
    <command-palette
      class="command-palette color-bg-default rounded-3 border color-shadow-small"
      return-to=/pat-hanbury/MonteCarloTutorial/blob/master/MonteCarloExample.ipynb
      user-id="108234458"
      activation-hotkey="Mod+k,Mod+Alt+k"
      command-mode-hotkey="Mod+Shift+k"
      data-action="
        command-palette-input-ready:command-palette#inputReady
        command-palette-page-stack-updated:command-palette#updateInputScope
        itemsUpdated:command-palette#itemsUpdated
        keydown:command-palette#onKeydown
        loadingStateChanged:command-palette#loadingStateChanged
        selectedItemChanged:command-palette#selectedItemChanged
        pageFetchError:command-palette#pageFetchError
      ">

        <command-palette-mode
          data-char="#"
            data-scope-types="[&quot;&quot;]"
            data-placeholder="Search issues and pull requests"
        ></command-palette-mode>
        <command-palette-mode
          data-char="#"
            data-scope-types="[&quot;owner&quot;,&quot;repository&quot;]"
            data-placeholder="Search issues, pull requests, discussions, and projects"
        ></command-palette-mode>
        <command-palette-mode
          data-char="!"
            data-scope-types="[&quot;owner&quot;,&quot;repository&quot;]"
            data-placeholder="Search projects"
        ></command-palette-mode>
        <command-palette-mode
          data-char="@"
            data-scope-types="[&quot;&quot;]"
            data-placeholder="Search or jump to a user, organization, or repository"
        ></command-palette-mode>
        <command-palette-mode
          data-char="@"
            data-scope-types="[&quot;owner&quot;]"
            data-placeholder="Search or jump to a repository"
        ></command-palette-mode>
        <command-palette-mode
          data-char="/"
            data-scope-types="[&quot;repository&quot;]"
            data-placeholder="Search files"
        ></command-palette-mode>
        <command-palette-mode
          data-char="?"
        ></command-palette-mode>
        <command-palette-mode
          data-char="&gt;"
            data-placeholder="Run a command"
        ></command-palette-mode>
        <command-palette-mode
          data-char=""
            data-scope-types="[&quot;&quot;]"
            data-placeholder="Search or jump to..."
        ></command-palette-mode>
        <command-palette-mode
          data-char=""
            data-scope-types="[&quot;owner&quot;]"
            data-placeholder="Search or jump to..."
        ></command-palette-mode>
      <command-palette-mode
        class="js-command-palette-default-mode"
        data-char=""
        data-placeholder="Search or jump to..."
      ></command-palette-mode>

      <command-palette-input placeholder="Search or jump to..."

        data-action="
          command-palette-input:command-palette#onInput
          command-palette-select:command-palette#onSelect
          command-palette-descope:command-palette#onDescope
          command-palette-cleared:command-palette#onInputClear
        "
      >
        <div class="js-search-icon d-flex flex-items-center mr-2" style="height: 26px">
          <svg aria-hidden="true" height="16" viewBox="0 0 16 16" version="1.1" width="16" data-view-component="true" class="octicon octicon-search color-fg-muted">
    <path d="M10.68 11.74a6 6 0 0 1-7.922-8.982 6 6 0 0 1 8.982 7.922l3.04 3.04a.749.749 0 0 1-.326 1.275.749.749 0 0 1-.734-.215ZM11.5 7a4.499 4.499 0 1 0-8.997 0A4.499 4.499 0 0 0 11.5 7Z"></path>
</svg>
        </div>
        <div class="js-spinner d-flex flex-items-center mr-2 color-fg-muted" hidden>
          <svg aria-label="Loading" class="anim-rotate" viewBox="0 0 16 16" fill="none" width="16" height="16">
            <circle
              cx="8"
              cy="8"
              r="7"
              stroke="currentColor"
              stroke-opacity="0.25"
              stroke-width="2"
              vector-effect="non-scaling-stroke"
            ></circle>
            <path
              d="M15 8a7.002 7.002 0 00-7-7"
              stroke="currentColor"
              stroke-width="2"
              stroke-linecap="round"
              vector-effect="non-scaling-stroke"
            ></path>
          </svg>
        </div>
        <command-palette-scope >
          <div data-target="command-palette-scope.placeholder" hidden class="color-fg-subtle">/&nbsp;&nbsp;<span class="text-semibold color-fg-default">...</span>&nbsp;&nbsp;/&nbsp;&nbsp;</div>
              <command-palette-token
                data-text="pat-hanbury"
                data-id="MDQ6VXNlcjE3MzQ2NTM2"
                data-type="owner"
                data-value="pat-hanbury"
                data-targets="command-palette-scope.tokens"
                class="color-fg-default text-semibold"
                style="white-space:nowrap;line-height:20px;"
                >pat-hanbury<span class="color-fg-subtle text-normal">&nbsp;&nbsp;/&nbsp;&nbsp;</span></command-palette-token>
              <command-palette-token
                data-text="MonteCarloTutorial"
                data-id="MDEwOlJlcG9zaXRvcnkxNjc0ODA0OTU="
                data-type="repository"
                data-value="MonteCarloTutorial"
                data-targets="command-palette-scope.tokens"
                class="color-fg-default text-semibold"
                style="white-space:nowrap;line-height:20px;"
                >MonteCarloTutorial<span class="color-fg-subtle text-normal">&nbsp;&nbsp;/&nbsp;&nbsp;</span></command-palette-token>
        </command-palette-scope>
        <div class="command-palette-input-group flex-1 form-control border-0 box-shadow-none" style="z-index: 0">
          <div class="command-palette-typeahead position-absolute d-flex flex-items-center Truncate">
            <span class="typeahead-segment input-mirror" data-target="command-palette-input.mirror"></span>
            <span class="Truncate-text" data-target="command-palette-input.typeaheadText"></span>
            <span class="typeahead-segment" data-target="command-palette-input.typeaheadPlaceholder"></span>
          </div>
          <input
            class="js-overlay-input typeahead-input d-none"
            disabled
            tabindex="-1"
            aria-label="Hidden input for typeahead"
          >
          <input
            type="text"
            autocomplete="off"
            autocorrect="off"
            autocapitalize="off"
            spellcheck="false"
            class="js-input typeahead-input form-control border-0 box-shadow-none input-block width-full no-focus-indicator"
            aria-label="Command palette input"
            aria-haspopup="listbox"
            aria-expanded="false"
            aria-autocomplete="list"
            aria-controls="command-palette-page-stack"
            role="combobox"
            data-action="
              input:command-palette-input#onInput
              keydown:command-palette-input#onKeydown
            "
          >
        </div>
          <div data-view-component="true" class="position-relative d-inline-block">
    <button aria-keyshortcuts="Control+Backspace" data-action="click:command-palette-input#onClear keypress:command-palette-input#onClear" data-target="command-palette-input.clearButton" id="command-palette-clear-button" hidden="hidden" type="button" data-view-component="true" class="btn-octicon command-palette-input-clear-button">      <svg aria-hidden="true" height="16" viewBox="0 0 16 16" version="1.1" width="16" data-view-component="true" class="octicon octicon-x-circle-fill">
    <path d="M2.343 13.657A8 8 0 1 1 13.658 2.343 8 8 0 0 1 2.343 13.657ZM6.03 4.97a.751.751 0 0 0-1.042.018.751.751 0 0 0-.018 1.042L6.94 8 4.97 9.97a.749.749 0 0 0 .326 1.275.749.749 0 0 0 .734-.215L8 9.06l1.97 1.97a.749.749 0 0 0 1.275-.326.749.749 0 0 0-.215-.734L9.06 8l1.97-1.97a.749.749 0 0 0-.326-1.275.749.749 0 0 0-.734.215L8 6.94Z"></path>
</svg>
</button>    <tool-tip id="tooltip-38ec145a-e745-46c0-9449-cec3d0421699" for="command-palette-clear-button" data-direction="w" data-type="label" data-view-component="true" class="sr-only position-absolute">Clear Command Palette</tool-tip>
</div>
      </command-palette-input>

      <command-palette-page-stack
        data-default-scope-id="MDEwOlJlcG9zaXRvcnkxNjc0ODA0OTU="
        data-default-scope-type="Repository"
        data-action="command-palette-page-octicons-cached:command-palette-page-stack#cacheOcticons"
      >
          <command-palette-tip
            class="color-fg-muted f6 px-3 py-1 my-2"
              data-scope-types="[&quot;&quot;,&quot;owner&quot;,&quot;repository&quot;]"
            data-mode=""
            data-value="">
            <div class="d-flex flex-items-start flex-justify-between">
              <div>
                <span class="text-bold">Tip:</span>
                  Type <kbd class="hx_kbd">#</kbd> to search pull requests
              </div>
              <div class="ml-2 flex-shrink-0">
                Type <kbd class="hx_kbd">?</kbd> for help and tips
              </div>
            </div>
          </command-palette-tip>
          <command-palette-tip
            class="color-fg-muted f6 px-3 py-1 my-2"
              data-scope-types="[&quot;&quot;,&quot;owner&quot;,&quot;repository&quot;]"
            data-mode=""
            data-value="">
            <div class="d-flex flex-items-start flex-justify-between">
              <div>
                <span class="text-bold">Tip:</span>
                  Type <kbd class="hx_kbd">#</kbd> to search issues
              </div>
              <div class="ml-2 flex-shrink-0">
                Type <kbd class="hx_kbd">?</kbd> for help and tips
              </div>
            </div>
          </command-palette-tip>
          <command-palette-tip
            class="color-fg-muted f6 px-3 py-1 my-2"
              data-scope-types="[&quot;owner&quot;,&quot;repository&quot;]"
            data-mode=""
            data-value="">
            <div class="d-flex flex-items-start flex-justify-between">
              <div>
                <span class="text-bold">Tip:</span>
                  Type <kbd class="hx_kbd">#</kbd> to search discussions
              </div>
              <div class="ml-2 flex-shrink-0">
                Type <kbd class="hx_kbd">?</kbd> for help and tips
              </div>
            </div>
          </command-palette-tip>
          <command-palette-tip
            class="color-fg-muted f6 px-3 py-1 my-2"
              data-scope-types="[&quot;owner&quot;,&quot;repository&quot;]"
            data-mode=""
            data-value="">
            <div class="d-flex flex-items-start flex-justify-between">
              <div>
                <span class="text-bold">Tip:</span>
                  Type <kbd class="hx_kbd">!</kbd> to search projects
              </div>
              <div class="ml-2 flex-shrink-0">
                Type <kbd class="hx_kbd">?</kbd> for help and tips
              </div>
            </div>
          </command-palette-tip>
          <command-palette-tip
            class="color-fg-muted f6 px-3 py-1 my-2"
              data-scope-types="[&quot;owner&quot;]"
            data-mode=""
            data-value="">
            <div class="d-flex flex-items-start flex-justify-between">
              <div>
                <span class="text-bold">Tip:</span>
                  Type <kbd class="hx_kbd">@</kbd> to search teams
              </div>
              <div class="ml-2 flex-shrink-0">
                Type <kbd class="hx_kbd">?</kbd> for help and tips
              </div>
            </div>
          </command-palette-tip>
          <command-palette-tip
            class="color-fg-muted f6 px-3 py-1 my-2"
              data-scope-types="[&quot;&quot;]"
            data-mode=""
            data-value="">
            <div class="d-flex flex-items-start flex-justify-between">
              <div>
                <span class="text-bold">Tip:</span>
                  Type <kbd class="hx_kbd">@</kbd> to search people and organizations
              </div>
              <div class="ml-2 flex-shrink-0">
                Type <kbd class="hx_kbd">?</kbd> for help and tips
              </div>
            </div>
          </command-palette-tip>
          <command-palette-tip
            class="color-fg-muted f6 px-3 py-1 my-2"
              data-scope-types="[&quot;&quot;,&quot;owner&quot;,&quot;repository&quot;]"
            data-mode=""
            data-value="">
            <div class="d-flex flex-items-start flex-justify-between">
              <div>
                <span class="text-bold">Tip:</span>
                  Type <kbd class="hx_kbd">&gt;</kbd> to activate command mode
              </div>
              <div class="ml-2 flex-shrink-0">
                Type <kbd class="hx_kbd">?</kbd> for help and tips
              </div>
            </div>
          </command-palette-tip>
          <command-palette-tip
            class="color-fg-muted f6 px-3 py-1 my-2"
              data-scope-types="[&quot;&quot;,&quot;owner&quot;,&quot;repository&quot;]"
            data-mode=""
            data-value="">
            <div class="d-flex flex-items-start flex-justify-between">
              <div>
                <span class="text-bold">Tip:</span>
                  Go to your accessibility settings to change your keyboard shortcuts
              </div>
              <div class="ml-2 flex-shrink-0">
                Type <kbd class="hx_kbd">?</kbd> for help and tips
              </div>
            </div>
          </command-palette-tip>
          <command-palette-tip
            class="color-fg-muted f6 px-3 py-1 my-2"
              data-scope-types="[&quot;&quot;,&quot;owner&quot;,&quot;repository&quot;]"
            data-mode="#"
            data-value="">
            <div class="d-flex flex-items-start flex-justify-between">
              <div>
                <span class="text-bold">Tip:</span>
                  Type author:@me to search your content
              </div>
              <div class="ml-2 flex-shrink-0">
                Type <kbd class="hx_kbd">?</kbd> for help and tips
              </div>
            </div>
          </command-palette-tip>
          <command-palette-tip
            class="color-fg-muted f6 px-3 py-1 my-2"
              data-scope-types="[&quot;&quot;,&quot;owner&quot;,&quot;repository&quot;]"
            data-mode="#"
            data-value="">
            <div class="d-flex flex-items-start flex-justify-between">
              <div>
                <span class="text-bold">Tip:</span>
                  Type is:pr to filter to pull requests
              </div>
              <div class="ml-2 flex-shrink-0">
                Type <kbd class="hx_kbd">?</kbd> for help and tips
              </div>
            </div>
          </command-palette-tip>
          <command-palette-tip
            class="color-fg-muted f6 px-3 py-1 my-2"
              data-scope-types="[&quot;&quot;,&quot;owner&quot;,&quot;repository&quot;]"
            data-mode="#"
            data-value="">
            <div class="d-flex flex-items-start flex-justify-between">
              <div>
                <span class="text-bold">Tip:</span>
                  Type is:issue to filter to issues
              </div>
              <div class="ml-2 flex-shrink-0">
                Type <kbd class="hx_kbd">?</kbd> for help and tips
              </div>
            </div>
          </command-palette-tip>
          <command-palette-tip
            class="color-fg-muted f6 px-3 py-1 my-2"
              data-scope-types="[&quot;owner&quot;,&quot;repository&quot;]"
            data-mode="#"
            data-value="">
            <div class="d-flex flex-items-start flex-justify-between">
              <div>
                <span class="text-bold">Tip:</span>
                  Type is:project to filter to projects
              </div>
              <div class="ml-2 flex-shrink-0">
                Type <kbd class="hx_kbd">?</kbd> for help and tips
              </div>
            </div>
          </command-palette-tip>
          <command-palette-tip
            class="color-fg-muted f6 px-3 py-1 my-2"
              data-scope-types="[&quot;&quot;,&quot;owner&quot;,&quot;repository&quot;]"
            data-mode="#"
            data-value="">
            <div class="d-flex flex-items-start flex-justify-between">
              <div>
                <span class="text-bold">Tip:</span>
                  Type is:open to filter to open content
              </div>
              <div class="ml-2 flex-shrink-0">
                Type <kbd class="hx_kbd">?</kbd> for help and tips
              </div>
            </div>
          </command-palette-tip>
        <command-palette-tip class="mx-3 my-2 flash flash-error d-flex flex-items-center" data-scope-types="*" data-on-error>
          <div>
            <svg aria-hidden="true" height="16" viewBox="0 0 16 16" version="1.1" width="16" data-view-component="true" class="octicon octicon-alert">
    <path d="M6.457 1.047c.659-1.234 2.427-1.234 3.086 0l6.082 11.378A1.75 1.75 0 0 1 14.082 15H1.918a1.75 1.75 0 0 1-1.543-2.575Zm1.763.707a.25.25 0 0 0-.44 0L1.698 13.132a.25.25 0 0 0 .22.368h12.164a.25.25 0 0 0 .22-.368Zm.53 3.996v2.5a.75.75 0 0 1-1.5 0v-2.5a.75.75 0 0 1 1.5 0ZM9 11a1 1 0 1 1-2 0 1 1 0 0 1 2 0Z"></path>
</svg>
          </div>
          <div class="px-2">
            We’ve encountered an error and some results aren't available at this time. Type a new search or try again later.
          </div>
        </command-palette-tip>
        <command-palette-tip class="h4 color-fg-default pl-3 pb-2 pt-3" data-on-empty data-scope-types="*" data-match-mode="[^?]|^$">
          No results matched your search
        </command-palette-tip>

        <div hidden>

            <div data-targets="command-palette-page-stack.localOcticons" data-octicon-id="arrow-right-color-fg-muted">
              <svg height="16" class="octicon octicon-arrow-right color-fg-muted" viewBox="0 0 16 16" version="1.1" width="16" aria-hidden="true"><path d="M8.22 2.97a.75.75 0 0 1 1.06 0l4.25 4.25a.75.75 0 0 1 0 1.06l-4.25 4.25a.751.751 0 0 1-1.042-.018.751.751 0 0 1-.018-1.042l2.97-2.97H3.75a.75.75 0 0 1 0-1.5h7.44L8.22 4.03a.75.75 0 0 1 0-1.06Z"></path></svg>
            </div>
            <div data-targets="command-palette-page-stack.localOcticons" data-octicon-id="arrow-right-color-fg-default">
              <svg height="16" class="octicon octicon-arrow-right color-fg-default" viewBox="0 0 16 16" version="1.1" width="16" aria-hidden="true"><path d="M8.22 2.97a.75.75 0 0 1 1.06 0l4.25 4.25a.75.75 0 0 1 0 1.06l-4.25 4.25a.751.751 0 0 1-1.042-.018.751.751 0 0 1-.018-1.042l2.97-2.97H3.75a.75.75 0 0 1 0-1.5h7.44L8.22 4.03a.75.75 0 0 1 0-1.06Z"></path></svg>
            </div>
            <div data-targets="command-palette-page-stack.localOcticons" data-octicon-id="codespaces-color-fg-muted">
              <svg height="16" class="octicon octicon-codespaces color-fg-muted" viewBox="0 0 16 16" version="1.1" width="16" aria-hidden="true"><path d="M0 11.25c0-.966.784-1.75 1.75-1.75h12.5c.966 0 1.75.784 1.75 1.75v3A1.75 1.75 0 0 1 14.25 16H1.75A1.75 1.75 0 0 1 0 14.25Zm2-9.5C2 .784 2.784 0 3.75 0h8.5C13.216 0 14 .784 14 1.75v5a1.75 1.75 0 0 1-1.75 1.75h-8.5A1.75 1.75 0 0 1 2 6.75Zm1.75-.25a.25.25 0 0 0-.25.25v5c0 .138.112.25.25.25h8.5a.25.25 0 0 0 .25-.25v-5a.25.25 0 0 0-.25-.25Zm-2 9.5a.25.25 0 0 0-.25.25v3c0 .138.112.25.25.25h12.5a.25.25 0 0 0 .25-.25v-3a.25.25 0 0 0-.25-.25Z"></path><path d="M7 12.75a.75.75 0 0 1 .75-.75h4.5a.75.75 0 0 1 0 1.5h-4.5a.75.75 0 0 1-.75-.75Zm-4 0a.75.75 0 0 1 .75-.75h.5a.75.75 0 0 1 0 1.5h-.5a.75.75 0 0 1-.75-.75Z"></path></svg>
            </div>
            <div data-targets="command-palette-page-stack.localOcticons" data-octicon-id="copy-color-fg-muted">
              <svg height="16" class="octicon octicon-copy color-fg-muted" viewBox="0 0 16 16" version="1.1" width="16" aria-hidden="true"><path d="M0 6.75C0 5.784.784 5 1.75 5h1.5a.75.75 0 0 1 0 1.5h-1.5a.25.25 0 0 0-.25.25v7.5c0 .138.112.25.25.25h7.5a.25.25 0 0 0 .25-.25v-1.5a.75.75 0 0 1 1.5 0v1.5A1.75 1.75 0 0 1 9.25 16h-7.5A1.75 1.75 0 0 1 0 14.25Z"></path><path d="M5 1.75C5 .784 5.784 0 6.75 0h7.5C15.216 0 16 .784 16 1.75v7.5A1.75 1.75 0 0 1 14.25 11h-7.5A1.75 1.75 0 0 1 5 9.25Zm1.75-.25a.25.25 0 0 0-.25.25v7.5c0 .138.112.25.25.25h7.5a.25.25 0 0 0 .25-.25v-7.5a.25.25 0 0 0-.25-.25Z"></path></svg>
            </div>
            <div data-targets="command-palette-page-stack.localOcticons" data-octicon-id="dash-color-fg-muted">
              <svg height="16" class="octicon octicon-dash color-fg-muted" viewBox="0 0 16 16" version="1.1" width="16" aria-hidden="true"><path d="M2 7.75A.75.75 0 0 1 2.75 7h10a.75.75 0 0 1 0 1.5h-10A.75.75 0 0 1 2 7.75Z"></path></svg>
            </div>
            <div data-targets="command-palette-page-stack.localOcticons" data-octicon-id="file-color-fg-muted">
              <svg height="16" class="octicon octicon-file color-fg-muted" viewBox="0 0 16 16" version="1.1" width="16" aria-hidden="true"><path d="M2 1.75C2 .784 2.784 0 3.75 0h6.586c.464 0 .909.184 1.237.513l2.914 2.914c.329.328.513.773.513 1.237v9.586A1.75 1.75 0 0 1 13.25 16h-9.5A1.75 1.75 0 0 1 2 14.25Zm1.75-.25a.25.25 0 0 0-.25.25v12.5c0 .138.112.25.25.25h9.5a.25.25 0 0 0 .25-.25V6h-2.75A1.75 1.75 0 0 1 9 4.25V1.5Zm6.75.062V4.25c0 .138.112.25.25.25h2.688l-.011-.013-2.914-2.914-.013-.011Z"></path></svg>
            </div>
            <div data-targets="command-palette-page-stack.localOcticons" data-octicon-id="gear-color-fg-muted">
              <svg height="16" class="octicon octicon-gear color-fg-muted" viewBox="0 0 16 16" version="1.1" width="16" aria-hidden="true"><path d="M8 0a8.2 8.2 0 0 1 .701.031C9.444.095 9.99.645 10.16 1.29l.288 1.107c.018.066.079.158.212.224.231.114.454.243.668.386.123.082.233.09.299.071l1.103-.303c.644-.176 1.392.021 1.82.63.27.385.506.792.704 1.218.315.675.111 1.422-.364 1.891l-.814.806c-.049.048-.098.147-.088.294.016.257.016.515 0 .772-.01.147.038.246.088.294l.814.806c.475.469.679 1.216.364 1.891a7.977 7.977 0 0 1-.704 1.217c-.428.61-1.176.807-1.82.63l-1.102-.302c-.067-.019-.177-.011-.3.071a5.909 5.909 0 0 1-.668.386c-.133.066-.194.158-.211.224l-.29 1.106c-.168.646-.715 1.196-1.458 1.26a8.006 8.006 0 0 1-1.402 0c-.743-.064-1.289-.614-1.458-1.26l-.289-1.106c-.018-.066-.079-.158-.212-.224a5.738 5.738 0 0 1-.668-.386c-.123-.082-.233-.09-.299-.071l-1.103.303c-.644.176-1.392-.021-1.82-.63a8.12 8.12 0 0 1-.704-1.218c-.315-.675-.111-1.422.363-1.891l.815-.806c.05-.048.098-.147.088-.294a6.214 6.214 0 0 1 0-.772c.01-.147-.038-.246-.088-.294l-.815-.806C.635 6.045.431 5.298.746 4.623a7.92 7.92 0 0 1 .704-1.217c.428-.61 1.176-.807 1.82-.63l1.102.302c.067.019.177.011.3-.071.214-.143.437-.272.668-.386.133-.066.194-.158.211-.224l.29-1.106C6.009.645 6.556.095 7.299.03 7.53.01 7.764 0 8 0Zm-.571 1.525c-.036.003-.108.036-.137.146l-.289 1.105c-.147.561-.549.967-.998 1.189-.173.086-.34.183-.5.29-.417.278-.97.423-1.529.27l-1.103-.303c-.109-.03-.175.016-.195.045-.22.312-.412.644-.573.99-.014.031-.021.11.059.19l.815.806c.411.406.562.957.53 1.456a4.709 4.709 0 0 0 0 .582c.032.499-.119 1.05-.53 1.456l-.815.806c-.081.08-.073.159-.059.19.162.346.353.677.573.989.02.03.085.076.195.046l1.102-.303c.56-.153 1.113-.008 1.53.27.161.107.328.204.501.29.447.222.85.629.997 1.189l.289 1.105c.029.109.101.143.137.146a6.6 6.6 0 0 0 1.142 0c.036-.003.108-.036.137-.146l.289-1.105c.147-.561.549-.967.998-1.189.173-.086.34-.183.5-.29.417-.278.97-.423 1.529-.27l1.103.303c.109.029.175-.016.195-.045.22-.313.411-.644.573-.99.014-.031.021-.11-.059-.19l-.815-.806c-.411-.406-.562-.957-.53-1.456a4.709 4.709 0 0 0 0-.582c-.032-.499.119-1.05.53-1.456l.815-.806c.081-.08.073-.159.059-.19a6.464 6.464 0 0 0-.573-.989c-.02-.03-.085-.076-.195-.046l-1.102.303c-.56.153-1.113.008-1.53-.27a4.44 4.44 0 0 0-.501-.29c-.447-.222-.85-.629-.997-1.189l-.289-1.105c-.029-.11-.101-.143-.137-.146a6.6 6.6 0 0 0-1.142 0ZM11 8a3 3 0 1 1-6 0 3 3 0 0 1 6 0ZM9.5 8a1.5 1.5 0 1 0-3.001.001A1.5 1.5 0 0 0 9.5 8Z"></path></svg>
            </div>
            <div data-targets="command-palette-page-stack.localOcticons" data-octicon-id="lock-color-fg-muted">
              <svg height="16" class="octicon octicon-lock color-fg-muted" viewBox="0 0 16 16" version="1.1" width="16" aria-hidden="true"><path d="M4 4a4 4 0 0 1 8 0v2h.25c.966 0 1.75.784 1.75 1.75v5.5A1.75 1.75 0 0 1 12.25 15h-8.5A1.75 1.75 0 0 1 2 13.25v-5.5C2 6.784 2.784 6 3.75 6H4Zm8.25 3.5h-8.5a.25.25 0 0 0-.25.25v5.5c0 .138.112.25.25.25h8.5a.25.25 0 0 0 .25-.25v-5.5a.25.25 0 0 0-.25-.25ZM10.5 6V4a2.5 2.5 0 1 0-5 0v2Z"></path></svg>
            </div>
            <div data-targets="command-palette-page-stack.localOcticons" data-octicon-id="moon-color-fg-muted">
              <svg height="16" class="octicon octicon-moon color-fg-muted" viewBox="0 0 16 16" version="1.1" width="16" aria-hidden="true"><path d="M9.598 1.591a.749.749 0 0 1 .785-.175 7.001 7.001 0 1 1-8.967 8.967.75.75 0 0 1 .961-.96 5.5 5.5 0 0 0 7.046-7.046.75.75 0 0 1 .175-.786Zm1.616 1.945a7 7 0 0 1-7.678 7.678 5.499 5.499 0 1 0 7.678-7.678Z"></path></svg>
            </div>
            <div data-targets="command-palette-page-stack.localOcticons" data-octicon-id="person-color-fg-muted">
              <svg height="16" class="octicon octicon-person color-fg-muted" viewBox="0 0 16 16" version="1.1" width="16" aria-hidden="true"><path d="M10.561 8.073a6.005 6.005 0 0 1 3.432 5.142.75.75 0 1 1-1.498.07 4.5 4.5 0 0 0-8.99 0 .75.75 0 0 1-1.498-.07 6.004 6.004 0 0 1 3.431-5.142 3.999 3.999 0 1 1 5.123 0ZM10.5 5a2.5 2.5 0 1 0-5 0 2.5 2.5 0 0 0 5 0Z"></path></svg>
            </div>
            <div data-targets="command-palette-page-stack.localOcticons" data-octicon-id="pencil-color-fg-muted">
              <svg height="16" class="octicon octicon-pencil color-fg-muted" viewBox="0 0 16 16" version="1.1" width="16" aria-hidden="true"><path d="M11.013 1.427a1.75 1.75 0 0 1 2.474 0l1.086 1.086a1.75 1.75 0 0 1 0 2.474l-8.61 8.61c-.21.21-.47.364-.756.445l-3.251.93a.75.75 0 0 1-.927-.928l.929-3.25c.081-.286.235-.547.445-.758l8.61-8.61Zm.176 4.823L9.75 4.81l-6.286 6.287a.253.253 0 0 0-.064.108l-.558 1.953 1.953-.558a.253.253 0 0 0 .108-.064Zm1.238-3.763a.25.25 0 0 0-.354 0L10.811 3.75l1.439 1.44 1.263-1.263a.25.25 0 0 0 0-.354Z"></path></svg>
            </div>
            <div data-targets="command-palette-page-stack.localOcticons" data-octicon-id="issue-opened-open">
              <svg height="16" class="octicon octicon-issue-opened open" viewBox="0 0 16 16" version="1.1" width="16" aria-hidden="true"><path d="M8 9.5a1.5 1.5 0 1 0 0-3 1.5 1.5 0 0 0 0 3Z"></path><path d="M8 0a8 8 0 1 1 0 16A8 8 0 0 1 8 0ZM1.5 8a6.5 6.5 0 1 0 13 0 6.5 6.5 0 0 0-13 0Z"></path></svg>
            </div>
            <div data-targets="command-palette-page-stack.localOcticons" data-octicon-id="git-pull-request-draft-color-fg-muted">
              <svg height="16" class="octicon octicon-git-pull-request-draft color-fg-muted" viewBox="0 0 16 16" version="1.1" width="16" aria-hidden="true"><path d="M3.25 1A2.25 2.25 0 0 1 4 5.372v5.256a2.251 2.251 0 1 1-1.5 0V5.372A2.251 2.251 0 0 1 3.25 1Zm9.5 14a2.25 2.25 0 1 1 0-4.5 2.25 2.25 0 0 1 0 4.5ZM2.5 3.25a.75.75 0 1 0 1.5 0 .75.75 0 0 0-1.5 0ZM3.25 12a.75.75 0 1 0 0 1.5.75.75 0 0 0 0-1.5Zm9.5 0a.75.75 0 1 0 0 1.5.75.75 0 0 0 0-1.5ZM14 7.5a1.25 1.25 0 1 1-2.5 0 1.25 1.25 0 0 1 2.5 0Zm0-4.25a1.25 1.25 0 1 1-2.5 0 1.25 1.25 0 0 1 2.5 0Z"></path></svg>
            </div>
            <div data-targets="command-palette-page-stack.localOcticons" data-octicon-id="search-color-fg-muted">
              <svg height="16" class="octicon octicon-search color-fg-muted" viewBox="0 0 16 16" version="1.1" width="16" aria-hidden="true"><path d="M10.68 11.74a6 6 0 0 1-7.922-8.982 6 6 0 0 1 8.982 7.922l3.04 3.04a.749.749 0 0 1-.326 1.275.749.749 0 0 1-.734-.215ZM11.5 7a4.499 4.499 0 1 0-8.997 0A4.499 4.499 0 0 0 11.5 7Z"></path></svg>
            </div>
            <div data-targets="command-palette-page-stack.localOcticons" data-octicon-id="sun-color-fg-muted">
              <svg height="16" class="octicon octicon-sun color-fg-muted" viewBox="0 0 16 16" version="1.1" width="16" aria-hidden="true"><path d="M8 12a4 4 0 1 1 0-8 4 4 0 0 1 0 8Zm0-1.5a2.5 2.5 0 1 0 0-5 2.5 2.5 0 0 0 0 5Zm5.657-8.157a.75.75 0 0 1 0 1.061l-1.061 1.06a.749.749 0 0 1-1.275-.326.749.749 0 0 1 .215-.734l1.06-1.06a.75.75 0 0 1 1.06 0Zm-9.193 9.193a.75.75 0 0 1 0 1.06l-1.06 1.061a.75.75 0 1 1-1.061-1.06l1.06-1.061a.75.75 0 0 1 1.061 0ZM8 0a.75.75 0 0 1 .75.75v1.5a.75.75 0 0 1-1.5 0V.75A.75.75 0 0 1 8 0ZM3 8a.75.75 0 0 1-.75.75H.75a.75.75 0 0 1 0-1.5h1.5A.75.75 0 0 1 3 8Zm13 0a.75.75 0 0 1-.75.75h-1.5a.75.75 0 0 1 0-1.5h1.5A.75.75 0 0 1 16 8Zm-8 5a.75.75 0 0 1 .75.75v1.5a.75.75 0 0 1-1.5 0v-1.5A.75.75 0 0 1 8 13Zm3.536-1.464a.75.75 0 0 1 1.06 0l1.061 1.06a.75.75 0 0 1-1.06 1.061l-1.061-1.06a.75.75 0 0 1 0-1.061ZM2.343 2.343a.75.75 0 0 1 1.061 0l1.06 1.061a.751.751 0 0 1-.018 1.042.751.751 0 0 1-1.042.018l-1.06-1.06a.75.75 0 0 1 0-1.06Z"></path></svg>
            </div>
            <div data-targets="command-palette-page-stack.localOcticons" data-octicon-id="sync-color-fg-muted">
              <svg height="16" class="octicon octicon-sync color-fg-muted" viewBox="0 0 16 16" version="1.1" width="16" aria-hidden="true"><path d="M1.705 8.005a.75.75 0 0 1 .834.656 5.5 5.5 0 0 0 9.592 2.97l-1.204-1.204a.25.25 0 0 1 .177-.427h3.646a.25.25 0 0 1 .25.25v3.646a.25.25 0 0 1-.427.177l-1.38-1.38A7.002 7.002 0 0 1 1.05 8.84a.75.75 0 0 1 .656-.834ZM8 2.5a5.487 5.487 0 0 0-4.131 1.869l1.204 1.204A.25.25 0 0 1 4.896 6H1.25A.25.25 0 0 1 1 5.75V2.104a.25.25 0 0 1 .427-.177l1.38 1.38A7.002 7.002 0 0 1 14.95 7.16a.75.75 0 0 1-1.49.178A5.5 5.5 0 0 0 8 2.5Z"></path></svg>
            </div>
            <div data-targets="command-palette-page-stack.localOcticons" data-octicon-id="trash-color-fg-muted">
              <svg height="16" class="octicon octicon-trash color-fg-muted" viewBox="0 0 16 16" version="1.1" width="16" aria-hidden="true"><path d="M11 1.75V3h2.25a.75.75 0 0 1 0 1.5H2.75a.75.75 0 0 1 0-1.5H5V1.75C5 .784 5.784 0 6.75 0h2.5C10.216 0 11 .784 11 1.75ZM4.496 6.675l.66 6.6a.25.25 0 0 0 .249.225h5.19a.25.25 0 0 0 .249-.225l.66-6.6a.75.75 0 0 1 1.492.149l-.66 6.6A1.748 1.748 0 0 1 10.595 15h-5.19a1.75 1.75 0 0 1-1.741-1.575l-.66-6.6a.75.75 0 1 1 1.492-.15ZM6.5 1.75V3h3V1.75a.25.25 0 0 0-.25-.25h-2.5a.25.25 0 0 0-.25.25Z"></path></svg>
            </div>
            <div data-targets="command-palette-page-stack.localOcticons" data-octicon-id="key-color-fg-muted">
              <svg height="16" class="octicon octicon-key color-fg-muted" viewBox="0 0 16 16" version="1.1" width="16" aria-hidden="true"><path d="M10.5 0a5.499 5.499 0 1 1-1.288 10.848l-.932.932a.749.749 0 0 1-.53.22H7v.75a.749.749 0 0 1-.22.53l-.5.5a.749.749 0 0 1-.53.22H5v.75a.749.749 0 0 1-.22.53l-.5.5a.749.749 0 0 1-.53.22h-2A1.75 1.75 0 0 1 0 14.25v-2c0-.199.079-.389.22-.53l4.932-4.932A5.5 5.5 0 0 1 10.5 0Zm-4 5.5c-.001.431.069.86.205 1.269a.75.75 0 0 1-.181.768L1.5 12.56v1.69c0 .138.112.25.25.25h1.69l.06-.06v-1.19a.75.75 0 0 1 .75-.75h1.19l.06-.06v-1.19a.75.75 0 0 1 .75-.75h1.19l1.023-1.025a.75.75 0 0 1 .768-.18A4 4 0 1 0 6.5 5.5ZM11 6a1 1 0 1 1 0-2 1 1 0 0 1 0 2Z"></path></svg>
            </div>
            <div data-targets="command-palette-page-stack.localOcticons" data-octicon-id="comment-discussion-color-fg-muted">
              <svg height="16" class="octicon octicon-comment-discussion color-fg-muted" viewBox="0 0 16 16" version="1.1" width="16" aria-hidden="true"><path d="M1.75 1h8.5c.966 0 1.75.784 1.75 1.75v5.5A1.75 1.75 0 0 1 10.25 10H7.061l-2.574 2.573A1.458 1.458 0 0 1 2 11.543V10h-.25A1.75 1.75 0 0 1 0 8.25v-5.5C0 1.784.784 1 1.75 1ZM1.5 2.75v5.5c0 .138.112.25.25.25h1a.75.75 0 0 1 .75.75v2.19l2.72-2.72a.749.749 0 0 1 .53-.22h3.5a.25.25 0 0 0 .25-.25v-5.5a.25.25 0 0 0-.25-.25h-8.5a.25.25 0 0 0-.25.25Zm13 2a.25.25 0 0 0-.25-.25h-.5a.75.75 0 0 1 0-1.5h.5c.966 0 1.75.784 1.75 1.75v5.5A1.75 1.75 0 0 1 14.25 12H14v1.543a1.458 1.458 0 0 1-2.487 1.03L9.22 12.28a.749.749 0 0 1 .326-1.275.749.749 0 0 1 .734.215l2.22 2.22v-2.19a.75.75 0 0 1 .75-.75h1a.25.25 0 0 0 .25-.25Z"></path></svg>
            </div>
            <div data-targets="command-palette-page-stack.localOcticons" data-octicon-id="bell-color-fg-muted">
              <svg height="16" class="octicon octicon-bell color-fg-muted" viewBox="0 0 16 16" version="1.1" width="16" aria-hidden="true"><path d="M8 16a2 2 0 0 0 1.985-1.75c.017-.137-.097-.25-.235-.25h-3.5c-.138 0-.252.113-.235.25A2 2 0 0 0 8 16ZM3 5a5 5 0 0 1 10 0v2.947c0 .05.015.098.042.139l1.703 2.555A1.519 1.519 0 0 1 13.482 13H2.518a1.516 1.516 0 0 1-1.263-2.36l1.703-2.554A.255.255 0 0 0 3 7.947Zm5-3.5A3.5 3.5 0 0 0 4.5 5v2.947c0 .346-.102.683-.294.97l-1.703 2.556a.017.017 0 0 0-.003.01l.001.006c0 .002.002.004.004.006l.006.004.007.001h10.964l.007-.001.006-.004.004-.006.001-.007a.017.017 0 0 0-.003-.01l-1.703-2.554a1.745 1.745 0 0 1-.294-.97V5A3.5 3.5 0 0 0 8 1.5Z"></path></svg>
            </div>
            <div data-targets="command-palette-page-stack.localOcticons" data-octicon-id="bell-slash-color-fg-muted">
              <svg height="16" class="octicon octicon-bell-slash color-fg-muted" viewBox="0 0 16 16" version="1.1" width="16" aria-hidden="true"><path d="m4.182 4.31.016.011 10.104 7.316.013.01 1.375.996a.75.75 0 1 1-.88 1.214L13.626 13H2.518a1.516 1.516 0 0 1-1.263-2.36l1.703-2.554A.255.255 0 0 0 3 7.947V5.305L.31 3.357a.75.75 0 1 1 .88-1.214Zm7.373 7.19L4.5 6.391v1.556c0 .346-.102.683-.294.97l-1.703 2.556a.017.017 0 0 0-.003.01c0 .005.002.009.005.012l.006.004.007.001ZM8 1.5c-.997 0-1.895.416-2.534 1.086A.75.75 0 1 1 4.38 1.55 5 5 0 0 1 13 5v2.373a.75.75 0 0 1-1.5 0V5A3.5 3.5 0 0 0 8 1.5ZM8 16a2 2 0 0 1-1.985-1.75c-.017-.137.097-.25.235-.25h3.5c.138 0 .252.113.235.25A2 2 0 0 1 8 16Z"></path></svg>
            </div>
            <div data-targets="command-palette-page-stack.localOcticons" data-octicon-id="paintbrush-color-fg-muted">
              <svg height="16" class="octicon octicon-paintbrush color-fg-muted" viewBox="0 0 16 16" version="1.1" width="16" aria-hidden="true"><path d="M11.134 1.535c.7-.509 1.416-.942 2.076-1.155.649-.21 1.463-.267 2.069.34.603.601.568 1.411.368 2.07-.202.668-.624 1.39-1.125 2.096-1.011 1.424-2.496 2.987-3.775 4.249-1.098 1.084-2.132 1.839-3.04 2.3a3.744 3.744 0 0 1-1.055 3.217c-.431.431-1.065.691-1.657.861-.614.177-1.294.287-1.914.357A21.151 21.151 0 0 1 .797 16H.743l.007-.75H.749L.742 16a.75.75 0 0 1-.743-.742l.743-.008-.742.007v-.054a21.25 21.25 0 0 1 .13-2.284c.067-.647.187-1.287.358-1.914.17-.591.43-1.226.86-1.657a3.746 3.746 0 0 1 3.227-1.054c.466-.893 1.225-1.907 2.314-2.982 1.271-1.255 2.833-2.75 4.245-3.777ZM1.62 13.089c-.051.464-.086.929-.104 1.395.466-.018.932-.053 1.396-.104a10.511 10.511 0 0 0 1.668-.309c.526-.151.856-.325 1.011-.48a2.25 2.25 0 1 0-3.182-3.182c-.155.155-.329.485-.48 1.01a10.515 10.515 0 0 0-.309 1.67Zm10.396-10.34c-1.224.89-2.605 2.189-3.822 3.384l1.718 1.718c1.21-1.205 2.51-2.597 3.387-3.833.47-.662.78-1.227.912-1.662.134-.444.032-.551.009-.575h-.001V1.78c-.014-.014-.113-.113-.548.027-.432.14-.995.462-1.655.942Zm-4.832 7.266-.001.001a9.859 9.859 0 0 0 1.63-1.142L7.155 7.216a9.7 9.7 0 0 0-1.161 1.607c.482.302.889.71 1.19 1.192Z"></path></svg>
            </div>

            <command-palette-item-group
              data-group-id="top"
              data-group-title="Top result"
              data-group-hint=""
              data-group-limits="{}"
              data-default-priority="0"
            >
            </command-palette-item-group>
            <command-palette-item-group
              data-group-id="commands"
              data-group-title="Commands"
              data-group-hint="Type &gt; to filter"
              data-group-limits="{&quot;static_items_page&quot;:50,&quot;issue&quot;:50,&quot;pull_request&quot;:50,&quot;discussion&quot;:50}"
              data-default-priority="1"
            >
            </command-palette-item-group>
            <command-palette-item-group
              data-group-id="global_commands"
              data-group-title="Global Commands"
              data-group-hint="Type &gt; to filter"
              data-group-limits="{&quot;issue&quot;:0,&quot;pull_request&quot;:0,&quot;discussion&quot;:0}"
              data-default-priority="2"
            >
            </command-palette-item-group>
            <command-palette-item-group
              data-group-id="this_page"
              data-group-title="This Page"
              data-group-hint=""
              data-group-limits="{}"
              data-default-priority="3"
            >
            </command-palette-item-group>
            <command-palette-item-group
              data-group-id="files"
              data-group-title="Files"
              data-group-hint=""
              data-group-limits="{}"
              data-default-priority="4"
            >
            </command-palette-item-group>
            <command-palette-item-group
              data-group-id="default"
              data-group-title="Default"
              data-group-hint=""
              data-group-limits="{&quot;static_items_page&quot;:50}"
              data-default-priority="5"
            >
            </command-palette-item-group>
            <command-palette-item-group
              data-group-id="pages"
              data-group-title="Pages"
              data-group-hint=""
              data-group-limits="{&quot;repository&quot;:10}"
              data-default-priority="6"
            >
            </command-palette-item-group>
            <command-palette-item-group
              data-group-id="access_policies"
              data-group-title="Access Policies"
              data-group-hint=""
              data-group-limits="{}"
              data-default-priority="7"
            >
            </command-palette-item-group>
            <command-palette-item-group
              data-group-id="organizations"
              data-group-title="Organizations"
              data-group-hint=""
              data-group-limits="{}"
              data-default-priority="8"
            >
            </command-palette-item-group>
            <command-palette-item-group
              data-group-id="repositories"
              data-group-title="Repositories"
              data-group-hint=""
              data-group-limits="{}"
              data-default-priority="9"
            >
            </command-palette-item-group>
            <command-palette-item-group
              data-group-id="references"
              data-group-title="Issues, pull requests, and discussions"
              data-group-hint="Type # to filter"
              data-group-limits="{}"
              data-default-priority="10"
            >
            </command-palette-item-group>
            <command-palette-item-group
              data-group-id="teams"
              data-group-title="Teams"
              data-group-hint=""
              data-group-limits="{}"
              data-default-priority="11"
            >
            </command-palette-item-group>
            <command-palette-item-group
              data-group-id="users"
              data-group-title="Users"
              data-group-hint=""
              data-group-limits="{}"
              data-default-priority="12"
            >
            </command-palette-item-group>
            <command-palette-item-group
              data-group-id="memex_projects"
              data-group-title="Projects"
              data-group-hint=""
              data-group-limits="{}"
              data-default-priority="13"
            >
            </command-palette-item-group>
            <command-palette-item-group
              data-group-id="projects"
              data-group-title="Projects (classic)"
              data-group-hint=""
              data-group-limits="{}"
              data-default-priority="14"
            >
            </command-palette-item-group>
            <command-palette-item-group
              data-group-id="footer"
              data-group-title="Footer"
              data-group-hint=""
              data-group-limits="{}"
              data-default-priority="15"
            >
            </command-palette-item-group>
            <command-palette-item-group
              data-group-id="modes_help"
              data-group-title="Modes"
              data-group-hint=""
              data-group-limits="{}"
              data-default-priority="16"
            >
            </command-palette-item-group>
            <command-palette-item-group
              data-group-id="filters_help"
              data-group-title="Use filters in issues, pull requests, discussions, and projects"
              data-group-hint=""
              data-group-limits="{}"
              data-default-priority="17"
            >
            </command-palette-item-group>

            <command-palette-page
              data-page-title="pat-hanbury"
              data-scope-id="MDQ6VXNlcjE3MzQ2NTM2"
              data-scope-type="owner"
              data-targets="command-palette-page-stack.defaultPages"
              hidden
            >
            </command-palette-page>
            <command-palette-page
              data-page-title="MonteCarloTutorial"
              data-scope-id="MDEwOlJlcG9zaXRvcnkxNjc0ODA0OTU="
              data-scope-type="repository"
              data-targets="command-palette-page-stack.defaultPages"
              hidden
            >
            </command-palette-page>
        </div>

        <command-palette-page data-is-root>
        </command-palette-page>
          <command-palette-page
            data-page-title="pat-hanbury"
            data-scope-id="MDQ6VXNlcjE3MzQ2NTM2"
            data-scope-type="owner"
          >
          </command-palette-page>
          <command-palette-page
            data-page-title="MonteCarloTutorial"
            data-scope-id="MDEwOlJlcG9zaXRvcnkxNjc0ODA0OTU="
            data-scope-type="repository"
          >
          </command-palette-page>
      </command-palette-page-stack>

      <server-defined-provider data-type="search-links" data-targets="command-palette.serverDefinedProviderElements"></server-defined-provider>
      <server-defined-provider data-type="help" data-targets="command-palette.serverDefinedProviderElements">
          <command-palette-help
            data-group="modes_help"
              data-prefix="#"
              data-scope-types="[&quot;&quot;]"
          >
            <span data-target="command-palette-help.titleElement">Search for <strong>issues</strong> and <strong>pull requests</strong></span>
              <span data-target="command-palette-help.hintElement">
                <kbd class="hx_kbd">#</kbd>
              </span>
          </command-palette-help>
          <command-palette-help
            data-group="modes_help"
              data-prefix="#"
              data-scope-types="[&quot;owner&quot;,&quot;repository&quot;]"
          >
            <span data-target="command-palette-help.titleElement">Search for <strong>issues, pull requests, discussions,</strong> and <strong>projects</strong></span>
              <span data-target="command-palette-help.hintElement">
                <kbd class="hx_kbd">#</kbd>
              </span>
          </command-palette-help>
          <command-palette-help
            data-group="modes_help"
              data-prefix="@"
              data-scope-types="[&quot;&quot;]"
          >
            <span data-target="command-palette-help.titleElement">Search for <strong>organizations, repositories,</strong> and <strong>users</strong></span>
              <span data-target="command-palette-help.hintElement">
                <kbd class="hx_kbd">@</kbd>
              </span>
          </command-palette-help>
          <command-palette-help
            data-group="modes_help"
              data-prefix="!"
              data-scope-types="[&quot;owner&quot;,&quot;repository&quot;]"
          >
            <span data-target="command-palette-help.titleElement">Search for <strong>projects</strong></span>
              <span data-target="command-palette-help.hintElement">
                <kbd class="hx_kbd">!</kbd>
              </span>
          </command-palette-help>
          <command-palette-help
            data-group="modes_help"
              data-prefix="/"
              data-scope-types="[&quot;repository&quot;]"
          >
            <span data-target="command-palette-help.titleElement">Search for <strong>files</strong></span>
              <span data-target="command-palette-help.hintElement">
                <kbd class="hx_kbd">/</kbd>
              </span>
          </command-palette-help>
          <command-palette-help
            data-group="modes_help"
              data-prefix="&gt;"
          >
            <span data-target="command-palette-help.titleElement">Activate <strong>command mode</strong></span>
              <span data-target="command-palette-help.hintElement">
                <kbd class="hx_kbd">&gt;</kbd>
              </span>
          </command-palette-help>
          <command-palette-help
            data-group="filters_help"
              data-prefix="# author:@me"
          >
            <span data-target="command-palette-help.titleElement">Search your issues, pull requests, and discussions</span>
              <span data-target="command-palette-help.hintElement">
                <kbd class="hx_kbd"># author:@me</kbd>
              </span>
          </command-palette-help>
          <command-palette-help
            data-group="filters_help"
              data-prefix="# author:@me"
          >
            <span data-target="command-palette-help.titleElement">Search your issues, pull requests, and discussions</span>
              <span data-target="command-palette-help.hintElement">
                <kbd class="hx_kbd"># author:@me</kbd>
              </span>
          </command-palette-help>
          <command-palette-help
            data-group="filters_help"
              data-prefix="# is:pr"
          >
            <span data-target="command-palette-help.titleElement">Filter to pull requests</span>
              <span data-target="command-palette-help.hintElement">
                <kbd class="hx_kbd"># is:pr</kbd>
              </span>
          </command-palette-help>
          <command-palette-help
            data-group="filters_help"
              data-prefix="# is:issue"
          >
            <span data-target="command-palette-help.titleElement">Filter to issues</span>
              <span data-target="command-palette-help.hintElement">
                <kbd class="hx_kbd"># is:issue</kbd>
              </span>
          </command-palette-help>
          <command-palette-help
            data-group="filters_help"
              data-prefix="# is:discussion"
              data-scope-types="[&quot;owner&quot;,&quot;repository&quot;]"
          >
            <span data-target="command-palette-help.titleElement">Filter to discussions</span>
              <span data-target="command-palette-help.hintElement">
                <kbd class="hx_kbd"># is:discussion</kbd>
              </span>
          </command-palette-help>
          <command-palette-help
            data-group="filters_help"
              data-prefix="# is:project"
              data-scope-types="[&quot;owner&quot;,&quot;repository&quot;]"
          >
            <span data-target="command-palette-help.titleElement">Filter to projects</span>
              <span data-target="command-palette-help.hintElement">
                <kbd class="hx_kbd"># is:project</kbd>
              </span>
          </command-palette-help>
          <command-palette-help
            data-group="filters_help"
              data-prefix="# is:open"
          >
            <span data-target="command-palette-help.titleElement">Filter to open issues, pull requests, and discussions</span>
              <span data-target="command-palette-help.hintElement">
                <kbd class="hx_kbd"># is:open</kbd>
              </span>
          </command-palette-help>
      </server-defined-provider>

        <server-defined-provider
          data-type="commands"
          data-fetch-debounce="0"
            data-src="/command_palette/commands"
          data-supported-modes="[]"
            data-supports-commands
          
          data-targets="command-palette.serverDefinedProviderElements"
          ></server-defined-provider>
        <server-defined-provider
          data-type="prefetched"
          data-fetch-debounce="0"
            data-src="/command_palette/jump_to_page_navigation"
          data-supported-modes="[&quot;&quot;]"
            data-supported-scope-types="[&quot;&quot;,&quot;owner&quot;,&quot;repository&quot;]"
          
          data-targets="command-palette.serverDefinedProviderElements"
          ></server-defined-provider>
        <server-defined-provider
          data-type="remote"
          data-fetch-debounce="200"
            data-src="/command_palette/issues"
          data-supported-modes="[&quot;#&quot;,&quot;#&quot;]"
            data-supported-scope-types="[&quot;owner&quot;,&quot;repository&quot;,&quot;&quot;]"
          
          data-targets="command-palette.serverDefinedProviderElements"
          ></server-defined-provider>
        <server-defined-provider
          data-type="remote"
          data-fetch-debounce="200"
            data-src="/command_palette/jump_to"
          data-supported-modes="[&quot;@&quot;,&quot;@&quot;]"
            data-supported-scope-types="[&quot;&quot;,&quot;owner&quot;]"
          
          data-targets="command-palette.serverDefinedProviderElements"
          ></server-defined-provider>
        <server-defined-provider
          data-type="remote"
          data-fetch-debounce="200"
            data-src="/command_palette/jump_to_members_only"
          data-supported-modes="[&quot;@&quot;,&quot;@&quot;,&quot;&quot;,&quot;&quot;]"
            data-supported-scope-types="[&quot;&quot;,&quot;owner&quot;]"
          
          data-targets="command-palette.serverDefinedProviderElements"
          ></server-defined-provider>
        <server-defined-provider
          data-type="prefetched"
          data-fetch-debounce="0"
            data-src="/command_palette/jump_to_members_only_prefetched"
          data-supported-modes="[&quot;@&quot;,&quot;@&quot;,&quot;&quot;,&quot;&quot;]"
            data-supported-scope-types="[&quot;&quot;,&quot;owner&quot;]"
          
          data-targets="command-palette.serverDefinedProviderElements"
          ></server-defined-provider>
        <server-defined-provider
          data-type="files"
          data-fetch-debounce="0"
            data-src="/command_palette/files"
          data-supported-modes="[&quot;/&quot;]"
            data-supported-scope-types="[&quot;repository&quot;]"
          
          data-targets="command-palette.serverDefinedProviderElements"
          ></server-defined-provider>
        <server-defined-provider
          data-type="remote"
          data-fetch-debounce="200"
            data-src="/command_palette/discussions"
          data-supported-modes="[&quot;#&quot;]"
            data-supported-scope-types="[&quot;owner&quot;,&quot;repository&quot;]"
          
          data-targets="command-palette.serverDefinedProviderElements"
          ></server-defined-provider>
        <server-defined-provider
          data-type="remote"
          data-fetch-debounce="200"
            data-src="/command_palette/projects"
          data-supported-modes="[&quot;#&quot;,&quot;!&quot;]"
            data-supported-scope-types="[&quot;owner&quot;,&quot;repository&quot;]"
          
          data-targets="command-palette.serverDefinedProviderElements"
          ></server-defined-provider>
        <server-defined-provider
          data-type="prefetched"
          data-fetch-debounce="0"
            data-src="/command_palette/recent_issues"
          data-supported-modes="[&quot;#&quot;,&quot;#&quot;]"
            data-supported-scope-types="[&quot;owner&quot;,&quot;repository&quot;,&quot;&quot;]"
          
          data-targets="command-palette.serverDefinedProviderElements"
          ></server-defined-provider>
        <server-defined-provider
          data-type="remote"
          data-fetch-debounce="200"
            data-src="/command_palette/teams"
          data-supported-modes="[&quot;@&quot;,&quot;&quot;]"
            data-supported-scope-types="[&quot;owner&quot;]"
          
          data-targets="command-palette.serverDefinedProviderElements"
          ></server-defined-provider>
        <server-defined-provider
          data-type="remote"
          data-fetch-debounce="200"
            data-src="/command_palette/name_with_owner_repository"
          data-supported-modes="[&quot;@&quot;,&quot;@&quot;,&quot;&quot;,&quot;&quot;]"
            data-supported-scope-types="[&quot;&quot;,&quot;owner&quot;]"
          
          data-targets="command-palette.serverDefinedProviderElements"
          ></server-defined-provider>
    </command-palette>
  </details-dialog>
</details>

<div class="position-fixed bottom-0 left-0 ml-5 mb-5 js-command-palette-toasts" style="z-index: 1000">
  <div hidden class="Toast Toast--loading">
    <span class="Toast-icon">
      <svg class="Toast--spinner" viewBox="0 0 32 32" width="18" height="18" aria-hidden="true">
        <path
          fill="#959da5"
          d="M16 0 A16 16 0 0 0 16 32 A16 16 0 0 0 16 0 M16 4 A12 12 0 0 1 16 28 A12 12 0 0 1 16 4"
        />
        <path fill="#ffffff" d="M16 0 A16 16 0 0 1 32 16 L28 16 A12 12 0 0 0 16 4z"></path>
      </svg>
    </span>
    <span class="Toast-content"></span>
  </div>

  <div hidden class="anim-fade-in fast Toast Toast--error">
    <span class="Toast-icon">
      <svg aria-hidden="true" height="16" viewBox="0 0 16 16" version="1.1" width="16" data-view-component="true" class="octicon octicon-stop">
    <path d="M4.47.22A.749.749 0 0 1 5 0h6c.199 0 .389.079.53.22l4.25 4.25c.141.14.22.331.22.53v6a.749.749 0 0 1-.22.53l-4.25 4.25A.749.749 0 0 1 11 16H5a.749.749 0 0 1-.53-.22L.22 11.53A.749.749 0 0 1 0 11V5c0-.199.079-.389.22-.53Zm.84 1.28L1.5 5.31v5.38l3.81 3.81h5.38l3.81-3.81V5.31L10.69 1.5ZM8 4a.75.75 0 0 1 .75.75v3.5a.75.75 0 0 1-1.5 0v-3.5A.75.75 0 0 1 8 4Zm0 8a1 1 0 1 1 0-2 1 1 0 0 1 0 2Z"></path>
</svg>
    </span>
    <span class="Toast-content"></span>
  </div>

  <div hidden class="anim-fade-in fast Toast Toast--warning">
    <span class="Toast-icon">
      <svg aria-hidden="true" height="16" viewBox="0 0 16 16" version="1.1" width="16" data-view-component="true" class="octicon octicon-alert">
    <path d="M6.457 1.047c.659-1.234 2.427-1.234 3.086 0l6.082 11.378A1.75 1.75 0 0 1 14.082 15H1.918a1.75 1.75 0 0 1-1.543-2.575Zm1.763.707a.25.25 0 0 0-.44 0L1.698 13.132a.25.25 0 0 0 .22.368h12.164a.25.25 0 0 0 .22-.368Zm.53 3.996v2.5a.75.75 0 0 1-1.5 0v-2.5a.75.75 0 0 1 1.5 0ZM9 11a1 1 0 1 1-2 0 1 1 0 0 1 2 0Z"></path>
</svg>
    </span>
    <span class="Toast-content"></span>
  </div>


  <div hidden class="anim-fade-in fast Toast Toast--success">
    <span class="Toast-icon">
      <svg aria-hidden="true" height="16" viewBox="0 0 16 16" version="1.1" width="16" data-view-component="true" class="octicon octicon-check">
    <path d="M13.78 4.22a.75.75 0 0 1 0 1.06l-7.25 7.25a.75.75 0 0 1-1.06 0L2.22 9.28a.751.751 0 0 1 .018-1.042.751.751 0 0 1 1.042-.018L6 10.94l6.72-6.72a.75.75 0 0 1 1.06 0Z"></path>
</svg>
    </span>
    <span class="Toast-content"></span>
  </div>

  <div hidden class="anim-fade-in fast Toast">
    <span class="Toast-icon">
      <svg aria-hidden="true" height="16" viewBox="0 0 16 16" version="1.1" width="16" data-view-component="true" class="octicon octicon-info">
    <path d="M0 8a8 8 0 1 1 16 0A8 8 0 0 1 0 8Zm8-6.5a6.5 6.5 0 1 0 0 13 6.5 6.5 0 0 0 0-13ZM6.5 7.75A.75.75 0 0 1 7.25 7h1a.75.75 0 0 1 .75.75v2.75h.25a.75.75 0 0 1 0 1.5h-2a.75.75 0 0 1 0-1.5h.25v-2h-.25a.75.75 0 0 1-.75-.75ZM8 6a1 1 0 1 1 0-2 1 1 0 0 1 0 2Z"></path>
</svg>
    </span>
    <span class="Toast-content"></span>
  </div>
</div>


  <div
    class="application-main "
    data-commit-hovercards-enabled
    data-discussion-hovercards-enabled
    data-issue-and-pr-hovercards-enabled
  >
        <div itemscope itemtype="http://schema.org/SoftwareSourceCode" class="">
    <main id="js-repo-pjax-container" >
      
      






    
  <div id="repository-container-header" data-turbo-replace hidden></div>




<turbo-frame id="repo-content-turbo-frame" target="_top" data-turbo-action="advance" class="">
    <div id="repo-content-pjax-container" class="repository-content " >
      <a href="https://github.dev/" class="d-none js-github-dev-shortcut" data-hotkey=".">Open in github.dev</a>
  <a href="https://github.dev/" class="d-none js-github-dev-new-tab-shortcut" data-hotkey="Shift+.,Shift+&gt;,&gt;" target="_blank">Open in a new github.dev tab</a>
    <a class="d-none" data-hotkey="," target="_blank" href="/codespaces/new/pat-hanbury/MonteCarloTutorial/tree/master?resume=1">Open in codespace</a>



    
      
    





<react-app
  app-name="react-code-view"
  initial-path="/pat-hanbury/MonteCarloTutorial/blob/master/MonteCarloExample.ipynb"
  style="min-height: calc(100vh - 62px)"
  data-ssr="false"
  data-lazy="false"
  data-alternate="false"
>
  
  <script type="application/json" data-target="react-app.embeddedData">{"payload":{"allShortcutsEnabled":true,"fileTree":{"":{"items":[{"name":"MonteCarloExample.ipynb","path":"MonteCarloExample.ipynb","contentType":"file"}],"totalCount":1}},"fileTreeProcessingTime":1.416961,"foldersToFetch":[],"reducedMotionEnabled":"system","repo":{"id":167480495,"defaultBranch":"master","name":"MonteCarloTutorial","ownerLogin":"pat-hanbury","currentUserCanPush":false,"isFork":false,"isEmpty":false,"createdAt":"2019-01-25T08:42:55.000+05:00","ownerAvatar":"https://avatars.githubusercontent.com/u/17346536?v=4","public":true,"private":false,"isOrgOwned":false},"refInfo":{"name":"master","listCacheKey":"v0:1548387837.0","canEdit":true,"refType":"branch","currentOid":"457be88a32278636fcdd0084e2cf2e8a05094b17"},"path":"MonteCarloExample.ipynb","currentUser":{"id":108234458,"login":"dashleb33","userEmail":"dashleb@narod.ru"},"blob":{"rawBlob":"{\n \"cells\": [\n  {\n   \"cell_type\": \"markdown\",\n   \"metadata\": {},\n   \"source\": [\n    \"# Example Script for Monte Carlo and Importance \\n\",\n    \"The purpose of this notebook is to suplement my tutorial on Monte Carlo and importance sampling. Feel free to use and adapt any of these functions for your own numeric simulations.\"\n   ]\n  },\n  {\n   \"cell_type\": \"code\",\n   \"execution_count\": 1,\n   \"metadata\": {},\n   \"outputs\": [],\n   \"source\": [\n    \"import numpy as np\\n\",\n    \"import math\\n\",\n    \"import random\\n\",\n    \"from matplotlib import pyplot as plt\\n\",\n    \"from IPython.display import clear_output\\n\",\n    \"\\n\",\n    \"PI = 3.1415926\\n\",\n    \"e = 2.71828\"\n   ]\n  },\n  {\n   \"cell_type\": \"markdown\",\n   \"metadata\": {},\n   \"source\": [\n    \"## Baseline Functions\"\n   ]\n  },\n  {\n   \"cell_type\": \"code\",\n   \"execution_count\": 2,\n   \"metadata\": {},\n   \"outputs\": [],\n   \"source\": [\n    \"# let's define some helper functions for later\\n\",\n    \"\\n\",\n    \"def get_rand_number(min_value, max_value):\\n\",\n    \"    \\\"\\\"\\\"\\n\",\n    \"    This functions gets a random number from a uniform distribution between\\n\",\n    \"    the two input values [min_value, max_value] inclusively\\n\",\n    \"    Args:\\n\",\n    \"    - min_value (float)\\n\",\n    \"    - max_value (float)\\n\",\n    \"    Return:\\n\",\n    \"    - Random number between this range (float)\\n\",\n    \"    \\\"\\\"\\\"\\n\",\n    \"    range = max_value - min_value\\n\",\n    \"    choice = random.uniform(0,1)\\n\",\n    \"    return min_value + range*choice\"\n   ]\n  },\n  {\n   \"cell_type\": \"code\",\n   \"execution_count\": 3,\n   \"metadata\": {},\n   \"outputs\": [],\n   \"source\": [\n    \"# lets also define the function we want to integrate over f(x)\\n\",\n    \"\\n\",\n    \"def f_of_x(x):\\n\",\n    \"    \\\"\\\"\\\"\\n\",\n    \"    This is the main function we want to integrate over.\\n\",\n    \"    Args:\\n\",\n    \"    - x (float) : input to function; must be in radians\\n\",\n    \"    Return:\\n\",\n    \"    - output of function f(x) (float)\\n\",\n    \"    \\\"\\\"\\\"\\n\",\n    \"    return (e**(-1*x))/(1+(x-1)**2)\"\n   ]\n  },\n  {\n   \"cell_type\": \"markdown\",\n   \"metadata\": {},\n   \"source\": [\n    \"# Crude Monte Carlo\"\n   ]\n  },\n  {\n   \"cell_type\": \"code\",\n   \"execution_count\": 4,\n   \"metadata\": {},\n   \"outputs\": [],\n   \"source\": [\n    \"def crude_monte_carlo(num_samples=5000):\\n\",\n    \"    \\\"\\\"\\\"\\n\",\n    \"    This function performs the Crude Monte Carlo for our\\n\",\n    \"    specific function f(x) on the range x=0 to x=5.\\n\",\n    \"    Notice that this bound is sufficient because f(x)\\n\",\n    \"    approaches 0 at around PI.\\n\",\n    \"    Args:\\n\",\n    \"    - num_samples (float) : number of samples\\n\",\n    \"    Return:\\n\",\n    \"    - Crude Monte Carlo estimation (float)\\n\",\n    \"    \\n\",\n    \"    \\\"\\\"\\\"\\n\",\n    \"    lower_bound = 0\\n\",\n    \"    upper_bound = 5\\n\",\n    \"    \\n\",\n    \"    sum_of_samples = 0\\n\",\n    \"    for i in range(num_samples):\\n\",\n    \"        x = get_rand_number(lower_bound, upper_bound)\\n\",\n    \"        sum_of_samples += f_of_x(x)\\n\",\n    \"    \\n\",\n    \"    return (upper_bound - lower_bound) * float(sum_of_samples/num_samples)\"\n   ]\n  },\n  {\n   \"cell_type\": \"code\",\n   \"execution_count\": 5,\n   \"metadata\": {},\n   \"outputs\": [],\n   \"source\": [\n    \"def get_crude_MC_variance(num_samples):\\n\",\n    \"    \\\"\\\"\\\"\\n\",\n    \"    This function returns the variance fo the Crude Monte Carlo.\\n\",\n    \"    Note that the inputed number of samples does not neccissarily\\n\",\n    \"    need to correspond to number of samples used in the Monte\\n\",\n    \"    Carlo Simulation.\\n\",\n    \"    Args:\\n\",\n    \"    - num_samples (int)\\n\",\n    \"    Return:\\n\",\n    \"    - Variance for Crude Monte Carlo approximation of f(x) (float)\\n\",\n    \"    \\\"\\\"\\\"\\n\",\n    \"    int_max = 5 # this is the max of our integration range\\n\",\n    \"    \\n\",\n    \"    # get the average of squares\\n\",\n    \"    running_total = 0\\n\",\n    \"    for i in range(num_samples):\\n\",\n    \"        x = get_rand_number(0, int_max)\\n\",\n    \"        running_total += f_of_x(x)**2\\n\",\n    \"    sum_of_sqs = running_total*int_max / num_samples\\n\",\n    \"    \\n\",\n    \"    # get square of average\\n\",\n    \"    running_total = 0\\n\",\n    \"    for i in range(num_samples):\\n\",\n    \"        x = get_rand_number(0, int_max)\\n\",\n    \"        running_total = f_of_x(x)\\n\",\n    \"    sq_ave = (int_max*running_total/num_samples)**2\\n\",\n    \"    \\n\",\n    \"    return sum_of_sqs - sq_ave\"\n   ]\n  },\n  {\n   \"cell_type\": \"markdown\",\n   \"metadata\": {},\n   \"source\": [\n    \"### Perform the Simulation\"\n   ]\n  },\n  {\n   \"cell_type\": \"code\",\n   \"execution_count\": 6,\n   \"metadata\": {},\n   \"outputs\": [\n    {\n     \"name\": \"stdout\",\n     \"output_type\": \"stream\",\n     \"text\": [\n      \"Monte Carlo Approximation of f(x): 0.6994168954395196\\n\",\n      \"Variance of Approximation: 0.2663694734689711\\n\",\n      \"Error in Approximation: 0.005161099431990931\\n\"\n     ]\n    }\n   ],\n   \"source\": [\n    \"# Now we will run a Crude Monte Carlo simulation with 10000 samples\\n\",\n    \"# We will also calculate the variance with 10000 samples and the error\\n\",\n    \"\\n\",\n    \"MC_samples = 10000\\n\",\n    \"var_samples = 10000 # number of samples we will use to calculate the variance\\n\",\n    \"crude_estimation = crude_monte_carlo(MC_samples)\\n\",\n    \"variance = get_crude_MC_variance(var_samples)\\n\",\n    \"error = math.sqrt(variance/MC_samples)\\n\",\n    \"\\n\",\n    \"# display results\\n\",\n    \"print(f\\\"Monte Carlo Approximation of f(x): {crude_estimation}\\\")\\n\",\n    \"print(f\\\"Variance of Approximation: {variance}\\\")\\n\",\n    \"print(f\\\"Error in Approximation: {error}\\\")\"\n   ]\n  },\n  {\n   \"cell_type\": \"markdown\",\n   \"metadata\": {},\n   \"source\": [\n    \"# Importance Sampling\"\n   ]\n  },\n  {\n   \"cell_type\": \"markdown\",\n   \"metadata\": {},\n   \"source\": [\n    \"### Determine Optimal Weight Function Template\"\n   ]\n  },\n  {\n   \"cell_type\": \"code\",\n   \"execution_count\": 7,\n   \"metadata\": {},\n   \"outputs\": [\n    {\n     \"data\": {\n      \"image/png\": \"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\\n\",\n      \"text/plain\": [\n       \"\u003cmatplotlib.figure.Figure at 0x210e46c85f8\u003e\"\n      ]\n     },\n     \"metadata\": {\n      \"needs_background\": \"light\"\n     },\n     \"output_type\": \"display_data\"\n    }\n   ],\n   \"source\": [\n    \"# plot the function\\n\",\n    \"xs = [float(i/50) for i in range(int(50*PI*2))]\\n\",\n    \"ys = [f_of_x(x) for x in xs]\\n\",\n    \"plt.plot(xs,ys)\\n\",\n    \"plt.title(\\\"f(x)\\\");\"\n   ]\n  },\n  {\n   \"cell_type\": \"code\",\n   \"execution_count\": 8,\n   \"metadata\": {},\n   \"outputs\": [],\n   \"source\": [\n    \"# this is the template of our weight function g(x)\\n\",\n    \"def g_of_x(x, A, lamda):\\n\",\n    \"    e = 2.71828\\n\",\n    \"    return A*math.pow(e, -1*lamda*x)\"\n   ]\n  },\n  {\n   \"cell_type\": \"code\",\n   \"execution_count\": 9,\n   \"metadata\": {},\n   \"outputs\": [\n    {\n     \"data\": {\n      \"image/png\": \"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\\n\",\n      \"text/plain\": [\n       \"\u003cmatplotlib.figure.Figure at 0x210e49ee550\u003e\"\n      ]\n     },\n     \"metadata\": {\n      \"needs_background\": \"light\"\n     },\n     \"output_type\": \"display_data\"\n    }\n   ],\n   \"source\": [\n    \"xs = [float(i/50) for i in range(int(50*PI))]\\n\",\n    \"fs = [f_of_x(x) for x in xs]\\n\",\n    \"gs = [g_of_x(x, A=1.4, lamda=1.4) for x in xs]\\n\",\n    \"plt.plot(xs, fs)\\n\",\n    \"plt.plot(xs, gs)\\n\",\n    \"plt.title(\\\"f(x) and g(x)\\\");\"\n   ]\n  },\n  {\n   \"cell_type\": \"markdown\",\n   \"metadata\": {},\n   \"source\": [\n    \"### Determine the Optimal Parameters for Our Weight Function\"\n   ]\n  },\n  {\n   \"cell_type\": \"code\",\n   \"execution_count\": 10,\n   \"metadata\": {},\n   \"outputs\": [],\n   \"source\": [\n    \"def inverse_G_of_r(r, lamda):\\n\",\n    \"    return (-1 * math.log(float(r)))/lamda\"\n   ]\n  },\n  {\n   \"cell_type\": \"code\",\n   \"execution_count\": 11,\n   \"metadata\": {},\n   \"outputs\": [],\n   \"source\": [\n    \"def get_IS_variance(lamda, num_samples):\\n\",\n    \"    \\\"\\\"\\\"\\n\",\n    \"    This function calculates the variance if a Monte Carlo\\n\",\n    \"    using importance sampling.\\n\",\n    \"    Args:\\n\",\n    \"    - lamda (float) : lamdba value of g(x) being tested\\n\",\n    \"    Return: \\n\",\n    \"    - Variance\\n\",\n    \"    \\\"\\\"\\\"\\n\",\n    \"    A = lamda\\n\",\n    \"    int_max = 5\\n\",\n    \"    \\n\",\n    \"    # get sum of squares\\n\",\n    \"    running_total = 0\\n\",\n    \"    for i in range(num_samples):\\n\",\n    \"        x = get_rand_number(0, int_max)\\n\",\n    \"        running_total += (f_of_x(x)/g_of_x(x, A, lamda))**2\\n\",\n    \"    \\n\",\n    \"    sum_of_sqs = running_total / num_samples\\n\",\n    \"    \\n\",\n    \"    # get squared average\\n\",\n    \"    running_total = 0\\n\",\n    \"    for i in range(num_samples):\\n\",\n    \"        x = get_rand_number(0, int_max)\\n\",\n    \"        running_total += f_of_x(x)/g_of_x(x, A, lamda)\\n\",\n    \"    sq_ave = (running_total/num_samples)**2\\n\",\n    \"    \\n\",\n    \"    \\n\",\n    \"    return sum_of_sqs - sq_ave\"\n   ]\n  },\n  {\n   \"cell_type\": \"code\",\n   \"execution_count\": 12,\n   \"metadata\": {},\n   \"outputs\": [\n    {\n     \"name\": \"stdout\",\n     \"output_type\": \"stream\",\n     \"text\": [\n      \"Optimal Lambda: 1.6500000000000001\\n\",\n      \"Optimal Variance: 0.0465612105426072\\n\",\n      \"0.002157804683992673\\n\"\n     ]\n    }\n   ],\n   \"source\": [\n    \"# get variance as a function of lambda by testing many\\n\",\n    \"# different lambdas\\n\",\n    \"\\n\",\n    \"test_lamdas = [i*0.05 for i in range(1, 61)]\\n\",\n    \"variances = []\\n\",\n    \"\\n\",\n    \"for i, lamda in enumerate(test_lamdas):\\n\",\n    \"    print(f\\\"lambda {i+1}/{len(test_lamdas)}: {lamda}\\\")\\n\",\n    \"    A = lamda\\n\",\n    \"    variances.append(get_IS_variance(lamda, 10000))\\n\",\n    \"    clear_output(wait=True)\\n\",\n    \"    \\n\",\n    \"optimal_lamda = test_lamdas[np.argmin(np.asarray(variances))]\\n\",\n    \"IS_variance = variances[np.argmin(np.asarray(variances))]\\n\",\n    \"\\n\",\n    \"print(f\\\"Optimal Lambda: {optimal_lamda}\\\")\\n\",\n    \"print(f\\\"Optimal Variance: {IS_variance}\\\")\\n\",\n    \"print((IS_variance/10000)**0.5)\"\n   ]\n  },\n  {\n   \"cell_type\": \"code\",\n   \"execution_count\": 13,\n   \"metadata\": {},\n   \"outputs\": [\n    {\n     \"data\": {\n      \"image/png\": \"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\\n\",\n      \"text/plain\": [\n       \"\u003cmatplotlib.figure.Figure at 0x210e4a8c5f8\u003e\"\n      ]\n     },\n     \"metadata\": {\n      \"needs_background\": \"light\"\n     },\n     \"output_type\": \"display_data\"\n    }\n   ],\n   \"source\": [\n    \"plt.plot(test_lamdas[5:40], variances[5:40])\\n\",\n    \"plt.title(\\\"Variance of MC at Different Lambda Values\\\");\"\n   ]\n  },\n  {\n   \"cell_type\": \"markdown\",\n   \"metadata\": {},\n   \"source\": [\n    \"### Perform Importance Sampling Monte Carlo with Optimized Weight Function\"\n   ]\n  },\n  {\n   \"cell_type\": \"code\",\n   \"execution_count\": 14,\n   \"metadata\": {},\n   \"outputs\": [],\n   \"source\": [\n    \"def importance_sampling_MC(lamda, num_samples):\\n\",\n    \"    A = lamda\\n\",\n    \"    \\n\",\n    \"    running_total = 0\\n\",\n    \"    for i in range(num_samples):\\n\",\n    \"        r = get_rand_number(0,1)\\n\",\n    \"        running_total += f_of_x(inverse_G_of_r(r, lamda=lamda))/g_of_x(inverse_G_of_r(r, lamda=lamda), A, lamda)\\n\",\n    \"    approximation = float(running_total/num_samples)\\n\",\n    \"    return approximation\"\n   ]\n  },\n  {\n   \"cell_type\": \"code\",\n   \"execution_count\": 15,\n   \"metadata\": {},\n   \"outputs\": [\n    {\n     \"name\": \"stdout\",\n     \"output_type\": \"stream\",\n     \"text\": [\n      \"Importance Sampling Approximation: 0.6983629517447016\\n\",\n      \"Variance: 0.0441790662875613\\n\",\n      \"Error: 0.002101881687620911\\n\"\n     ]\n    }\n   ],\n   \"source\": [\n    \"# run simulation\\n\",\n    \"num_samples = 10000\\n\",\n    \"approx = importance_sampling_MC(optimal_lamda, num_samples)\\n\",\n    \"variance = get_IS_variance(optimal_lamda, num_samples)\\n\",\n    \"error = (variance/num_samples)**0.5\\n\",\n    \"\\n\",\n    \"# display results\\n\",\n    \"print(f\\\"Importance Sampling Approximation: {approx}\\\")\\n\",\n    \"print(f\\\"Variance: {variance}\\\")\\n\",\n    \"print(f\\\"Error: {error}\\\")\"\n   ]\n  }\n ],\n \"metadata\": {\n  \"kernelspec\": {\n   \"display_name\": \"Python 3\",\n   \"language\": \"python\",\n   \"name\": \"python3\"\n  },\n  \"language_info\": {\n   \"codemirror_mode\": {\n    \"name\": \"ipython\",\n    \"version\": 3\n   },\n   \"file_extension\": \".py\",\n   \"mimetype\": \"text/x-python\",\n   \"name\": \"python\",\n   \"nbconvert_exporter\": \"python\",\n   \"pygments_lexer\": \"ipython3\",\n   \"version\": \"3.6.4\"\n  }\n },\n \"nbformat\": 4,\n \"nbformat_minor\": 2\n}\n","colorizedLines":null,"stylingDirectives":null,"csv":null,"csvError":null,"dependabotInfo":{"showConfigurationBanner":false,"configFilePath":null,"networkDependabotPath":"/pat-hanbury/MonteCarloTutorial/network/updates","dismissConfigurationNoticePath":"/settings/dismiss-notice/dependabot_configuration_notice","configurationNoticeDismissed":false,"repoAlertsPath":"/pat-hanbury/MonteCarloTutorial/security/dependabot","repoSecurityAndAnalysisPath":"/pat-hanbury/MonteCarloTutorial/settings/security_analysis","repoOwnerIsOrg":false,"currentUserCanAdminRepo":false},"displayName":"MonteCarloExample.ipynb","displayUrl":"https://notebooks.githubusercontent.com/view/ipynb?browser=chrome\u0026bypass_fastly=true\u0026color_mode=auto\u0026commit=457be88a32278636fcdd0084e2cf2e8a05094b17\u0026device=unknown_device\u0026docs_host=https%3A%2F%2Fdocs.github.com\u0026enc_url=68747470733a2f2f7261772e67697468756275736572636f6e74656e742e636f6d2f7061742d68616e627572792f4d6f6e74654361726c6f5475746f7269616c2f343537626538386133323237383633366663646430303834653263663265386130353039346231372f4d6f6e74654361726c6f4578616d706c652e6970796e62\u0026logged_in=true\u0026nwo=pat-hanbury%2FMonteCarloTutorial\u0026path=MonteCarloExample.ipynb\u0026platform=windows\u0026repository_id=167480495\u0026repository_type=Repository\u0026version=114","headerInfo":{"blobSize":"52.3 KB","deleteInfo":{"deletePath":"https://github.com/pat-hanbury/MonteCarloTutorial/delete/master/MonteCarloExample.ipynb","deleteTooltip":"Fork this repository and delete the file"},"editInfo":{"editTooltip":"Fork this repository and edit the file"},"ghDesktopPath":"x-github-client://openRepo/https://github.com/pat-hanbury/MonteCarloTutorial?branch=master\u0026filepath=MonteCarloExample.ipynb","gitLfsPath":null,"onBranch":true,"shortPath":"38469ab","siteNavLoginPath":"/login?return_to=https%3A%2F%2Fgithub.com%2Fpat-hanbury%2FMonteCarloTutorial%2Fblob%2Fmaster%2FMonteCarloExample.ipynb","isCSV":false,"isRichtext":false,"toc":null,"lineInfo":{"truncatedLoc":"452","truncatedSloc":"452"},"mode":"file"},"image":false,"isCodeownersFile":null,"isValidLegacyIssueTemplate":false,"issueTemplateHelpUrl":"https://docs.github.com/articles/about-issue-and-pull-request-templates","issueTemplate":null,"discussionTemplate":null,"language":"Jupyter Notebook","large":false,"loggedIn":true,"newDiscussionPath":"/pat-hanbury/MonteCarloTutorial/discussions/new","newIssuePath":"/pat-hanbury/MonteCarloTutorial/issues/new","planSupportInfo":{"repoIsFork":null,"repoOwnedByCurrentUser":null,"requestFullPath":"/pat-hanbury/MonteCarloTutorial/blob/master/MonteCarloExample.ipynb","showFreeOrgGatedFeatureMessage":null,"showPlanSupportBanner":null,"upgradeDataAttributes":null,"upgradePath":null},"publishBannersInfo":{"dismissActionNoticePath":"/settings/dismiss-notice/publish_action_from_dockerfile","dismissStackNoticePath":"/settings/dismiss-notice/publish_stack_from_file","releasePath":"/pat-hanbury/MonteCarloTutorial/releases/new?marketplace=true","showPublishActionBanner":false,"showPublishStackBanner":false},"renderImageOrRaw":false,"richText":null,"renderedFileInfo":{"identityUUID":"1c61b970-773a-432c-820d-6fb6746bb080","renderFileType":"ipynb","size":53529},"tabSize":8,"topBannersInfo":{"overridingGlobalFundingFile":false,"globalPreferredFundingPath":null,"repoOwner":"pat-hanbury","repoName":"MonteCarloTutorial","showInvalidCitationWarning":false,"citationHelpUrl":"https://docs.github.com/en/github/creating-cloning-and-archiving-repositories/creating-a-repository-on-github/about-citation-files","showDependabotConfigurationBanner":false,"actionsOnboardingTip":null},"truncated":false,"viewable":true,"workflowRedirectUrl":null,"symbols":{"timedOut":false,"notAnalyzed":true,"symbols":[]}},"csrf_tokens":{"/pat-hanbury/MonteCarloTutorial/branches":{"post":"fMRNTWLoQZliPllkwHWLS0Zc8ODzN-_L1fSWEXbFmfpdN7f5mjFqp0PeEwaCeauemCUcM_in-0TFoe72VEECLw"}}},"title":"MonteCarloTutorial/MonteCarloExample.ipynb at master · pat-hanbury/MonteCarloTutorial","locale":"en","appPayload":{"helpUrl":"https://docs.github.com","findFileWorkerPath":"/assets-cdn/worker/find-file-worker-848bb9a5da17.js","findInFileWorkerPath":"/assets-cdn/worker/find-in-file-worker-c9b8ff248bc9.js","githubDevUrl":"https://github.dev/","enabled_features":{"virtualize_file_tree":true,"react_repos_overview":false,"repos_new_shortcut_enabled":true,"blob_navigation_cursor":true,"code_nav_ui_events":false,"ref_selector_v2":false,"blob_firefox_separate_characters":true,"column_symbol_auto_select":false,"copilot_conversational_ux":false}}}</script>
  <div data-target="react-app.reactRoot"></div>
</react-app>
</turbo-frame>



  </div>

</turbo-frame>

    </main>
  </div>

  </div>

          <footer class="footer width-full container-xl p-responsive" role="contentinfo">
  <h2 class='sr-only'>Footer</h2>

  <div class="position-relative d-flex flex-items-center pb-2 f6 color-fg-muted border-top color-border-muted flex-column-reverse flex-lg-row flex-wrap flex-lg-nowrap mt-6 pt-6">
    <div class="list-style-none d-flex flex-wrap col-0 col-lg-2 flex-justify-start flex-lg-justify-between mb-2 mb-lg-0">
      <div class="mt-2 mt-lg-0 d-flex flex-items-center">
        <a aria-label="Homepage" title="GitHub" class="footer-octicon mr-2" href="https://github.com">
          <svg aria-hidden="true" height="24" viewBox="0 0 16 16" version="1.1" width="24" data-view-component="true" class="octicon octicon-mark-github">
    <path d="M8 0c4.42 0 8 3.58 8 8a8.013 8.013 0 0 1-5.45 7.59c-.4.08-.55-.17-.55-.38 0-.27.01-1.13.01-2.2 0-.75-.25-1.23-.54-1.48 1.78-.2 3.65-.88 3.65-3.95 0-.88-.31-1.59-.82-2.15.08-.2.36-1.02-.08-2.12 0 0-.67-.22-2.2.82-.64-.18-1.32-.27-2-.27-.68 0-1.36.09-2 .27-1.53-1.03-2.2-.82-2.2-.82-.44 1.1-.16 1.92-.08 2.12-.51.56-.82 1.28-.82 2.15 0 3.06 1.86 3.75 3.64 3.95-.23.2-.44.55-.51 1.07-.46.21-1.61.55-2.33-.66-.15-.24-.6-.83-1.23-.82-.67.01-.27.38.01.53.34.19.73.9.82 1.13.16.45.68 1.31 2.69.94 0 .67.01 1.3.01 1.49 0 .21-.15.45-.55.38A7.995 7.995 0 0 1 0 8c0-4.42 3.58-8 8-8Z"></path>
</svg>
</a>        <span>
        &copy; 2023 GitHub, Inc.
        </span>
      </div>
    </div>

    <nav aria-label='Footer' class="col-12 col-lg-8">
      <h3 class='sr-only' id='sr-footer-heading'>Footer navigation</h3>
      <ul class="list-style-none d-flex flex-wrap col-12 flex-justify-center flex-lg-justify-between mb-2 mb-lg-0" aria-labelledby='sr-footer-heading'>
          <li class="mr-3 mr-lg-0"><a href="https://docs.github.com/site-policy/github-terms/github-terms-of-service" data-analytics-event="{&quot;category&quot;:&quot;Footer&quot;,&quot;action&quot;:&quot;go to terms&quot;,&quot;label&quot;:&quot;text:terms&quot;}">Terms</a></li>
          <li class="mr-3 mr-lg-0"><a href="https://docs.github.com/site-policy/privacy-policies/github-privacy-statement" data-analytics-event="{&quot;category&quot;:&quot;Footer&quot;,&quot;action&quot;:&quot;go to privacy&quot;,&quot;label&quot;:&quot;text:privacy&quot;}">Privacy</a></li>
          <li class="mr-3 mr-lg-0"><a data-analytics-event="{&quot;category&quot;:&quot;Footer&quot;,&quot;action&quot;:&quot;go to security&quot;,&quot;label&quot;:&quot;text:security&quot;}" href="https://github.com/security">Security</a></li>
          <li class="mr-3 mr-lg-0"><a href="https://www.githubstatus.com/" data-analytics-event="{&quot;category&quot;:&quot;Footer&quot;,&quot;action&quot;:&quot;go to status&quot;,&quot;label&quot;:&quot;text:status&quot;}">Status</a></li>
          <li class="mr-3 mr-lg-0"><a data-ga-click="Footer, go to help, text:Docs" href="https://docs.github.com">Docs</a></li>
          <li class="mr-3 mr-lg-0"><a href="https://support.github.com?tags=dotcom-footer" data-analytics-event="{&quot;category&quot;:&quot;Footer&quot;,&quot;action&quot;:&quot;go to contact&quot;,&quot;label&quot;:&quot;text:contact&quot;}">Contact GitHub</a></li>
          <li class="mr-3 mr-lg-0"><a href="https://github.com/pricing" data-analytics-event="{&quot;category&quot;:&quot;Footer&quot;,&quot;action&quot;:&quot;go to Pricing&quot;,&quot;label&quot;:&quot;text:Pricing&quot;}">Pricing</a></li>
        <li class="mr-3 mr-lg-0"><a href="https://docs.github.com" data-analytics-event="{&quot;category&quot;:&quot;Footer&quot;,&quot;action&quot;:&quot;go to api&quot;,&quot;label&quot;:&quot;text:api&quot;}">API</a></li>
        <li class="mr-3 mr-lg-0"><a href="https://services.github.com" data-analytics-event="{&quot;category&quot;:&quot;Footer&quot;,&quot;action&quot;:&quot;go to training&quot;,&quot;label&quot;:&quot;text:training&quot;}">Training</a></li>
          <li class="mr-3 mr-lg-0"><a href="https://github.blog" data-analytics-event="{&quot;category&quot;:&quot;Footer&quot;,&quot;action&quot;:&quot;go to blog&quot;,&quot;label&quot;:&quot;text:blog&quot;}">Blog</a></li>
          <li><a data-ga-click="Footer, go to about, text:about" href="https://github.com/about">About</a></li>
      </ul>
    </nav>
  </div>

  <div class="d-flex flex-justify-center pb-6">
    <span class="f6 color-fg-muted"></span>
  </div>
</footer>




  <div id="ajax-error-message" class="ajax-error-message flash flash-error" hidden>
    <svg aria-hidden="true" height="16" viewBox="0 0 16 16" version="1.1" width="16" data-view-component="true" class="octicon octicon-alert">
    <path d="M6.457 1.047c.659-1.234 2.427-1.234 3.086 0l6.082 11.378A1.75 1.75 0 0 1 14.082 15H1.918a1.75 1.75 0 0 1-1.543-2.575Zm1.763.707a.25.25 0 0 0-.44 0L1.698 13.132a.25.25 0 0 0 .22.368h12.164a.25.25 0 0 0 .22-.368Zm.53 3.996v2.5a.75.75 0 0 1-1.5 0v-2.5a.75.75 0 0 1 1.5 0ZM9 11a1 1 0 1 1-2 0 1 1 0 0 1 2 0Z"></path>
</svg>
    <button type="button" class="flash-close js-ajax-error-dismiss" aria-label="Dismiss error">
      <svg aria-hidden="true" height="16" viewBox="0 0 16 16" version="1.1" width="16" data-view-component="true" class="octicon octicon-x">
    <path d="M3.72 3.72a.75.75 0 0 1 1.06 0L8 6.94l3.22-3.22a.749.749 0 0 1 1.275.326.749.749 0 0 1-.215.734L9.06 8l3.22 3.22a.749.749 0 0 1-.326 1.275.749.749 0 0 1-.734-.215L8 9.06l-3.22 3.22a.751.751 0 0 1-1.042-.018.751.751 0 0 1-.018-1.042L6.94 8 3.72 4.78a.75.75 0 0 1 0-1.06Z"></path>
</svg>
    </button>
    You can’t perform that action at this time.
  </div>

    <template id="site-details-dialog">
  <details class="details-reset details-overlay details-overlay-dark lh-default color-fg-default hx_rsm" open>
    <summary role="button" aria-label="Close dialog"></summary>
    <details-dialog class="Box Box--overlay d-flex flex-column anim-fade-in fast hx_rsm-dialog hx_rsm-modal">
      <button class="Box-btn-octicon m-0 btn-octicon position-absolute right-0 top-0" type="button" aria-label="Close dialog" data-close-dialog>
        <svg aria-hidden="true" height="16" viewBox="0 0 16 16" version="1.1" width="16" data-view-component="true" class="octicon octicon-x">
    <path d="M3.72 3.72a.75.75 0 0 1 1.06 0L8 6.94l3.22-3.22a.749.749 0 0 1 1.275.326.749.749 0 0 1-.215.734L9.06 8l3.22 3.22a.749.749 0 0 1-.326 1.275.749.749 0 0 1-.734-.215L8 9.06l-3.22 3.22a.751.751 0 0 1-1.042-.018.751.751 0 0 1-.018-1.042L6.94 8 3.72 4.78a.75.75 0 0 1 0-1.06Z"></path>
</svg>
      </button>
      <div class="octocat-spinner my-6 js-details-dialog-spinner"></div>
    </details-dialog>
  </details>
</template>

    <div class="Popover js-hovercard-content position-absolute" style="display: none; outline: none;" tabindex="0">
  <div class="Popover-message Popover-message--bottom-left Popover-message--large Box color-shadow-large" style="width:360px;">
  </div>
</div>

    <template id="snippet-clipboard-copy-button">
  <div class="zeroclipboard-container position-absolute right-0 top-0">
    <clipboard-copy aria-label="Copy" class="ClipboardButton btn js-clipboard-copy m-2 p-0 tooltipped-no-delay" data-copy-feedback="Copied!" data-tooltip-direction="w">
      <svg aria-hidden="true" height="16" viewBox="0 0 16 16" version="1.1" width="16" data-view-component="true" class="octicon octicon-copy js-clipboard-copy-icon m-2">
    <path d="M0 6.75C0 5.784.784 5 1.75 5h1.5a.75.75 0 0 1 0 1.5h-1.5a.25.25 0 0 0-.25.25v7.5c0 .138.112.25.25.25h7.5a.25.25 0 0 0 .25-.25v-1.5a.75.75 0 0 1 1.5 0v1.5A1.75 1.75 0 0 1 9.25 16h-7.5A1.75 1.75 0 0 1 0 14.25Z"></path><path d="M5 1.75C5 .784 5.784 0 6.75 0h7.5C15.216 0 16 .784 16 1.75v7.5A1.75 1.75 0 0 1 14.25 11h-7.5A1.75 1.75 0 0 1 5 9.25Zm1.75-.25a.25.25 0 0 0-.25.25v7.5c0 .138.112.25.25.25h7.5a.25.25 0 0 0 .25-.25v-7.5a.25.25 0 0 0-.25-.25Z"></path>
</svg>
      <svg aria-hidden="true" height="16" viewBox="0 0 16 16" version="1.1" width="16" data-view-component="true" class="octicon octicon-check js-clipboard-check-icon color-fg-success d-none m-2">
    <path d="M13.78 4.22a.75.75 0 0 1 0 1.06l-7.25 7.25a.75.75 0 0 1-1.06 0L2.22 9.28a.751.751 0 0 1 .018-1.042.751.751 0 0 1 1.042-.018L6 10.94l6.72-6.72a.75.75 0 0 1 1.06 0Z"></path>
</svg>
    </clipboard-copy>
  </div>
</template>
<template id="snippet-clipboard-copy-button-unpositioned">
  <div class="zeroclipboard-container">
    <clipboard-copy aria-label="Copy" class="ClipboardButton btn btn-invisible js-clipboard-copy m-2 p-0 tooltipped-no-delay d-flex flex-justify-center flex-items-center" data-copy-feedback="Copied!" data-tooltip-direction="w">
      <svg aria-hidden="true" height="16" viewBox="0 0 16 16" version="1.1" width="16" data-view-component="true" class="octicon octicon-copy js-clipboard-copy-icon">
    <path d="M0 6.75C0 5.784.784 5 1.75 5h1.5a.75.75 0 0 1 0 1.5h-1.5a.25.25 0 0 0-.25.25v7.5c0 .138.112.25.25.25h7.5a.25.25 0 0 0 .25-.25v-1.5a.75.75 0 0 1 1.5 0v1.5A1.75 1.75 0 0 1 9.25 16h-7.5A1.75 1.75 0 0 1 0 14.25Z"></path><path d="M5 1.75C5 .784 5.784 0 6.75 0h7.5C15.216 0 16 .784 16 1.75v7.5A1.75 1.75 0 0 1 14.25 11h-7.5A1.75 1.75 0 0 1 5 9.25Zm1.75-.25a.25.25 0 0 0-.25.25v7.5c0 .138.112.25.25.25h7.5a.25.25 0 0 0 .25-.25v-7.5a.25.25 0 0 0-.25-.25Z"></path>
</svg>
      <svg aria-hidden="true" height="16" viewBox="0 0 16 16" version="1.1" width="16" data-view-component="true" class="octicon octicon-check js-clipboard-check-icon color-fg-success d-none">
    <path d="M13.78 4.22a.75.75 0 0 1 0 1.06l-7.25 7.25a.75.75 0 0 1-1.06 0L2.22 9.28a.751.751 0 0 1 .018-1.042.751.751 0 0 1 1.042-.018L6 10.94l6.72-6.72a.75.75 0 0 1 1.06 0Z"></path>
</svg>
    </clipboard-copy>
  </div>
</template>


    <style>
      .user-mention[href$="/dashleb33"] {
        color: var(--color-user-mention-fg);
        background-color: var(--color-user-mention-bg);
        border-radius: 2px;
        margin-left: -2px;
        margin-right: -2px;
        padding: 0 2px;
      }
    </style>


    </div>

    <div id="js-global-screen-reader-notice" class="sr-only" aria-live="polite" ></div>
  </body>
</html>

