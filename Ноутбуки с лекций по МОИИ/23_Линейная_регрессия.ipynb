{
  "nbformat": 4,
  "nbformat_minor": 0,
  "metadata": {
    "colab": {
      "name": "4_linear_regression.ipynb",
      "provenance": [],
      "collapsed_sections": []
    },
    "kernelspec": {
      "name": "python3",
      "display_name": "Python 3"
    }
  },
  "cells": [
    {
      "cell_type": "code",
      "source": [
        "import pandas as pd\n",
        "from google.colab import files\n",
        "\n",
        "files.upload()\n",
        "!ls\n",
        "\n",
        "df = pd.read_excel('task2.xlsx', index_col=0)#Data Frame\n",
        "df"
      ],
      "metadata": {
        "id": "MRrZ9jkE26_n",
        "colab": {
          "resources": {
            "http://localhost:8080/nbextensions/google.colab/files.js": {
              "data": "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",
              "ok": true,
              "headers": [
                [
                  "content-type",
                  "application/javascript"
                ]
              ],
              "status": 200,
              "status_text": ""
            }
          },
          "base_uri": "https://localhost:8080/",
          "height": 497
        },
        "outputId": "0b176323-13a8-408d-fd6c-7f95951c13c8"
      },
      "execution_count": null,
      "outputs": [
        {
          "output_type": "display_data",
          "data": {
            "text/html": [
              "\n",
              "     <input type=\"file\" id=\"files-5d9cf84c-4eb6-4714-ac65-08e123130851\" name=\"files[]\" multiple disabled\n",
              "        style=\"border:none\" />\n",
              "     <output id=\"result-5d9cf84c-4eb6-4714-ac65-08e123130851\">\n",
              "      Upload widget is only available when the cell has been executed in the\n",
              "      current browser session. Please rerun this cell to enable.\n",
              "      </output>\n",
              "      <script src=\"/nbextensions/google.colab/files.js\"></script> "
            ],
            "text/plain": [
              "<IPython.core.display.HTML object>"
            ]
          },
          "metadata": {}
        },
        {
          "output_type": "stream",
          "name": "stdout",
          "text": [
            "Saving task2.xlsx to task2.xlsx\n",
            "sample_data  task2.xlsx\n"
          ]
        },
        {
          "output_type": "execute_result",
          "data": {
            "text/html": [
              "\n",
              "  <div id=\"df-315778ea-6922-4c53-9d78-f892abc10573\">\n",
              "    <div class=\"colab-df-container\">\n",
              "      <div>\n",
              "<style scoped>\n",
              "    .dataframe tbody tr th:only-of-type {\n",
              "        vertical-align: middle;\n",
              "    }\n",
              "\n",
              "    .dataframe tbody tr th {\n",
              "        vertical-align: top;\n",
              "    }\n",
              "\n",
              "    .dataframe thead th {\n",
              "        text-align: right;\n",
              "    }\n",
              "</style>\n",
              "<table border=\"1\" class=\"dataframe\">\n",
              "  <thead>\n",
              "    <tr style=\"text-align: right;\">\n",
              "      <th></th>\n",
              "      <th>sbp</th>\n",
              "      <th>bmi</th>\n",
              "      <th>age</th>\n",
              "      <th>experience</th>\n",
              "    </tr>\n",
              "  </thead>\n",
              "  <tbody>\n",
              "    <tr>\n",
              "      <th>0</th>\n",
              "      <td>134.862052</td>\n",
              "      <td>34.497381</td>\n",
              "      <td>44.777405</td>\n",
              "      <td>29.106322</td>\n",
              "    </tr>\n",
              "    <tr>\n",
              "      <th>1</th>\n",
              "      <td>148.332967</td>\n",
              "      <td>25.552974</td>\n",
              "      <td>57.021564</td>\n",
              "      <td>23.665780</td>\n",
              "    </tr>\n",
              "    <tr>\n",
              "      <th>2</th>\n",
              "      <td>136.575617</td>\n",
              "      <td>25.887313</td>\n",
              "      <td>48.978573</td>\n",
              "      <td>18.827713</td>\n",
              "    </tr>\n",
              "    <tr>\n",
              "      <th>3</th>\n",
              "      <td>149.648299</td>\n",
              "      <td>23.708126</td>\n",
              "      <td>49.789848</td>\n",
              "      <td>19.386960</td>\n",
              "    </tr>\n",
              "    <tr>\n",
              "      <th>4</th>\n",
              "      <td>125.409260</td>\n",
              "      <td>31.461631</td>\n",
              "      <td>36.781697</td>\n",
              "      <td>9.386208</td>\n",
              "    </tr>\n",
              "    <tr>\n",
              "      <th>...</th>\n",
              "      <td>...</td>\n",
              "      <td>...</td>\n",
              "      <td>...</td>\n",
              "      <td>...</td>\n",
              "    </tr>\n",
              "    <tr>\n",
              "      <th>95</th>\n",
              "      <td>126.441369</td>\n",
              "      <td>28.309360</td>\n",
              "      <td>29.880297</td>\n",
              "      <td>7.852938</td>\n",
              "    </tr>\n",
              "    <tr>\n",
              "      <th>96</th>\n",
              "      <td>142.887801</td>\n",
              "      <td>26.624585</td>\n",
              "      <td>51.335485</td>\n",
              "      <td>15.969681</td>\n",
              "    </tr>\n",
              "    <tr>\n",
              "      <th>97</th>\n",
              "      <td>144.097863</td>\n",
              "      <td>28.174387</td>\n",
              "      <td>50.290016</td>\n",
              "      <td>28.893091</td>\n",
              "    </tr>\n",
              "    <tr>\n",
              "      <th>98</th>\n",
              "      <td>136.944583</td>\n",
              "      <td>25.519997</td>\n",
              "      <td>52.869515</td>\n",
              "      <td>26.692675</td>\n",
              "    </tr>\n",
              "    <tr>\n",
              "      <th>99</th>\n",
              "      <td>147.633843</td>\n",
              "      <td>30.792128</td>\n",
              "      <td>57.840485</td>\n",
              "      <td>42.393510</td>\n",
              "    </tr>\n",
              "  </tbody>\n",
              "</table>\n",
              "<p>100 rows × 4 columns</p>\n",
              "</div>\n",
              "      <button class=\"colab-df-convert\" onclick=\"convertToInteractive('df-315778ea-6922-4c53-9d78-f892abc10573')\"\n",
              "              title=\"Convert this dataframe to an interactive table.\"\n",
              "              style=\"display:none;\">\n",
              "        \n",
              "  <svg xmlns=\"http://www.w3.org/2000/svg\" height=\"24px\"viewBox=\"0 0 24 24\"\n",
              "       width=\"24px\">\n",
              "    <path d=\"M0 0h24v24H0V0z\" fill=\"none\"/>\n",
              "    <path d=\"M18.56 5.44l.94 2.06.94-2.06 2.06-.94-2.06-.94-.94-2.06-.94 2.06-2.06.94zm-11 1L8.5 8.5l.94-2.06 2.06-.94-2.06-.94L8.5 2.5l-.94 2.06-2.06.94zm10 10l.94 2.06.94-2.06 2.06-.94-2.06-.94-.94-2.06-.94 2.06-2.06.94z\"/><path d=\"M17.41 7.96l-1.37-1.37c-.4-.4-.92-.59-1.43-.59-.52 0-1.04.2-1.43.59L10.3 9.45l-7.72 7.72c-.78.78-.78 2.05 0 2.83L4 21.41c.39.39.9.59 1.41.59.51 0 1.02-.2 1.41-.59l7.78-7.78 2.81-2.81c.8-.78.8-2.07 0-2.86zM5.41 20L4 18.59l7.72-7.72 1.47 1.35L5.41 20z\"/>\n",
              "  </svg>\n",
              "      </button>\n",
              "      \n",
              "  <style>\n",
              "    .colab-df-container {\n",
              "      display:flex;\n",
              "      flex-wrap:wrap;\n",
              "      gap: 12px;\n",
              "    }\n",
              "\n",
              "    .colab-df-convert {\n",
              "      background-color: #E8F0FE;\n",
              "      border: none;\n",
              "      border-radius: 50%;\n",
              "      cursor: pointer;\n",
              "      display: none;\n",
              "      fill: #1967D2;\n",
              "      height: 32px;\n",
              "      padding: 0 0 0 0;\n",
              "      width: 32px;\n",
              "    }\n",
              "\n",
              "    .colab-df-convert:hover {\n",
              "      background-color: #E2EBFA;\n",
              "      box-shadow: 0px 1px 2px rgba(60, 64, 67, 0.3), 0px 1px 3px 1px rgba(60, 64, 67, 0.15);\n",
              "      fill: #174EA6;\n",
              "    }\n",
              "\n",
              "    [theme=dark] .colab-df-convert {\n",
              "      background-color: #3B4455;\n",
              "      fill: #D2E3FC;\n",
              "    }\n",
              "\n",
              "    [theme=dark] .colab-df-convert:hover {\n",
              "      background-color: #434B5C;\n",
              "      box-shadow: 0px 1px 3px 1px rgba(0, 0, 0, 0.15);\n",
              "      filter: drop-shadow(0px 1px 2px rgba(0, 0, 0, 0.3));\n",
              "      fill: #FFFFFF;\n",
              "    }\n",
              "  </style>\n",
              "\n",
              "      <script>\n",
              "        const buttonEl =\n",
              "          document.querySelector('#df-315778ea-6922-4c53-9d78-f892abc10573 button.colab-df-convert');\n",
              "        buttonEl.style.display =\n",
              "          google.colab.kernel.accessAllowed ? 'block' : 'none';\n",
              "\n",
              "        async function convertToInteractive(key) {\n",
              "          const element = document.querySelector('#df-315778ea-6922-4c53-9d78-f892abc10573');\n",
              "          const dataTable =\n",
              "            await google.colab.kernel.invokeFunction('convertToInteractive',\n",
              "                                                     [key], {});\n",
              "          if (!dataTable) return;\n",
              "\n",
              "          const docLinkHtml = 'Like what you see? Visit the ' +\n",
              "            '<a target=\"_blank\" href=https://colab.research.google.com/notebooks/data_table.ipynb>data table notebook</a>'\n",
              "            + ' to learn more about interactive tables.';\n",
              "          element.innerHTML = '';\n",
              "          dataTable['output_type'] = 'display_data';\n",
              "          await google.colab.output.renderOutput(dataTable, element);\n",
              "          const docLink = document.createElement('div');\n",
              "          docLink.innerHTML = docLinkHtml;\n",
              "          element.appendChild(docLink);\n",
              "        }\n",
              "      </script>\n",
              "    </div>\n",
              "  </div>\n",
              "  "
            ],
            "text/plain": [
              "           sbp        bmi        age  experience\n",
              "0   134.862052  34.497381  44.777405   29.106322\n",
              "1   148.332967  25.552974  57.021564   23.665780\n",
              "2   136.575617  25.887313  48.978573   18.827713\n",
              "3   149.648299  23.708126  49.789848   19.386960\n",
              "4   125.409260  31.461631  36.781697    9.386208\n",
              "..         ...        ...        ...         ...\n",
              "95  126.441369  28.309360  29.880297    7.852938\n",
              "96  142.887801  26.624585  51.335485   15.969681\n",
              "97  144.097863  28.174387  50.290016   28.893091\n",
              "98  136.944583  25.519997  52.869515   26.692675\n",
              "99  147.633843  30.792128  57.840485   42.393510\n",
              "\n",
              "[100 rows x 4 columns]"
            ]
          },
          "metadata": {},
          "execution_count": 1
        }
      ]
    },
    {
      "cell_type": "code",
      "source": [
        "import numpy as np\n",
        "A = np.zeros((2,2))\n",
        "A[0,0] = df['experience'].dot(df['experience'])\n",
        "A[0,1] = df['experience'].sum()\n",
        "A[1,0] = A[0,1]\n",
        "A[1,1] = df.shape[0]\n",
        "b = np.zeros(2)\n",
        "b[0] = df['sbp'].dot(df['experience'])\n",
        "b[1] = df['sbp'].sum()\n",
        "np.linalg.solve(A, b)"
      ],
      "metadata": {
        "colab": {
          "base_uri": "https://localhost:8080/"
        },
        "id": "G1l9u29dG34B",
        "outputId": "c3e3acd7-7dc8-41db-ca9e-14522b146d78"
      },
      "execution_count": null,
      "outputs": [
        {
          "output_type": "execute_result",
          "data": {
            "text/plain": [
              "array([  0.54322085, 126.8684478 ])"
            ]
          },
          "metadata": {},
          "execution_count": 11
        }
      ]
    },
    {
      "cell_type": "code",
      "source": [
        "import numpy as np\n",
        "from sklearn.linear_model import LinearRegression\n",
        "import seaborn as sns\n",
        "import matplotlib.pyplot as plt"
      ],
      "metadata": {
        "id": "aQrHNVeG3lrT"
      },
      "execution_count": null,
      "outputs": []
    },
    {
      "cell_type": "code",
      "source": [
        "sns.set_theme(color_codes=True)\n",
        "\n",
        "sns.regplot(x=\"experience\", y=\"sbp\", data=df[['experience','sbp']], ci=95)\n",
        "#df"
      ],
      "metadata": {
        "colab": {
          "base_uri": "https://localhost:8080/",
          "height": 302
        },
        "id": "gilj_Par3skA",
        "outputId": "42122c1a-cf69-47a7-b65d-b79a820ee9d9"
      },
      "execution_count": null,
      "outputs": [
        {
          "output_type": "execute_result",
          "data": {
            "text/plain": [
              "<matplotlib.axes._subplots.AxesSubplot at 0x7fe439fb4250>"
            ]
          },
          "metadata": {},
          "execution_count": 48
        },
        {
          "output_type": "display_data",
          "data": {
            "image/png": "[encoded data removed]",
            "text/plain": [
              "<Figure size 432x288 with 1 Axes>"
            ]
          },
          "metadata": {}
        }
      ]
    },
    {
      "cell_type": "code",
      "source": [
        "model = LinearRegression()\n",
        "x = np.array(df['experience']).reshape((-1, 1))\n",
        "model.fit(x, df['sbp'])"
      ],
      "metadata": {
        "colab": {
          "base_uri": "https://localhost:8080/"
        },
        "id": "m4lfBxUZ5J6R",
        "outputId": "a2888dbf-a69d-4248-e8a1-ca013cf0aea6"
      },
      "execution_count": null,
      "outputs": [
        {
          "output_type": "execute_result",
          "data": {
            "text/plain": [
              "LinearRegression()"
            ]
          },
          "metadata": {},
          "execution_count": 52
        }
      ]
    },
    {
      "cell_type": "code",
      "source": [
        "print(model.score(x, df['sbp']))"
      ],
      "metadata": {
        "colab": {
          "base_uri": "https://localhost:8080/"
        },
        "id": "0c97pg4w6EVy",
        "outputId": "f9e314c1-5722-40bf-9fd3-2e9d5cdf51d3"
      },
      "execution_count": null,
      "outputs": [
        {
          "output_type": "stream",
          "name": "stdout",
          "text": [
            "0.46347697608230776\n"
          ]
        }
      ]
    },
    {
      "cell_type": "code",
      "source": [
        "print(model.intercept_)\n",
        "print(model.coef_)"
      ],
      "metadata": {
        "colab": {
          "base_uri": "https://localhost:8080/"
        },
        "id": "WHSM6WPr6dOJ",
        "outputId": "c646dba4-c718-46d0-e0ad-4b9190c0a0a2"
      },
      "execution_count": null,
      "outputs": [
        {
          "output_type": "stream",
          "name": "stdout",
          "text": [
            "126.8684477974939\n",
            "[0.54322085]\n"
          ]
        }
      ]
    },
    {
      "cell_type": "code",
      "source": [
        "import numpy as np\n",
        "from sklearn.linear_model import LinearRegression\n",
        "X = np.array([[1, 1], [1, 2], [2, 2], [2, 3]])\n",
        "# y = 1 * x_0 + 2 * x_1 + 3\n",
        "y = np.dot(X, np.array([1, 2])) + 3\n",
        "reg = LinearRegression().fit(X, y)\n",
        "reg.score(X, y)\n",
        "\n",
        "print(reg.coef_)\n",
        "\n",
        "print(reg.intercept_)\n",
        "\n",
        "reg.predict(np.array([[3, 5]]))"
      ],
      "metadata": {
        "colab": {
          "base_uri": "https://localhost:8080/"
        },
        "id": "4qrKPxQ8ohrr",
        "outputId": "3660f17d-e062-4b57-f6a4-ed45ec2048d3"
      },
      "execution_count": null,
      "outputs": [
        {
          "output_type": "stream",
          "name": "stdout",
          "text": [
            "[1. 2.]\n",
            "3.0000000000000018\n"
          ]
        },
        {
          "output_type": "execute_result",
          "data": {
            "text/plain": [
              "array([16.])"
            ]
          },
          "metadata": {},
          "execution_count": 24
        }
      ]
    },
    {
      "cell_type": "markdown",
      "metadata": {
        "id": "klHWLfIFHeZu"
      },
      "source": [
        "Регрессионный анализ - одна из важнейших областей статистики и машинного обучения. Существует множество методов регрессии (линейная, полиномиальная, логистическая и т. д.).\n",
        "\n",
        "Линейная регрессия - простейший и одновременно с тем один из основных методов статистически и машинного обучения.\n",
        "В этом уроке вы изучите методы построения гинейных регрессионных моделей.\n",
        "\n",
        "После изучения этого урока вы будете знать:\n",
        "*  когда можно строить линейные  регрессионные модели, т. е. какие условия наклдываются на исходные данные и связи между ними;\n",
        "*  какие пакеты позволяют строить и исследовать регрессионные модели;\n",
        "*  как интерпретировать результаты, полученные при построении регрессионной модели;\n",
        "*  как визуализировать исходные данные и полученные регрессионные модели."
      ]
    },
    {
      "cell_type": "markdown",
      "metadata": {
        "id": "fO-H2Z7SSWbu"
      },
      "source": [
        "#Теоретический блок\n",
        "\n",
        "После того, как методами корреляционного анализа установлено, что существует линейная связь между признаками, естественно возникает вопрос, как описать эту связь в виде формулы. Например, пусть установлено, что цены на нефть влияют на доходную часть бюджета, требуется узнать, \n",
        "*  на сколько увеличивается доход в бюджет при увеличении цены на нефт на один доллар за беррель;\n",
        "*  какой ожидается доход в бюджет, если цена на нефть установится на уровне 80 долларов за баррель.\n",
        "\n",
        "\n",
        "**Определение:**\n",
        "Регрессионный анализ - статистический метод исследования влияния одной или нескольких независимых переменных $X_1, X_2, \\ldots, X_m$ на зависимую переменную $Y.$ При этом предполагается, что связь между переменными имеет вид \n",
        "\n",
        "$Y = f(X_1, X_2, \\ldots, X_m; a) + \\varepsilon,$\n",
        "\n",
        "где $a$ --- вектор параметров, подлежащих оценке, $f$ --- известная функция $\\varepsilon$ --- случайная ошибка.\n",
        "\n",
        "Функцию $f$ называют функцией регрессии. Если функция $f$ имеет вид $a_1 X_1 + a_2 X_2 + \\ldots + a_n X_m + a_0,$ то регрессию называют линейной. Независимые переменные иначе называют предикторами или факторами; зависимую величину называют регрессором. Терминология зависимых и независимых переменных отражает лишь математическую зависимость переменных, а не причинно-следственные отношения.\n",
        "\n",
        "\n",
        "**Как определить параметры**\n",
        "\n",
        "Для оценки параметров прововдят $n$ наблюдений за факторами и зависимой величиной. Пусть в первом наблюдении получены $Y_1, X_{11}, \\ldots, X_{m1},$ во втором --- $Y_2, X_{12}, \\ldots, X_{m2},$ и так далее, в $n$-ом наблюдении --- $Y_n, X_{1n}, \\ldots, X_{mn}.$ При этом разница  $Y_i - f(X_{1i}, \\ldots, X_{mi}; a) = \\varepsilon_i$ --- это  ошибка в $i$-ом наблюдении, $i=1, 2, \\ldots, n.$\n",
        "\n",
        "\n",
        "**Требования к исходным данным**\n",
        "\n",
        "В классической линейной регрессии предполагается, что выполнены  следующие предположения:\n",
        "\n",
        "* ошибки распределены по нормальному закону;\n",
        "* математическое ожидание ошибок равно нулю;\n",
        "* случайные ошибки модели гомоскедастичные, т. е. дисперсия ощибок постоянная, не зависит от значений предикторов;\n",
        "* корреляции случайных ошибок отсутствует.\n",
        "\n",
        "При выполнении классических предположений обычный метод наименьших квадратов позволяет получить достаточно качественные оценки параметров модели, а именно: они являются несмещенными, состоятельными и наиболее эффективными оценками."
      ]
    },
    {
      "cell_type": "markdown",
      "metadata": {
        "id": "Se_uEg9HuieN"
      },
      "source": [
        "# Задача 1\n",
        "\n",
        "Явно заданы массивы значения предиктора x и зависимой велчины (регрессора) y:\n",
        "\n",
        "x = [5, 15, 25, 35, 45, 55]\n",
        "\n",
        "y = [5, 20, 14, 32, 22, 38]\n",
        "\n",
        "Построить линейную регрессию: $y = b_0 + b_1  x$"
      ]
    },
    {
      "cell_type": "markdown",
      "metadata": {
        "id": "J-sHe28BtMnR"
      },
      "source": [
        "### Шаг 1\n",
        "Начать надо с подключения нужных пакетов.\n",
        "\n",
        "Пакет scikit-learn - это широко используемая библиотека Python для машинного обучения, построенная на основе NumPy и некоторых других пакетов. Пакет scikit-learn предоставляет средства для предварительной обработки данных, построения регрессии, а так же уменьшения размерности, классификации, кластеризации и многого другого. Пакет scikit-learn имеет открытый исходный код.\n",
        "\n",
        "Узнать подробнее о линейных моделях и получить более глубокое представление о том, как работает этот пакет, можно на странице Generalized Linear Models https://scikit-learn.org/stable/modules/linear_model.html.\n",
        "\n",
        "Если вы хотите реализовать линейную регрессию и вам нужны функциональные возможности, выходящие за рамки scikit-learn, можно обратиться к пакету  statsmodels. Это мощный пакет Python для оценки статистических моделей, выполнения тестов и многого другого. Этот пакет тоже открытый исходный код. https://www.statsmodels.org/stable/index.html."
      ]
    },
    {
      "cell_type": "code",
      "metadata": {
        "id": "VFMtMtZXYTvP"
      },
      "source": [
        "import numpy as np\n",
        "from sklearn.linear_model import LinearRegression\n",
        "import seaborn as sns\n",
        "import matplotlib.pyplot as plt\n",
        "import pandas as pd"
      ],
      "execution_count": null,
      "outputs": []
    },
    {
      "cell_type": "markdown",
      "metadata": {
        "id": "W9nAZP5iaUNI"
      },
      "source": [
        "Основным типом данных NumPy является тип numpy.ndarray. В этом уровке мы будем использовать термин \"массив\" для обозначения экземпляров типа numpy.ndarray. Не путать с list - списком Python."
      ]
    },
    {
      "cell_type": "markdown",
      "metadata": {
        "id": "7U7TYOb7a3kK"
      },
      "source": [
        "### Шаг 2\n",
        "\n",
        "Второй шаг - определение данных для работы. Входные данные (регрессоры,  x) и выходные данные (предиктор, y) должны быть массивами (экземплярами класса numpy.ndarray) или подобными объектами."
      ]
    },
    {
      "cell_type": "code",
      "metadata": {
        "colab": {
          "base_uri": "https://localhost:8080/"
        },
        "id": "D-RckWiGbN_x",
        "outputId": "2cd460d1-ab1f-41fc-998c-1c2e0a84bae4"
      },
      "source": [
        "x = np.array([5, 15, 25, 30, 35, 45, 55])\n",
        "y = np.array([5, 20, 14, 22, 32, 22, 38])\n",
        "\n",
        "print(x)\n",
        "print(y)\n"
      ],
      "execution_count": null,
      "outputs": [
        {
          "output_type": "stream",
          "name": "stdout",
          "text": [
            "[ 5 15 25 30 35 45 55]\n",
            "[ 5 20 14 22 32 22 38]\n"
          ]
        }
      ]
    },
    {
      "cell_type": "markdown",
      "metadata": {
        "id": "oy_3T93aipbf"
      },
      "source": [
        "Визуализируем данные, чтобы оценить, насколько оправдано применения линейной регрессии."
      ]
    },
    {
      "cell_type": "code",
      "metadata": {
        "colab": {
          "base_uri": "https://localhost:8080/",
          "height": 537
        },
        "id": "vCZmcfXai0XC",
        "outputId": "3027073c-c8b0-492b-9366-fbe05a69a28b"
      },
      "source": [
        "sns.set_theme(color_codes=True)\n",
        "df = pd.DataFrame(list(zip(x, y)), columns=['x', 'y'])\n",
        "sns.regplot(x=\"x\", y=\"y\", data=df, ci=95)\n",
        "df"
      ],
      "execution_count": null,
      "outputs": [
        {
          "output_type": "execute_result",
          "data": {
            "text/html": [
              "<div>\n",
              "<style scoped>\n",
              "    .dataframe tbody tr th:only-of-type {\n",
              "        vertical-align: middle;\n",
              "    }\n",
              "\n",
              "    .dataframe tbody tr th {\n",
              "        vertical-align: top;\n",
              "    }\n",
              "\n",
              "    .dataframe thead th {\n",
              "        text-align: right;\n",
              "    }\n",
              "</style>\n",
              "<table border=\"1\" class=\"dataframe\">\n",
              "  <thead>\n",
              "    <tr style=\"text-align: right;\">\n",
              "      <th></th>\n",
              "      <th>x</th>\n",
              "      <th>y</th>\n",
              "    </tr>\n",
              "  </thead>\n",
              "  <tbody>\n",
              "    <tr>\n",
              "      <th>0</th>\n",
              "      <td>5</td>\n",
              "      <td>5</td>\n",
              "    </tr>\n",
              "    <tr>\n",
              "      <th>1</th>\n",
              "      <td>15</td>\n",
              "      <td>20</td>\n",
              "    </tr>\n",
              "    <tr>\n",
              "      <th>2</th>\n",
              "      <td>25</td>\n",
              "      <td>14</td>\n",
              "    </tr>\n",
              "    <tr>\n",
              "      <th>3</th>\n",
              "      <td>30</td>\n",
              "      <td>22</td>\n",
              "    </tr>\n",
              "    <tr>\n",
              "      <th>4</th>\n",
              "      <td>35</td>\n",
              "      <td>32</td>\n",
              "    </tr>\n",
              "    <tr>\n",
              "      <th>5</th>\n",
              "      <td>45</td>\n",
              "      <td>22</td>\n",
              "    </tr>\n",
              "    <tr>\n",
              "      <th>6</th>\n",
              "      <td>55</td>\n",
              "      <td>38</td>\n",
              "    </tr>\n",
              "  </tbody>\n",
              "</table>\n",
              "</div>"
            ],
            "text/plain": [
              "    x   y\n",
              "0   5   5\n",
              "1  15  20\n",
              "2  25  14\n",
              "3  30  22\n",
              "4  35  32\n",
              "5  45  22\n",
              "6  55  38"
            ]
          },
          "metadata": {},
          "execution_count": 27
        },
        {
          "output_type": "display_data",
          "data": {
            "image/png": "[encoded data removed]",
            "text/plain": [
              "<Figure size 432x288 with 1 Axes>"
            ]
          },
          "metadata": {}
        }
      ]
    },
    {
      "cell_type": "markdown",
      "metadata": {
        "id": "oi6VAO1ZjUgE"
      },
      "source": [
        "Необходимо вызвать .reshape() для x, потому что этот массив должен быть двумерным, или, если быть более точным, иметь один столбец и столько строк, сколько необходимо. Это может показаться странным при построении *парной* линейной регресии; однако, при построении *множественной* линейной регресии станет очевидно, что данный подход удобен и оправдан."
      ]
    },
    {
      "cell_type": "code",
      "metadata": {
        "colab": {
          "base_uri": "https://localhost:8080/"
        },
        "id": "B6MHuQhzjV8h",
        "outputId": "b4672549-bce1-4489-a2f8-33a26a289f31"
      },
      "source": [
        "x = x.reshape((-1, 1))\n",
        "print(x)"
      ],
      "execution_count": null,
      "outputs": [
        {
          "output_type": "stream",
          "name": "stdout",
          "text": [
            "[[ 5]\n",
            " [15]\n",
            " [25]\n",
            " [30]\n",
            " [35]\n",
            " [45]\n",
            " [55]]\n"
          ]
        }
      ]
    },
    {
      "cell_type": "markdown",
      "metadata": {
        "id": "1LdeSiyFgDyw"
      },
      "source": [
        "### Шаг 3\n",
        "\n",
        "Следующим шагом является создание модели линейной регрессии и ее подгонка (англ. fit) к существующим данным.\n",
        "\n",
        "Создадим модель как экземпляр LinearRegression. Можно предать LinearRegression несколько дополнительных параметров:\n",
        "*  fit_intercept\n",
        "*  normalize\n",
        "*  copy_X\n",
        "*  n_jobs\n",
        "В этом примере используются значения по умолчанию для всех параметров."
      ]
    },
    {
      "cell_type": "code",
      "metadata": {
        "id": "xxw_cqfrhkXH"
      },
      "source": [
        "model = LinearRegression()"
      ],
      "execution_count": null,
      "outputs": []
    },
    {
      "cell_type": "markdown",
      "metadata": {
        "id": "phSzdKnOhsea"
      },
      "source": [
        "Далее можно пользоваться моделью.\n",
        "\n",
        "Во-первых, нужно вызвать .fit () для модели. С помощью .fit () вычисляются оптимальные значения весов $b_0$ и $b_1,$ на основе  существующих входных данных x и y. Другими словами, .fit () выполняет подгонку модели."
      ]
    },
    {
      "cell_type": "code",
      "metadata": {
        "id": "6ScuB67uhpvH",
        "colab": {
          "base_uri": "https://localhost:8080/"
        },
        "outputId": "495b8bb3-5bce-4ff2-811f-9350a6e89948"
      },
      "source": [
        "model.fit(x, y)"
      ],
      "execution_count": null,
      "outputs": [
        {
          "output_type": "execute_result",
          "data": {
            "text/plain": [
              "LinearRegression()"
            ]
          },
          "metadata": {},
          "execution_count": 30
        }
      ]
    },
    {
      "cell_type": "markdown",
      "metadata": {
        "id": "HG1_TZGjjvKS"
      },
      "source": [
        "### Шаг 4\n",
        "\n",
        "Нужно проверить, насколько качественно моель построена.\n",
        "Для этого можено получить коэффициент детерминации ($R^2$) с помощью метода .score(), вызванного для модели.\n",
        "\n",
        "**Вопрос для обсуждения**\n",
        "\n",
        "Каков содержательный смысл коэффициента детерминации? В каких пределах меняется коэффициент детерминации?"
      ]
    },
    {
      "cell_type": "code",
      "metadata": {
        "id": "C0Z0sZzOkdDg",
        "colab": {
          "base_uri": "https://localhost:8080/"
        },
        "outputId": "8e8d9531-5b9f-452a-91ce-66fe31f66e84"
      },
      "source": [
        "r_sq = model.score(x, y)\n",
        "print('coefficient of determination:', r_sq)"
      ],
      "execution_count": null,
      "outputs": [
        {
          "output_type": "stream",
          "name": "stdout",
          "text": [
            "coefficient of determination: 0.7158517034068136\n"
          ]
        }
      ]
    },
    {
      "cell_type": "markdown",
      "metadata": {
        "id": "KgxRio2t92OG"
      },
      "source": [
        "Атрибуты модели:\n",
        "*  .intercept_, константа $b_0$,\n",
        "*  .coef_, массив коэффициентов при предикторах, в данном случае состоит только из одного элемента $b_1,$ так как регрессия *парная*.\n",
        "\n",
        "**Вопрос для обсуждения**\n",
        "\n",
        "Каков содержательный смысл коэффициента $b_0$ и $b_1$?"
      ]
    },
    {
      "cell_type": "code",
      "metadata": {
        "colab": {
          "base_uri": "https://localhost:8080/"
        },
        "id": "o7zoFT7y-B6U",
        "outputId": "65851384-ef31-4459-ecd7-743b51a220d7"
      },
      "source": [
        "print('intercept:', model.intercept_)\n",
        "print('slope:', model.coef_)"
      ],
      "execution_count": null,
      "outputs": [
        {
          "output_type": "stream",
          "name": "stdout",
          "text": [
            "intercept: 5.657142857142851\n",
            "slope: [0.54]\n"
          ]
        }
      ]
    },
    {
      "cell_type": "markdown",
      "metadata": {
        "id": "mmutq1wsAkvi"
      },
      "source": [
        "### Шаг 5\n",
        "\n",
        "Как только будет построена удовлетворительная модель парной линейной регрессии, ее можно использовать для прогнозов с использованием существующих или новых данных.\n",
        "\n",
        "Чтобы получить прогнозируемый ответ, можно использовать метод .predict ():"
      ]
    },
    {
      "cell_type": "code",
      "metadata": {
        "colab": {
          "base_uri": "https://localhost:8080/"
        },
        "id": "vc5Dapc-BAb5",
        "outputId": "0e979e18-09c8-498f-fb34-b5149fd3cf30"
      },
      "source": [
        "x_new = np.array([i for i in range(20, 60, 10)]).reshape((-1, 1))\n",
        "y_pred = model.predict(x_new)\n",
        "for i in range(len(y_pred)):\n",
        "  print(x_new[i,0], '\\t', round(y_pred[i], 2))"
      ],
      "execution_count": null,
      "outputs": [
        {
          "output_type": "stream",
          "name": "stdout",
          "text": [
            "20 \t 16.46\n",
            "30 \t 21.86\n",
            "40 \t 27.26\n",
            "50 \t 32.66\n"
          ]
        }
      ]
    },
    {
      "cell_type": "markdown",
      "metadata": {
        "id": "Huyq3LYqBKbL"
      },
      "source": [
        "При применении метода .predict () в качестве аргумента передают регрессор и получают соответствующий прогнозируемый ответ.\n",
        "\n",
        "Вот еще один, почти идентичный, способ предсказать ответ:"
      ]
    },
    {
      "cell_type": "code",
      "metadata": {
        "id": "PuXyzY9XBYCI",
        "colab": {
          "base_uri": "https://localhost:8080/"
        },
        "outputId": "939b28ad-4a00-4a35-e6c4-baf1d14a9bcf"
      },
      "source": [
        " y_pred = model.intercept_ + model.coef_ * x_new\n",
        " print(y_pred)"
      ],
      "execution_count": null,
      "outputs": [
        {
          "output_type": "stream",
          "name": "stdout",
          "text": [
            "[[14.46397225 10.6230889 ]\n",
            " [18.93466874 13.17334371]\n",
            " [23.40536523 15.72359853]\n",
            " [27.87606172 18.27385334]]\n"
          ]
        }
      ]
    },
    {
      "cell_type": "markdown",
      "metadata": {
        "id": "v5jNdeVMDeSe"
      },
      "source": [
        "# Задача 2\n",
        "Данная задача носит теретический характер. Она призвана\n",
        "\n",
        "*  прояснить смысл параметров, входящих в уравнение парной линейной регрессии;\n",
        "*  показать зависимость параметров от входных данных, объема выборки и иных параметров."
      ]
    },
    {
      "cell_type": "markdown",
      "metadata": {
        "id": "KOpAbNKvEXN7"
      },
      "source": [
        "Сгенерировать набор псевдослучаных чисел, x и y, - выборку, извлеченную из двумерной нормально распределенной генеральной совокупности.\n",
        "\n",
        "Объем выборки определяется параметром sampleSize.\n",
        "\n",
        "Случайные величины X и Y связаны линейной связью:\n",
        "Y = regConst + regCoef * X + error,\n",
        "где\n",
        "error - случайная величина со ст. отклонением = noise, мат. ожиданием = 0.\n",
        "\n",
        "Исследовать,\n",
        "\n",
        "*  как зависит коэффициент детерминации от параметра noise;\n",
        "*  чему будет равен коэффициент детерминации, когда параметр noise = 0;\n",
        "*  как зависит коэффициент детерминации от параметра regCoef;\n",
        "*  как зависит коэффициент детерминации от объема выборки;\n",
        "*  как зависит ширина 95% доверительного интервала в прогнозах от параметра noise;\n",
        "*  как зависит ширина 95% доверительного интервала в прогнозах от объема выборки.\n"
      ]
    },
    {
      "cell_type": "code",
      "metadata": {
        "colab": {
          "base_uri": "https://localhost:8080/",
          "height": 337
        },
        "id": "I6hXPdDaD96b",
        "outputId": "88872ba8-a401-4f48-e56e-95d017893457"
      },
      "source": [
        "import numpy as np\n",
        "from sklearn.linear_model import LinearRegression\n",
        "import seaborn as sns\n",
        "import matplotlib.pyplot as plt\n",
        "import pandas as pd\n",
        "\n",
        "np.random.seed(1)\n",
        "noise = 2\n",
        "sampleSize = 200\n",
        "regCoef = 1\n",
        "regConst = 30\n",
        "\n",
        "#Here parameters std. dev = 20 and mean = 100 were chosen arbitrarily\n",
        "x = 20 * np.random.randn(sampleSize) + 100\n",
        "\n",
        "y = 1 * x + 30 + noise * np.random.randn(sampleSize)\n",
        "df = pd.DataFrame(list(zip(x, y)), columns=['total_bill', 'tip'])\n",
        "sns.regplot(x=\"total_bill\", y=\"tip\", data=df)\n",
        "\n",
        "x = x.reshape((-1, 1))\n",
        "model = LinearRegression()\n",
        "model.fit(x, y)\n",
        "\n",
        "r_sq = model.score(x, y)\n",
        "print('Coefficient of determination', r_sq * 100, '%')\n",
        "print('Coefficient of determination', model.intercept_)\n",
        "print('Coefficient of determination', model.coef_)"
      ],
      "execution_count": null,
      "outputs": [
        {
          "output_type": "stream",
          "name": "stdout",
          "text": [
            "Coefficient of determination 98.7115078418499 %\n",
            "Coefficient of determination 30.55297871217489\n",
            "Coefficient of determination [0.99448254]\n"
          ]
        },
        {
          "output_type": "display_data",
          "data": {
            "image/png": "[encoded data removed]",
            "text/plain": [
              "<Figure size 432x288 with 1 Axes>"
            ]
          },
          "metadata": {}
        }
      ]
    },
    {
      "cell_type": "code",
      "metadata": {
        "colab": {
          "base_uri": "https://localhost:8080/",
          "height": 337
        },
        "id": "9cAIQLi4J18e",
        "outputId": "9ef7a754-7864-454c-afa6-ff472620baa9"
      },
      "source": [
        "#При увеличении noise до 10, коэффициент детерминации уменьшается\n",
        "#При увеличении noise до 10, 95% доверительные интервалы\n",
        "#для прогнозируемых значений увеличиваются (становятся шире)\n",
        "noise = 10\n",
        "sampleSize = 20\n",
        "regCoef = 1\n",
        "regConst = 30\n",
        "\n",
        "#Here parameters std. dev = 20 and mean = 100 were chosen arbitrarily\n",
        "x = 20 * np.random.randn(sampleSize) + 100\n",
        "\n",
        "y = 1 * x + 30 + noise * np.random.randn(sampleSize)\n",
        "df = pd.DataFrame(list(zip(x, y)), columns=['total_bill', 'tip'])\n",
        "sns.regplot(x=\"total_bill\", y=\"tip\", data=df)\n",
        "\n",
        "x = x.reshape((-1, 1))\n",
        "model = LinearRegression()\n",
        "model.fit(x, y)\n",
        "\n",
        "r_sq = model.score(x, y)\n",
        "print('Coefficient of determination', r_sq * 100, '%')\n",
        "print('Coefficient of determination', model.intercept_)\n",
        "print('Coefficient of determination', model.coef_)"
      ],
      "execution_count": null,
      "outputs": [
        {
          "output_type": "stream",
          "name": "stdout",
          "text": [
            "Coefficient of determination 90.5985450223023 %\n",
            "Coefficient of determination 37.11849430707508\n",
            "Coefficient of determination [0.97847758]\n"
          ]
        },
        {
          "output_type": "display_data",
          "data": {
            "image/png": "[encoded data removed]",
            "text/plain": [
              "<Figure size 432x288 with 1 Axes>"
            ]
          },
          "metadata": {}
        }
      ]
    },
    {
      "cell_type": "code",
      "metadata": {
        "colab": {
          "base_uri": "https://localhost:8080/",
          "height": 337
        },
        "id": "p_rWQfLGKZol",
        "outputId": "dd0ad20a-8fdc-45af-eec4-3a2bdf36d610"
      },
      "source": [
        "#При увеличении объема выборки, 95% доверительные интервалы сужаются\n",
        "noise = 10\n",
        "sampleSize = 180\n",
        "regCoef = 1\n",
        "regConst = 30\n",
        "\n",
        "#Here parameters std. dev = 20 and mean = 100 were chosen arbitrarily\n",
        "x = 20 * np.random.randn(sampleSize) + 100\n",
        "\n",
        "y = 1 * x + 30 + noise * np.random.randn(sampleSize)\n",
        "df = pd.DataFrame(list(zip(x, y)), columns=['total_bill', 'tip'])\n",
        "sns.regplot(x=\"total_bill\", y=\"tip\", data=df)\n",
        "\n",
        "x = x.reshape((-1, 1))\n",
        "model = LinearRegression()\n",
        "model.fit(x, y)\n",
        "\n",
        "r_sq = model.score(x, y)\n",
        "print('Coefficient of determination', r_sq * 100, '%')\n",
        "print('Coefficient of determination', model.intercept_)\n",
        "print('Coefficient of determination', model.coef_)"
      ],
      "execution_count": null,
      "outputs": [
        {
          "output_type": "stream",
          "name": "stdout",
          "text": [
            "Coefficient of determination 80.10810368749839 %\n",
            "Coefficient of determination 31.09486990050337\n",
            "Coefficient of determination [0.98316861]\n"
          ]
        },
        {
          "output_type": "display_data",
          "data": {
            "image/png": "[encoded data removed]",
            "text/plain": [
              "<Figure size 432x288 with 1 Axes>"
            ]
          },
          "metadata": {}
        }
      ]
    },
    {
      "cell_type": "markdown",
      "metadata": {
        "id": "cVyaOrBbYb9v"
      },
      "source": [
        "#### Задача 3\n",
        "\n",
        "Явно заданы массивы значений предиктора x и зависимой велчины (регрессора) y:\n",
        "\n",
        "x = [[0, 1], [5, 1], [15, 2], [25, 5], [35, 11], [45, 15], [55, 34], [60, 35]]\n",
        "\n",
        "y = [4, 5, 20, 14, 32, 22, 38, 43]\n",
        "\n",
        "Построить линейную регрессию: $y = b_0 + b_1 x_1 + b_2 x_2.$\n",
        "\n"
      ]
    },
    {
      "cell_type": "code",
      "metadata": {
        "colab": {
          "base_uri": "https://localhost:8080/"
        },
        "id": "gCMwAaVWKlUQ",
        "outputId": "f4f9c993-dd55-404d-cceb-3cbce5af8956"
      },
      "source": [
        "import numpy as np\n",
        "from sklearn.linear_model import LinearRegression\n",
        "\n",
        "x = [[0, 1], [5, 1], [15, 2], [25, 5], [35, 11], [45, 15], [55, 34], [60, 35]]\n",
        "y = [4, 5, 20, 14, 32, 22, 38, 43]\n",
        "x, y = np.array(x), np.array(y)\n",
        "\n",
        "\n",
        "model = LinearRegression().fit(x, y)\n",
        "r_sq = model.score(x, y)\n",
        "print('coefficient of determination:', r_sq)\n",
        "\n",
        "print('intercept:', model.intercept_)\n",
        "print('slope:', model.coef_)"
      ],
      "execution_count": null,
      "outputs": [
        {
          "output_type": "stream",
          "name": "stdout",
          "text": [
            "coefficient of determination: 0.8615939258756776\n",
            "intercept: 5.52257927519819\n",
            "slope: [0.44706965 0.25502548]\n"
          ]
        }
      ]
    },
    {
      "cell_type": "markdown",
      "metadata": {
        "id": "Gu--jS6sV77-"
      },
      "source": [
        "# Ответы на вопросы\n",
        "\n",
        "Коэффициент детерминации характеризует долю объясненной дисперсии. Коэффициент детерминации меняется от 0 до 1, чем он больше тем точнее модель.\n",
        "\n",
        "В модели парной линейной регрессии коэффициент $b_1$ при независимой величине имеет содержательный смысл: при увеличении предиктора на еницу своего измерения ргерессор увеличивается на $b_1.$"
      ]
    },
    {
      "cell_type": "markdown",
      "metadata": {
        "id": "aNbf6MyobBLF"
      },
      "source": [
        "# Рекомендации по чтению\n",
        "\n",
        "https://realpython.com/linear-regression-in-python/\n",
        "\n",
        "https://seaborn.pydata.org/tutorial/regression.html"
      ]
    }
  ]
}