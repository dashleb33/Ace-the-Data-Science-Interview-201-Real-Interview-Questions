{
  "nbformat": 4,
  "nbformat_minor": 0,
  "metadata": {
    "colab": {
      "provenance": []
    },
    "kernelspec": {
      "name": "python3",
      "display_name": "Python 3"
    }
  },
  "cells": [
    {
      "cell_type": "markdown",
      "metadata": {
        "id": "Y8AJ1blrmkme"
      },
      "source": [
        "В этом уроке вы изучите параметрические статистические тесты, используемые для сравнения средних.\n",
        "\n",
        "После изучения этого урока вы будете знать:\n",
        "\n",
        "*   t-критерий Стьюдента для одной выборки;\n",
        "*   t-критерий Стьюдента для двух независимых выборок;\n",
        "*   t-критерий Стьюдента для двух зависимых выборок (парных наблюдений);\n",
        "*   однофакторный дисперсионный анализ, ANOVA.\n",
        "\n",
        "В этом уроке используйте файл используйте excel файл с данными, доступный по сылке\n",
        "\n",
        "https://drive.google.com/file/d/1XJHELLqNpm3ejZxFJ7SpDV-wHARdX5j8/view?usp=sharing\n",
        "\n",
        "\n",
        "# Постановка задачи\n",
        "\n",
        "В медицинском центре охраны здоровья проходили обследование рабочие трех предприятий, по 200 рабочих с каждого предприятия. В файле приведены данные об уровне гемоглобина, гр/литр, (Hb) рабочих. Исследовались только мужчины в возрасте от 20 до 40 лет. Данные собраны в 6 столбцов: Hb1Bef, Hb1Aft, Hb2Bef, Hb2Aft, Hb3Bef, Hb3Aft. Уровень гемоглобина был измерен при госпитализации и при выписке через 14 дней.\n",
        "\n",
        "*  Hb1Bef, Hb1Aft - уровень гемоглобина рабочих первого предприятия при госпитализации и через 14 дней, соответственно;\n",
        "*  Hb2Bef, Hb2Aft - уровень гемоглобина рабочих первого предприятия при госпитализации и через 14 дней, соответственно;\n",
        "*  Hb3Bef, Hb3Aft - уровень гемоглобина рабочих первого предприятия при госпитализации и через 14 дней, соответственно.\n"
      ]
    },
    {
      "cell_type": "markdown",
      "metadata": {
        "id": "Se_uEg9HuieN"
      },
      "source": [
        "# Задача 1\n",
        "\n",
        "Исследуется влияние неблагоприятных производственных факторов на уровнень гемоглобина у рабочих. В столбце Hb1Bef приведены данные об уровне гемоглобина у 200 рабочих первого предприятия на момент госпитализации.\n",
        "\n",
        "Считая нижней границей нормы уровень 130 гр/литр крови, определить, не снижен ли уровень гемоглобина у рабочих.\n"
      ]
    },
    {
      "cell_type": "markdown",
      "metadata": {
        "id": "J-sHe28BtMnR"
      },
      "source": [
        "### Шаг 1\n",
        "Начать надо с загрузки и чтения файла.\n",
        "\n",
        "https://pandas.pydata.org/pandas-docs/stable/reference/api/pandas.read_excel.html"
      ]
    },
    {
      "cell_type": "code",
      "metadata": {
        "id": "smCUObVVrLyV",
        "colab": {
          "base_uri": "https://localhost:8080/",
          "height": 479
        },
        "outputId": "9153935d-4701-4c72-be3e-0e5d223358f7"
      },
      "source": [
        "from google.colab import files\n",
        "import pandas as pd\n",
        "from scipy import stats\n",
        "\n",
        "files.upload()\n",
        "df1 = pd.read_excel('task1.xlsx', index_col=0)#Data Frame\n",
        "df1"
      ],
      "execution_count": null,
      "outputs": [
        {
          "output_type": "display_data",
          "data": {
            "text/plain": [
              "<IPython.core.display.HTML object>"
            ],
            "text/html": [
              "\n",
              "     <input type=\"file\" id=\"files-900e6bc1-4437-453f-9b96-a90273e498de\" name=\"files[]\" multiple disabled\n",
              "        style=\"border:none\" />\n",
              "     <output id=\"result-900e6bc1-4437-453f-9b96-a90273e498de\">\n",
              "      Upload widget is only available when the cell has been executed in the\n",
              "      current browser session. Please rerun this cell to enable.\n",
              "      </output>\n",
              "      <script>// Copyright 2017 Google LLC\n",
              "//\n",
              "// Licensed under the Apache License, Version 2.0 (the \"License\");\n",
              "// you may not use this file except in compliance with the License.\n",
              "// You may obtain a copy of the License at\n",
              "//\n",
              "//      http://www.apache.org/licenses/LICENSE-2.0\n",
              "//\n",
              "// Unless required by applicable law or agreed to in writing, software\n",
              "// distributed under the License is distributed on an \"AS IS\" BASIS,\n",
              "// WITHOUT WARRANTIES OR CONDITIONS OF ANY KIND, either express or implied.\n",
              "// See the License for the specific language governing permissions and\n",
              "// limitations under the License.\n",
              "\n",
              "/**\n",
              " * @fileoverview Helpers for google.colab Python module.\n",
              " */\n",
              "(function(scope) {\n",
              "function span(text, styleAttributes = {}) {\n",
              "  const element = document.createElement('span');\n",
              "  element.textContent = text;\n",
              "  for (const key of Object.keys(styleAttributes)) {\n",
              "    element.style[key] = styleAttributes[key];\n",
              "  }\n",
              "  return element;\n",
              "}\n",
              "\n",
              "// Max number of bytes which will be uploaded at a time.\n",
              "const MAX_PAYLOAD_SIZE = 100 * 1024;\n",
              "\n",
              "function _uploadFiles(inputId, outputId) {\n",
              "  const steps = uploadFilesStep(inputId, outputId);\n",
              "  const outputElement = document.getElementById(outputId);\n",
              "  // Cache steps on the outputElement to make it available for the next call\n",
              "  // to uploadFilesContinue from Python.\n",
              "  outputElement.steps = steps;\n",
              "\n",
              "  return _uploadFilesContinue(outputId);\n",
              "}\n",
              "\n",
              "// This is roughly an async generator (not supported in the browser yet),\n",
              "// where there are multiple asynchronous steps and the Python side is going\n",
              "// to poll for completion of each step.\n",
              "// This uses a Promise to block the python side on completion of each step,\n",
              "// then passes the result of the previous step as the input to the next step.\n",
              "function _uploadFilesContinue(outputId) {\n",
              "  const outputElement = document.getElementById(outputId);\n",
              "  const steps = outputElement.steps;\n",
              "\n",
              "  const next = steps.next(outputElement.lastPromiseValue);\n",
              "  return Promise.resolve(next.value.promise).then((value) => {\n",
              "    // Cache the last promise value to make it available to the next\n",
              "    // step of the generator.\n",
              "    outputElement.lastPromiseValue = value;\n",
              "    return next.value.response;\n",
              "  });\n",
              "}\n",
              "\n",
              "/**\n",
              " * Generator function which is called between each async step of the upload\n",
              " * process.\n",
              " * @param {string} inputId Element ID of the input file picker element.\n",
              " * @param {string} outputId Element ID of the output display.\n",
              " * @return {!Iterable<!Object>} Iterable of next steps.\n",
              " */\n",
              "function* uploadFilesStep(inputId, outputId) {\n",
              "  const inputElement = document.getElementById(inputId);\n",
              "  inputElement.disabled = false;\n",
              "\n",
              "  const outputElement = document.getElementById(outputId);\n",
              "  outputElement.innerHTML = '';\n",
              "\n",
              "  const pickedPromise = new Promise((resolve) => {\n",
              "    inputElement.addEventListener('change', (e) => {\n",
              "      resolve(e.target.files);\n",
              "    });\n",
              "  });\n",
              "\n",
              "  const cancel = document.createElement('button');\n",
              "  inputElement.parentElement.appendChild(cancel);\n",
              "  cancel.textContent = 'Cancel upload';\n",
              "  const cancelPromise = new Promise((resolve) => {\n",
              "    cancel.onclick = () => {\n",
              "      resolve(null);\n",
              "    };\n",
              "  });\n",
              "\n",
              "  // Wait for the user to pick the files.\n",
              "  const files = yield {\n",
              "    promise: Promise.race([pickedPromise, cancelPromise]),\n",
              "    response: {\n",
              "      action: 'starting',\n",
              "    }\n",
              "  };\n",
              "\n",
              "  cancel.remove();\n",
              "\n",
              "  // Disable the input element since further picks are not allowed.\n",
              "  inputElement.disabled = true;\n",
              "\n",
              "  if (!files) {\n",
              "    return {\n",
              "      response: {\n",
              "        action: 'complete',\n",
              "      }\n",
              "    };\n",
              "  }\n",
              "\n",
              "  for (const file of files) {\n",
              "    const li = document.createElement('li');\n",
              "    li.append(span(file.name, {fontWeight: 'bold'}));\n",
              "    li.append(span(\n",
              "        `(${file.type || 'n/a'}) - ${file.size} bytes, ` +\n",
              "        `last modified: ${\n",
              "            file.lastModifiedDate ? file.lastModifiedDate.toLocaleDateString() :\n",
              "                                    'n/a'} - `));\n",
              "    const percent = span('0% done');\n",
              "    li.appendChild(percent);\n",
              "\n",
              "    outputElement.appendChild(li);\n",
              "\n",
              "    const fileDataPromise = new Promise((resolve) => {\n",
              "      const reader = new FileReader();\n",
              "      reader.onload = (e) => {\n",
              "        resolve(e.target.result);\n",
              "      };\n",
              "      reader.readAsArrayBuffer(file);\n",
              "    });\n",
              "    // Wait for the data to be ready.\n",
              "    let fileData = yield {\n",
              "      promise: fileDataPromise,\n",
              "      response: {\n",
              "        action: 'continue',\n",
              "      }\n",
              "    };\n",
              "\n",
              "    // Use a chunked sending to avoid message size limits. See b/62115660.\n",
              "    let position = 0;\n",
              "    do {\n",
              "      const length = Math.min(fileData.byteLength - position, MAX_PAYLOAD_SIZE);\n",
              "      const chunk = new Uint8Array(fileData, position, length);\n",
              "      position += length;\n",
              "\n",
              "      const base64 = btoa(String.fromCharCode.apply(null, chunk));\n",
              "      yield {\n",
              "        response: {\n",
              "          action: 'append',\n",
              "          file: file.name,\n",
              "          data: base64,\n",
              "        },\n",
              "      };\n",
              "\n",
              "      let percentDone = fileData.byteLength === 0 ?\n",
              "          100 :\n",
              "          Math.round((position / fileData.byteLength) * 100);\n",
              "      percent.textContent = `${percentDone}% done`;\n",
              "\n",
              "    } while (position < fileData.byteLength);\n",
              "  }\n",
              "\n",
              "  // All done.\n",
              "  yield {\n",
              "    response: {\n",
              "      action: 'complete',\n",
              "    }\n",
              "  };\n",
              "}\n",
              "\n",
              "scope.google = scope.google || {};\n",
              "scope.google.colab = scope.google.colab || {};\n",
              "scope.google.colab._files = {\n",
              "  _uploadFiles,\n",
              "  _uploadFilesContinue,\n",
              "};\n",
              "})(self);\n",
              "</script> "
            ]
          },
          "metadata": {}
        },
        {
          "output_type": "stream",
          "name": "stdout",
          "text": [
            "Saving task1.xlsx to task1.xlsx\n"
          ]
        },
        {
          "output_type": "execute_result",
          "data": {
            "text/plain": [
              "     Hb1Bef  Hb1Aft  Hb2Bef  Hb2Aft  Hb3Bef  Hb3Aft\n",
              "0       136     126     114     121     136     127\n",
              "1       114     138     128     137     136     105\n",
              "2       115     124     131     122     113     134\n",
              "3       109     150     139     127     126     126\n",
              "4       129     117     123     117     127     114\n",
              "..      ...     ...     ...     ...     ...     ...\n",
              "195     104     138     142     120     127     127\n",
              "196     126     111     134     143     105     123\n",
              "197     124     139     137     125     127     115\n",
              "198     128     130     122     139     132     137\n",
              "199     130     151     141     129     126     118\n",
              "\n",
              "[200 rows x 6 columns]"
            ],
            "text/html": [
              "\n",
              "  <div id=\"df-03fb2cb6-3901-413d-8c7d-43269d11cad5\">\n",
              "    <div class=\"colab-df-container\">\n",
              "      <div>\n",
              "<style scoped>\n",
              "    .dataframe tbody tr th:only-of-type {\n",
              "        vertical-align: middle;\n",
              "    }\n",
              "\n",
              "    .dataframe tbody tr th {\n",
              "        vertical-align: top;\n",
              "    }\n",
              "\n",
              "    .dataframe thead th {\n",
              "        text-align: right;\n",
              "    }\n",
              "</style>\n",
              "<table border=\"1\" class=\"dataframe\">\n",
              "  <thead>\n",
              "    <tr style=\"text-align: right;\">\n",
              "      <th></th>\n",
              "      <th>Hb1Bef</th>\n",
              "      <th>Hb1Aft</th>\n",
              "      <th>Hb2Bef</th>\n",
              "      <th>Hb2Aft</th>\n",
              "      <th>Hb3Bef</th>\n",
              "      <th>Hb3Aft</th>\n",
              "    </tr>\n",
              "  </thead>\n",
              "  <tbody>\n",
              "    <tr>\n",
              "      <th>0</th>\n",
              "      <td>136</td>\n",
              "      <td>126</td>\n",
              "      <td>114</td>\n",
              "      <td>121</td>\n",
              "      <td>136</td>\n",
              "      <td>127</td>\n",
              "    </tr>\n",
              "    <tr>\n",
              "      <th>1</th>\n",
              "      <td>114</td>\n",
              "      <td>138</td>\n",
              "      <td>128</td>\n",
              "      <td>137</td>\n",
              "      <td>136</td>\n",
              "      <td>105</td>\n",
              "    </tr>\n",
              "    <tr>\n",
              "      <th>2</th>\n",
              "      <td>115</td>\n",
              "      <td>124</td>\n",
              "      <td>131</td>\n",
              "      <td>122</td>\n",
              "      <td>113</td>\n",
              "      <td>134</td>\n",
              "    </tr>\n",
              "    <tr>\n",
              "      <th>3</th>\n",
              "      <td>109</td>\n",
              "      <td>150</td>\n",
              "      <td>139</td>\n",
              "      <td>127</td>\n",
              "      <td>126</td>\n",
              "      <td>126</td>\n",
              "    </tr>\n",
              "    <tr>\n",
              "      <th>4</th>\n",
              "      <td>129</td>\n",
              "      <td>117</td>\n",
              "      <td>123</td>\n",
              "      <td>117</td>\n",
              "      <td>127</td>\n",
              "      <td>114</td>\n",
              "    </tr>\n",
              "    <tr>\n",
              "      <th>...</th>\n",
              "      <td>...</td>\n",
              "      <td>...</td>\n",
              "      <td>...</td>\n",
              "      <td>...</td>\n",
              "      <td>...</td>\n",
              "      <td>...</td>\n",
              "    </tr>\n",
              "    <tr>\n",
              "      <th>195</th>\n",
              "      <td>104</td>\n",
              "      <td>138</td>\n",
              "      <td>142</td>\n",
              "      <td>120</td>\n",
              "      <td>127</td>\n",
              "      <td>127</td>\n",
              "    </tr>\n",
              "    <tr>\n",
              "      <th>196</th>\n",
              "      <td>126</td>\n",
              "      <td>111</td>\n",
              "      <td>134</td>\n",
              "      <td>143</td>\n",
              "      <td>105</td>\n",
              "      <td>123</td>\n",
              "    </tr>\n",
              "    <tr>\n",
              "      <th>197</th>\n",
              "      <td>124</td>\n",
              "      <td>139</td>\n",
              "      <td>137</td>\n",
              "      <td>125</td>\n",
              "      <td>127</td>\n",
              "      <td>115</td>\n",
              "    </tr>\n",
              "    <tr>\n",
              "      <th>198</th>\n",
              "      <td>128</td>\n",
              "      <td>130</td>\n",
              "      <td>122</td>\n",
              "      <td>139</td>\n",
              "      <td>132</td>\n",
              "      <td>137</td>\n",
              "    </tr>\n",
              "    <tr>\n",
              "      <th>199</th>\n",
              "      <td>130</td>\n",
              "      <td>151</td>\n",
              "      <td>141</td>\n",
              "      <td>129</td>\n",
              "      <td>126</td>\n",
              "      <td>118</td>\n",
              "    </tr>\n",
              "  </tbody>\n",
              "</table>\n",
              "<p>200 rows × 6 columns</p>\n",
              "</div>\n",
              "      <button class=\"colab-df-convert\" onclick=\"convertToInteractive('df-03fb2cb6-3901-413d-8c7d-43269d11cad5')\"\n",
              "              title=\"Convert this dataframe to an interactive table.\"\n",
              "              style=\"display:none;\">\n",
              "        \n",
              "  <svg xmlns=\"http://www.w3.org/2000/svg\" height=\"24px\"viewBox=\"0 0 24 24\"\n",
              "       width=\"24px\">\n",
              "    <path d=\"M0 0h24v24H0V0z\" fill=\"none\"/>\n",
              "    <path d=\"M18.56 5.44l.94 2.06.94-2.06 2.06-.94-2.06-.94-.94-2.06-.94 2.06-2.06.94zm-11 1L8.5 8.5l.94-2.06 2.06-.94-2.06-.94L8.5 2.5l-.94 2.06-2.06.94zm10 10l.94 2.06.94-2.06 2.06-.94-2.06-.94-.94-2.06-.94 2.06-2.06.94z\"/><path d=\"M17.41 7.96l-1.37-1.37c-.4-.4-.92-.59-1.43-.59-.52 0-1.04.2-1.43.59L10.3 9.45l-7.72 7.72c-.78.78-.78 2.05 0 2.83L4 21.41c.39.39.9.59 1.41.59.51 0 1.02-.2 1.41-.59l7.78-7.78 2.81-2.81c.8-.78.8-2.07 0-2.86zM5.41 20L4 18.59l7.72-7.72 1.47 1.35L5.41 20z\"/>\n",
              "  </svg>\n",
              "      </button>\n",
              "      \n",
              "  <style>\n",
              "    .colab-df-container {\n",
              "      display:flex;\n",
              "      flex-wrap:wrap;\n",
              "      gap: 12px;\n",
              "    }\n",
              "\n",
              "    .colab-df-convert {\n",
              "      background-color: #E8F0FE;\n",
              "      border: none;\n",
              "      border-radius: 50%;\n",
              "      cursor: pointer;\n",
              "      display: none;\n",
              "      fill: #1967D2;\n",
              "      height: 32px;\n",
              "      padding: 0 0 0 0;\n",
              "      width: 32px;\n",
              "    }\n",
              "\n",
              "    .colab-df-convert:hover {\n",
              "      background-color: #E2EBFA;\n",
              "      box-shadow: 0px 1px 2px rgba(60, 64, 67, 0.3), 0px 1px 3px 1px rgba(60, 64, 67, 0.15);\n",
              "      fill: #174EA6;\n",
              "    }\n",
              "\n",
              "    [theme=dark] .colab-df-convert {\n",
              "      background-color: #3B4455;\n",
              "      fill: #D2E3FC;\n",
              "    }\n",
              "\n",
              "    [theme=dark] .colab-df-convert:hover {\n",
              "      background-color: #434B5C;\n",
              "      box-shadow: 0px 1px 3px 1px rgba(0, 0, 0, 0.15);\n",
              "      filter: drop-shadow(0px 1px 2px rgba(0, 0, 0, 0.3));\n",
              "      fill: #FFFFFF;\n",
              "    }\n",
              "  </style>\n",
              "\n",
              "      <script>\n",
              "        const buttonEl =\n",
              "          document.querySelector('#df-03fb2cb6-3901-413d-8c7d-43269d11cad5 button.colab-df-convert');\n",
              "        buttonEl.style.display =\n",
              "          google.colab.kernel.accessAllowed ? 'block' : 'none';\n",
              "\n",
              "        async function convertToInteractive(key) {\n",
              "          const element = document.querySelector('#df-03fb2cb6-3901-413d-8c7d-43269d11cad5');\n",
              "          const dataTable =\n",
              "            await google.colab.kernel.invokeFunction('convertToInteractive',\n",
              "                                                     [key], {});\n",
              "          if (!dataTable) return;\n",
              "\n",
              "          const docLinkHtml = 'Like what you see? Visit the ' +\n",
              "            '<a target=\"_blank\" href=https://colab.research.google.com/notebooks/data_table.ipynb>data table notebook</a>'\n",
              "            + ' to learn more about interactive tables.';\n",
              "          element.innerHTML = '';\n",
              "          dataTable['output_type'] = 'display_data';\n",
              "          await google.colab.output.renderOutput(dataTable, element);\n",
              "          const docLink = document.createElement('div');\n",
              "          docLink.innerHTML = docLinkHtml;\n",
              "          element.appendChild(docLink);\n",
              "        }\n",
              "      </script>\n",
              "    </div>\n",
              "  </div>\n",
              "  "
            ]
          },
          "metadata": {},
          "execution_count": 1
        }
      ]
    },
    {
      "cell_type": "markdown",
      "metadata": {
        "id": "RA3uNtgDtoz-"
      },
      "source": [
        "## Шаг 2\n",
        "Найдем описательные статистики, построим гистограмму и график \"ящик с усами\".\n",
        "\n",
        "По полученным результатам можно сделать предположение, что уровень гемоглобина снижен на 10 гр/литр по сравнению с нижней границей нормы. Чтобы проверить это предположение нужны соответствующие критерии.\n",
        "\n",
        "https://pandas.pydata.org/pandas-docs/stable/reference/api/pandas.DataFrame.plot.hist.html\n",
        "\n",
        "https://pandas.pydata.org/pandas-docs/stable/reference/api/pandas.DataFrame.plot.hist.html"
      ]
    },
    {
      "cell_type": "code",
      "metadata": {
        "id": "fwuk5a5ht2UF",
        "colab": {
          "base_uri": "https://localhost:8080/",
          "height": 300
        },
        "outputId": "eeb5d042-0f6a-41d5-bfd7-453146b58fdd"
      },
      "source": [
        "df1.describe()"
      ],
      "execution_count": null,
      "outputs": [
        {
          "output_type": "execute_result",
          "data": {
            "text/plain": [
              "           Hb1Bef      Hb1Aft      Hb2Bef      Hb2Aft      Hb3Bef      Hb3Aft\n",
              "count  200.000000  200.000000  200.000000  200.000000  200.000000  200.000000\n",
              "mean   121.060000  129.965000  127.985000  131.195000  128.745000  128.620000\n",
              "std      9.101681   10.366828   10.454245    9.944417    9.110708   10.053905\n",
              "min     96.000000  102.000000  102.000000  104.000000   97.000000  104.000000\n",
              "25%    115.750000  123.000000  121.000000  125.000000  123.750000  122.000000\n",
              "50%    121.000000  129.000000  128.000000  132.000000  129.000000  128.500000\n",
              "75%    127.000000  137.000000  135.250000  139.000000  134.000000  135.000000\n",
              "max    145.000000  160.000000  167.000000  165.000000  152.000000  155.000000"
            ],
            "text/html": [
              "\n",
              "  <div id=\"df-8208a39e-18e6-4f7d-98d1-e7c716cdcb40\">\n",
              "    <div class=\"colab-df-container\">\n",
              "      <div>\n",
              "<style scoped>\n",
              "    .dataframe tbody tr th:only-of-type {\n",
              "        vertical-align: middle;\n",
              "    }\n",
              "\n",
              "    .dataframe tbody tr th {\n",
              "        vertical-align: top;\n",
              "    }\n",
              "\n",
              "    .dataframe thead th {\n",
              "        text-align: right;\n",
              "    }\n",
              "</style>\n",
              "<table border=\"1\" class=\"dataframe\">\n",
              "  <thead>\n",
              "    <tr style=\"text-align: right;\">\n",
              "      <th></th>\n",
              "      <th>Hb1Bef</th>\n",
              "      <th>Hb1Aft</th>\n",
              "      <th>Hb2Bef</th>\n",
              "      <th>Hb2Aft</th>\n",
              "      <th>Hb3Bef</th>\n",
              "      <th>Hb3Aft</th>\n",
              "    </tr>\n",
              "  </thead>\n",
              "  <tbody>\n",
              "    <tr>\n",
              "      <th>count</th>\n",
              "      <td>200.000000</td>\n",
              "      <td>200.000000</td>\n",
              "      <td>200.000000</td>\n",
              "      <td>200.000000</td>\n",
              "      <td>200.000000</td>\n",
              "      <td>200.000000</td>\n",
              "    </tr>\n",
              "    <tr>\n",
              "      <th>mean</th>\n",
              "      <td>121.060000</td>\n",
              "      <td>129.965000</td>\n",
              "      <td>127.985000</td>\n",
              "      <td>131.195000</td>\n",
              "      <td>128.745000</td>\n",
              "      <td>128.620000</td>\n",
              "    </tr>\n",
              "    <tr>\n",
              "      <th>std</th>\n",
              "      <td>9.101681</td>\n",
              "      <td>10.366828</td>\n",
              "      <td>10.454245</td>\n",
              "      <td>9.944417</td>\n",
              "      <td>9.110708</td>\n",
              "      <td>10.053905</td>\n",
              "    </tr>\n",
              "    <tr>\n",
              "      <th>min</th>\n",
              "      <td>96.000000</td>\n",
              "      <td>102.000000</td>\n",
              "      <td>102.000000</td>\n",
              "      <td>104.000000</td>\n",
              "      <td>97.000000</td>\n",
              "      <td>104.000000</td>\n",
              "    </tr>\n",
              "    <tr>\n",
              "      <th>25%</th>\n",
              "      <td>115.750000</td>\n",
              "      <td>123.000000</td>\n",
              "      <td>121.000000</td>\n",
              "      <td>125.000000</td>\n",
              "      <td>123.750000</td>\n",
              "      <td>122.000000</td>\n",
              "    </tr>\n",
              "    <tr>\n",
              "      <th>50%</th>\n",
              "      <td>121.000000</td>\n",
              "      <td>129.000000</td>\n",
              "      <td>128.000000</td>\n",
              "      <td>132.000000</td>\n",
              "      <td>129.000000</td>\n",
              "      <td>128.500000</td>\n",
              "    </tr>\n",
              "    <tr>\n",
              "      <th>75%</th>\n",
              "      <td>127.000000</td>\n",
              "      <td>137.000000</td>\n",
              "      <td>135.250000</td>\n",
              "      <td>139.000000</td>\n",
              "      <td>134.000000</td>\n",
              "      <td>135.000000</td>\n",
              "    </tr>\n",
              "    <tr>\n",
              "      <th>max</th>\n",
              "      <td>145.000000</td>\n",
              "      <td>160.000000</td>\n",
              "      <td>167.000000</td>\n",
              "      <td>165.000000</td>\n",
              "      <td>152.000000</td>\n",
              "      <td>155.000000</td>\n",
              "    </tr>\n",
              "  </tbody>\n",
              "</table>\n",
              "</div>\n",
              "      <button class=\"colab-df-convert\" onclick=\"convertToInteractive('df-8208a39e-18e6-4f7d-98d1-e7c716cdcb40')\"\n",
              "              title=\"Convert this dataframe to an interactive table.\"\n",
              "              style=\"display:none;\">\n",
              "        \n",
              "  <svg xmlns=\"http://www.w3.org/2000/svg\" height=\"24px\"viewBox=\"0 0 24 24\"\n",
              "       width=\"24px\">\n",
              "    <path d=\"M0 0h24v24H0V0z\" fill=\"none\"/>\n",
              "    <path d=\"M18.56 5.44l.94 2.06.94-2.06 2.06-.94-2.06-.94-.94-2.06-.94 2.06-2.06.94zm-11 1L8.5 8.5l.94-2.06 2.06-.94-2.06-.94L8.5 2.5l-.94 2.06-2.06.94zm10 10l.94 2.06.94-2.06 2.06-.94-2.06-.94-.94-2.06-.94 2.06-2.06.94z\"/><path d=\"M17.41 7.96l-1.37-1.37c-.4-.4-.92-.59-1.43-.59-.52 0-1.04.2-1.43.59L10.3 9.45l-7.72 7.72c-.78.78-.78 2.05 0 2.83L4 21.41c.39.39.9.59 1.41.59.51 0 1.02-.2 1.41-.59l7.78-7.78 2.81-2.81c.8-.78.8-2.07 0-2.86zM5.41 20L4 18.59l7.72-7.72 1.47 1.35L5.41 20z\"/>\n",
              "  </svg>\n",
              "      </button>\n",
              "      \n",
              "  <style>\n",
              "    .colab-df-container {\n",
              "      display:flex;\n",
              "      flex-wrap:wrap;\n",
              "      gap: 12px;\n",
              "    }\n",
              "\n",
              "    .colab-df-convert {\n",
              "      background-color: #E8F0FE;\n",
              "      border: none;\n",
              "      border-radius: 50%;\n",
              "      cursor: pointer;\n",
              "      display: none;\n",
              "      fill: #1967D2;\n",
              "      height: 32px;\n",
              "      padding: 0 0 0 0;\n",
              "      width: 32px;\n",
              "    }\n",
              "\n",
              "    .colab-df-convert:hover {\n",
              "      background-color: #E2EBFA;\n",
              "      box-shadow: 0px 1px 2px rgba(60, 64, 67, 0.3), 0px 1px 3px 1px rgba(60, 64, 67, 0.15);\n",
              "      fill: #174EA6;\n",
              "    }\n",
              "\n",
              "    [theme=dark] .colab-df-convert {\n",
              "      background-color: #3B4455;\n",
              "      fill: #D2E3FC;\n",
              "    }\n",
              "\n",
              "    [theme=dark] .colab-df-convert:hover {\n",
              "      background-color: #434B5C;\n",
              "      box-shadow: 0px 1px 3px 1px rgba(0, 0, 0, 0.15);\n",
              "      filter: drop-shadow(0px 1px 2px rgba(0, 0, 0, 0.3));\n",
              "      fill: #FFFFFF;\n",
              "    }\n",
              "  </style>\n",
              "\n",
              "      <script>\n",
              "        const buttonEl =\n",
              "          document.querySelector('#df-8208a39e-18e6-4f7d-98d1-e7c716cdcb40 button.colab-df-convert');\n",
              "        buttonEl.style.display =\n",
              "          google.colab.kernel.accessAllowed ? 'block' : 'none';\n",
              "\n",
              "        async function convertToInteractive(key) {\n",
              "          const element = document.querySelector('#df-8208a39e-18e6-4f7d-98d1-e7c716cdcb40');\n",
              "          const dataTable =\n",
              "            await google.colab.kernel.invokeFunction('convertToInteractive',\n",
              "                                                     [key], {});\n",
              "          if (!dataTable) return;\n",
              "\n",
              "          const docLinkHtml = 'Like what you see? Visit the ' +\n",
              "            '<a target=\"_blank\" href=https://colab.research.google.com/notebooks/data_table.ipynb>data table notebook</a>'\n",
              "            + ' to learn more about interactive tables.';\n",
              "          element.innerHTML = '';\n",
              "          dataTable['output_type'] = 'display_data';\n",
              "          await google.colab.output.renderOutput(dataTable, element);\n",
              "          const docLink = document.createElement('div');\n",
              "          docLink.innerHTML = docLinkHtml;\n",
              "          element.appendChild(docLink);\n",
              "        }\n",
              "      </script>\n",
              "    </div>\n",
              "  </div>\n",
              "  "
            ]
          },
          "metadata": {},
          "execution_count": 3
        }
      ]
    },
    {
      "cell_type": "code",
      "metadata": {
        "colab": {
          "base_uri": "https://localhost:8080/",
          "height": 265
        },
        "id": "GBuMS5wasZpb",
        "outputId": "65e05e49-5e35-4f88-e268-2554e2895820"
      },
      "source": [
        "histogram = df1['Hb1Bef'].plot.hist(bins=18)\n",
        "#how coarse is it"
      ],
      "execution_count": null,
      "outputs": [
        {
          "output_type": "display_data",
          "data": {
            "image/png": "[encoded data removed]",
            "text/plain": [
              "<Figure size 432x288 with 1 Axes>"
            ]
          },
          "metadata": {
            "needs_background": "light"
          }
        }
      ]
    },
    {
      "cell_type": "code",
      "metadata": {
        "colab": {
          "base_uri": "https://localhost:8080/",
          "height": 388
        },
        "id": "inn6ZeeAs0bw",
        "outputId": "487b4750-772d-4009-eeac-ffceb51b2040"
      },
      "source": [
        "import matplotlib.pyplot as plt\n",
        "\n",
        "plt.figure(figsize = (10, 6))\n",
        "plt.hist(df1['Hb1Bef'], bins = 20, ec='black')\n",
        "plt.xlabel('Hb level before')\n",
        "plt.ylabel('Frequence, Numer of patients')\n",
        "plt.show()"
      ],
      "execution_count": null,
      "outputs": [
        {
          "output_type": "display_data",
          "data": {
            "image/png": "[encoded data removed]",
            "text/plain": [
              "<Figure size 720x432 with 1 Axes>"
            ]
          },
          "metadata": {
            "tags": [],
            "needs_background": "light"
          }
        }
      ]
    },
    {
      "cell_type": "code",
      "metadata": {
        "colab": {
          "base_uri": "https://localhost:8080/",
          "height": 265
        },
        "id": "MRHcNkiOsoxQ",
        "outputId": "d84b4fe7-c957-4e9c-e593-c3fc254a9340"
      },
      "source": [
        "boxplot = df1.boxplot(column=['Hb1Bef'])"
      ],
      "execution_count": null,
      "outputs": [
        {
          "output_type": "display_data",
          "data": {
            "image/png": "[encoded data removed]",
            "text/plain": [
              "<Figure size 432x288 with 1 Axes>"
            ]
          },
          "metadata": {
            "tags": [],
            "needs_background": "light"
          }
        }
      ]
    },
    {
      "cell_type": "markdown",
      "metadata": {
        "id": "qbFBBORUizSJ"
      },
      "source": [
        "Для решения задачи необходимо выбрать соответствующий статистический критерий и сформулировать нулевую гипотезу.\n",
        "\n",
        "Применим одновыборочный t-критерия Стьюдента.\n",
        "Проверим нулевую гипотезу состоящую в том, что генеральное среднее равно заданному значению; в данном примере 130.\n",
        "\n",
        "**Вопрос для обсуждения**\n",
        "\n",
        "Для применения одновыборочного t-критерия Стьюдента необходимо, чтобы данные удовлетворяли определенным требованиям. Каким?"
      ]
    },
    {
      "cell_type": "markdown",
      "metadata": {
        "id": "8fIHMi59mvSi"
      },
      "source": [
        "###Шаг 3. Тесты на нормальность\n",
        "\n",
        "Существует множество статистических тестов, используемых для статистической проверки того, была ли данная выборка извлечена из нормально распределенной генеральной совокупности или нет.\n",
        "\n",
        "Каждый тест делает разные предположения и рассматривает разные аспекты данных. Мы рассмотрим три часто используемых теста.\n",
        "\n",
        "Прежде чем применять статистические тесты, необходимо знать, как интерпретировать результаты. Каждый тест вернет как минимум две величины:\n",
        "\n",
        "*  Статистика (statistic, float или array): величина, вычисляемая тестом, которую можно интерпретировать в контексте теста, сравнивая ее с критическими значениями из распределения статистики теста;\n",
        "*  p-значение (pvalue, float или array): вероятность получить для данной вероятностной модели распределения значений случайной величины такое же или более экстремальное (чем посчитанная statistic) значение статистики, при условии, что нулевая гипотеза верна.\n",
        "\n",
        "p-значение используется для интерпретации теста; в данном случае позволяет ответить на вопрос, была ли выборка взята из нормально распределенной генеральной совокупности."
      ]
    },
    {
      "cell_type": "markdown",
      "metadata": {
        "id": "1BjSzbYU1FEU"
      },
      "source": [
        "Критерий Шапиро-Уилка\n",
        "\n",
        "https://docs.scipy.org/doc/scipy/reference/generated/scipy.stats.shapiro.html\n",
        "\n",
        "\n",
        "Поскольку p-value больше уровня значимости $\\alpha = 0.05,$ нет оснваний отвергнуть нулевую гипотезу о нормальности. Считаем данными нормально распределеными."
      ]
    },
    {
      "cell_type": "code",
      "metadata": {
        "id": "G9cP15SemZLt",
        "colab": {
          "base_uri": "https://localhost:8080/"
        },
        "outputId": "b7b42f9b-9742-4fac-fe3e-4b8212c17e4f"
      },
      "source": [
        "shapiro_test = stats.shapiro(df1['Hb1Bef'])\n",
        "print(shapiro_test)"
      ],
      "execution_count": null,
      "outputs": [
        {
          "output_type": "stream",
          "text": [
            "(0.9945846199989319, 0.688219428062439)\n"
          ],
          "name": "stdout"
        }
      ]
    },
    {
      "cell_type": "markdown",
      "metadata": {
        "id": "rpJ5sQ_nxRIW"
      },
      "source": [
        "Проверим нормальность данных во всех столбцах, чтобы не возвращаться к этому вопросу в дальнейшем."
      ]
    },
    {
      "cell_type": "code",
      "metadata": {
        "colab": {
          "base_uri": "https://localhost:8080/"
        },
        "id": "wOnKipFBuuX8",
        "outputId": "a6f5e4af-1c96-4a89-8a65-cabca9efce51"
      },
      "source": [
        "for column in df1:\n",
        "    shapiro_test = stats.shapiro(df1[column])\n",
        "    print(shapiro_test[1])"
      ],
      "execution_count": null,
      "outputs": [
        {
          "output_type": "stream",
          "text": [
            "0.688219428062439\n",
            "0.8150795102119446\n",
            "0.10010725259780884\n",
            "0.3508819043636322\n",
            "0.1274675577878952\n",
            "0.4743872284889221\n"
          ],
          "name": "stdout"
        }
      ]
    },
    {
      "cell_type": "code",
      "metadata": {
        "colab": {
          "base_uri": "https://localhost:8080/"
        },
        "id": "QTu39uMdz1Hg",
        "outputId": "401f2477-229b-42d1-a07a-220318d1d118"
      },
      "source": [
        "stats.ttest_1samp(df1['Hb1Bef'], 130)"
      ],
      "execution_count": null,
      "outputs": [
        {
          "output_type": "execute_result",
          "data": {
            "text/plain": [
              "Ttest_1sampResult(statistic=-13.89091618413475, pvalue=4.094988734053972e-31)"
            ]
          },
          "metadata": {
            "tags": []
          },
          "execution_count": 25
        }
      ]
    },
    {
      "cell_type": "markdown",
      "metadata": {
        "id": "s7YHVpTCpdwz"
      },
      "source": [
        "4.09 * 10^(-31)\n",
        "0.000000000000000000000000000000000000000409"
      ]
    },
    {
      "cell_type": "markdown",
      "metadata": {
        "id": "meTBlpST1IiB"
      },
      "source": [
        "**Задание для самостоятельной работы**\n",
        "\n",
        "Считая нижней границей нормы уровень 130 гр/литр крови, определить, не снижен ли уровень гемоглобина у рабочих второго и третьего предприятий."
      ]
    },
    {
      "cell_type": "markdown",
      "metadata": {
        "id": "VmKYqXX81nH3"
      },
      "source": [
        "# Задача 2\n",
        "\n",
        "Предприятия №1 и №2 расположены в одном городе, а потому влияние климатических факторов исключено. Определеить, значимо ли отличие в уровне гемоглобина у рабочих первого и второго предприятий на момент госпитализации\n"
      ]
    },
    {
      "cell_type": "code",
      "metadata": {
        "colab": {
          "base_uri": "https://localhost:8080/",
          "height": 265
        },
        "id": "smVsMNRx0XSV",
        "outputId": "10786ccf-5b0b-45a1-bc3f-0f5c177bb23a"
      },
      "source": [
        "histogram = df1[['Hb1Bef', 'Hb2Bef']].plot.hist(bins=20, alpha = 0.5)"
      ],
      "execution_count": null,
      "outputs": [
        {
          "output_type": "display_data",
          "data": {
            "image/png": "[encoded data removed]",
            "text/plain": [
              "<Figure size 432x288 with 1 Axes>"
            ]
          },
          "metadata": {
            "needs_background": "light"
          }
        }
      ]
    },
    {
      "cell_type": "code",
      "metadata": {
        "colab": {
          "base_uri": "https://localhost:8080/",
          "height": 268
        },
        "id": "sgy9_LLv2rF2",
        "outputId": "1f3bef79-740b-4c7a-a14a-d5e69b934285"
      },
      "source": [
        "boxplot = df1.boxplot(column=['Hb1Bef', 'Hb2Bef'])"
      ],
      "execution_count": null,
      "outputs": [
        {
          "output_type": "display_data",
          "data": {
            "image/png": "[encoded data removed]",
            "text/plain": [
              "<Figure size 432x288 with 1 Axes>"
            ]
          },
          "metadata": {
            "tags": [],
            "needs_background": "light"
          }
        }
      ]
    },
    {
      "cell_type": "markdown",
      "metadata": {
        "id": "XasMrdCU3h3D"
      },
      "source": [
        "Используем t-тест Стьюдента для сравнения средних в двух независимых группах. Поскольку p-value меньше уровня значимости 𝛼=0.05, нулевую гипотезу отвергаем как противоречащую экспериментальным данным.\n",
        "\n",
        "https://docs.scipy.org/doc/scipy/reference/generated/scipy.stats.ttest_ind.html\n",
        "\n",
        "Вывод: на момент госпитализации уровень гемоглобина у рабочих первого предприятия статистически значимо ниже, чем у рабочих второго предприятия."
      ]
    },
    {
      "cell_type": "code",
      "metadata": {
        "colab": {
          "base_uri": "https://localhost:8080/"
        },
        "id": "7wwnbghh3Cci",
        "outputId": "181a7d7b-5755-48c9-e19d-b19e803c42ca"
      },
      "source": [
        "stats.ttest_ind(df1['Hb1Bef'], df1['Hb2Bef'])"
      ],
      "execution_count": null,
      "outputs": [
        {
          "output_type": "execute_result",
          "data": {
            "text/plain": [
              "Ttest_indResult(statistic=-7.065373273996594, pvalue=7.208812496615759e-12)"
            ]
          },
          "metadata": {},
          "execution_count": 5
        }
      ]
    },
    {
      "cell_type": "markdown",
      "metadata": {
        "id": "KubIVrCP4JJB"
      },
      "source": [
        "**Задание для самостоятельной работы**\n",
        "\n",
        "Определеить, значимо ли отличие в уровне гемоглобина у рабочих предприятий №2 и №3 на момент госпитализации.\n",
        "\n",
        "\n"
      ]
    },
    {
      "cell_type": "markdown",
      "metadata": {
        "id": "sSBGER944HId"
      },
      "source": [
        "# Задача 3\n",
        "\n",
        "После проходждения обследования и лечения в течение 14 дней рабочих выписывали. В рамках проводимых клинических испытаний у рабочих каждого предприятия применяли свой (различный) метод лечения.\n",
        "\n",
        "Определить, эффективно ли прошло лечение в группе рабочих первого предприятия. То есть, значимо ли отличие в уровне гемоглобина у рабочих первого предприятия на момент госпитализации и на момент выписки.\n"
      ]
    },
    {
      "cell_type": "code",
      "metadata": {
        "colab": {
          "base_uri": "https://localhost:8080/",
          "height": 265
        },
        "id": "e4nDR5Ev3cCz",
        "outputId": "a29a03d3-71f6-48c4-9080-d8c1dd408c89"
      },
      "source": [
        "histogram = df1[['Hb1Bef', 'Hb1Aft']].plot.hist(bins=20, alpha = 0.5)"
      ],
      "execution_count": null,
      "outputs": [
        {
          "output_type": "display_data",
          "data": {
            "image/png": "[encoded data removed]",
            "text/plain": [
              "<Figure size 432x288 with 1 Axes>"
            ]
          },
          "metadata": {
            "tags": [],
            "needs_background": "light"
          }
        }
      ]
    },
    {
      "cell_type": "code",
      "metadata": {
        "colab": {
          "base_uri": "https://localhost:8080/",
          "height": 265
        },
        "id": "vmMLSQaJ5VhE",
        "outputId": "0eeda62f-5760-4532-b41a-f1505e1ce210"
      },
      "source": [
        "boxplot = df1.boxplot(column=['Hb1Bef', 'Hb1Aft'])"
      ],
      "execution_count": null,
      "outputs": [
        {
          "output_type": "display_data",
          "data": {
            "image/png": "[encoded data removed]",
            "text/plain": [
              "<Figure size 432x288 with 1 Axes>"
            ]
          },
          "metadata": {
            "tags": [],
            "needs_background": "light"
          }
        }
      ]
    },
    {
      "cell_type": "markdown",
      "metadata": {
        "id": "0oKTLjaU5oSZ"
      },
      "source": [
        "Используем t-тест Стьюдента для сравнения средних в двух зависимых группах (парные наблюдения). Поскольку p-value меньше уровня значимости 𝛼=0.05, нулевую гипотезу отвергаем как противоречащую экспериментальным данным.\n",
        "\n",
        "https://docs.scipy.org/doc/scipy/reference/generated/scipy.stats.ttest_rel.html\n",
        "\n",
        "Вывод: лечение прошло эффективно в группе рабочих первого предприятия. То есть, отличие в уровне гемоглобина у рабочих первого предприятия на момент госпитализации и на момент выписки статистически значимо."
      ]
    },
    {
      "cell_type": "code",
      "metadata": {
        "colab": {
          "base_uri": "https://localhost:8080/"
        },
        "id": "FcJvUBex5c-t",
        "outputId": "a4cfb07b-3eb6-4347-ac80-ed15084074b3"
      },
      "source": [
        "stats.ttest_rel(df1['Hb1Bef'], df1['Hb1Aft'])"
      ],
      "execution_count": null,
      "outputs": [
        {
          "output_type": "execute_result",
          "data": {
            "text/plain": [
              "Ttest_relResult(statistic=-8.938391001537303, pvalue=2.7086764954838806e-16)"
            ]
          },
          "metadata": {
            "tags": []
          },
          "execution_count": 34
        }
      ]
    },
    {
      "cell_type": "markdown",
      "source": [
        "**Обсуждение**. Действительно ли важно различать парные и независимые t-тесты?\n",
        "\n",
        "Чтобы ответить на этот вопрос, рассмотрим очень простой пример."
      ],
      "metadata": {
        "id": "z2HInzx2HKHI"
      }
    },
    {
      "cell_type": "code",
      "source": [
        "from scipy.stats import norm\n",
        "from matplotlib import pyplot\n",
        "from scipy import stats\n",
        "\n",
        "\n",
        "sampleBef = norm.rvs(size=100, loc = 100, scale=20, random_state=1)\n",
        "sampleAft = sampleBef + norm.rvs(size=100, loc = 1, scale=1, random_state=1)\n",
        "#sampleAft = sampleBef + 1\n",
        "\n",
        "print(stats.ttest_ind(sampleBef, sampleAft))\n",
        "print(stats.ttest_rel(sampleBef, sampleAft))"
      ],
      "metadata": {
        "colab": {
          "base_uri": "https://localhost:8080/"
        },
        "id": "L5pfpwCtCfCR",
        "outputId": "d80451d8-e0cd-4fab-9e4c-00a920f816e9"
      },
      "execution_count": null,
      "outputs": [
        {
          "output_type": "stream",
          "name": "stdout",
          "text": [
            "Ttest_indResult(statistic=-0.4110969719968425, pvalue=0.681446019687771)\n",
            "TtestResult(statistic=-11.92181218790844, pvalue=7.540551487072705e-21, df=99)\n"
          ]
        }
      ]
    },
    {
      "cell_type": "code",
      "source": [
        "print(sum(sampleAft - sampleBef) / 100)"
      ],
      "metadata": {
        "colab": {
          "base_uri": "https://localhost:8080/"
        },
        "id": "FYGGP4HBjqTi",
        "outputId": "b19467f9-6956-4442-9241-f9a6798030a3"
      },
      "execution_count": null,
      "outputs": [
        {
          "output_type": "stream",
          "name": "stdout",
          "text": [
            "1.0605828520756984\n"
          ]
        }
      ]
    },
    {
      "cell_type": "markdown",
      "metadata": {
        "id": "_xfkBVx46l5q"
      },
      "source": [
        "**Задание для самостоятельной работы**\n",
        "\n",
        "Определеить, эффективно ли прошло лечение в группе рабочих предприятиий №2 и №3. То есть, значимо ли отличие в уровне гемоглобина на момент госпитализации и на момент выписки.\n"
      ]
    },
    {
      "cell_type": "markdown",
      "metadata": {
        "id": "EmnnMElp7sKX"
      },
      "source": [
        "# Задача 4\n",
        "\n",
        "\n",
        "Определеить, значимо ли отличие в уровне гемоглобина у рабочих первого, второго и третьего предприятий на момент госпитализации. Использовать Однофакторный дисперсионный анализ."
      ]
    },
    {
      "cell_type": "markdown",
      "metadata": {
        "id": "y9T3mO6ODB9E"
      },
      "source": [
        "Однофакторный дисперсионный анализ (англ. One way ANOVA) проверяет нулевую гипотезу о том, что две или более групп имеют одинаковое среднее значение. Тест применяется к выборкам, возможно, разного размера."
      ]
    },
    {
      "cell_type": "code",
      "metadata": {
        "colab": {
          "base_uri": "https://localhost:8080/"
        },
        "id": "H4ISYLW57NE-",
        "outputId": "924b0a6b-eb98-49de-d608-57ad3911cb6b"
      },
      "source": [
        "from scipy.stats import f_oneway\n",
        "\n",
        "f_oneway(df1['Hb1Bef'], df1['Hb2Bef'], df1['Hb3Bef'])"
      ],
      "execution_count": null,
      "outputs": [
        {
          "output_type": "execute_result",
          "data": {
            "text/plain": [
              "F_onewayResult(statistic=39.10506941909032, pvalue=1.0985246015570126e-16)"
            ]
          },
          "metadata": {
            "tags": []
          },
          "execution_count": 3
        }
      ]
    },
    {
      "cell_type": "markdown",
      "metadata": {
        "id": "nfeXbIGXCUPs"
      },
      "source": [
        "Вывод: на момент госпитализации уровени гемоглобина у рабочих статистически значимо различаются."
      ]
    },
    {
      "cell_type": "markdown",
      "metadata": {
        "id": "ytYLmIPDCjpG"
      },
      "source": [
        "**Задание для самостоятельной работы**\n",
        "\n",
        "Определеить, значимо ли отличие в уровне гемоглобина у рабочих первого, второго и третьего предприятий на момент выписки. Использовать Однофакторный дисперсионный анализ."
      ]
    },
    {
      "cell_type": "code",
      "source": [
        "#import pandas as np\n",
        "#from scipy import stats\n",
        "x = np.Series([624, 598, 609, 592, 588, 578, 598, 604, 616, 628, 634, 605, 590, 628, 632, 584, 627, 612, 606, 620, 641, 585, 641, 637, 648])\n",
        "print(x.describe())\n",
        "print(13/ (20.5/ 5))"
      ],
      "metadata": {
        "colab": {
          "base_uri": "https://localhost:8080/"
        },
        "id": "da5IHh9CjNcd",
        "outputId": "42056809-8201-4db8-d74c-945f7aded93a"
      },
      "execution_count": null,
      "outputs": [
        {
          "output_type": "stream",
          "name": "stdout",
          "text": [
            "count     25.000000\n",
            "mean     613.000000\n",
            "std       20.516254\n",
            "min      578.000000\n",
            "25%      598.000000\n",
            "50%      612.000000\n",
            "75%      628.000000\n",
            "max      648.000000\n",
            "dtype: float64\n",
            "3.1707317073170733\n"
          ]
        }
      ]
    },
    {
      "cell_type": "code",
      "source": [
        "from scipy.stats import norm\n",
        "\n",
        "alpha = 0.05\n",
        "print(norm.ppf(1 - alpha/2)) #ppf(q, loc=0, scale=1) Percent point function (inverse of cdf — percentiles).\n",
        "2*(1- norm.cdf(3.17073))"
      ],
      "metadata": {
        "colab": {
          "base_uri": "https://localhost:8080/"
        },
        "id": "AAvbhGRqlxRH",
        "outputId": "761c38d6-bd27-4ebe-c7cb-17abb9005f0f"
      },
      "execution_count": null,
      "outputs": [
        {
          "output_type": "stream",
          "name": "stdout",
          "text": [
            "1.959963984540054\n"
          ]
        },
        {
          "output_type": "execute_result",
          "data": {
            "text/plain": [
              "0.0015205640402902176"
            ]
          },
          "metadata": {},
          "execution_count": 15
        }
      ]
    }
  ]
}