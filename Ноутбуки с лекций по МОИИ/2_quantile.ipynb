{
  "nbformat": 4,
  "nbformat_minor": 0,
  "metadata": {
    "colab": {
      "provenance": []
    },
    "kernelspec": {
      "name": "python3",
      "display_name": "Python 3"
    },
    "language_info": {
      "name": "python"
    }
  },
  "cells": [
    {
      "cell_type": "markdown",
      "source": [
        "**Цель**. Вспомнить понятие \"квантиль\" и проиллюстрировать его на примерах.\n",
        "\n",
        "Квантиль в математической статистике --- значение, которое заданная случайная величина не превышает с фиксированной вероятностью.\n",
        "\n",
        "Например, фраза \"90-й процентиль массы тела у новорожденных мальчиков составляет 4 кг\" означает, что 90\\% мальчиков рождаются с весом, меньшим либо равным 4 кг, а 10\\% мальчиков рождаются с весом, большим либо равным 4 кг.\n",
        "\n",
        "Рассмотрим вероятностное пространство \n",
        "$(\\Omega ,\\;{\\mathcal {F}},\\;\\mathbb {P} ),$ на котором задана случайная величина $X$. Пусть фиксировано $\\alpha \\in (0,\\;1).$ Тогда $\\alpha$-квантилем (или квантилем уровня $\\alpha$) распределения $\\mathbb {P}^{X}$ называется число $x_{\\alpha }\\in \\mathbb{R}$, такое что\n",
        "\n",
        "\n",
        "$$\\mathbb {P} (X\\leqslant x_{\\alpha })\\leqslant \\alpha,$$\n",
        "$$\\mathbb {P} (X\\geqslant x_{\\alpha })\\geqslant 1-\\alpha.$$"
      ],
      "metadata": {
        "id": "vWID4DD5OcFm"
      }
    },
    {
      "cell_type": "code",
      "source": [
        "import numpy as np\n",
        "from scipy.stats import norm\n",
        "import matplotlib.pyplot as plt\n",
        "\n",
        "x = np.linspace(-4, 4, 200)\n",
        "f = norm.pdf(x)\n",
        "plt.plot(x, f, 'r-', lw=2, alpha=0.6, label='norm pdf')\n",
        "#plt.fill_between(x, f, where=(x < 1.96))"
      ],
      "metadata": {
        "colab": {
          "base_uri": "https://localhost:8080/",
          "height": 283
        },
        "id": "aZkx7-4WMd1K",
        "outputId": "0540c7ff-8147-41ad-cbd8-98b5db981c5f"
      },
      "execution_count": null,
      "outputs": [
        {
          "output_type": "execute_result",
          "data": {
            "text/plain": [
              "<matplotlib.collections.PolyCollection at 0x7f6cf575ca60>"
            ]
          },
          "metadata": {},
          "execution_count": 9
        },
        {
          "output_type": "display_data",
          "data": {
            "text/plain": [
              "<Figure size 432x288 with 1 Axes>"
            ],
            "image/png": "[encoded data removed]"
          },
          "metadata": {
            "needs_background": "light"
          }
        }
      ]
    },
    {
      "cell_type": "code",
      "source": [
        "f = norm.cdf(x)\n",
        "plt.plot(x, f, 'r-', lw=2, alpha=0.6, label='norm pdf')\n",
        "print(norm.cdf(1.96))"
      ],
      "metadata": {
        "colab": {
          "base_uri": "https://localhost:8080/",
          "height": 283
        },
        "id": "O0zn_cWZP4F_",
        "outputId": "02c7dd24-bdcc-4c85-b87c-ca387ef177ae"
      },
      "execution_count": null,
      "outputs": [
        {
          "output_type": "stream",
          "name": "stdout",
          "text": [
            "0.9750021048517795\n"
          ]
        },
        {
          "output_type": "display_data",
          "data": {
            "text/plain": [
              "<Figure size 432x288 with 1 Axes>"
            ],
            "image/png": "[encoded data removed]"
          },
          "metadata": {
            "needs_background": "light"
          }
        }
      ]
    },
    {
      "cell_type": "markdown",
      "source": [
        "**Задание 1**. Найти 0.975 квантиль стандартного нормального распределения.\n",
        "\n",
        "Рассмотрим стандартную нормальную случайную величину $X$. Требуется найти такое число $x_{0.975}$, что с вероятностью 0.975 случайная велчина $X$ примет значение меньшее, чем $x_{0.975}$.\n",
        "\n",
        "Иными словами требуется решить неравенство\n",
        "$$\\mathbb {P} (X\\leqslant x_{0.975}) = {0.975}.$$\n",
        "\n",
        "Найдите 0.025 квантиль стандартного нормального распределения. Сравните ее с найденной 0.975 квантилью, объясните результаты сравнения."
      ],
      "metadata": {
        "id": "EkA7GR56Qr24"
      }
    },
    {
      "cell_type": "code",
      "execution_count": null,
      "metadata": {
        "colab": {
          "base_uri": "https://localhost:8080/"
        },
        "id": "q8OXbqzBLr9C",
        "outputId": "94e57d40-d902-47ec-f8f3-0dca7772921a"
      },
      "outputs": [
        {
          "output_type": "stream",
          "name": "stdout",
          "text": [
            "1.959963984540054\n"
          ]
        }
      ],
      "source": [
        "from scipy.stats import norm\n",
        "\n",
        "#https://docs.scipy.org/doc/scipy/reference/generated/scipy.stats.norm.html\n",
        "\n",
        "alpha = 0.975\n",
        "print(norm.ppf(alpha)) #ppf(q, loc=0, scale=1) Percent point function (inverse of cdf — percentiles).\n"
      ]
    },
    {
      "cell_type": "markdown",
      "source": [
        "**Задание 2**. Найти доверительный интервал для оценки с надежностью P=0,95 неизвестного математического ожидания $m$ нормально распределенной генеральной совокупности $X$, если даны генеральное среднее квадратическое отклонение $\\sigma=5$, выборочная средняя $\\overline{X}= 15$, а объем выборки $n=25$."
      ],
      "metadata": {
        "id": "mt-zXQ26Mxhx"
      }
    },
    {
      "cell_type": "markdown",
      "source": [
        "**Теоретический блок**\n",
        "\n",
        "Пусть $X_1,\\ldots, X_n$ --- случайная выборка из нормально распределенной генеральной совокупности $X  \\sim \\mathrm {N} (m ,\\sigma^2)$, где $\\sigma ^2$ --- известная дисперсия.\n",
        "\n",
        "Определим произвольное $\\gamma \\in (0,1)$ и построим доверительный интервал для неизвестного среднего $m$.\n",
        "\n",
        "Случайная величина\n",
        "$$\n",
        "Z=\\frac {\\bar {X}-m}{\\sigma/\\sqrt{n}}\n",
        "$$\n",
        "имеет стандартное нормальное распределение $\\mathrm {N} (0,1).$\n",
        "\n",
        "Пусть $z_{\\frac{1+\\gamma}2}$ $-$ это $\\frac{1+\\gamma}2$-квантиль стандартного нормального распределения, тогда в силу симметрии имеем:\n",
        "\n",
        "$$\\mathbb {P} \\left(-z_{\\frac{1+\\gamma}2}\\leq Z\\leq z_{\\frac{1+\\gamma}2}\\right)=\\gamma.$$\n",
        "\n",
        "После подстановки выражения для $Z$ получаем:\n",
        "\n",
        "$$\\mathbb {P}\\left({\\bar {X}}-z_{\\frac{1+\\gamma}2}{\\frac {\\sigma }{\\sqrt {n}}}\\leq m \\leq {\\bar {X}}+z_{\\frac{1+\\gamma}2}{\\frac {\\sigma }{\\sqrt {n}}}\\right)=\\gamma.$$"
      ],
      "metadata": {
        "id": "Ekz058fQN2Bj"
      }
    },
    {
      "cell_type": "code",
      "source": [
        "from scipy.stats import norm\n",
        "gamma = 0.95\n",
        "xBar = 15\n",
        "std = 5\n",
        "n = 25\n",
        "quant = norm.ppf((1+gamma)/2)\n",
        "\n",
        "low = xBar - quant * std/n**0.5\n",
        "up  = xBar + quant * std/n**0.5\n",
        "print('quant = ', quant)\n",
        "print(low, up)"
      ],
      "metadata": {
        "colab": {
          "base_uri": "https://localhost:8080/"
        },
        "id": "FIAPBURBsT7z",
        "outputId": "bf555ba0-8e37-45a7-b54d-f1cbf02927f3"
      },
      "execution_count": null,
      "outputs": [
        {
          "output_type": "stream",
          "name": "stdout",
          "text": [
            "13.040036015459947 16.959963984540053\n"
          ]
        }
      ]
    },
    {
      "cell_type": "markdown",
      "source": [
        "**Задание 3**. Найти доверительный интервал для оценки с надежностью P=0,95 неизвестного математического ожидания $m$ нормально распределенной генеральной совокупности $X$, если известно выборочное среднее квадратическое отклонение $S=5$, выборочная средняя $\\overline{X}= 15$, а объем выборки $n=25$.\n",
        "\n",
        "Сравните 0.95 квантиль нормального распределения и распределения Стьюдента, прокомментируйте результаты сравнения. "
      ],
      "metadata": {
        "id": "RTPNgDH5VPEy"
      }
    },
    {
      "cell_type": "code",
      "source": [
        "from scipy.stats import t\n",
        "\n",
        "gamma = 0.95\n",
        "xBar = 15\n",
        "S = 5\n",
        "n = 25\n",
        "quant = t.ppf((1 + gamma)/2, n - 1)\n",
        "\n",
        "low = xBar - quant * S/n**0.5\n",
        "up  = xBar + quant * S/n**0.5\n",
        "print('quant = ', quant)\n",
        "print(low, up)"
      ],
      "metadata": {
        "colab": {
          "base_uri": "https://localhost:8080/"
        },
        "id": "lVPqCCVbMB8B",
        "outputId": "3f0ca8b2-d0a0-48f2-dac1-641da90cf059"
      },
      "execution_count": null,
      "outputs": [
        {
          "output_type": "stream",
          "name": "stdout",
          "text": [
            "quant =  2.0638985616280205\n",
            "12.93610143837198 17.063898561628022\n"
          ]
        }
      ]
    }
  ]
}