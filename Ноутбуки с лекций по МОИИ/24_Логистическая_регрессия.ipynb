{
  "nbformat": 4,
  "nbformat_minor": 0,
  "metadata": {
    "colab": {
      "name": "5_logistic_regression.ipynb",
      "provenance": [],
      "collapsed_sections": [
        "WyDcma0_o1bF",
        "6xhQu3Ww9umH"
      ]
    },
    "kernelspec": {
      "name": "python3",
      "display_name": "Python 3"
    }
  },
  "cells": [
    {
      "cell_type": "markdown",
      "metadata": {
        "id": "-qfXmsoimHA3"
      },
      "source": [
        "Логистическая регрессия или логит-модель — это статистическая модель, используемая для прогнозирования вероятности возникновения некоторого события путем его сравнения с логистической кривой. Эта регреcсия дает ответ в виде вероятности бинарного события.\n",
        "\n",
        "После изучения этого урока вы будете знать:\n",
        "*  почему линейная регрессия не всегда способна качественно описать и предсказывать значения зависимой переменной;\n",
        "*  что такое логистическая регрессия;\n",
        "*  какие пакеты позволяют строить и исследовать регрессионные модели;\n",
        "*  как интерпретировать результаты, полученные при построении логистической регрессии."
      ]
    },
    {
      "cell_type": "markdown",
      "metadata": {
        "id": "WyDcma0_o1bF"
      },
      "source": [
        "#Теоретический блок\n",
        "\n",
        "Линейная регрессия не всегда способна качественно описать и предсказывать значения зависимой переменной. Выбирая для построения модели линейное уравнение, мы естественным образом не накладываем никаких ограничений на значения зависимой переменной, однако эти ограничения могут быть существенными. Как следствие, линейная регрессионная модель может дать бессмысленные результаты. \n",
        "\n",
        "**Пример**\n",
        "\n",
        "Проводится трансплантация почки, требуется оценить вероятность гибели почки в течениее одного года после операции (например, в результате отторжения, ишемии или гибели пациента). Данная операция имеет лишь два возможных исхода: почка функционирует или погибла.\n",
        "\n",
        "В качестве предикторов исхода трансплантации используется ряд факторов: возраст донора и реципиента, время тепловой и холодовой ишемии почки, длительность пребывания донора в реанимации и т. д.  Если строить модель в классе линейных, т. е. вида $p = a_1 x_1 + a_2 x_2 + \\ldots + a_m x_m +a_0,$  где $p$ --- это вероятность гибели почки в течение года после операции, $x_i, i=1, 2, \\ldots,m$  ---  это предикторы исхода, $a_i, i=0, 2, \\ldots,m$  соответствующие коэффициенты, то при определенных значениях предикторов вероятность, вычисляемая подобным образом, будет либо отрицательной,  больше единицы, что невозможно по определению.\n",
        "\n",
        "С целью решения данных проблем рассматривают иной класс уравнения регрессии. Именно, пусть  $p$ --- это вероятность прогнозируемого события, $x_i, i=1, 2, \\ldots,m$  ---  это предикторы исхода, $a_i, i=0, 2, \\ldots,m$  соответствующие коэффициенты. Введем в рассмотрение ненаблюдаемую величину $$y = a_1 x_1 + a_2 x_2 + \\ldots + a_m x_m +a_0,$$ которую будем трактовать как \"направленность\" к событию; чем больше $y,$ тем больше вероятность события. При этом мы не накладываем ограничений на $y,$ которая может принимать значения вне интервала $[0; 1]$ . Вероятность $p$  будем оценивать следующим образом\n",
        "$$p = \\frac{e^y}{1 + e^y}.$$\n",
        "Справедливы следующие соотношения $p\\rightarrow 1$  при $y\\rightarrow  +\\infty$ и  $p\\rightarrow 0$  при $y\\rightarrow  -\\infty.$ \n",
        "\n",
        "\n",
        "Вообще, логит регрессионная модель предназначена для решения задач предсказания значения непрерывной зависимой переменной, при условии, что эта зависимая переменная может принимать значения на интервале от 0 до 1.\n",
        "В силу такой специфики, ее часто используют для предсказания вероятности наступления некоторого события в зависимости от значений некоторого числа предикторов."
      ]
    },
    {
      "cell_type": "markdown",
      "metadata": {
        "id": "2ukyZrn74ThM"
      },
      "source": [
        "# Задача 1\n",
        "\n",
        "Явно заданы массивы значения предиктора x и зависимой велчины (регрессора) y:\n",
        "\n",
        "x = [0, 1, 2, 3, 4, 5, 6, 7, 8, 9]\n",
        "\n",
        "y = [0, 0, 0, 0, 1, 1, 1, 1, 1, 1]\n",
        "\n",
        "Построить логистическую регрессию: $$z = b_0 + b_1  x,$$\n",
        "$$y = \\frac{e^z}{1 + e^z}.$$"
      ]
    },
    {
      "cell_type": "markdown",
      "metadata": {
        "id": "bP3fsBTi8dKw"
      },
      "source": [
        "Данная задача по сути является задачей двоичной классификации на основании наблюдений за одной переменной. Это наиболее простой вид классификационной задачи.\n",
        "\n",
        "При подготовке моделей классификации вы должны предпринять несколько общих шагов:\n",
        "* импортировать пакеты, функции и классы;\n",
        "* ролучить данные для работы и, при необходимости, трансформировать их;\n",
        "* выписать регрессионную модель (модель классификации) и идентифицировать параметры модели в соответствии  с существующими данными. Данный шаг называется также \"тренировкой модели\" или \"подогонкой моедли\";\n",
        "* оценитть модель, чтобы убедиться, что ее точность удовлетворительна.\n",
        "\n",
        "Достаточно хорошая модель может использоваться для дальнейших прогнозов, связанных с новыми данными."
      ]
    },
    {
      "cell_type": "markdown",
      "metadata": {
        "id": "6xhQu3Ww9umH"
      },
      "source": [
        "### Шаг 1\n",
        "Начать надо с подключения нужных пакетов.\n",
        "\n",
        "Пакет scikit-learn - это широко используемая библиотека Python для машинного обучения, построенная на основе NumPy и некоторых других пакетов. Пакет scikit-learn предоставляет средства для предварительной обработки данных, построения регрессии, а так же уменьшения размерности, классификации, кластеризации и многого другого. Пакет scikit-learn имеет открытый исходный код.\n",
        "\n",
        "Узнать подробнее о логистической регрессии можно на странице https://scikit-learn.org/stable/modules/generated/sklearn.linear_model.LogisticRegression.html."
      ]
    },
    {
      "cell_type": "markdown",
      "metadata": {
        "id": "36lZrrcf-V25"
      },
      "source": [
        "### Шаг 2\n",
        "\n",
        "На практике обычно есть какие-то исходные данные для анализа. Для целей этого примера  просто создадим массивы для входных $x$ и выходных $y$ значений."
      ]
    },
    {
      "cell_type": "code",
      "metadata": {
        "id": "AUMIZ1aj7T7M",
        "colab": {
          "base_uri": "https://localhost:8080/"
        },
        "outputId": "a1049b1e-3dff-4305-bd8f-ca29b14e91b0"
      },
      "source": [
        "import numpy as np\n",
        "from sklearn.linear_model import LogisticRegression\n",
        "from sklearn.metrics import classification_report, confusion_matrix\n",
        "import matplotlib.pyplot as plt\n",
        "\n",
        "x = np.arange(10).reshape(-1, 1)\n",
        "y = np.array([0, 0, 0, 0, 1, 1, 1, 1, 1, 1])\n",
        "print(x)"
      ],
      "execution_count": null,
      "outputs": [
        {
          "output_type": "stream",
          "name": "stdout",
          "text": [
            "[[0]\n",
            " [1]\n",
            " [2]\n",
            " [3]\n",
            " [4]\n",
            " [5]\n",
            " [6]\n",
            " [7]\n",
            " [8]\n",
            " [9]]\n"
          ]
        }
      ]
    },
    {
      "cell_type": "markdown",
      "metadata": {
        "id": "sj1o42ve-s1N"
      },
      "source": [
        "Необходимо вызвать .reshape() для x, потому что этот массив должен быть двумерным, или, если быть более точным, иметь один столбец и столько строк, сколько необходимо. Это может показаться странным при построении *парной* линейной регресии; однако, при построении *множественной* линейной регресии станет очевидно, что данный подход удобен и оправдан."
      ]
    },
    {
      "cell_type": "markdown",
      "metadata": {
        "id": "Obp4I5gRauzh"
      },
      "source": [
        "### Шаг 3\n",
        "\n",
        "Следующим шагом является создание модели логистической регрессии и ее подгонка (англ. fit) к существующим данным.\n",
        "\n",
        "Создадим модель как экземпляр LinearRegression. Можно предать LinearRegression несколько дополнительных параметров:\n",
        "*  fit_intercept\n",
        "*  n_jobs\n",
        "*  penalty\n",
        "*  C\n",
        "В этом примере используются значения по умолчанию для всех параметров.\n",
        "\n",
        "После того как модель создана, нужно идентифицировать ее параметры (подогнать ее или обучить). Подгонка модели - это процесс определения коэффициентов $b_0, b_1,...,b_m.$ Погонка модели выполняется с помощью метода .fit ():"
      ]
    },
    {
      "cell_type": "code",
      "metadata": {
        "colab": {
          "base_uri": "https://localhost:8080/"
        },
        "id": "Osz1or8j-uH9",
        "outputId": "e18aac84-55ef-4564-fd7d-53fcb03ce6fd"
      },
      "source": [
        "model = LogisticRegression(solver='liblinear', random_state=0)\n",
        "model.fit(x, y)"
      ],
      "execution_count": null,
      "outputs": [
        {
          "output_type": "execute_result",
          "data": {
            "text/plain": [
              "LogisticRegression(random_state=0, solver='liblinear')"
            ]
          },
          "metadata": {},
          "execution_count": 2
        }
      ]
    },
    {
      "cell_type": "markdown",
      "metadata": {
        "id": "S5QwDbp6fLTz"
      },
      "source": [
        "На этом этапе определена модель классификации.\n",
        "\n",
        "Можно быстро получить атрибуты построенной модели. Например, атрибут .classes_ представляет собой массив различных значений, которые принимает y.\n",
        "Это пример двоичной классификации, и $y$ может быть 0 или 1.\n",
        "\n",
        "Также можно получить значение наклона $b_1$ и $b_0$ следующим образом."
      ]
    },
    {
      "cell_type": "code",
      "metadata": {
        "colab": {
          "base_uri": "https://localhost:8080/"
        },
        "id": "n7zBJB0obprF",
        "outputId": "b1985c04-d606-496c-ab17-5d9295bedd53"
      },
      "source": [
        "print(model.classes_)\n",
        "print(model.intercept_)\n",
        "print(model.coef_)"
      ],
      "execution_count": null,
      "outputs": [
        {
          "output_type": "stream",
          "name": "stdout",
          "text": [
            "[0 1]\n",
            "[-1.04608067]\n",
            "[[0.51491375]]\n"
          ]
        }
      ]
    },
    {
      "cell_type": "markdown",
      "metadata": {
        "id": "L53cv8JJhnY3"
      },
      "source": [
        "Как видно, $b_0$ задается внутри одномерного массива, а $b_1$ - внутри двумерного массива. Атрибуты  .intercept_ и .coef_ используются, чтобы получить эти результаты."
      ]
    },
    {
      "cell_type": "markdown",
      "metadata": {
        "id": "0Rk4g3zEbyKv"
      },
      "source": [
        "### Шаг 4\n",
        "\n",
        "Нужно проверить, насколько качественно моель построена. Для этого можно использовать метод .predict_proba(), который возвращает матрицу вероятностей того, что прогнозируемый результат равен нулю или единице соответственно:"
      ]
    },
    {
      "cell_type": "code",
      "metadata": {
        "colab": {
          "base_uri": "https://localhost:8080/"
        },
        "id": "3qijDBO_b8P0",
        "outputId": "9e85981c-ca7e-4423-8f7d-94a7d5700ba8"
      },
      "source": [
        "model.predict_proba(x)"
      ],
      "execution_count": null,
      "outputs": [
        {
          "output_type": "execute_result",
          "data": {
            "text/plain": [
              "array([[0.74002157, 0.25997843],\n",
              "       [0.62975524, 0.37024476],\n",
              "       [0.5040632 , 0.4959368 ],\n",
              "       [0.37785549, 0.62214451],\n",
              "       [0.26628093, 0.73371907],\n",
              "       [0.17821501, 0.82178499],\n",
              "       [0.11472079, 0.88527921],\n",
              "       [0.07186982, 0.92813018],\n",
              "       [0.04422513, 0.95577487],\n",
              "       [0.02690569, 0.97309431]])"
            ]
          },
          "metadata": {},
          "execution_count": 4
        }
      ]
    },
    {
      "cell_type": "markdown",
      "metadata": {
        "id": "AENBwL3gkWEO"
      },
      "source": [
        "В приведенной выше матрице каждая строка соответствует одному наблюдению. Первый столбец - это вероятность того, что прогнозируемый результат будет равен нулю, то есть $1 - p(x)$. Второй столбец - это вероятность того, что на выходе будет единица, или $p(x).$\n",
        "\n",
        "Можно получить фактические прогнозы на основе матрицы вероятностей и значений $p(x)$ с помощью .predict(). Эта функция возвращает предсказанные выходные значения в виде одномерного массива.\n",
        "\n",
        "На рисунке ниже показаны результаты ввода, вывода и классификации:"
      ]
    },
    {
      "cell_type": "code",
      "metadata": {
        "colab": {
          "base_uri": "https://localhost:8080/"
        },
        "id": "8L4or-2YkYvN",
        "outputId": "f6e534ce-be80-4730-c34d-0aef1f0a1eff"
      },
      "source": [
        "model.predict(x)"
      ],
      "execution_count": null,
      "outputs": [
        {
          "output_type": "execute_result",
          "data": {
            "text/plain": [
              "array([0, 0, 0, 1, 1, 1, 1, 1, 1, 1])"
            ]
          },
          "metadata": {},
          "execution_count": 5
        }
      ]
    },
    {
      "cell_type": "markdown",
      "metadata": {
        "id": "1aUzaqPWlOPc"
      },
      "source": [
        "![image.png](data:image/png;base64,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)"
      ]
    },
    {
      "cell_type": "markdown",
      "metadata": {
        "id": "zrWspJTVlkwD"
      },
      "source": [
        "Зеленые круги представляют собой фактические ответы, а также правильные прогнозы. Красный крест соответствует неверному прогнозу. Сплошная черная линия - это соответствует линии логистической регрессии $y = p(x).$ Серые квадраты - это точки на этой линии, которые соответствуют $x$ и значениям во втором столбце матрицы вероятностей. Черная пунктирная линия - логит $b_0 + b_1 x.$\n",
        "\n",
        "Значение $x$ чуть больше 2 соответствует порогу $p(x) = 0.5,$ или $b_0 + b_1 x = 0.$ Это значение $x$ является границей между значениями, которым соответствуют нули, и значениями, которым соответствуют единицы.\n",
        "\n",
        "Например, первая точка имеет вход $x= 0,$ фактический выход $y= 0,$ вероятность $p = 0.26$ и прогнозируемое значение 0. Вторая точка имеет $x = 1, y = 0, p = 0.37$ и прогноз 0. Наконец, четвертая точка имеет фактический выход $y = 0$ и вероятность выше 0.5 (при $p = 0.62$), поэтому она ошибочно классифицируется как 1. Все остальные значения предсказываются правильно.\n",
        "\n",
        "Если девять из десяти наблюдений классифицируются правильно, точность модели будет равна 9/10 = 0.9. Найти точность можно с помощью .score():"
      ]
    },
    {
      "cell_type": "code",
      "metadata": {
        "colab": {
          "base_uri": "https://localhost:8080/"
        },
        "id": "BlU9baG9lHOW",
        "outputId": "a183da48-f69e-4b7f-881c-86b32293f988"
      },
      "source": [
        "model.score(x, y)"
      ],
      "execution_count": null,
      "outputs": [
        {
          "output_type": "execute_result",
          "data": {
            "text/plain": [
              "0.9"
            ]
          },
          "metadata": {},
          "execution_count": 6
        }
      ]
    },
    {
      "cell_type": "markdown",
      "metadata": {
        "id": "nDj1-SN5nTuV"
      },
      "source": [
        "Метод .score() принимает входные и выходные данные в качестве аргументов и возвращает отношение количества правильных прогнозов к количеству наблюдений.\n",
        "\n",
        "Можно получить больше информации о точности модели с помощью матрицы ошибок (англ. confusion matrix). В случае бинарной классификации матрица ошибок показывает следующие числа:\n",
        "\n",
        "* истинные негативы в верхнем левом углу,\n",
        "* ложные негативы в нижнем левом углу,\n",
        "* ложные срабатывания в правом верхнем углу,\n",
        "* истинные плюсы в правом нижнем углу.\n",
        "\n",
        "Чтобы создать матрицу ошибок, можно использовать метод confusion_matrix() и предоставить фактические и прогнозируемые результаты в качестве аргументов:"
      ]
    },
    {
      "cell_type": "code",
      "metadata": {
        "colab": {
          "base_uri": "https://localhost:8080/"
        },
        "id": "OCQB2efWnKLj",
        "outputId": "990c3f2a-1a82-4baf-c60b-032584b61549"
      },
      "source": [
        "confusion_matrix(y, model.predict(x))"
      ],
      "execution_count": null,
      "outputs": [
        {
          "output_type": "execute_result",
          "data": {
            "text/plain": [
              "array([[3, 1],\n",
              "       [0, 6]])"
            ]
          },
          "metadata": {},
          "execution_count": 7
        }
      ]
    },
    {
      "cell_type": "markdown",
      "metadata": {
        "id": "qnQ2HCaspHtw"
      },
      "source": [
        "Часто бывает полезно визуализировать матрицу ошибок. Можно сделать это с помощью метода .imshow() из пакета matplotlib, который принимает матрицу ошибок в качестве аргумента:"
      ]
    },
    {
      "cell_type": "code",
      "metadata": {
        "colab": {
          "base_uri": "https://localhost:8080/",
          "height": 483
        },
        "id": "fDJalanicG05",
        "outputId": "7e4277b9-2e42-4d58-fc03-3ccefdce6193"
      },
      "source": [
        "cm = confusion_matrix(y, model.predict(x))\n",
        "\n",
        "fig, ax = plt.subplots(figsize=(8, 8))\n",
        "ax.imshow(cm)\n",
        "ax.grid(False)\n",
        "ax.xaxis.set(ticks=(0, 1), ticklabels=('Predicted 0s', 'Predicted 1s'))\n",
        "ax.yaxis.set(ticks=(0, 1), ticklabels=('Actual 0s', 'Actual 1s'))\n",
        "ax.set_ylim(1.5, -0.5)\n",
        "for i in range(2):\n",
        "    for j in range(2):\n",
        "        ax.text(j, i, cm[i, j], ha='center', va='center', color='red')\n",
        "plt.show()"
      ],
      "execution_count": null,
      "outputs": [
        {
          "output_type": "display_data",
          "data": {
            "image/png": "[encoded data removed]",
            "text/plain": [
              "<Figure size 576x576 with 1 Axes>"
            ]
          },
          "metadata": {
            "needs_background": "light"
          }
        }
      ]
    },
    {
      "cell_type": "markdown",
      "metadata": {
        "id": "d09NWxvfyXep"
      },
      "source": [
        "Более полный отчет о классификации можно получить с помощью метода classification_report():"
      ]
    },
    {
      "cell_type": "code",
      "metadata": {
        "colab": {
          "base_uri": "https://localhost:8080/"
        },
        "id": "hBKWFqDjcKSr",
        "outputId": "3e2b4d4c-674c-43ee-93a8-a59b892390b3"
      },
      "source": [
        "print(classification_report(y, model.predict(x)))"
      ],
      "execution_count": null,
      "outputs": [
        {
          "output_type": "stream",
          "name": "stdout",
          "text": [
            "              precision    recall  f1-score   support\n",
            "\n",
            "           0       1.00      0.75      0.86         4\n",
            "           1       0.86      1.00      0.92         6\n",
            "\n",
            "    accuracy                           0.90        10\n",
            "   macro avg       0.93      0.88      0.89        10\n",
            "weighted avg       0.91      0.90      0.90        10\n",
            "\n"
          ]
        }
      ]
    },
    {
      "cell_type": "markdown",
      "metadata": {
        "id": "YYhX2SHkcVFy"
      },
      "source": [
        "### Шаг 5\n",
        "\n",
        "Улучшение модели за счет подбора других параметров. Можно улучшить модель, задав другие значения параметров. Например, можно задать параметр регуляризации C = 10.0 вместо значения по умолчанию 1.0:"
      ]
    },
    {
      "cell_type": "code",
      "metadata": {
        "colab": {
          "base_uri": "https://localhost:8080/"
        },
        "id": "z6xirynTcd9B",
        "outputId": "f53b978e-6bb1-4456-9a79-384993a2e6bb"
      },
      "source": [
        "model = LogisticRegression(solver='liblinear', C=10.0, random_state=0)\n",
        "model.fit(x, y)"
      ],
      "execution_count": null,
      "outputs": [
        {
          "output_type": "execute_result",
          "data": {
            "text/plain": [
              "LogisticRegression(C=10.0, random_state=0, solver='liblinear')"
            ]
          },
          "metadata": {},
          "execution_count": 10
        }
      ]
    },
    {
      "cell_type": "markdown",
      "metadata": {
        "id": "9if96_SJ4dcN"
      },
      "source": [
        "Параметры модели следующие"
      ]
    },
    {
      "cell_type": "code",
      "metadata": {
        "colab": {
          "base_uri": "https://localhost:8080/"
        },
        "id": "d97DDbtt4YVJ",
        "outputId": "2200f958-c55c-47f7-e98f-be8fb47f983d"
      },
      "source": [
        "model.intercept_"
      ],
      "execution_count": null,
      "outputs": [
        {
          "output_type": "execute_result",
          "data": {
            "text/plain": [
              "array([-3.51335372])"
            ]
          },
          "metadata": {},
          "execution_count": 11
        }
      ]
    },
    {
      "cell_type": "code",
      "metadata": {
        "colab": {
          "base_uri": "https://localhost:8080/"
        },
        "id": "giDEYSFq4b4_",
        "outputId": "68c26da6-38d1-43dd-8800-c6cc2c956620"
      },
      "source": [
        "model.coef_"
      ],
      "execution_count": null,
      "outputs": [
        {
          "output_type": "execute_result",
          "data": {
            "text/plain": [
              "array([[1.12066084]])"
            ]
          },
          "metadata": {},
          "execution_count": 12
        }
      ]
    },
    {
      "cell_type": "markdown",
      "metadata": {
        "id": "QwmsxJXf4pku"
      },
      "source": [
        "На основе меодли получена следующая матрица вероятностей и предстказанные значения:"
      ]
    },
    {
      "cell_type": "code",
      "metadata": {
        "colab": {
          "base_uri": "https://localhost:8080/"
        },
        "id": "hbPMTUQy4LlW",
        "outputId": "35409a28-6d9c-4396-9381-6fdfe69b70b8"
      },
      "source": [
        "model.predict_proba(x)"
      ],
      "execution_count": null,
      "outputs": [
        {
          "output_type": "execute_result",
          "data": {
            "text/plain": [
              "array([[0.97106534, 0.02893466],\n",
              "       [0.9162684 , 0.0837316 ],\n",
              "       [0.7810904 , 0.2189096 ],\n",
              "       [0.53777071, 0.46222929],\n",
              "       [0.27502212, 0.72497788],\n",
              "       [0.11007743, 0.88992257],\n",
              "       [0.03876835, 0.96123165],\n",
              "       [0.01298011, 0.98701989],\n",
              "       [0.0042697 , 0.9957303 ],\n",
              "       [0.00139621, 0.99860379]])"
            ]
          },
          "metadata": {},
          "execution_count": 13
        }
      ]
    },
    {
      "cell_type": "markdown",
      "metadata": {
        "id": "_bZTI2a244pc"
      },
      "source": [
        "В этом случае получаются все истинные прогнозы, что видно матрице ошибок и отчете о классификации:"
      ]
    },
    {
      "cell_type": "code",
      "metadata": {
        "colab": {
          "base_uri": "https://localhost:8080/"
        },
        "id": "m48QrTwd4RxT",
        "outputId": "e3c7a2bd-f136-4296-ef19-163aa0abe452"
      },
      "source": [
        "model.predict(x)"
      ],
      "execution_count": null,
      "outputs": [
        {
          "output_type": "execute_result",
          "data": {
            "text/plain": [
              "array([0, 0, 0, 0, 1, 1, 1, 1, 1, 1])"
            ]
          },
          "metadata": {},
          "execution_count": 14
        }
      ]
    },
    {
      "cell_type": "code",
      "metadata": {
        "colab": {
          "base_uri": "https://localhost:8080/"
        },
        "id": "H-ymgVfz4T75",
        "outputId": "03f3965b-1676-440e-9a9e-d677218c9ef0"
      },
      "source": [
        "model.score(x, y)"
      ],
      "execution_count": null,
      "outputs": [
        {
          "output_type": "execute_result",
          "data": {
            "text/plain": [
              "1.0"
            ]
          },
          "metadata": {},
          "execution_count": 15
        }
      ]
    },
    {
      "cell_type": "code",
      "metadata": {
        "colab": {
          "base_uri": "https://localhost:8080/"
        },
        "id": "dN6NxvLd5Ib_",
        "outputId": "8c0822e3-a2e3-417f-8243-ad141ed1438a"
      },
      "source": [
        "confusion_matrix(y, model.predict(x))"
      ],
      "execution_count": null,
      "outputs": [
        {
          "output_type": "execute_result",
          "data": {
            "text/plain": [
              "array([[4, 0],\n",
              "       [0, 6]])"
            ]
          },
          "metadata": {},
          "execution_count": 16
        }
      ]
    },
    {
      "cell_type": "code",
      "metadata": {
        "colab": {
          "base_uri": "https://localhost:8080/"
        },
        "id": "jQYANCBb5KCj",
        "outputId": "49a735e2-0c43-416c-b935-7d75614791d2"
      },
      "source": [
        "print(classification_report(y, model.predict(x)))"
      ],
      "execution_count": null,
      "outputs": [
        {
          "output_type": "stream",
          "name": "stdout",
          "text": [
            "              precision    recall  f1-score   support\n",
            "\n",
            "           0       1.00      1.00      1.00         4\n",
            "           1       1.00      1.00      1.00         6\n",
            "\n",
            "    accuracy                           1.00        10\n",
            "   macro avg       1.00      1.00      1.00        10\n",
            "weighted avg       1.00      1.00      1.00        10\n",
            "\n"
          ]
        }
      ]
    },
    {
      "cell_type": "markdown",
      "metadata": {
        "id": "mCFRh8MW5Qxt"
      },
      "source": [
        "![image.png](data:image/png;base64,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)"
      ]
    },
    {
      "cell_type": "markdown",
      "metadata": {
        "id": "qdhYrqc95kFm"
      },
      "source": [
        "Также можно реализовать логистическую регрессию в Python с помощью пакета StatsModels. Обычно это требуется, когда нужно больше статистических данных, связанных с моделями и результатами. Процедура аналогична scikit-learn."
      ]
    },
    {
      "cell_type": "markdown",
      "metadata": {
        "id": "du_omXmy6VOR"
      },
      "source": [
        "# Задача 2\n",
        "\n",
        "Построение логистической регрессии с помощью пакета statmodels."
      ]
    },
    {
      "cell_type": "markdown",
      "metadata": {
        "id": "Q_zOItgo5u4L"
      },
      "source": [
        "### Шаг 1\n",
        "\n",
        "Импортирование пакетов"
      ]
    },
    {
      "cell_type": "code",
      "metadata": {
        "id": "BdnYcSnU5MJB",
        "outputId": "790b1d5b-9864-461e-d3b7-9a4b5270b5ac",
        "colab": {
          "base_uri": "https://localhost:8080/"
        }
      },
      "source": [
        "import numpy as np\n",
        "import statsmodels.api as sm"
      ],
      "execution_count": null,
      "outputs": [
        {
          "output_type": "stream",
          "name": "stderr",
          "text": [
            "/usr/local/lib/python3.7/dist-packages/statsmodels/tools/_testing.py:19: FutureWarning: pandas.util.testing is deprecated. Use the functions in the public API at pandas.testing instead.\n",
            "  import pandas.util.testing as tm\n"
          ]
        }
      ]
    },
    {
      "cell_type": "markdown",
      "metadata": {
        "id": "7e8xE-pZ6FNm"
      },
      "source": [
        "### Шаг 2\n",
        "\n",
        "Можно получать входные и выходные данные так же, как и в scikit-learn. Однако StatsModels не принимает во внимание константу $b_0,$ и необходимо включить дополнительный столбец единиц в $x.$ Делается это с помощью метода add_constant():"
      ]
    },
    {
      "cell_type": "code",
      "metadata": {
        "id": "RDdTuk7m5z8d",
        "colab": {
          "base_uri": "https://localhost:8080/"
        },
        "outputId": "29caa1d5-b486-4c54-80f7-ee2e6f1aa861"
      },
      "source": [
        "x = np.array([0, 0, 0, 0, 0, 0, 0, 0, 0, 1, 1, 1, 1, 1, 1, 1, 1, 1, 1, 1]).reshape(-1, 1)\n",
        "print(x)\n",
        "y = np.array([0, 0, 0, 0, 0, 0, 0, 0, 1, 1, 1, 1, 1, 1, 1, 1, 1, 1, 1, 1])\n",
        "x = sm.add_constant(x)\n",
        "print(x)"
      ],
      "execution_count": null,
      "outputs": [
        {
          "output_type": "stream",
          "name": "stdout",
          "text": [
            "[[0]\n",
            " [0]\n",
            " [0]\n",
            " [0]\n",
            " [0]\n",
            " [0]\n",
            " [0]\n",
            " [0]\n",
            " [0]\n",
            " [1]\n",
            " [1]\n",
            " [1]\n",
            " [1]\n",
            " [1]\n",
            " [1]\n",
            " [1]\n",
            " [1]\n",
            " [1]\n",
            " [1]\n",
            " [1]]\n",
            "[[1. 0.]\n",
            " [1. 0.]\n",
            " [1. 0.]\n",
            " [1. 0.]\n",
            " [1. 0.]\n",
            " [1. 0.]\n",
            " [1. 0.]\n",
            " [1. 0.]\n",
            " [1. 0.]\n",
            " [1. 1.]\n",
            " [1. 1.]\n",
            " [1. 1.]\n",
            " [1. 1.]\n",
            " [1. 1.]\n",
            " [1. 1.]\n",
            " [1. 1.]\n",
            " [1. 1.]\n",
            " [1. 1.]\n",
            " [1. 1.]\n",
            " [1. 1.]]\n"
          ]
        }
      ]
    },
    {
      "cell_type": "markdown",
      "metadata": {
        "id": "ilpPw4ku7Hkv"
      },
      "source": [
        "Метод add_constant() принимает массив x в качестве аргумента и возвращает новый массив с дополнительным столбцом единиц. Вот как выглядят x и y:"
      ]
    },
    {
      "cell_type": "code",
      "metadata": {
        "colab": {
          "base_uri": "https://localhost:8080/"
        },
        "id": "VZBqUM4z7CbR",
        "outputId": "76eaaf5b-8277-4403-8e4f-09a7643a5454"
      },
      "source": [
        "print(x)\n",
        "print(y)"
      ],
      "execution_count": null,
      "outputs": [
        {
          "output_type": "stream",
          "name": "stdout",
          "text": [
            "[[1. 0.]\n",
            " [1. 0.]\n",
            " [1. 0.]\n",
            " [1. 0.]\n",
            " [1. 0.]\n",
            " [1. 0.]\n",
            " [1. 0.]\n",
            " [1. 0.]\n",
            " [1. 0.]\n",
            " [1. 1.]\n",
            " [1. 1.]\n",
            " [1. 1.]\n",
            " [1. 1.]\n",
            " [1. 1.]\n",
            " [1. 1.]\n",
            " [1. 1.]\n",
            " [1. 1.]\n",
            " [1. 1.]\n",
            " [1. 1.]\n",
            " [1. 1.]]\n",
            "[0 0 0 0 0 0 0 0 1 1 1 1 1 1 1 1 1 1 1 1]\n"
          ]
        }
      ]
    },
    {
      "cell_type": "markdown",
      "metadata": {
        "id": "oTuSf6bS7k3V"
      },
      "source": [
        "### Шаг 3\n",
        "\n",
        "Модель логистической регрессии будет экземпляром класса statsmodels.discrete.discrete_model.Logit. Вот как можно его создать:"
      ]
    },
    {
      "cell_type": "code",
      "metadata": {
        "id": "1nQYcC_z7QFZ"
      },
      "source": [
        "model = sm.Logit(y, x)"
      ],
      "execution_count": null,
      "outputs": []
    },
    {
      "cell_type": "markdown",
      "metadata": {
        "id": "sj9iegG_7237"
      },
      "source": [
        "Теперь, когда модель создана, ее надо подогнать к существующим данным. Это можно сделать с помощью метода .fit() или, если нужно применить регуляризацию L1, то с помощью .fit_regularized():"
      ]
    },
    {
      "cell_type": "code",
      "metadata": {
        "colab": {
          "base_uri": "https://localhost:8080/"
        },
        "id": "8M-QCPDw7ul2",
        "outputId": "896221c8-36da-4a49-eff5-718733034c95"
      },
      "source": [
        "result = model.fit_regularized(method='l1')"
      ],
      "execution_count": null,
      "outputs": [
        {
          "output_type": "stream",
          "name": "stdout",
          "text": [
            "Optimization terminated successfully.    (Exit mode 0)\n",
            "            Current function value: 0.15697444321927695\n",
            "            Iterations: 37\n",
            "            Function evaluations: 38\n",
            "            Gradient evaluations: 37\n"
          ]
        }
      ]
    },
    {
      "cell_type": "markdown",
      "metadata": {
        "id": "gpuysbXh8Q8S"
      },
      "source": [
        "Теперь модель готова, и переменная result содержит полезные данные. Например, вы можете получить значения $b_0$ и $b_1$ с помощью свойства .params:"
      ]
    },
    {
      "cell_type": "code",
      "metadata": {
        "colab": {
          "base_uri": "https://localhost:8080/"
        },
        "id": "gDR_O9h98LBL",
        "outputId": "ee7b21e7-ad53-42bd-b5ff-eabdaa85d29d"
      },
      "source": [
        "result.params"
      ],
      "execution_count": null,
      "outputs": [
        {
          "output_type": "execute_result",
          "data": {
            "text/plain": [
              "array([-2.07942938, 24.65099906])"
            ]
          },
          "metadata": {},
          "execution_count": 37
        }
      ]
    },
    {
      "cell_type": "markdown",
      "metadata": {
        "id": "yHyXf-YB8lbQ"
      },
      "source": [
        "### Шаг 4"
      ]
    },
    {
      "cell_type": "markdown",
      "metadata": {
        "id": "1XbQXZ50-WQz"
      },
      "source": [
        "Можно использовать result, чтобы получить вероятность того, что прогнозируемые результаты будут равны единице:"
      ]
    },
    {
      "cell_type": "code",
      "metadata": {
        "colab": {
          "base_uri": "https://localhost:8080/"
        },
        "id": "xyIDrXW78gi0",
        "outputId": "f77275d0-27ca-4df5-c323-8703fa1fa9ba"
      },
      "source": [
        "result.predict(x)"
      ],
      "execution_count": null,
      "outputs": [
        {
          "output_type": "execute_result",
          "data": {
            "text/plain": [
              "array([0.11111231, 0.11111231, 0.11111231, 0.11111231, 0.11111231,\n",
              "       0.11111231, 0.11111231, 0.11111231, 0.11111231, 1.        ,\n",
              "       1.        , 1.        , 1.        , 1.        , 1.        ,\n",
              "       1.        , 1.        , 1.        , 1.        , 1.        ])"
            ]
          },
          "metadata": {},
          "execution_count": 38
        }
      ]
    },
    {
      "cell_type": "markdown",
      "metadata": {
        "id": "_jq4GXBC-wj0"
      },
      "source": [
        ".summary () и .summary2 () дают выходные данные, которые могут оказаться полезными в некоторых случаях:\n"
      ]
    },
    {
      "cell_type": "code",
      "metadata": {
        "colab": {
          "base_uri": "https://localhost:8080/",
          "height": 338
        },
        "id": "Q7UjHtta-3Kr",
        "outputId": "db5b0c1a-eefe-4fd8-d790-34c576873522"
      },
      "source": [
        "result.summary()"
      ],
      "execution_count": null,
      "outputs": [
        {
          "output_type": "execute_result",
          "data": {
            "text/html": [
              "<table class=\"simpletable\">\n",
              "<caption>Logit Regression Results</caption>\n",
              "<tr>\n",
              "  <th>Dep. Variable:</th>           <td>y</td>        <th>  No. Observations:  </th>  <td>    20</td>  \n",
              "</tr>\n",
              "<tr>\n",
              "  <th>Model:</th>                 <td>Logit</td>      <th>  Df Residuals:      </th>  <td>    18</td>  \n",
              "</tr>\n",
              "<tr>\n",
              "  <th>Method:</th>                 <td>MLE</td>       <th>  Df Model:          </th>  <td>     1</td>  \n",
              "</tr>\n",
              "<tr>\n",
              "  <th>Date:</th>            <td>Thu, 23 Dec 2021</td> <th>  Pseudo R-squ.:     </th>  <td>0.7668</td>  \n",
              "</tr>\n",
              "<tr>\n",
              "  <th>Time:</th>                <td>14:50:31</td>     <th>  Log-Likelihood:    </th> <td> -3.1395</td> \n",
              "</tr>\n",
              "<tr>\n",
              "  <th>converged:</th>             <td>True</td>       <th>  LL-Null:           </th> <td> -13.460</td> \n",
              "</tr>\n",
              "<tr>\n",
              "  <th>Covariance Type:</th>     <td>nonrobust</td>    <th>  LLR p-value:       </th> <td>5.538e-06</td>\n",
              "</tr>\n",
              "</table>\n",
              "<table class=\"simpletable\">\n",
              "<tr>\n",
              "    <td></td>       <th>coef</th>     <th>std err</th>      <th>z</th>      <th>P>|z|</th>  <th>[0.025</th>    <th>0.975]</th>  \n",
              "</tr>\n",
              "<tr>\n",
              "  <th>const</th> <td>   -2.0794</td> <td>    1.061</td> <td>   -1.961</td> <td> 0.050</td> <td>   -4.158</td> <td>   -0.001</td>\n",
              "</tr>\n",
              "<tr>\n",
              "  <th>x1</th>    <td>   24.6510</td> <td>  2.4e+04</td> <td>    0.001</td> <td> 0.999</td> <td>-4.71e+04</td> <td> 4.71e+04</td>\n",
              "</tr>\n",
              "</table><br/><br/>Possibly complete quasi-separation: A fraction 0.55 of observations can be<br/>perfectly predicted. This might indicate that there is complete<br/>quasi-separation. In this case some parameters will not be identified."
            ],
            "text/plain": [
              "<class 'statsmodels.iolib.summary.Summary'>\n",
              "\"\"\"\n",
              "                           Logit Regression Results                           \n",
              "==============================================================================\n",
              "Dep. Variable:                      y   No. Observations:                   20\n",
              "Model:                          Logit   Df Residuals:                       18\n",
              "Method:                           MLE   Df Model:                            1\n",
              "Date:                Thu, 23 Dec 2021   Pseudo R-squ.:                  0.7668\n",
              "Time:                        14:50:31   Log-Likelihood:                -3.1395\n",
              "converged:                       True   LL-Null:                       -13.460\n",
              "Covariance Type:            nonrobust   LLR p-value:                 5.538e-06\n",
              "==============================================================================\n",
              "                 coef    std err          z      P>|z|      [0.025      0.975]\n",
              "------------------------------------------------------------------------------\n",
              "const         -2.0794      1.061     -1.961      0.050      -4.158      -0.001\n",
              "x1            24.6510    2.4e+04      0.001      0.999   -4.71e+04    4.71e+04\n",
              "==============================================================================\n",
              "\n",
              "Possibly complete quasi-separation: A fraction 0.55 of observations can be\n",
              "perfectly predicted. This might indicate that there is complete\n",
              "quasi-separation. In this case some parameters will not be identified.\n",
              "\"\"\""
            ]
          },
          "metadata": {},
          "execution_count": 39
        }
      ]
    },
    {
      "cell_type": "code",
      "metadata": {
        "colab": {
          "base_uri": "https://localhost:8080/",
          "height": 255
        },
        "id": "y7mwTTMM-7fU",
        "outputId": "e378549a-f9bc-46c4-8816-d9a01d059c37"
      },
      "source": [
        "result.summary2()"
      ],
      "execution_count": null,
      "outputs": [
        {
          "output_type": "execute_result",
          "data": {
            "text/html": [
              "<table class=\"simpletable\">\n",
              "<tr>\n",
              "        <td>Model:</td>              <td>Logit</td>      <td>Pseudo R-squared:</td>    <td>0.767</td>  \n",
              "</tr>\n",
              "<tr>\n",
              "  <td>Dependent Variable:</td>         <td>y</td>              <td>AIC:</td>          <td>10.2790</td> \n",
              "</tr>\n",
              "<tr>\n",
              "         <td>Date:</td>        <td>2021-12-23 14:50</td>       <td>BIC:</td>          <td>12.2704</td> \n",
              "</tr>\n",
              "<tr>\n",
              "   <td>No. Observations:</td>         <td>20</td>         <td>Log-Likelihood:</td>    <td>-3.1395</td> \n",
              "</tr>\n",
              "<tr>\n",
              "       <td>Df Model:</td>              <td>1</td>            <td>LL-Null:</td>        <td>-13.460</td> \n",
              "</tr>\n",
              "<tr>\n",
              "     <td>Df Residuals:</td>           <td>18</td>          <td>LLR p-value:</td>    <td>5.5383e-06</td>\n",
              "</tr>\n",
              "<tr>\n",
              "      <td>Converged:</td>           <td>1.0000</td>           <td>Scale:</td>         <td>1.0000</td>  \n",
              "</tr>\n",
              "<tr>\n",
              "    <td>No. Iterations:</td>        <td>37.0000</td>             <td></td>               <td></td>     \n",
              "</tr>\n",
              "</table>\n",
              "<table class=\"simpletable\">\n",
              "<tr>\n",
              "    <td></td>     <th>Coef.</th>   <th>Std.Err.</th>     <th>z</th>     <th>P>|z|</th>   <th>[0.025</th>      <th>0.975]</th>  \n",
              "</tr>\n",
              "<tr>\n",
              "  <th>const</th> <td>-2.0794</td>   <td>1.0607</td>   <td>-1.9605</td> <td>0.0499</td>   <td>-4.1583</td>     <td>-0.0006</td> \n",
              "</tr>\n",
              "<tr>\n",
              "  <th>x1</th>    <td>24.6510</td> <td>24024.6932</td> <td>0.0010</td>  <td>0.9992</td> <td>-47062.8824</td> <td>47112.1844</td>\n",
              "</tr>\n",
              "</table>"
            ],
            "text/plain": [
              "<class 'statsmodels.iolib.summary2.Summary'>\n",
              "\"\"\"\n",
              "                         Results: Logit\n",
              "=================================================================\n",
              "Model:              Logit            Pseudo R-squared: 0.767     \n",
              "Dependent Variable: y                AIC:              10.2790   \n",
              "Date:               2021-12-23 14:50 BIC:              12.2704   \n",
              "No. Observations:   20               Log-Likelihood:   -3.1395   \n",
              "Df Model:           1                LL-Null:          -13.460   \n",
              "Df Residuals:       18               LLR p-value:      5.5383e-06\n",
              "Converged:          1.0000           Scale:            1.0000    \n",
              "No. Iterations:     37.0000                                      \n",
              "-----------------------------------------------------------------\n",
              "          Coef.   Std.Err.     z    P>|z|     [0.025     0.975]  \n",
              "-----------------------------------------------------------------\n",
              "const    -2.0794     1.0607 -1.9605 0.0499     -4.1583    -0.0006\n",
              "x1       24.6510 24024.6932  0.0010 0.9992 -47062.8824 47112.1844\n",
              "=================================================================\n",
              "\n",
              "\"\"\""
            ]
          },
          "metadata": {},
          "execution_count": 40
        }
      ]
    },
    {
      "cell_type": "markdown",
      "metadata": {
        "id": "o9_XWZQL_Jbf"
      },
      "source": [
        "# Задача 3\n",
        "\n",
        "Предыдущие примеры иллюстрировали реализацию логистической регрессии в Python, а также некоторые детали, связанные с этим методом. В данном примере показано, как использовать логистическую регрессию для решения реальной проблемы классификации. Подход очень похож на то, что было сделано в предыдущих примерах, но с набор данных на этот раз большой и появляются некоторые дополнительные проблемамы.\n",
        "\n",
        "Этот пример касается распознавания изображений. Если быть более точным,требуется распознать рукописные цифры. Используется набор данных с 1797 наблюдений, каждое из которых представляет собой изображение одной рукописной цифры. Каждое изображение имеет размер 64 пикселя, ширину 8 пикселей и высоту 8 пикселей.\n",
        "\n",
        "Чтобы узнать больше об этом наборе данных, см. официальную документацию,\n",
        "https://scikit-learn.org/stable/modules/generated/sklearn.datasets.load_digits.html#sklearn.datasets.load_digits"
      ]
    },
    {
      "cell_type": "code",
      "metadata": {
        "id": "oKPSiRhc-75c"
      },
      "source": [
        "import matplotlib.pyplot as plt\n",
        "import numpy as np\n",
        "from sklearn.datasets import load_digits\n",
        "from sklearn.linear_model import LogisticRegression\n",
        "from sklearn.metrics import classification_report, confusion_matrix\n",
        "from sklearn.model_selection import train_test_split\n",
        "from sklearn.preprocessing import StandardScaler"
      ],
      "execution_count": null,
      "outputs": []
    },
    {
      "cell_type": "code",
      "metadata": {
        "id": "Uhg1N0BsAVzc",
        "colab": {
          "base_uri": "https://localhost:8080/"
        },
        "outputId": "19208e1b-636f-41d8-d379-e67f03a897cb"
      },
      "source": [
        "x, y = load_digits(return_X_y=True)\n",
        "print(x[1])"
      ],
      "execution_count": null,
      "outputs": [
        {
          "output_type": "stream",
          "name": "stdout",
          "text": [
            "[ 0.  0.  0. 12. 13.  5.  0.  0.  0.  0.  0. 11. 16.  9.  0.  0.  0.  0.\n",
            "  3. 15. 16.  6.  0.  0.  0.  7. 15. 16. 16.  2.  0.  0.  0.  0.  1. 16.\n",
            " 16.  3.  0.  0.  0.  0.  1. 16. 16.  6.  0.  0.  0.  0.  1. 16. 16.  6.\n",
            "  0.  0.  0.  0.  0. 11. 16. 10.  0.  0.]\n"
          ]
        }
      ]
    },
    {
      "cell_type": "code",
      "metadata": {
        "id": "WfW0GCMZAXm6"
      },
      "source": [
        "x_train, x_test, y_train, y_test =\\\n",
        "    train_test_split(x, y, test_size=0.2, random_state=0)"
      ],
      "execution_count": null,
      "outputs": []
    },
    {
      "cell_type": "code",
      "metadata": {
        "id": "J56RvaRvAa7u"
      },
      "source": [
        "scaler = StandardScaler()\n",
        "x_train = scaler.fit_transform(x_train)"
      ],
      "execution_count": null,
      "outputs": []
    },
    {
      "cell_type": "code",
      "metadata": {
        "colab": {
          "base_uri": "https://localhost:8080/"
        },
        "id": "q8r6pz-9AfGa",
        "outputId": "efc55553-46aa-4f2e-8ec9-a470e35f9e63"
      },
      "source": [
        "model = LogisticRegression(solver='liblinear', C=0.05, multi_class='ovr', random_state=0)\n",
        "model.fit(x_train, y_train)"
      ],
      "execution_count": null,
      "outputs": [
        {
          "output_type": "execute_result",
          "data": {
            "text/plain": [
              "LogisticRegression(C=0.05, multi_class='ovr', random_state=0,\n",
              "                   solver='liblinear')"
            ]
          },
          "metadata": {},
          "execution_count": 49
        }
      ]
    },
    {
      "cell_type": "code",
      "metadata": {
        "id": "vzuED2LjAiXU"
      },
      "source": [
        "x_test = scaler.transform(x_test)"
      ],
      "execution_count": null,
      "outputs": []
    },
    {
      "cell_type": "code",
      "metadata": {
        "id": "EuNTuwFGAnUA"
      },
      "source": [
        "y_pred = model.predict(x_test)"
      ],
      "execution_count": null,
      "outputs": []
    },
    {
      "cell_type": "code",
      "metadata": {
        "colab": {
          "base_uri": "https://localhost:8080/"
        },
        "id": "XIXw41mEApKX",
        "outputId": "4a61be5d-dd5b-4255-84ca-9aa52d8e9e42"
      },
      "source": [
        "model.score(x_train, y_train)"
      ],
      "execution_count": null,
      "outputs": [
        {
          "output_type": "execute_result",
          "data": {
            "text/plain": [
              "0.964509394572025"
            ]
          },
          "metadata": {},
          "execution_count": 34
        }
      ]
    },
    {
      "cell_type": "code",
      "metadata": {
        "colab": {
          "base_uri": "https://localhost:8080/"
        },
        "id": "JLyvzYShArgC",
        "outputId": "1bacb285-adfb-4ede-8caf-4619063bd6e4"
      },
      "source": [
        "model.score(x_test, y_test)"
      ],
      "execution_count": null,
      "outputs": [
        {
          "output_type": "execute_result",
          "data": {
            "text/plain": [
              "0.9416666666666667"
            ]
          },
          "metadata": {},
          "execution_count": 35
        }
      ]
    },
    {
      "cell_type": "code",
      "metadata": {
        "colab": {
          "base_uri": "https://localhost:8080/"
        },
        "id": "7ksKWfkBAtJn",
        "outputId": "856db3f4-6aa5-421f-ee81-04f462efc95a"
      },
      "source": [
        "confusion_matrix(y_test, y_pred)"
      ],
      "execution_count": null,
      "outputs": [
        {
          "output_type": "execute_result",
          "data": {
            "text/plain": [
              "array([[27,  0,  0,  0,  0,  0,  0,  0,  0,  0],\n",
              "       [ 0, 32,  0,  0,  0,  0,  1,  0,  1,  1],\n",
              "       [ 1,  1, 33,  1,  0,  0,  0,  0,  0,  0],\n",
              "       [ 0,  0,  1, 28,  0,  0,  0,  0,  0,  0],\n",
              "       [ 0,  0,  0,  0, 29,  0,  0,  1,  0,  0],\n",
              "       [ 0,  0,  0,  0,  0, 39,  0,  0,  0,  1],\n",
              "       [ 0,  1,  0,  0,  0,  0, 43,  0,  0,  0],\n",
              "       [ 0,  0,  0,  0,  0,  0,  0, 39,  0,  0],\n",
              "       [ 0,  2,  1,  2,  0,  0,  0,  1, 33,  0],\n",
              "       [ 0,  0,  0,  1,  0,  1,  0,  2,  1, 36]])"
            ]
          },
          "metadata": {},
          "execution_count": 36
        }
      ]
    },
    {
      "cell_type": "code",
      "metadata": {
        "colab": {
          "base_uri": "https://localhost:8080/",
          "height": 506
        },
        "id": "hekuIu4_Au-I",
        "outputId": "7fc6f8ae-8aeb-4ec7-a332-9e1e3cd61f84"
      },
      "source": [
        "cm = confusion_matrix(y_test, y_pred)\n",
        "\n",
        "fig, ax = plt.subplots(figsize=(8, 8))\n",
        "ax.imshow(cm)\n",
        "ax.grid(False)\n",
        "\n",
        "ax.set_xlabel('Predicted outputs', fontsize=20, color='black')\n",
        "ax.set_ylabel('Actual outputs', fontsize=20, color='black')\n",
        "ax.xaxis.set(ticks=range(10))\n",
        "ax.yaxis.set(ticks=range(10))\n",
        "ax.set_ylim(9.5, -0.5)\n",
        "for i in range(10):\n",
        "    for j in range(10):\n",
        "        ax.text(j, i, cm[i, j], ha='center', va='center', color='white')\n",
        "plt.show()"
      ],
      "execution_count": null,
      "outputs": [
        {
          "output_type": "display_data",
          "data": {
            "image/png": "[encoded data removed]",
            "text/plain": [
              "<Figure size 576x576 with 1 Axes>"
            ]
          },
          "metadata": {
            "needs_background": "light"
          }
        }
      ]
    },
    {
      "cell_type": "code",
      "metadata": {
        "colab": {
          "base_uri": "https://localhost:8080/"
        },
        "id": "5s8PaECuAx_D",
        "outputId": "0359207c-52b8-4146-cbdd-40a9dde6a8fd"
      },
      "source": [
        "print(classification_report(y_test, y_pred))"
      ],
      "execution_count": null,
      "outputs": [
        {
          "output_type": "stream",
          "name": "stdout",
          "text": [
            "              precision    recall  f1-score   support\n",
            "\n",
            "           0       0.96      1.00      0.98        27\n",
            "           1       0.89      0.91      0.90        35\n",
            "           2       0.94      0.92      0.93        36\n",
            "           3       0.88      0.97      0.92        29\n",
            "           4       1.00      0.97      0.98        30\n",
            "           5       0.97      0.97      0.97        40\n",
            "           6       0.98      0.98      0.98        44\n",
            "           7       0.91      1.00      0.95        39\n",
            "           8       0.94      0.85      0.89        39\n",
            "           9       0.95      0.88      0.91        41\n",
            "\n",
            "    accuracy                           0.94       360\n",
            "   macro avg       0.94      0.94      0.94       360\n",
            "weighted avg       0.94      0.94      0.94       360\n",
            "\n"
          ]
        }
      ]
    },
    {
      "cell_type": "markdown",
      "metadata": {
        "id": "VVOFA1tYB_yl"
      },
      "source": [
        "# Рекомендации по чтению\n",
        "\n",
        "https://scikit-learn.org/stable/modules/generated/sklearn.linear_model.LogisticRegression.html\n",
        "\n",
        "https://realpython.com/logistic-regression-python/#logistic-regression-overview"
      ]
    }
  ]
}