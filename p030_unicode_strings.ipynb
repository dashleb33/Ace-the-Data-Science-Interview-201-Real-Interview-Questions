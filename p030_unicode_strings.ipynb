{
  "nbformat": 4,
  "nbformat_minor": 0,
  "metadata": {
    "colab": {
      "name": "p030_unicode_strings.ipynb",
      "provenance": [],
      "authorship_tag": "ABX9TyMWja5tIFYunKY0FjX0beWX",
      "include_colab_link": true
    },
    "kernelspec": {
      "name": "python3",
      "display_name": "Python 3"
    },
    "language_info": {
      "name": "python"
    }
  },
  "cells": [
    {
      "cell_type": "markdown",
      "metadata": {
        "id": "view-in-github",
        "colab_type": "text"
      },
      "source": [
        "<a href=\"https://colab.research.google.com/github/hansglick/book_errata/blob/main/p030_unicode_strings.ipynb\" target=\"_parent\"><img src=\"https://colab.research.google.com/assets/colab-badge.svg\" alt=\"Open In Colab\"/></a>"
      ]
    },
    {
      "cell_type": "code",
      "execution_count": 1,
      "metadata": {
        "colab": {
          "base_uri": "https://localhost:8080/"
        },
        "id": "Ex3uX4221_Rs",
        "outputId": "3093338b-ace9-4e0c-97f4-0653e4aa7c98"
      },
      "outputs": [
        {
          "output_type": "stream",
          "name": "stdout",
          "text": [
            "2.8.2\n"
          ]
        }
      ],
      "source": [
        "import tensorflow as tf\n",
        "import numpy as np\n",
        "print(tf.__version__)"
      ]
    },
    {
      "cell_type": "markdown",
      "source": [
        "Apparemment, n'importe quel caractère de n'importe quel alphabet peut s'encoder dans le système Unicode. Chaque caractère unicode est encodé vers un entier allant de 0 à 0x10FFFF. tf.string permet de créer des tensors de byte strings. Par défaut les strings unicode sont encodés en utf-8. Pas super clair mais bon."
      ],
      "metadata": {
        "id": "iC1SWlJu2K5O"
      }
    },
    {
      "cell_type": "code",
      "source": [
        "tf.constant(u\"Thanks 😊\")"
      ],
      "metadata": {
        "colab": {
          "base_uri": "https://localhost:8080/"
        },
        "id": "4cjWsnbF3UWw",
        "outputId": "033efe7f-b072-428a-e2c6-d2b3f9818136"
      },
      "execution_count": 2,
      "outputs": [
        {
          "output_type": "execute_result",
          "data": {
            "text/plain": [
              "<tf.Tensor: shape=(), dtype=string, numpy=b'Thanks \\xf0\\x9f\\x98\\x8a'>"
            ]
          },
          "metadata": {},
          "execution_count": 2
        }
      ]
    },
    {
      "cell_type": "markdown",
      "source": [
        "Je crois que le *u* devant signifie unicode. Apparemment y'a deux manières de représenter une string unicode sur tensorflow : \n",
        " 1. Avec un string scalar, genre `tf.constant(u\"语言处理\")`\n",
        " 2. Avec des entiers, bizzare, `tf.constant([ord(char) for char in u\"语言处理\"])`"
      ],
      "metadata": {
        "id": "5HVdEcLS3Wso"
      }
    },
    {
      "cell_type": "code",
      "source": [
        "# Unicode string, represented as a UTF-8 encoded string scalar.\n",
        "text_utf8 = tf.constant(u\"语言处理\")\n",
        "text_utf8\n",
        "\n",
        "# Unicode string, represented as a UTF-16-BE encoded string scalar.\n",
        "text_utf16be = tf.constant(u\"语言处理\".encode(\"UTF-16-BE\"))\n",
        "text_utf16be\n",
        "\n",
        "# Unicode string, represented as a vector of Unicode code points.\n",
        "text_chars = tf.constant([ord(char) for char in u\"语言处理\"])\n",
        "text_chars"
      ],
      "metadata": {
        "colab": {
          "base_uri": "https://localhost:8080/"
        },
        "id": "odyl2y-Y4O-O",
        "outputId": "433477cc-28a1-4567-ab3f-159ca7586f10"
      },
      "execution_count": 3,
      "outputs": [
        {
          "output_type": "execute_result",
          "data": {
            "text/plain": [
              "<tf.Tensor: shape=(4,), dtype=int32, numpy=array([35821, 35328, 22788, 29702], dtype=int32)>"
            ]
          },
          "metadata": {},
          "execution_count": 3
        }
      ]
    },
    {
      "cell_type": "markdown",
      "source": [
        "# Opérations de conversions\n",
        "\n",
        " * `tf.strings.unicode_decode` : Converts an encoded string scalar to a vector of code points.\n",
        " * `tf.strings.unicode_encode` : Converts a vector of code points to an encoded string scalar.\n",
        " * `tf.strings.unicode_transcode` : Converts an encoded string scalar to a different encoding."
      ],
      "metadata": {
        "id": "ZZ_tCZdi4TNw"
      }
    },
    {
      "cell_type": "code",
      "source": [
        "a = tf.strings.unicode_decode(text_utf8,input_encoding='UTF-8')\n",
        "print(text_utf8)\n",
        "print(a)\n",
        "print(\"\")\n",
        "a = tf.strings.unicode_encode(text_chars,output_encoding='UTF-8')\n",
        "print(text_chars)\n",
        "print(a)\n",
        "print(\"\")\n",
        "a = tf.strings.unicode_transcode(text_utf8,input_encoding='UTF8',output_encoding='UTF-16-BE')\n",
        "print(text_utf8)\n",
        "print(a)\n"
      ],
      "metadata": {
        "colab": {
          "base_uri": "https://localhost:8080/"
        },
        "id": "VB2LQBL-5cRo",
        "outputId": "2c59f7e9-bb3d-4f77-cb12-df5b725a2038"
      },
      "execution_count": 7,
      "outputs": [
        {
          "output_type": "stream",
          "name": "stdout",
          "text": [
            "tf.Tensor(b'\\xe8\\xaf\\xad\\xe8\\xa8\\x80\\xe5\\xa4\\x84\\xe7\\x90\\x86', shape=(), dtype=string)\n",
            "tf.Tensor([35821 35328 22788 29702], shape=(4,), dtype=int32)\n",
            "\n",
            "tf.Tensor([35821 35328 22788 29702], shape=(4,), dtype=int32)\n",
            "tf.Tensor(b'\\xe8\\xaf\\xad\\xe8\\xa8\\x80\\xe5\\xa4\\x84\\xe7\\x90\\x86', shape=(), dtype=string)\n",
            "\n",
            "tf.Tensor(b'\\xe8\\xaf\\xad\\xe8\\xa8\\x80\\xe5\\xa4\\x84\\xe7\\x90\\x86', shape=(), dtype=string)\n",
            "tf.Tensor(b'\\x8b\\xed\\x8a\\x00Y\\x04t\\x06', shape=(), dtype=string)\n"
          ]
        }
      ]
    },
    {
      "cell_type": "code",
      "source": [
        "# A batch of Unicode strings, each represented as a UTF8-encoded string.\n",
        "batch_utf8 = [s.encode('UTF-8') for s in\n",
        "              [u'hÃllo', u'What is the weather tomorrow', u'Göödnight', u'😊']]\n",
        "batch_chars_ragged = tf.strings.unicode_decode(batch_utf8,\n",
        "                                               input_encoding='UTF-8')\n",
        "for sentence_chars in batch_chars_ragged.to_list():\n",
        "  print(sentence_chars)"
      ],
      "metadata": {
        "colab": {
          "base_uri": "https://localhost:8080/"
        },
        "id": "gfWE5c7l5c8Q",
        "outputId": "e25471c6-6c9b-4d02-f875-94476fe95c4f"
      },
      "execution_count": 8,
      "outputs": [
        {
          "output_type": "stream",
          "name": "stdout",
          "text": [
            "[104, 195, 108, 108, 111]\n",
            "[87, 104, 97, 116, 32, 105, 115, 32, 116, 104, 101, 32, 119, 101, 97, 116, 104, 101, 114, 32, 116, 111, 109, 111, 114, 114, 111, 119]\n",
            "[71, 246, 246, 100, 110, 105, 103, 104, 116]\n",
            "[128522]\n"
          ]
        }
      ]
    },
    {
      "cell_type": "code",
      "source": [
        "# Padded \n",
        "print(batch_chars_ragged)\n",
        "print(\"\")\n",
        "batch_chars_padded = batch_chars_ragged.to_tensor(default_value=-1)\n",
        "print(batch_chars_padded.numpy())"
      ],
      "metadata": {
        "colab": {
          "base_uri": "https://localhost:8080/"
        },
        "id": "wwcFzWp66hq7",
        "outputId": "a88ce196-05c4-4199-a26c-84e1ab4e3a57"
      },
      "execution_count": 11,
      "outputs": [
        {
          "output_type": "stream",
          "name": "stdout",
          "text": [
            "<tf.RaggedTensor [[104, 195, 108, 108, 111],\n",
            " [87, 104, 97, 116, 32, 105, 115, 32, 116, 104, 101, 32, 119, 101, 97, 116,\n",
            "  104, 101, 114, 32, 116, 111, 109, 111, 114, 114, 111, 119]               ,\n",
            " [71, 246, 246, 100, 110, 105, 103, 104, 116], [128522]]>\n",
            "\n",
            "[[   104    195    108    108    111     -1     -1     -1     -1     -1\n",
            "      -1     -1     -1     -1     -1     -1     -1     -1     -1     -1\n",
            "      -1     -1     -1     -1     -1     -1     -1     -1]\n",
            " [    87    104     97    116     32    105    115     32    116    104\n",
            "     101     32    119    101     97    116    104    101    114     32\n",
            "     116    111    109    111    114    114    111    119]\n",
            " [    71    246    246    100    110    105    103    104    116     -1\n",
            "      -1     -1     -1     -1     -1     -1     -1     -1     -1     -1\n",
            "      -1     -1     -1     -1     -1     -1     -1     -1]\n",
            " [128522     -1     -1     -1     -1     -1     -1     -1     -1     -1\n",
            "      -1     -1     -1     -1     -1     -1     -1     -1     -1     -1\n",
            "      -1     -1     -1     -1     -1     -1     -1     -1]]\n"
          ]
        }
      ]
    },
    {
      "cell_type": "code",
      "source": [
        "a = tf.strings.unicode_encode([[99, 97, 116], [100, 111, 103], [99, 111, 119], [99, 111, 119]],\n",
        "                          output_encoding='UTF-8')\n",
        "print(a)\n",
        "print(\"\")\n",
        "\n",
        "a = tf.strings.unicode_encode(batch_chars_ragged, output_encoding='UTF-8')\n",
        "print(a)\n",
        "print(\"\")\n",
        "\n",
        "a = tf.strings.unicode_encode(tf.RaggedTensor.from_tensor(batch_chars_padded, padding=-1),output_encoding='UTF-8')\n",
        "print(a)\n",
        "print(\"\")"
      ],
      "metadata": {
        "colab": {
          "base_uri": "https://localhost:8080/"
        },
        "id": "WyBI5yYj6q9c",
        "outputId": "8e640326-160e-492d-fc35-e0bf57f5c1f7"
      },
      "execution_count": 17,
      "outputs": [
        {
          "output_type": "stream",
          "name": "stdout",
          "text": [
            "tf.Tensor([b'cat' b'dog' b'cow' b'cow'], shape=(4,), dtype=string)\n",
            "\n",
            "tf.Tensor(\n",
            "[b'h\\xc3\\x83llo' b'What is the weather tomorrow'\n",
            " b'G\\xc3\\xb6\\xc3\\xb6dnight' b'\\xf0\\x9f\\x98\\x8a'], shape=(4,), dtype=string)\n"
          ]
        }
      ]
    },
    {
      "cell_type": "code",
      "source": [
        "sentence_texts = [u'Hello, world.', u'世界こんにちは']\n",
        "print(sentence_texts)\n",
        "print(\"\")\n",
        "\n",
        "sentence_char_codepoint = tf.strings.unicode_decode(sentence_texts, 'UTF-8')\n",
        "print(sentence_char_codepoint)\n",
        "print(\"\")\n",
        "\n",
        "sentence_char_script = tf.strings.unicode_script(sentence_char_codepoint)\n",
        "print(sentence_char_script)\n",
        "print(\"\")"
      ],
      "metadata": {
        "colab": {
          "base_uri": "https://localhost:8080/"
        },
        "id": "G_55KuXo7Pau",
        "outputId": "65d1c652-15ab-4d7c-a03e-6ab020fbbb47"
      },
      "execution_count": 20,
      "outputs": [
        {
          "output_type": "stream",
          "name": "stdout",
          "text": [
            "['Hello, world.', '世界こんにちは']\n",
            "\n",
            "<tf.RaggedTensor [[72, 101, 108, 108, 111, 44, 32, 119, 111, 114, 108, 100, 46],\n",
            " [19990, 30028, 12371, 12435, 12395, 12385, 12399]]>\n",
            "\n",
            "<tf.RaggedTensor [[25, 25, 25, 25, 25, 0, 0, 25, 25, 25, 25, 25, 0],\n",
            " [17, 17, 20, 20, 20, 20, 20]]>\n",
            "\n"
          ]
        }
      ]
    },
    {
      "cell_type": "code",
      "source": [
        "sentence_char_starts_word = tf.concat(\n",
        "    [tf.fill([sentence_char_script.nrows(), 1], True),\n",
        "     tf.not_equal(sentence_char_script[:, 1:], sentence_char_script[:, :-1])],\n",
        "    axis=1)\n",
        "print(sentence_char_starts_word)\n",
        "print(\"\")\n",
        "\n",
        "word_starts = tf.squeeze(tf.where(sentence_char_starts_word.values), axis=1)\n",
        "print(word_starts)\n",
        "print(\"\")\n",
        "\n",
        "word_char_codepoint = tf.RaggedTensor.from_row_starts(\n",
        "    values=sentence_char_codepoint.values,\n",
        "    row_starts=word_starts)\n",
        "print(word_char_codepoint)\n",
        "print(\"\")\n",
        "\n",
        "sentence_num_words = tf.reduce_sum(\n",
        "    tf.cast(sentence_char_starts_word, tf.int64),\n",
        "    axis=1)\n",
        "print(sentence_num_words)\n",
        "print(\"\")\n",
        "\n",
        "sentence_word_char_codepoint = tf.RaggedTensor.from_row_lengths(\n",
        "    values=word_char_codepoint,\n",
        "    row_lengths=sentence_num_words)\n",
        "print(sentence_word_char_codepoint)\n",
        "print(\"\")"
      ],
      "metadata": {
        "colab": {
          "base_uri": "https://localhost:8080/"
        },
        "id": "jTVsjGvu-j2J",
        "outputId": "226b9924-3a9a-4c0f-aa8a-b2d31a4facb7"
      },
      "execution_count": 25,
      "outputs": [
        {
          "output_type": "stream",
          "name": "stdout",
          "text": [
            "<tf.RaggedTensor [[True, False, False, False, False, True, False, True, False, False, False,\n",
            "  False, True]                                                             ,\n",
            " [True, False, True, False, False, False, False]]>\n",
            "\n",
            "tf.Tensor([ 0  5  7 12 13 15], shape=(6,), dtype=int64)\n",
            "\n",
            "<tf.RaggedTensor [[72, 101, 108, 108, 111], [44, 32], [119, 111, 114, 108, 100], [46],\n",
            " [19990, 30028], [12371, 12435, 12395, 12385, 12399]]>\n",
            "\n",
            "tf.Tensor([4 2], shape=(2,), dtype=int64)\n",
            "\n",
            "<tf.RaggedTensor [[[72, 101, 108, 108, 111], [44, 32], [119, 111, 114, 108, 100], [46]],\n",
            " [[19990, 30028], [12371, 12435, 12395, 12385, 12399]]]>\n",
            "\n"
          ]
        }
      ]
    },
    {
      "cell_type": "code",
      "source": [
        "print(sentence_word_char_codepoint)\n",
        "print(\"\")\n",
        "a = tf.strings.unicode_encode(sentence_word_char_codepoint, 'UTF-8').to_list()\n",
        "print(a)\n",
        "print(\"\")"
      ],
      "metadata": {
        "colab": {
          "base_uri": "https://localhost:8080/"
        },
        "id": "nhwGPOFV--VS",
        "outputId": "f77de5fe-bf60-42c5-e2fc-f19e65b8bfdc"
      },
      "execution_count": 28,
      "outputs": [
        {
          "output_type": "stream",
          "name": "stdout",
          "text": [
            "<tf.RaggedTensor [[[72, 101, 108, 108, 111], [44, 32], [119, 111, 114, 108, 100], [46]],\n",
            " [[19990, 30028], [12371, 12435, 12395, 12385, 12399]]]>\n",
            "\n",
            "[[b'Hello', b', ', b'world', b'.'], [b'\\xe4\\xb8\\x96\\xe7\\x95\\x8c', b'\\xe3\\x81\\x93\\xe3\\x82\\x93\\xe3\\x81\\xab\\xe3\\x81\\xa1\\xe3\\x81\\xaf']]\n",
            "\n"
          ]
        }
      ]
    }
  ]
}