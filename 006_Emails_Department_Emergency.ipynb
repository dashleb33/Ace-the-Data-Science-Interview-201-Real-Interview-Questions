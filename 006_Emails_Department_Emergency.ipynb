{
  "nbformat": 4,
  "nbformat_minor": 0,
  "metadata": {
    "colab": {
      "name": "006_Emails_Department_Emergency.ipynb",
      "provenance": [],
      "authorship_tag": "ABX9TyNZBigE4BBlCfuNJa/DClCR",
      "include_colab_link": true
    },
    "kernelspec": {
      "name": "python3",
      "display_name": "Python 3"
    },
    "language_info": {
      "name": "python"
    }
  },
  "cells": [
    {
      "cell_type": "markdown",
      "metadata": {
        "id": "view-in-github",
        "colab_type": "text"
      },
      "source": [
        "<a href=\"https://colab.research.google.com/github/hansglick/book_errata/blob/main/006_Emails_Department_Emergency.ipynb\" target=\"_parent\"><img src=\"https://colab.research.google.com/assets/colab-badge.svg\" alt=\"Open In Colab\"/></a>"
      ]
    },
    {
      "cell_type": "code",
      "execution_count": 2,
      "metadata": {
        "id": "i37rk48GkFf1",
        "colab": {
          "base_uri": "https://localhost:8080/"
        },
        "outputId": "4c3d7f80-58f9-4232-f71a-f03be03a8190"
      },
      "outputs": [
        {
          "output_type": "stream",
          "name": "stdout",
          "text": [
            "2.8.2\n"
          ]
        }
      ],
      "source": [
        "import tensorflow as tf\n",
        "print(tf.__version__)"
      ]
    },
    {
      "cell_type": "markdown",
      "source": [
        "Créer un modèle qui prend les entrées suivantes :\n",
        " * Le titre d'un ticket\n",
        " * Le contenu d'un ticket\n",
        " * Les tags du ticket entrés par le user\n",
        " "
      ],
      "metadata": {
        "id": "VOh2umXUOcUX"
      }
    },
    {
      "cell_type": "markdown",
      "source": [
        "Qui renvoie les deux sorties suivantes :\n",
        " * Le département vers lequel router le ticket\n",
        " * Le niveau d'urgence du ticket entre 0 et 1"
      ],
      "metadata": {
        "id": "i24L1yZIPUIZ"
      }
    },
    {
      "cell_type": "markdown",
      "source": [
        "Pour ce faire, utilisez l'API fonctionnelle de Tensorflow"
      ],
      "metadata": {
        "id": "6RobYLDLPeun"
      }
    },
    {
      "cell_type": "code",
      "source": [
        "# Parameters\n",
        "vocabulary_size = 1000\n",
        "tags_size = 12\n",
        "batch_size = 64\n",
        "departments_size = 4\n",
        "embedding_size = 64\n",
        "main_reduction_size = 32\n",
        "title_reduction_size = 128"
      ],
      "metadata": {
        "id": "dyLF2k3gPp5p"
      },
      "execution_count": 23,
      "outputs": []
    },
    {
      "cell_type": "code",
      "source": [
        "# Définition des layers inputs\n",
        "# Titre du ticket, entrée de taille variable\n",
        "input_title = tf.keras.layers.Input(shape=(None,))\n",
        "\n",
        "# Contenu du ticket, entrée de taille variable\n",
        "input_main = tf.keras.layers.Input(shape = (None,))\n",
        "\n",
        "# Les tags, entrée de taille égale au nombre de tags, vecteur de 0 et de 1\n",
        "input_tags = tf.keras.layers.Input(shape = (tags_size,))"
      ],
      "metadata": {
        "id": "mXwRJGlNQDXK"
      },
      "execution_count": 24,
      "outputs": []
    },
    {
      "cell_type": "code",
      "source": [
        "# Création des features textuelles\n",
        "title_features = tf.keras.layers.Embedding(input_dim = vocabulary_size, output_dim = embedding_size)(input_title)\n",
        "main_features = tf.keras.layers.Embedding(input_dim= vocabulary_size, output_dim = embedding_size)(input_main)"
      ],
      "metadata": {
        "id": "GNgf-uy5TMxa"
      },
      "execution_count": 25,
      "outputs": []
    },
    {
      "cell_type": "code",
      "source": [
        "# Réduction des entrées main et title en un vecteur de 128 dimensions via un LSTM\n",
        "title_reduction = tf.keras.layers.LSTM(units = title_reduction_size)(title_features)\n",
        "main_reduction = tf.keras.layers.LSTM(units = main_reduction_size)(main_features)"
      ],
      "metadata": {
        "id": "8JgGTnCaTN08"
      },
      "execution_count": 26,
      "outputs": []
    },
    {
      "cell_type": "code",
      "source": [
        "# Concaténation de toutes les features encodés, title, body, tags\n",
        "all_features = tf.keras.layers.concatenate([title_reduction,main_reduction,input_tags])"
      ],
      "metadata": {
        "id": "wqKscefgWrwS"
      },
      "execution_count": 27,
      "outputs": []
    },
    {
      "cell_type": "code",
      "source": [
        "# Les layers de sorties\n",
        "\n",
        "# Layer qui prédit le degré d'urgence\n",
        "output_emergency = tf.keras.layers.Dense(units = 1,name = \"priority\")(all_features)\n",
        "\n",
        "# Layer qui prédit le département\n",
        "output_department = tf.keras.layers.Dense(units = 4,name = \"department\")(all_features)"
      ],
      "metadata": {
        "id": "E9Jlg_3-Wr8m"
      },
      "execution_count": 28,
      "outputs": []
    },
    {
      "cell_type": "code",
      "source": [
        "# Instanciation du modèle\n",
        "model = tf.keras.Model(inputs = [input_main,input_title,input_tags],\n",
        "                       outputs = [output_emergency,output_department])"
      ],
      "metadata": {
        "id": "xo3CkZVdWr_s"
      },
      "execution_count": 29,
      "outputs": []
    },
    {
      "cell_type": "code",
      "source": [
        "# plot le model\n",
        "tf.keras.utils.plot_model(model)"
      ],
      "metadata": {
        "colab": {
          "base_uri": "https://localhost:8080/",
          "height": 466
        },
        "id": "X7ap1eALWsCx",
        "outputId": "4bf08529-8db0-4e52-9a1f-f0bcd582edcd"
      },
      "execution_count": 30,
      "outputs": [
        {
          "output_type": "execute_result",
          "data": {
            "text/plain": [
              "<IPython.core.display.Image object>"
            ],
            "image/png": "[encoded data removed]"
          },
          "metadata": {},
          "execution_count": 30
        }
      ]
    },
    {
      "cell_type": "code",
      "source": [
        "model.compile(\n",
        "    optimizer=tf.keras.optimizers.RMSprop(1e-3),\n",
        "    loss={\n",
        "        \"priority\": tf.keras.losses.BinaryCrossentropy(from_logits=True),\n",
        "        \"department\": tf.keras.losses.CategoricalCrossentropy(from_logits=True),\n",
        "    },\n",
        "    loss_weights={\"priority\": 1.0, \"department\": 0.2},\n",
        ")"
      ],
      "metadata": {
        "id": "f_zSRahUWsFw"
      },
      "execution_count": 31,
      "outputs": []
    },
    {
      "cell_type": "markdown",
      "source": [
        "# Simulation de données"
      ],
      "metadata": {
        "id": "639u9GyXQJwf"
      }
    },
    {
      "cell_type": "code",
      "source": [
        "import numpy as np"
      ],
      "metadata": {
        "id": "7VR-7mhQdggC"
      },
      "execution_count": 32,
      "outputs": []
    },
    {
      "cell_type": "code",
      "source": [
        "# Parameters\n",
        "body_len = 100\n",
        "title_len = 10\n",
        "training_size = 1500\n",
        "testing_size = 1500\n",
        "tags_size =12"
      ],
      "metadata": {
        "id": "R6DH0XXwe_o3"
      },
      "execution_count": 52,
      "outputs": []
    },
    {
      "cell_type": "code",
      "source": [
        "# Datasets features\n",
        "bodies_training = np.random.randint(low=0,high=vocabulary_size-1,size= (training_size,body_len))\n",
        "titles_training = np.random.randint(low=0,high=vocabulary_size-1,size= (training_size,title_len))\n",
        "tags_training = np.random.randint(2, size=(training_size, tags_size)).astype(\"float32\")\n"
      ],
      "metadata": {
        "id": "2_U9cE3MdiUx"
      },
      "execution_count": 53,
      "outputs": []
    },
    {
      "cell_type": "code",
      "source": [
        "# Datasets labels\n",
        "emergency_labels = np.random.uniform(size = (training_size,1))\n",
        "department_labels = np.random.randint(2, size=(training_size, departments_size))"
      ],
      "metadata": {
        "id": "-z8Wc8j2fhBl"
      },
      "execution_count": 56,
      "outputs": []
    },
    {
      "cell_type": "code",
      "source": [
        "# Training\n",
        "model.fit(x=[bodies_training,titles_training,tags_training],\n",
        "          y=[emergency_labels,department_labels])"
      ],
      "metadata": {
        "colab": {
          "base_uri": "https://localhost:8080/"
        },
        "id": "lF1n2S-egv9d",
        "outputId": "19d3607f-0547-44c1-abcb-99e30424c271"
      },
      "execution_count": 57,
      "outputs": [
        {
          "output_type": "stream",
          "name": "stdout",
          "text": [
            "47/47 [==============================] - 7s 60ms/step - loss: 1.2824 - priority_loss: 0.7045 - department_loss: 2.8897\n"
          ]
        },
        {
          "output_type": "execute_result",
          "data": {
            "text/plain": [
              "<keras.callbacks.History at 0x7f30c1a9a690>"
            ]
          },
          "metadata": {},
          "execution_count": 57
        }
      ]
    },
    {
      "cell_type": "code",
      "source": [
        ""
      ],
      "metadata": {
        "id": "7Z-aX0jDp5Nf"
      },
      "execution_count": null,
      "outputs": []
    }
  ]
}