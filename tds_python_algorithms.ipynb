{
 "cells": [
  {
   "cell_type": "markdown",
   "metadata": {},
   "source": [
    "#### These problems are taken from this article: \n",
    "https://towardsdatascience.com/10-algorithms-to-solve-before-your-python-coding-interview-feb74fb9bc27"
   ]
  },
  {
   "cell_type": "markdown",
   "metadata": {},
   "source": [
    "1. Given an integer, return the inteer with reversed digits. Note, the integer could be positive or negative. "
   ]
  },
  {
   "cell_type": "code",
   "execution_count": 1,
   "metadata": {},
   "outputs": [],
   "source": [
    "def reverse_integer(num):\n",
    "    if num < 0:\n",
    "        num = str(abs(num))\n",
    "        return int('-' + num[::-1])\n",
    "    else:\n",
    "        num = str(num)\n",
    "        return int(num[::-1])"
   ]
  },
  {
   "cell_type": "markdown",
   "metadata": {},
   "source": [
    "2. For a given sentence, return the average word length"
   ]
  },
  {
   "cell_type": "code",
   "execution_count": 2,
   "metadata": {},
   "outputs": [
    {
     "data": {
      "text/plain": [
       "(42, 53)"
      ]
     },
     "execution_count": 2,
     "metadata": {},
     "output_type": "execute_result"
    }
   ],
   "source": [
    "sentence1 = \"Hi all, my name is Tom...I am originally from Australia.\"\n",
    "sentence2 = \"I need to work very hard to learn more about algorithms in Python!\"\n",
    "\n",
    "def avg_word_length(sentence):\n",
    "\n",
    "    import statistics as stats\n",
    "\n",
    "    # remove punctuation\n",
    "    for char in sentence:\n",
    "        if not char.isalpha():\n",
    "            sentence = sentence.replace(char, '')\n",
    "    \n",
    "    # split string into list of words\n",
    "    sentence = sentence.split()\n",
    "            \n",
    "    # get length of each word\n",
    "    lengths = [len(word) for word in sentence]\n",
    "\n",
    "    # get average length\n",
    "    return stats.mean(lengths)\n",
    "\n",
    "avg_word_length(sentence1), avg_word_length(sentence2)\n"
   ]
  },
  {
   "cell_type": "markdown",
   "metadata": {},
   "source": [
    "3. Given two non-negative integers num1 and num2 represented as string, return the sum of num1 and num2.\n",
    "You must not use any built-in BigInteger library or convert the inputs to integer directly.\n",
    "\n",
    "- Notes:\n",
    "Both num1 and num2 contain only digits 0-9.\n",
    "Both num1 and num2 do not contain any leading zero."
   ]
  },
  {
   "cell_type": "markdown",
   "metadata": {},
   "source": [
    "4. First Unique Character\n",
    "\n",
    "- Given a string, find the first non-repeating character in it and return its index. \n",
    "If it doesn't exist, return -1. Note: all the input strings are already lowercase. "
   ]
  },
  {
   "cell_type": "code",
   "execution_count": 3,
   "metadata": {},
   "outputs": [
    {
     "name": "stdout",
     "output_type": "stream",
     "text": [
      "1\n",
      "2\n",
      "1\n"
     ]
    }
   ],
   "source": [
    "def first_non_repeating_char(string):\n",
    "    for i in range(len(string)):\n",
    "        if string[i] not in string[i+1:]:\n",
    "            return i\n",
    "    return -1\n",
    "\n",
    "print(first_non_repeating_char('alphabet'))\n",
    "print(first_non_repeating_char('barbados'))\n",
    "print(first_non_repeating_char('crunchy'))"
   ]
  },
  {
   "cell_type": "markdown",
   "metadata": {},
   "source": [
    "5. Valid Palindrome\n",
    "- determine if a string is the same as it's reversed counterpart"
   ]
  },
  {
   "cell_type": "code",
   "execution_count": 4,
   "metadata": {},
   "outputs": [
    {
     "name": "stdout",
     "output_type": "stream",
     "text": [
      "True\n",
      "False\n",
      "True\n",
      "False\n"
     ]
    }
   ],
   "source": [
    "def valid_palindrome(string):\n",
    "    return string == string[::-1]\n",
    "\n",
    "print(valid_palindrome('racecar'))\n",
    "print(valid_palindrome('racecars'))\n",
    "print(valid_palindrome('deified'))\n",
    "print(valid_palindrome('deifyied'))"
   ]
  },
  {
   "cell_type": "markdown",
   "metadata": {},
   "source": [
    "- now determine if a string can be turned into a palindrome by removing only one character"
   ]
  },
  {
   "cell_type": "code",
   "execution_count": 5,
   "metadata": {},
   "outputs": [
    {
     "name": "stdout",
     "output_type": "stream",
     "text": [
      "True\n",
      "True\n",
      "True\n",
      "True\n"
     ]
    }
   ],
   "source": [
    "def valid_palindrome_2(string):\n",
    "    for i, char in enumerate(string):\n",
    "        string2 = string[:i] + string [i+1:]\n",
    "        if string2 == string2[::-1]:\n",
    "            return True\n",
    "    return False\n",
    "\n",
    "print(valid_palindrome_2('racecar'))\n",
    "print(valid_palindrome_2('racecars'))\n",
    "print(valid_palindrome_2('deified'))\n",
    "print(valid_palindrome_2('deifyied'))"
   ]
  },
  {
   "cell_type": "markdown",
   "metadata": {},
   "source": [
    "6. Monotonic Array\n",
    "\n",
    "Given an array of integers, determine whether the array is monotonic or not. (monotonic = sorted in either increasing order or decreasing order)."
   ]
  },
  {
   "cell_type": "code",
   "execution_count": 6,
   "metadata": {},
   "outputs": [
    {
     "name": "stdout",
     "output_type": "stream",
     "text": [
      "Your solution is correct\n"
     ]
    }
   ],
   "source": [
    "def is_monotonic(lst):\n",
    "\n",
    "    if len(lst) == 1:\n",
    "        return True\n",
    "\n",
    "    # descending\n",
    "    if lst[0] > lst[-1]:\n",
    "        for i in range(len(lst) - 1):\n",
    "            if lst[i] < lst[i + 1]:\n",
    "                return False\n",
    "    \n",
    "    # ascending\n",
    "    elif lst[0] < lst[-1]:\n",
    "        for i in range(len(lst) - 1):\n",
    "            if lst[i] > lst[i + 1]:\n",
    "                return False\n",
    "\n",
    "    return True \n",
    "\n",
    "\n",
    "assert(is_monotonic([1, 1, 2, 3]) == True)\n",
    "assert(is_monotonic([1, 1, 3, 2]) == False)\n",
    "assert(is_monotonic([10, 9, 5, 4, 4, 4, 3]) == True)\n",
    "assert(is_monotonic([10, 9, 5, 4, 4, 4, 9]) == False) \n",
    "assert(is_monotonic([7]) == True)\n",
    "assert(is_monotonic([7, 7, 7, 7, 7, 7, 7]) == True)\n",
    "print('Your solution is correct')"
   ]
  },
  {
   "cell_type": "code",
   "execution_count": 7,
   "metadata": {},
   "outputs": [
    {
     "name": "stdout",
     "output_type": "stream",
     "text": [
      "Your solution is correct\n"
     ]
    }
   ],
   "source": [
    "def is_monotonic(lst):\n",
    "\n",
    "    return (\n",
    "               all([lst[i] <= lst[i + 1] for i in range(len(lst) - 1)]) \n",
    "            or all([lst[i] >= lst[i + 1] for i in range(len(lst) - 1)]) \n",
    "           )\n",
    "\n",
    "assert(is_monotonic([1, 1, 2, 3]) == True)\n",
    "assert(is_monotonic([1, 1, 3, 2]) == False)\n",
    "assert(is_monotonic([10, 9, 5, 4, 4, 4, 3]) == True)\n",
    "assert(is_monotonic([10, 9, 5, 4, 4, 4, 9]) == False) \n",
    "print('Your solution is correct')\n"
   ]
  },
  {
   "cell_type": "code",
   "execution_count": 8,
   "metadata": {},
   "outputs": [
    {
     "name": "stdout",
     "output_type": "stream",
     "text": [
      "Your solution is correct\n"
     ]
    }
   ],
   "source": [
    "def is_monotonic(lst):\n",
    "    return (\n",
    "               lst == sorted(lst)\n",
    "            or lst == sorted(lst, reverse=True)\n",
    "           )      \n",
    "        \n",
    "\n",
    "assert(is_monotonic([1, 1, 2, 3]) == True)\n",
    "assert(is_monotonic([1, 1, 3, 2]) == False)\n",
    "assert(is_monotonic([10, 9, 5, 4, 4, 4, 3]) == True)\n",
    "assert(is_monotonic([10, 9, 5, 4, 4, 4, 9]) == False) \n",
    "print('Your solution is correct') "
   ]
  },
  {
   "cell_type": "markdown",
   "metadata": {},
   "source": [
    "7. Given a list nums, write a function to move all zeroes to the end of it while maintaining the relative order of the non-zero elements."
   ]
  },
  {
   "cell_type": "code",
   "execution_count": 9,
   "metadata": {},
   "outputs": [
    {
     "name": "stdout",
     "output_type": "stream",
     "text": [
      "Your solution is correct.\n"
     ]
    }
   ],
   "source": [
    "def move_zeros(lst):\n",
    "\n",
    "    return [num for num in lst if num != 0] + [num for num in lst if num == 0]\n",
    "\n",
    "assert(move_zeros([0,1,0,3,12]) == [1,3,12,0,0])\n",
    "assert(move_zeros([1,7,0,0,8,0,10,12,0,4]) == [1,7,8,10,12,4,0,0,0,0])\n",
    "print('Your solution is correct.')"
   ]
  },
  {
   "cell_type": "markdown",
   "metadata": {},
   "source": [
    "8. Fill in the blanks\n",
    "\n",
    "Given a list containing None values fill in the None values with most recent "
   ]
  },
  {
   "cell_type": "code",
   "execution_count": 10,
   "metadata": {},
   "outputs": [
    {
     "name": "stdout",
     "output_type": "stream",
     "text": [
      "Your solution is correct.\n"
     ]
    }
   ],
   "source": [
    "def fill_blanks(lst):\n",
    "\n",
    "    if lst[0] == None:\n",
    "        lst[0] = 0\n",
    "\n",
    "    for i, elem in enumerate(lst):\n",
    "\n",
    "        if elem == None:\n",
    "            lst[i] = lst[i - 1]\n",
    "    \n",
    "    return lst\n",
    "\n",
    "assert(fill_blanks([1, None, 2, None, 3, None]) == [1, 1, 2, 2, 3, 3])\n",
    "assert(fill_blanks([None, 1, None, 2, None, 3]) == [0, 1, 1, 2, 2, 3])\n",
    "print('Your solution is correct.')\n"
   ]
  },
  {
   "cell_type": "markdown",
   "metadata": {},
   "source": [
    "8. Given two sentences, return an array that has the words that appear in one sentence and not the other and an array with the words in common. "
   ]
  },
  {
   "cell_type": "code",
   "execution_count": 11,
   "metadata": {},
   "outputs": [
    {
     "data": {
      "text/plain": [
       "(['storm',\n",
       "  'heavy',\n",
       "  'was',\n",
       "  'by',\n",
       "  'The',\n",
       "  'hit',\n",
       "  'a',\n",
       "  'to',\n",
       "  'meet',\n",
       "  'We',\n",
       "  'pleased',\n",
       "  'are',\n",
       "  'our',\n",
       "  'you',\n",
       "  'in'],\n",
       " ['really', 'city'])"
      ]
     },
     "execution_count": 11,
     "metadata": {},
     "output_type": "execute_result"
    }
   ],
   "source": [
    "sentence1 = 'We are really pleased to meet you in our city'\n",
    "sentence2 = 'The city was hit by a really heavy storm'\n",
    "\n",
    "def func(sentence1, sentence2):\n",
    "\n",
    "  sentence1 = sentence1.split()\n",
    "  sentence2 = sentence2.split()\n",
    "\n",
    "  one_not_the_other = (\n",
    "                          list(set(sentence2) - set(sentence1)) \n",
    "                        + list((set(sentence1) - set(sentence2)))\n",
    "                      )\n",
    "\n",
    "  words_in_common = list(set(sentence1).intersection(set(sentence2)))\n",
    "\n",
    "  return one_not_the_other, words_in_common\n",
    "\n",
    "func(sentence1, sentence2)"
   ]
  },
  {
   "cell_type": "code",
   "execution_count": 12,
   "metadata": {},
   "outputs": [
    {
     "data": {
      "text/plain": [
       "(['to',\n",
       "  'storm',\n",
       "  'meet',\n",
       "  'heavy',\n",
       "  'was',\n",
       "  'We',\n",
       "  'by',\n",
       "  'The',\n",
       "  'hit',\n",
       "  'a',\n",
       "  'pleased',\n",
       "  'are',\n",
       "  'you',\n",
       "  'our',\n",
       "  'in'],\n",
       " ['really', 'city'])"
      ]
     },
     "execution_count": 12,
     "metadata": {},
     "output_type": "execute_result"
    }
   ],
   "source": [
    "sentence1 = 'We are really pleased to meet you in our city'\n",
    "sentence2 = 'The city was hit by a really heavy storm'\n",
    "\n",
    "def func(sentence1, sentence2):\n",
    "\n",
    "  sentence1 = sentence1.split()\n",
    "  sentence2 = sentence2.split()\n",
    "\n",
    "  one_not_the_other = list((set(sentence1).symmetric_difference(set(sentence2))))\n",
    "\n",
    "  words_in_common = list(set(sentence1).intersection(set(sentence2)))\n",
    "\n",
    "  return one_not_the_other, words_in_common\n",
    "\n",
    "func(sentence1, sentence2)"
   ]
  },
  {
   "cell_type": "markdown",
   "metadata": {},
   "source": []
  }
 ],
 "metadata": {
  "kernelspec": {
   "display_name": "Python 3 (ipykernel)",
   "language": "python",
   "name": "python3"
  },
  "language_info": {
   "codemirror_mode": {
    "name": "ipython",
    "version": 3
   },
   "file_extension": ".py",
   "mimetype": "text/x-python",
   "name": "python",
   "nbconvert_exporter": "python",
   "pygments_lexer": "ipython3",
   "version": "3.9.7"
  },
  "vscode": {
   "interpreter": {
    "hash": "38cca0c38332a56087b24af0bc80247f4fced29cb4f7f437d91dc159adec9c4e"
   }
  }
 },
 "nbformat": 4,
 "nbformat_minor": 2
}
