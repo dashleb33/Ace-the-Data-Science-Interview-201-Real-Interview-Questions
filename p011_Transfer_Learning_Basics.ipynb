{
  "nbformat": 4,
  "nbformat_minor": 0,
  "metadata": {
    "colab": {
      "name": "p011_Transfer_Learning_Basics.ipynb",
      "provenance": [],
      "authorship_tag": "ABX9TyMH8FU6olGHh4CUJfldV2qb",
      "include_colab_link": true
    },
    "kernelspec": {
      "name": "python3",
      "display_name": "Python 3"
    },
    "language_info": {
      "name": "python"
    }
  },
  "cells": [
    {
      "cell_type": "markdown",
      "metadata": {
        "id": "view-in-github",
        "colab_type": "text"
      },
      "source": [
        "<a href=\"https://colab.research.google.com/github/hansglick/book_errata/blob/main/p011_Transfer_Learning_Basics.ipynb\" target=\"_parent\"><img src=\"https://colab.research.google.com/assets/colab-badge.svg\" alt=\"Open In Colab\"/></a>"
      ]
    },
    {
      "cell_type": "code",
      "execution_count": 1,
      "metadata": {
        "colab": {
          "base_uri": "https://localhost:8080/"
        },
        "id": "sFkZeDi1NUWH",
        "outputId": "55ee3169-6b58-448e-d753-d167695fbfac"
      },
      "outputs": [
        {
          "output_type": "stream",
          "name": "stdout",
          "text": [
            "2.8.2\n"
          ]
        }
      ],
      "source": [
        "import tensorflow as tf\n",
        "print(tf.__version__)"
      ]
    },
    {
      "cell_type": "markdown",
      "source": [
        "# Objectif\n",
        " * Utilisez `tf.keras.applications.Xception()` pour loader un modèle pretrained\n",
        " * Renseigner l'argument `weights = 'ImageNet'` afin de choisir sur le dataset d'entraînement du pretrained model\n",
        " * On peut également renseigner le format de l'input d'image avec `shape = (150,3,3)`\n",
        " * Evidemment, on ne veut pas du dernier layer, car on veut adapter le modèle à nos données, on fait donc `include_top=False`\n",
        " * Freezer les poids du modèle\n",
        " * Rajouter un GlobalPoolingAverage2d\n",
        " * Rajouter une couche dense au top du modèle\n",
        " * Entraîner le modèle sur de nouvelles données via une custom loop, on prétend qu'on a à dispotion un dataset tensorflow"
      ],
      "metadata": {
        "id": "vr14f0YZNZ_B"
      }
    },
    {
      "cell_type": "code",
      "source": [
        "# Récupérattion du pretrained model xception entrainé sur imagenet\n",
        "base_model = tf.keras.applications.Xception(include_top=False,\n",
        "                                            weights=\"imagenet\",\n",
        "                                            input_shape=(150,150,3))\n",
        "\n",
        "base_model.trainable = False"
      ],
      "metadata": {
        "colab": {
          "base_uri": "https://localhost:8080/"
        },
        "id": "FAB1fsxoP5aA",
        "outputId": "f87f360c-b767-4930-d940-800483ff3b25"
      },
      "execution_count": 2,
      "outputs": [
        {
          "output_type": "stream",
          "name": "stdout",
          "text": [
            "Downloading data from https://storage.googleapis.com/tensorflow/keras-applications/xception/xception_weights_tf_dim_ordering_tf_kernels_notop.h5\n",
            "83689472/83683744 [==============================] - 1s 0us/step\n",
            "83697664/83683744 [==============================] - 1s 0us/step\n"
          ]
        }
      ]
    },
    {
      "cell_type": "code",
      "source": [
        "# Création du nouveau modèle\n",
        "input = tf.keras.layers.Input(shape=(150,150,3),dtype=\"float32\")\n",
        "x = base_model(input)\n",
        "x = tf.keras.layers.GlobalAveragePooling2D()(x)\n",
        "output = tf.keras.layers.Dense(1)(x)\n",
        "model = tf.keras.Model(input,output)"
      ],
      "metadata": {
        "id": "6fTl_FPbQfBL"
      },
      "execution_count": 3,
      "outputs": []
    },
    {
      "cell_type": "code",
      "source": [
        "# Instanciation de l'une loss et optmizer\n",
        "loss = tf.keras.losses.BinaryCrossentropy()\n",
        "optimizer = tf.keras.optimizers.Adam()\n",
        "epoch = 5"
      ],
      "metadata": {
        "id": "c-_ZpU_LRAjj"
      },
      "execution_count": 4,
      "outputs": []
    },
    {
      "cell_type": "code",
      "source": [
        "# La Custom Loop\n",
        "\n",
        "for _ in range(epoch):\n",
        "\n",
        "  for batch_data,batch_target in dataset:\n",
        "\n",
        "    # Mise à jour des poids\n",
        "    with tf.GradientTape() as tape:\n",
        "\n",
        "      # Predictions\n",
        "      predictions = model(batch_data)\n",
        "      loss_value = loss(batch_target,predictions)\n",
        "\n",
        "    # Calcul des gradients\n",
        "    # Mise à jour des poids\n",
        "    grads = tape.gradient(loss_value,model.trainable_weights)\n",
        "    optimizer.apply_gradients(zip(grads,model.trainable_weights))\n"
      ],
      "metadata": {
        "id": "dMeOUIHURTei"
      },
      "execution_count": null,
      "outputs": []
    },
    {
      "cell_type": "code",
      "source": [
        "# Quand on boucle sur le dataset on peut mettre un tuple inputs,labels"
      ],
      "metadata": {
        "id": "b4oWzhPWSaVE"
      },
      "execution_count": null,
      "outputs": []
    }
  ]
}